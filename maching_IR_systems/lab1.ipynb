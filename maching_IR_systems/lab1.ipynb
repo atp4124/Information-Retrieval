{
 "cells": [
  {
   "cell_type": "markdown",
   "metadata": {
    "deletable": false,
    "editable": false,
    "nbgrader": {
     "cell_type": "markdown",
     "checksum": "758d05f39ab671358f17858c55f7161c",
     "grade": false,
     "grade_id": "cell-c9cd9e550239e812",
     "locked": true,
     "schema_version": 3,
     "solution": false,
     "task": false
    }
   },
   "source": [
    "# Homework 1 (Total Points: 260) <a class=\"anchor\" id=\"top\"></a>\n",
    "\n",
    "\n",
    "**Submission instructions**:\n",
    "- Only the code `TODO: Implement this!` denotes that these sections are graded.\n",
    "- For Part 1: You can use the `nltk`, `numpy` and `matplotlib` libraries here. Other libraries, e.g., `gensim` or `scikit-learn`, may not be used. For Part 2: `gensim` is allowed in addition to the imported libraries in the next code cell\n",
    "- The notebook you submit has to have the student ids, separated by underscores (E.g., `12341234_12341234_12341234.ipynb`). \n",
    "- This will be parsed by a regexp, so please double check your filename.\n",
    "- Only one member of each group has to submit the file to canvas.\n",
    "- Make sure to check that your notebook runs before submission. A quick way to do this is to restart the kernel and run all the cells.  \n",
    "- Please do not delete/add new cells. Removing cells can lead to grade deduction.\n",
    "- Note, that you are not allowed to use Google Colab.\n",
    "\n",
    "\n",
    "**Learning Goals**:\n",
    "- [Part 1, Term-based matching](#part1) (175 points):\n",
    "    - Learn how to load a dataset and process it.\n",
    "    - Learn how to implement several standard IR methods (TF-IDF, BM25, QL) and understand their weaknesses & strengths.\n",
    "    - Learn how to evaluate IR methods.\n",
    "- [Part 2, Semantic-based matching](#part2) (85 points):\n",
    "    - Learn how to implement vector-space retrieval methods (LSI, LDA).\n",
    "    - Learn how to use LSI and LDA for re-ranking\n",
    "\n",
    "    \n",
    "**Resources**: \n",
    "- **Part 1**: Sections 2.3, 4.1, 4.2, 4.3, 5.3, 5.6, 5.7, 6.2, 7, 8 of [Search Engines: Information Retrieval in Practice](https://ciir.cs.umass.edu/downloads/SEIRiP.pdf)\n",
    "- **Part 2**: [LSI - Chapter 18](https://nlp.stanford.edu/IR-book/pdf/18lsi.pdf) from [Introduction to Information Retrieval](https://nlp.stanford.edu/IR-book/) book and the [original LDA paper](https://jmlr.org/papers/volume3/blei03a/blei03a.pdf)"
   ]
  },
  {
   "cell_type": "code",
   "execution_count": 1,
   "metadata": {
    "ExecuteTime": {
     "end_time": "2021-02-18T08:34:51.514587Z",
     "start_time": "2021-02-18T08:34:49.153850Z"
    },
    "deletable": false,
    "editable": false,
    "nbgrader": {
     "cell_type": "code",
     "checksum": "c55bfe94ff1f564dd595547e516c4c6e",
     "grade": false,
     "grade_id": "cell-f5357fabdb9660e3",
     "locked": true,
     "schema_version": 3,
     "solution": false,
     "task": false
    }
   },
   "outputs": [],
   "source": [
    "# imports \n",
    "# TODO: Ensure that no additional library is imported in the notebook. \n",
    "# TODO: Only the standard library and the following libraries are allowed:\n",
    "# TODO: You can also use unlisted classes from these libraries or standard libraries (such as defaultdict, Counter, ...).\n",
    "\n",
    "import os\n",
    "import zipfile\n",
    "from functools import partial\n",
    "\n",
    "import nltk\n",
    "import requests\n",
    "import numpy as np\n",
    "from tqdm import tqdm\n",
    "\n",
    "import matplotlib.pyplot as plt\n",
    "from matplotlib.pyplot import cm\n",
    "\n",
    "from ipywidgets import widgets\n",
    "from IPython.display import display, HTML\n",
    "#from IPython.html import widgets\n",
    "from collections import namedtuple\n",
    "\n",
    "%matplotlib inline"
   ]
  },
  {
   "cell_type": "markdown",
   "metadata": {
    "deletable": false,
    "editable": false,
    "nbgrader": {
     "cell_type": "markdown",
     "checksum": "4ef0139c6fbc22b41520721a9275c1e1",
     "grade": false,
     "grade_id": "cell-7428e12ed184408b",
     "locked": true,
     "schema_version": 3,
     "solution": false,
     "task": false
    }
   },
   "source": [
    "\n",
    "# Part 1: Term-based Matching (175 points) <a class=\"anchor\" id=\"part1\"></a>\n",
    "\n",
    "[Back to top](#top)\n",
    "\n",
    "In the first part, we will learn the basics of IR from loading and preprocessing the material, to implementing some well known search algorithms, to evaluating the ranking performance of the implemented algorithms. We will be using the CACM dataset throughout the assignment. The CACM dataset is a collection of titles and abstracts from the journal CACM (Communication of the ACM).\n",
    "\n",
    "Table of contents:\n",
    "- [Section 1: Text Processing](#text_processing) (15 points)\n",
    "- [Section 2: Indexing](#indexing) (10 points)\n",
    "- [Section 3: Ranking](#ranking) (80 points)\n",
    "- [Section 4: Evaluation](#evaluation) (40 points)\n",
    "- [Section 5: Analysis](#analysis) (30 points)\n"
   ]
  },
  {
   "cell_type": "markdown",
   "metadata": {
    "deletable": false,
    "editable": false,
    "nbgrader": {
     "cell_type": "markdown",
     "checksum": "a9050c97b011a926b9e4cf6831eff5bd",
     "grade": false,
     "grade_id": "cell-4b24825cf4ae55ec",
     "locked": true,
     "schema_version": 3,
     "solution": false,
     "task": false
    }
   },
   "source": [
    "---\n",
    "## Section 1: Text Processing (15 points)<a class=\"anchor\" id=\"text_processing\"></a>\n",
    "\n",
    "[Back to Part 1](#part1)\n",
    "\n",
    "In this section, we will load the dataset and learn how to clean up the data to make it usable for an IR system. \n",
    "The points of this section are earned for the following implementations:\n",
    "- `read_cacm_docs` (4 points): Reads in the CACM documents.\n",
    "- `read_queries` (3 points): Reads in the CACM queries.\n",
    "- `load_stopwords` (1 point): Loads the stopwords.\n",
    "- `tokenize` (4 points): Tokenizes the input text.\n",
    "- `stem_token` (3 points): Stems the given token. \n",
    "\n",
    "We are using the [CACM dataset](http://ir.dcs.gla.ac.uk/resources/test_collections/cacm/), which is a small, classic IR dataset, composed of a collection of titles and abstracts from the journal CACM. It comes with relevance judgements for queries, so we can evaluate our IR system. \n"
   ]
  },
  {
   "cell_type": "markdown",
   "metadata": {
    "deletable": false,
    "editable": false,
    "nbgrader": {
     "cell_type": "markdown",
     "checksum": "1de1b97f9ee233ad2348359f0c158eb7",
     "grade": false,
     "grade_id": "cell-45651364e7af6d5a",
     "locked": true,
     "schema_version": 3,
     "solution": false,
     "task": false
    }
   },
   "source": [
    "---\n",
    "### 1.1 Read the CACM documents (4 points)\n",
    "\n",
    "\n",
    "The following cell downloads the dataset and unzips it to a local directory."
   ]
  },
  {
   "cell_type": "code",
   "execution_count": 2,
   "metadata": {
    "ExecuteTime": {
     "end_time": "2021-02-18T08:34:51.561219Z",
     "start_time": "2021-02-18T08:34:51.514587Z"
    },
    "deletable": false,
    "editable": false,
    "nbgrader": {
     "cell_type": "code",
     "checksum": "4d43c9ad6e77cc01ce4cef0c34824930",
     "grade": false,
     "grade_id": "cell-bbc3030bb3fe7e02",
     "locked": true,
     "schema_version": 3,
     "solution": false,
     "task": false
    }
   },
   "outputs": [],
   "source": [
    "def download_dataset():\n",
    "    folder_path = os.environ.get(\"IR1_DATA_PATH\")\n",
    "    if not folder_path:\n",
    "        folder_path = \"./datasets/\"\n",
    "    os.makedirs(folder_path, exist_ok=True)\n",
    "    \n",
    "    file_location = os.path.join(folder_path, \"cacm.zip\")\n",
    "    \n",
    "    # download file if it doesn't exist\n",
    "    if not os.path.exists(file_location):\n",
    "        \n",
    "        url = \"https://surfdrive.surf.nl/files/index.php/s/M0FGJpX2p8wDwxR/download\"\n",
    "\n",
    "        with open(file_location, \"wb\") as handle:\n",
    "            print(f\"Downloading file from {url} to {file_location}\")\n",
    "            response = requests.get(url, stream=True)\n",
    "            for data in tqdm(response.iter_content()):\n",
    "                handle.write(data)\n",
    "            print(\"Finished downloading file\")\n",
    "    \n",
    "    if not os.path.exists(os.path.join(folder_path, \"train.txt\")):\n",
    "        \n",
    "        # unzip file\n",
    "        with zipfile.ZipFile(file_location, 'r') as zip_ref:\n",
    "            zip_ref.extractall(folder_path)\n",
    "        \n",
    "download_dataset()"
   ]
  },
  {
   "cell_type": "markdown",
   "metadata": {
    "deletable": false,
    "editable": false,
    "nbgrader": {
     "cell_type": "markdown",
     "checksum": "31609b0d61d0c74cbd69bc43e47c23be",
     "grade": false,
     "grade_id": "cell-a7dd9a9bf98ede05",
     "locked": true,
     "schema_version": 3,
     "solution": false,
     "task": false
    }
   },
   "source": [
    "---\n",
    "\n",
    "You can see a brief description of each file in the dataset by looking at the README file:"
   ]
  },
  {
   "cell_type": "code",
   "execution_count": 3,
   "metadata": {
    "ExecuteTime": {
     "end_time": "2021-02-18T08:34:51.686910Z",
     "start_time": "2021-02-18T08:34:51.563213Z"
    },
    "deletable": false,
    "editable": false,
    "nbgrader": {
     "cell_type": "code",
     "checksum": "1783f9999c7d06955e8da815de62ba5f",
     "grade": false,
     "grade_id": "cell-9b6ff1a17124711f",
     "locked": true,
     "schema_version": 3,
     "solution": false,
     "task": false
    },
    "scrolled": true
   },
   "outputs": [
    {
     "name": "stdout",
     "output_type": "stream",
     "text": [
      "Files in this directory with sizes:\n",
      "          0 Jun 19 21:01 README\n",
      "\n",
      "    2187734 Jun 19 20:55 cacm.all              text of documents\n",
      "        626 Jun 19 20:58 cite.info             key to citation info\n",
      "                                                (the X sections in cacm.all)\n",
      "       2668 Jun 19 20:55 common_words           stop words used by smart\n",
      "       2194 Jun 19 20:55 make_coll*             shell script to make collection\n",
      "       1557 Jun 19 20:55 make_coll_term*        ditto (both useless without\n",
      "                                                smart system)\n",
      "       9948 Jun 19 20:55 qrels.text             relation giving\n",
      "                                                    qid did 0 0\n",
      "                                                to indicate dument did is\n",
      "                                                relevant to query qid\n",
      "      13689 Jun 19 20:55 query.text             Original text of the query\n"
     ]
    }
   ],
   "source": [
    "##### Read the README file \n",
    "!cat ./datasets/README\n",
    "#####"
   ]
  },
  {
   "cell_type": "markdown",
   "metadata": {
    "deletable": false,
    "editable": false,
    "nbgrader": {
     "cell_type": "markdown",
     "checksum": "d6a5333ae8e7f69d81900e714cc43852",
     "grade": false,
     "grade_id": "cell-73351431869fda76",
     "locked": true,
     "schema_version": 3,
     "solution": false,
     "task": false
    }
   },
   "source": [
    "---\n",
    "We are interested in 4 files:\n",
    "- `cacm.all` : Contains the text for all documents. Note that some documents do not have abstracts available. \n",
    "- `query.text` : The text of all queries\n",
    "- `qrels.text` : The relevance judgements\n",
    "- `common_words` : A list of common words. This may be used as a collection of stopwords"
   ]
  },
  {
   "cell_type": "code",
   "execution_count": 4,
   "metadata": {
    "ExecuteTime": {
     "end_time": "2021-02-18T08:34:51.781631Z",
     "start_time": "2021-02-18T08:34:51.688877Z"
    },
    "deletable": false,
    "editable": false,
    "nbgrader": {
     "cell_type": "code",
     "checksum": "c78e4256a08889ce3d0d985ea799b0a9",
     "grade": false,
     "grade_id": "cell-b44dd14079f278ca",
     "locked": true,
     "schema_version": 3,
     "solution": false,
     "task": false
    }
   },
   "outputs": [
    {
     "name": "stdout",
     "output_type": "stream",
     "text": [
      ".I 1\n",
      ".T\n",
      "Preliminary Report-International Algebraic Language\n",
      ".B\n",
      "CACM December, 1958\n",
      ".A\n",
      "Perlis, A. J.\n",
      "Samelson,K.\n",
      ".N\n",
      "CA581203 JB March 22, 1978  8:28 PM\n",
      ".X\n",
      "100\t5\t1\n",
      "123\t5\t1\n",
      "164\t5\t1\n",
      "1\t5\t1\n",
      "1\t5\t1\n",
      "1\t5\t1\n",
      "205\t5\t1\n",
      "210\t5\t1\n",
      "214\t5\t1\n",
      "1982\t5\t1\n",
      "398\t5\t1\n",
      "642\t5\t1\n",
      "669\t5\t1\n",
      "1\t6\t1\n",
      "1\t6\t1\n",
      "1\t6\t1\n",
      "1\t6\t1\n",
      "1\t6\t1\n",
      "1\t6\t1\n",
      "1\t6\t1\n",
      "1\t6\t1\n",
      "1\t6\t1\n",
      "1\t6\t1\n",
      "165\t6\t1\n",
      "196\t6\t1\n",
      "196\t6\t1\n",
      "1273\t6\t1\n",
      "1883\t6\t1\n",
      "324\t6\t1\n",
      "43\t6\t1\n",
      "53\t6\t1\n",
      "91\t6\t1\n",
      "410\t6\t1\n",
      "3184\t6\t1\n"
     ]
    }
   ],
   "source": [
    "##### The first 45 lines of the CACM dataset forms the first record\n",
    "# We are interested only in 3 fields. \n",
    "# 1. the '.I' field, which is the document id\n",
    "# 2. the '.T' field (the title) and\n",
    "# 3. the '.W' field (the abstract, which may be absent)\n",
    "!head -45 ./datasets/cacm.all\n",
    "#####"
   ]
  },
  {
   "cell_type": "markdown",
   "metadata": {
    "deletable": false,
    "editable": false,
    "nbgrader": {
     "cell_type": "markdown",
     "checksum": "aff7cbe5a15a0e3329dc223e3e31abf3",
     "grade": false,
     "grade_id": "cell-c4bf2e263ec553d8",
     "locked": true,
     "schema_version": 3,
     "solution": false,
     "task": false
    }
   },
   "source": [
    "---\n",
    "\n",
    "**Implementation (4 points):**\n",
    "Write a function to read the `cacm.all` file. Note that each document has a variable number of lines. The `.I` field denotes a new document:"
   ]
  },
  {
   "cell_type": "code",
   "execution_count": 5,
   "metadata": {
    "ExecuteTime": {
     "end_time": "2021-02-18T08:34:51.797586Z",
     "start_time": "2021-02-18T08:34:51.783624Z"
    },
    "deletable": false,
    "nbgrader": {
     "cell_type": "code",
     "checksum": "45fef5d5b543ee439176d7fd0a9d20be",
     "grade": false,
     "grade_id": "cell-b736116eb419c624",
     "locked": false,
     "schema_version": 3,
     "solution": true,
     "task": false
    }
   },
   "outputs": [],
   "source": [
    "# TODO: Implement this! (4 points)\n",
    "def read_cacm_docs(root_folder = \"./datasets/\"):\n",
    "    \"\"\"\n",
    "        Reads in the CACM documents. The dataset is assumed to be in the folder \"./datasets/\" by default\n",
    "        Returns: A list of 2-tuples: (doc_id, document), where 'document' is a single string created by \n",
    "            appending the title and abstract (separated by a \"\\n\"). \n",
    "            In case the record doesn't have an abstract, the document is composed only by the title\n",
    "    \"\"\"\n",
    "    # YOUR CODE HERE\n",
    "    \n",
    "    file_location = os.path.join(root_folder, \"cacm.all\")\n",
    "\n",
    "    doclist = []\n",
    "\n",
    "    with open(file_location, \"r\") as f:\n",
    "        docs = [(\"I\\n\" + x) for x in f.read().split(\".I \")]\n",
    "\n",
    "    docs = docs[1:]\n",
    "    docs_fields = [[\".\" + x for x in doc.split(\"\\n.\")] for doc in docs]\n",
    "\n",
    "    for doc in docs_fields:\n",
    "        abstract = \"\"\n",
    "        for field in doc:\n",
    "            if field.startswith('.I\\n') == True:\n",
    "                doc_id = field[3:]\n",
    "            elif field.startswith('.T\\n') == True:\n",
    "                title = field[3:]\n",
    "            elif field.startswith('.W\\n') == True:\n",
    "                abstract = \"\\n\" + field[3:]\n",
    "        document = title + abstract\n",
    "        doclist.append((int(doc_id), document))\n",
    "    \n",
    "    return doclist\n",
    "    \n",
    "    raise NotImplementedError()"
   ]
  },
  {
   "cell_type": "code",
   "execution_count": 6,
   "metadata": {
    "ExecuteTime": {
     "end_time": "2021-02-18T08:34:51.859421Z",
     "start_time": "2021-02-18T08:34:51.799580Z"
    },
    "deletable": false,
    "editable": false,
    "nbgrader": {
     "cell_type": "code",
     "checksum": "70472b5c277bb7c417de8da24e4e5261",
     "grade": true,
     "grade_id": "cell-a1c43818e0d3fd79",
     "locked": true,
     "points": 4,
     "schema_version": 3,
     "solution": false,
     "task": false
    }
   },
   "outputs": [],
   "source": [
    "##### Function check\n",
    "docs = read_cacm_docs()\n",
    "\n",
    "assert isinstance(docs, list)\n",
    "assert len(docs) == 3204, \"There should be exactly 3024 documents\"\n",
    "##### "
   ]
  },
  {
   "cell_type": "markdown",
   "metadata": {
    "deletable": false,
    "editable": false,
    "nbgrader": {
     "cell_type": "markdown",
     "checksum": "6fd095d2204cce3935444ca37c7c42da",
     "grade": false,
     "grade_id": "cell-5ed2ddc91f73c60e",
     "locked": true,
     "schema_version": 3,
     "solution": false,
     "task": false
    }
   },
   "source": [
    "---\n",
    "### 1.2 Read the CACM queries (3 points)\n",
    "\n",
    "Next, let us read the queries. They are formatted similarly:"
   ]
  },
  {
   "cell_type": "code",
   "execution_count": 7,
   "metadata": {
    "ExecuteTime": {
     "end_time": "2021-02-18T08:34:51.923284Z",
     "start_time": "2021-02-18T08:34:51.860419Z"
    },
    "deletable": false,
    "editable": false,
    "nbgrader": {
     "cell_type": "code",
     "checksum": "5d26c0908e758acb9968b84056b1060a",
     "grade": false,
     "grade_id": "cell-5c7e8e7c4fc2757f",
     "locked": true,
     "schema_version": 3,
     "solution": false,
     "task": false
    }
   },
   "outputs": [
    {
     "name": "stdout",
     "output_type": "stream",
     "text": [
      ".I 1\n",
      ".W\n",
      " What articles exist which deal with TSS (Time Sharing System), an\n",
      "operating system for IBM computers?\n",
      ".N\n",
      " 1. Richard Alexander, Comp Serv, Langmuir Lab (TSS)\n",
      " \n",
      ".I 2\n",
      ".W\n",
      " I am interested in articles written either by Prieve or Udo Pooch\n",
      ".A\n",
      "Prieve, B.\n",
      "Pooch, U.\n",
      ".N\n",
      " 2. Richard Alexander, Comp Serv, Langmuir Lab (author = Pooch or Prieve)\n"
     ]
    }
   ],
   "source": [
    "##### The first 15 lines of 'query.text' has 2 queries\n",
    "# We are interested only in 2 fields. \n",
    "# 1. the '.I' - the query id\n",
    "# 2. the '.W' - the query\n",
    "!head -15 ./datasets/query.text\n",
    "#####"
   ]
  },
  {
   "cell_type": "markdown",
   "metadata": {
    "deletable": false,
    "editable": false,
    "nbgrader": {
     "cell_type": "markdown",
     "checksum": "da34d95924026ea55bf0a9b2070ec237",
     "grade": false,
     "grade_id": "cell-88e293507d2dcef6",
     "locked": true,
     "schema_version": 3,
     "solution": false,
     "task": false
    }
   },
   "source": [
    "---\n",
    "\n",
    "**Implementation (3 points):**\n",
    "Write a function to read the `query.text` file:"
   ]
  },
  {
   "cell_type": "code",
   "execution_count": 8,
   "metadata": {
    "ExecuteTime": {
     "end_time": "2021-02-18T08:34:51.939206Z",
     "start_time": "2021-02-18T08:34:51.926243Z"
    },
    "deletable": false,
    "nbgrader": {
     "cell_type": "code",
     "checksum": "f98ac81b2ccb44fe3441e202e980c847",
     "grade": false,
     "grade_id": "cell-433e3ad5d0e2572a",
     "locked": false,
     "schema_version": 3,
     "solution": true,
     "task": false
    }
   },
   "outputs": [],
   "source": [
    "# TODO: Implement this! (3 points)\n",
    "def read_queries(root_folder = \"./datasets/\"):\n",
    "    \"\"\"\n",
    "        Reads in the CACM queries. The dataset is assumed to be in the folder \"./datasets/\" by default\n",
    "        Returns: A list of 2-tuples: (query_id, query)\n",
    "    \"\"\"\n",
    "    # YOUR CODE HERE\n",
    "    \n",
    "    file_location = os.path.join(root_folder, \"query.text\")\n",
    "\n",
    "    querylist = []\n",
    "\n",
    "    with open(file_location, \"r\") as f:\n",
    "        queries = [(\"I\\n\" + x) for x in f.read().split(\".I \")]\n",
    "\n",
    "    queries = queries[1:]\n",
    "    query_fields = [[\".\" + x for x in query.split(\"\\n.\")] for query in queries]\n",
    "\n",
    "    for query in query_fields:\n",
    "        for field in query:\n",
    "            if field.startswith('.I\\n') == True:\n",
    "                query_id = field[3:]\n",
    "            elif field.startswith('.W\\n') == True:\n",
    "                query_w = field[3:]\n",
    "        querylist.append((int(query_id), query_w))\n",
    "    \n",
    "    return querylist\n",
    "    \n",
    "    raise NotImplementedError()\n"
   ]
  },
  {
   "cell_type": "code",
   "execution_count": 9,
   "metadata": {
    "ExecuteTime": {
     "end_time": "2021-02-18T08:34:51.955197Z",
     "start_time": "2021-02-18T08:34:51.941201Z"
    },
    "deletable": false,
    "editable": false,
    "nbgrader": {
     "cell_type": "code",
     "checksum": "c0e7a9868bd4b92692c33732af640b8b",
     "grade": true,
     "grade_id": "cell-6ec540abce66c598",
     "locked": true,
     "points": 3,
     "schema_version": 3,
     "solution": false,
     "task": false
    }
   },
   "outputs": [],
   "source": [
    "##### Function check\n",
    "queries = read_queries()\n",
    "\n",
    "assert isinstance(queries, list)\n",
    "assert len(queries) == 64 and all([q[1] is not None for q in queries]), \"There should be exactly 64 queries\"\n",
    "##### "
   ]
  },
  {
   "cell_type": "markdown",
   "metadata": {
    "deletable": false,
    "editable": false,
    "nbgrader": {
     "cell_type": "markdown",
     "checksum": "652f9159caea63888e06b54103bd7f32",
     "grade": false,
     "grade_id": "cell-1c31569491d7b782",
     "locked": true,
     "schema_version": 3,
     "solution": false,
     "task": false
    }
   },
   "source": [
    "---\n",
    "### 1.3 Read the stop words (1 point)\n",
    "\n",
    "We use the common words stored in `common_words`:"
   ]
  },
  {
   "cell_type": "code",
   "execution_count": 10,
   "metadata": {
    "ExecuteTime": {
     "end_time": "2021-02-18T08:34:52.033954Z",
     "start_time": "2021-02-18T08:34:51.956162Z"
    },
    "deletable": false,
    "editable": false,
    "nbgrader": {
     "cell_type": "code",
     "checksum": "1ad6f5bae6a792504c1c8513ae5751ad",
     "grade": false,
     "grade_id": "cell-34bdb63461418a96",
     "locked": true,
     "schema_version": 3,
     "solution": false,
     "task": false
    }
   },
   "outputs": [
    {
     "name": "stdout",
     "output_type": "stream",
     "text": [
      "a\n",
      "about\n",
      "above\n",
      "accordingly\n",
      "across\n",
      "after\n",
      "afterwards\n",
      "again\n",
      "against\n",
      "all\n"
     ]
    }
   ],
   "source": [
    "##### Read the stop words file \n",
    "!head ./datasets/common_words\n",
    "##### Read the README file "
   ]
  },
  {
   "cell_type": "markdown",
   "metadata": {
    "deletable": false,
    "editable": false,
    "nbgrader": {
     "cell_type": "markdown",
     "checksum": "f720edbacd79170351156a443e0018ff",
     "grade": false,
     "grade_id": "cell-4744bde0338895d8",
     "locked": true,
     "schema_version": 3,
     "solution": false,
     "task": false
    }
   },
   "source": [
    "---\n",
    "**Implementation (1 point):**\n",
    "Write a function to read the `common_words` file (For better coverage, try to keep them in lowercase):"
   ]
  },
  {
   "cell_type": "code",
   "execution_count": 11,
   "metadata": {
    "ExecuteTime": {
     "end_time": "2021-02-18T08:34:52.049912Z",
     "start_time": "2021-02-18T08:34:52.035951Z"
    },
    "deletable": false,
    "nbgrader": {
     "cell_type": "code",
     "checksum": "e6a9e9bb3ad0f8dc2ec3c497a3149092",
     "grade": false,
     "grade_id": "cell-7357aa40f64e5bcb",
     "locked": false,
     "schema_version": 3,
     "solution": true,
     "task": false
    }
   },
   "outputs": [],
   "source": [
    "# TODO: Implement this! (1 point)\n",
    "def load_stopwords(root_folder = \"./datasets/\"):\n",
    "    \"\"\"\n",
    "        Loads the stopwords. The dataset is assumed to be in the folder \"./datasets/\" by default\n",
    "        Output: A set of stopwords\n",
    "    \"\"\"\n",
    "    # YOUR CODE HERE\n",
    "    \n",
    "    file_location = os.path.join(root_folder, \"common_words\")\n",
    "\n",
    "    with open(file_location, \"r\") as f:\n",
    "        stopwords = {x for x in f.read().lower().split(\"\\n\") if x != \"\"}\n",
    "    \n",
    "    return stopwords\n",
    "\n",
    "    raise NotImplementedError()\n"
   ]
  },
  {
   "cell_type": "code",
   "execution_count": 12,
   "metadata": {
    "ExecuteTime": {
     "end_time": "2021-02-18T08:34:52.065869Z",
     "start_time": "2021-02-18T08:34:52.051908Z"
    },
    "deletable": false,
    "editable": false,
    "nbgrader": {
     "cell_type": "code",
     "checksum": "9211b9735b828d89d1a51d8743c448b4",
     "grade": true,
     "grade_id": "cell-2ca3ac162004de97",
     "locked": true,
     "points": 1,
     "schema_version": 3,
     "solution": false,
     "task": false
    }
   },
   "outputs": [],
   "source": [
    "##### Function check\n",
    "stopwords = load_stopwords()\n",
    "\n",
    "assert isinstance(stopwords, set)\n",
    "assert len(stopwords) == 428, \"There should be exactly 428 stop words\"\n",
    "##### "
   ]
  },
  {
   "cell_type": "markdown",
   "metadata": {
    "deletable": false,
    "editable": false,
    "nbgrader": {
     "cell_type": "markdown",
     "checksum": "fc7e419f35dfd3f507d8a7555ce2cde9",
     "grade": false,
     "grade_id": "cell-134b72872f4300cb",
     "locked": true,
     "schema_version": 3,
     "solution": false,
     "task": false
    }
   },
   "source": [
    "---\n",
    "### 1.4 Tokenization (4 points)\n",
    "\n",
    "We can now write some basic text processing functions. \n",
    "A first step is to tokenize the text. \n",
    "\n",
    "**Note**: Use the  `WordPunctTokenizer` available in the `nltk` library:"
   ]
  },
  {
   "cell_type": "code",
   "execution_count": 13,
   "metadata": {
    "ExecuteTime": {
     "end_time": "2021-02-18T08:34:52.081826Z",
     "start_time": "2021-02-18T08:34:52.067864Z"
    },
    "deletable": false,
    "nbgrader": {
     "cell_type": "code",
     "checksum": "3f5564d3c75bf22fbf832b3a9b938f37",
     "grade": false,
     "grade_id": "cell-322be4c9499bdc4b",
     "locked": false,
     "schema_version": 3,
     "solution": true,
     "task": false
    }
   },
   "outputs": [],
   "source": [
    "# TODO: Implement this! (4 points)\n",
    "def tokenize(text):\n",
    "    \"\"\"\n",
    "        Tokenizes the input text. Use the WordPunctTokenizer\n",
    "        Input: text - a string\n",
    "        Output: a list of tokens\n",
    "    \"\"\"\n",
    "    # YOUR CODE HERE\n",
    "    \n",
    "    tokens = nltk.tokenize.WordPunctTokenizer().tokenize(text)\n",
    "    \n",
    "    return tokens\n",
    "    \n",
    "    raise NotImplementedError()"
   ]
  },
  {
   "cell_type": "code",
   "execution_count": 14,
   "metadata": {
    "ExecuteTime": {
     "end_time": "2021-02-18T08:34:52.097784Z",
     "start_time": "2021-02-18T08:34:52.083855Z"
    },
    "deletable": false,
    "editable": false,
    "nbgrader": {
     "cell_type": "code",
     "checksum": "f60b93aa03bf9eced64940252eb33fe3",
     "grade": true,
     "grade_id": "cell-7fbf48bf7541a622",
     "locked": true,
     "points": 4,
     "schema_version": 3,
     "solution": false,
     "task": false
    }
   },
   "outputs": [
    {
     "name": "stdout",
     "output_type": "stream",
     "text": [
      "['the', 'quick', 'brown', 'fox', 'jumps', 'over', 'the', 'lazy', 'dog']\n"
     ]
    }
   ],
   "source": [
    "##### Function check\n",
    "text = \"the quick brown fox jumps over the lazy dog\"\n",
    "tokens = tokenize(text)\n",
    "\n",
    "assert isinstance(tokens, list)\n",
    "assert len(tokens) == 9\n",
    "\n",
    "print(tokens)\n",
    "# output: ['the', 'quick', 'brown', 'fox', 'jumps', 'over', 'the', 'lazy', 'dog']\n",
    "#####"
   ]
  },
  {
   "cell_type": "markdown",
   "metadata": {
    "deletable": false,
    "editable": false,
    "nbgrader": {
     "cell_type": "markdown",
     "checksum": "1b1cc868db22735e5e193bc64ff67877",
     "grade": false,
     "grade_id": "cell-fd1b98ae61b697ca",
     "locked": true,
     "schema_version": 3,
     "solution": false,
     "task": false
    }
   },
   "source": [
    "---\n",
    "### 1.5 Stemming (3 points)\n",
    "\n",
    "Write a function to stem tokens. \n",
    "Again, you can use the nltk library for this:"
   ]
  },
  {
   "cell_type": "code",
   "execution_count": 15,
   "metadata": {
    "ExecuteTime": {
     "end_time": "2021-02-18T08:34:52.113741Z",
     "start_time": "2021-02-18T08:34:52.099778Z"
    },
    "deletable": false,
    "nbgrader": {
     "cell_type": "code",
     "checksum": "1c4a6aa979d66158c7b6b992af43293a",
     "grade": false,
     "grade_id": "cell-e3f6c8e3f874b28d",
     "locked": false,
     "schema_version": 3,
     "solution": true,
     "task": false
    }
   },
   "outputs": [],
   "source": [
    "# TODO: Implement this! (3 points)\n",
    "def stem_token(token):\n",
    "    \"\"\"\n",
    "        Stems the given token using the PorterStemmer from the nltk library\n",
    "        Input: a single token\n",
    "        Output: the stem of the token\n",
    "    \"\"\"\n",
    "    # YOUR CODE HERE\n",
    "    \n",
    "    stem = nltk.stem.porter.PorterStemmer().stem(token)\n",
    "    \n",
    "    return stem\n",
    "    \n",
    "    raise NotImplementedError()"
   ]
  },
  {
   "cell_type": "code",
   "execution_count": 16,
   "metadata": {
    "ExecuteTime": {
     "end_time": "2021-02-18T08:34:52.128700Z",
     "start_time": "2021-02-18T08:34:52.116734Z"
    },
    "deletable": false,
    "editable": false,
    "nbgrader": {
     "cell_type": "code",
     "checksum": "cd2611a46e7c2e92af438d7166cf2616",
     "grade": true,
     "grade_id": "cell-cd6863e6ee6ed205",
     "locked": true,
     "points": 3,
     "schema_version": 3,
     "solution": false,
     "task": false
    }
   },
   "outputs": [],
   "source": [
    "##### Function check\n",
    "\n",
    "assert stem_token('owned') == 'own'\n",
    "assert stem_token('itemization') == 'item'\n",
    "#####"
   ]
  },
  {
   "cell_type": "markdown",
   "metadata": {
    "deletable": false,
    "editable": false,
    "nbgrader": {
     "cell_type": "markdown",
     "checksum": "5fcc93f08a6abcaffd5bd9475e4768e5",
     "grade": false,
     "grade_id": "cell-47c9f90498699110",
     "locked": true,
     "schema_version": 3,
     "solution": false,
     "task": false
    }
   },
   "source": [
    "---\n",
    "### 1.6 Summary\n",
    "\n",
    "The following function puts it all together. Given a string, it tokenizes it and processes it according to the flags that you set."
   ]
  },
  {
   "cell_type": "code",
   "execution_count": 17,
   "metadata": {
    "ExecuteTime": {
     "end_time": "2021-02-18T08:34:52.143659Z",
     "start_time": "2021-02-18T08:34:52.130694Z"
    },
    "deletable": false,
    "editable": false,
    "nbgrader": {
     "cell_type": "code",
     "checksum": "2ff2d215ee8e0039c5a91fd3de12e6bd",
     "grade": false,
     "grade_id": "cell-dd0d3f46b30801da",
     "locked": true,
     "schema_version": 3,
     "solution": false,
     "task": false
    }
   },
   "outputs": [],
   "source": [
    "#### Putting it all together\n",
    "def process_text(text, stem=False, remove_stopwords=False, lowercase_text=False):\n",
    "    \n",
    "    tokens = []\n",
    "    for token in tokenize(text):\n",
    "        if remove_stopwords and token.lower() in stopwords:\n",
    "            continue\n",
    "        if stem:\n",
    "            token = stem_token(token)\n",
    "        if lowercase_text:\n",
    "            token = token.lower()\n",
    "        tokens.append(token)\n",
    "\n",
    "    return tokens\n",
    "#### "
   ]
  },
  {
   "cell_type": "markdown",
   "metadata": {
    "deletable": false,
    "editable": false,
    "nbgrader": {
     "cell_type": "markdown",
     "checksum": "02d433b18eb43654fa4306a7bf55b190",
     "grade": false,
     "grade_id": "cell-8d885bfd2edd43ae",
     "locked": true,
     "schema_version": 3,
     "solution": false,
     "task": false
    }
   },
   "source": [
    "---\n",
    "\n",
    "Let's create two sets of preprocessed documents.\n",
    "We can process the documents and queries according to these two configurations:"
   ]
  },
  {
   "cell_type": "code",
   "execution_count": 18,
   "metadata": {
    "ExecuteTime": {
     "end_time": "2021-02-18T08:34:55.957508Z",
     "start_time": "2021-02-18T08:34:52.145655Z"
    },
    "deletable": false,
    "editable": false,
    "nbgrader": {
     "cell_type": "code",
     "checksum": "dbe4ca667be6842fdcf512fbcad50c7f",
     "grade": false,
     "grade_id": "cell-d427365ee0fb21d8",
     "locked": true,
     "schema_version": 3,
     "solution": false,
     "task": false
    }
   },
   "outputs": [],
   "source": [
    "# In this configuration:\n",
    "# Don't preprocess the text, except to tokenize \n",
    "config_1 = {\n",
    "  \"stem\": False,\n",
    "  \"remove_stopwords\" : False,\n",
    "  \"lowercase_text\": True\n",
    "} \n",
    "\n",
    "\n",
    "# In this configuration:\n",
    "# Preprocess the text, stem and remove stopwords\n",
    "config_2 = {\n",
    "  \"stem\": True,\n",
    "  \"remove_stopwords\" : True,\n",
    "  \"lowercase_text\": True, \n",
    "} \n",
    "\n",
    "####\n",
    "doc_repr_1 = []\n",
    "doc_repr_2 = []\n",
    "for (doc_id, document) in docs:\n",
    "    doc_repr_1.append((doc_id, process_text(document, **config_1)))\n",
    "    doc_repr_2.append((doc_id, process_text(document, **config_2)))\n",
    "\n",
    "####"
   ]
  },
  {
   "cell_type": "markdown",
   "metadata": {
    "deletable": false,
    "editable": false,
    "nbgrader": {
     "cell_type": "markdown",
     "checksum": "b60589aac19e80941d860d9b3f1e9a16",
     "grade": false,
     "grade_id": "cell-b1c102db61ae7495",
     "locked": true,
     "schema_version": 3,
     "solution": false,
     "task": false
    }
   },
   "source": [
    "--- \n",
    "\n",
    "## Section 2: Indexing (10 points)<a class=\"anchor\" id=\"indexing\"></a>\n",
    "\n",
    "[Back to Part 1](#part1)\n",
    "\n",
    "\n",
    "\n",
    "A retrieval function usually takes in a query document pair, and scores a query against a document.  Our document set is quite small - just a few thousand documents. However, consider a web-scale dataset with a few million documents. In such a scenario, it would become infeasible to score every query and document pair. In such a case, we can build an inverted index. From Wikipedia:\n",
    "\n",
    "> ... , an inverted index (also referred to as a postings file or inverted file) is a database index storing a mapping from content, such as words or numbers, to its locations in a table, .... The purpose of an inverted index is to allow fast full-text searches, at a cost of increased processing when a document is added to the database. ...\n",
    "\n",
    "\n",
    "Consider a simple inverted index, which maps from word to document. This can improve the performance of a retrieval system significantly. In this assignment, we consider a *simple* inverted index, which maps a word to a set of documents. In practice, however, more complex indices might be used.  \n"
   ]
  },
  {
   "cell_type": "markdown",
   "metadata": {
    "deletable": false,
    "editable": false,
    "nbgrader": {
     "cell_type": "markdown",
     "checksum": "710fd943f45523ac36fcb887cc0d4d39",
     "grade": false,
     "grade_id": "cell-fa373192c1b7bb95",
     "locked": true,
     "schema_version": 3,
     "solution": false,
     "task": false
    }
   },
   "source": [
    "### 2.1 Term Frequency-index (10 points)\n",
    "In this assignment, we will be using an index created in memory since our dataset is tiny. To get started, build a simple index that maps each `token` to a list of `(doc_id, count)` where `count` is the count of the `token` in `doc_id`.\n",
    "For consistency, build this index using a python dictionary.\n",
    "    \n",
    "Now, implement a function to build an index:"
   ]
  },
  {
   "cell_type": "code",
   "execution_count": 19,
   "metadata": {
    "ExecuteTime": {
     "end_time": "2021-02-18T08:34:55.973468Z",
     "start_time": "2021-02-18T08:34:55.959503Z"
    },
    "deletable": false,
    "nbgrader": {
     "cell_type": "code",
     "checksum": "c281c45196493b87e45e1b3fb4ddd6c9",
     "grade": false,
     "grade_id": "cell-077599b87e953209",
     "locked": false,
     "schema_version": 3,
     "solution": true,
     "task": false
    }
   },
   "outputs": [],
   "source": [
    "# TODO: Implement this! (10 points)\n",
    "def build_tf_index(documents):\n",
    "    \"\"\"\n",
    "        Build an inverted index (with counts). The output is a dictionary which takes in a token\n",
    "        and returns a list of (doc_id, count) where 'count' is the count of the 'token' in 'doc_id'\n",
    "        Input: a list of documents - (doc_id, tokens) \n",
    "        Output: An inverted index. [token] -> [(doc_id, token_count)]\n",
    "    \"\"\"\n",
    "    # YOUR CODE HERE\n",
    "    \n",
    "    from collections import defaultdict\n",
    "    \n",
    "    index = defaultdict(str)\n",
    "\n",
    "    for (doc_id, tokens) in documents:\n",
    "        unique_tokens = set(tokens)\n",
    "        for word in unique_tokens:\n",
    "            count_word = int(tokens.count(word))\n",
    "            if word not in index.keys():\n",
    "                index[word] = [(doc_id, count_word)]\n",
    "            else:\n",
    "                index[word].append((doc_id, count_word))\n",
    "    \n",
    "    return index\n",
    "\n",
    "    raise NotImplementedError()"
   ]
  },
  {
   "cell_type": "markdown",
   "metadata": {
    "deletable": false,
    "editable": false,
    "nbgrader": {
     "cell_type": "markdown",
     "checksum": "15e7041b4323d2a290322de538ff7670",
     "grade": false,
     "grade_id": "cell-093aebfa504f96f2",
     "locked": true,
     "schema_version": 3,
     "solution": false,
     "task": false
    }
   },
   "source": [
    "---\n",
    "Now we can build indexed documents and preprocess the queries based on the two configurations:"
   ]
  },
  {
   "cell_type": "code",
   "execution_count": 20,
   "metadata": {
    "ExecuteTime": {
     "end_time": "2021-02-18T08:34:56.721159Z",
     "start_time": "2021-02-18T08:34:55.975463Z"
    },
    "deletable": false,
    "editable": false,
    "nbgrader": {
     "cell_type": "code",
     "checksum": "e27540c1d8d77a3779a05f557f3f40c6",
     "grade": false,
     "grade_id": "cell-b2ff1676348b90a8",
     "locked": true,
     "schema_version": 3,
     "solution": false,
     "task": false
    }
   },
   "outputs": [],
   "source": [
    "#### Indexed documents based on the two configs\n",
    "\n",
    "# Create the 2 indices\n",
    "tf_index_1 = build_tf_index(doc_repr_1)\n",
    "tf_index_2 = build_tf_index(doc_repr_2)\n",
    "\n",
    "# This function returns the tf_index of the corresponding config\n",
    "def get_index(index_set):\n",
    "    assert index_set in {1, 2}\n",
    "    return {\n",
    "        1: tf_index_1,\n",
    "        2: tf_index_2\n",
    "    }[index_set]\n",
    "\n",
    "####\n",
    "#### Preprocessed query based on the two configs\n",
    "\n",
    "# This function preprocesses the text given the index set, according to the specified config\n",
    "def preprocess_query(text, index_set):\n",
    "    assert index_set in {1, 2}\n",
    "    if index_set == 1:\n",
    "        return process_text(text, **config_1)\n",
    "    elif index_set == 2:\n",
    "        return process_text(text, **config_2)\n",
    "\n",
    "#### "
   ]
  },
  {
   "cell_type": "code",
   "execution_count": 21,
   "metadata": {
    "ExecuteTime": {
     "end_time": "2021-02-18T08:34:56.737116Z",
     "start_time": "2021-02-18T08:34:56.723153Z"
    },
    "deletable": false,
    "editable": false,
    "nbgrader": {
     "cell_type": "code",
     "checksum": "2c50e4b4c68261ff1184277bcf3c38d8",
     "grade": true,
     "grade_id": "cell-fc7c7232d5d2ee46",
     "locked": true,
     "points": 5,
     "schema_version": 3,
     "solution": false,
     "task": false
    }
   },
   "outputs": [
    {
     "name": "stdout",
     "output_type": "stream",
     "text": [
      "[(4, 1), (7, 1), (10, 1), (13, 1), (19, 1), (22, 1), (23, 1), (37, 1), (40, 3), (41, 1)]\n"
     ]
    }
   ],
   "source": [
    "##### Function check\n",
    "\n",
    "print(tf_index_1['computer'][:10])\n",
    "#### "
   ]
  },
  {
   "cell_type": "code",
   "execution_count": 22,
   "metadata": {
    "ExecuteTime": {
     "end_time": "2021-02-18T08:34:56.753074Z",
     "start_time": "2021-02-18T08:34:56.739110Z"
    },
    "deletable": false,
    "editable": false,
    "nbgrader": {
     "cell_type": "code",
     "checksum": "02de27463e2a393f46278d6fe3160481",
     "grade": true,
     "grade_id": "cell-ff06bd11204db250",
     "locked": true,
     "points": 5,
     "schema_version": 3,
     "solution": false,
     "task": false
    }
   },
   "outputs": [
    {
     "name": "stdout",
     "output_type": "stream",
     "text": [
      "[(670, 1), (675, 1), (1621, 3), (1681, 1), (2145, 1), (2339, 1), (2572, 1), (2583, 1), (2739, 1), (3012, 1)]\n"
     ]
    }
   ],
   "source": [
    "##### Function check\n",
    "\n",
    "print(tf_index_2['computer'][:10])\n",
    "#### "
   ]
  },
  {
   "cell_type": "markdown",
   "metadata": {
    "deletable": false,
    "editable": false,
    "nbgrader": {
     "cell_type": "markdown",
     "checksum": "982112dca3f9a75e871bea74fe1adab4",
     "grade": false,
     "grade_id": "cell-89eba71f04310291",
     "locked": true,
     "schema_version": 3,
     "solution": false,
     "task": false
    }
   },
   "source": [
    "\n",
    "---\n",
    "## Section 3: Ranking  (80 points) <a class=\"anchor\" id=\"ranking\"></a>\n",
    "\n",
    "[Back to Part 1](#part1)\n",
    "\n",
    "Now that we have cleaned and processed our dataset, we can start building simple IR systems. \n",
    "\n",
    "For now, we consider *simple* IR systems, which involve computing scores from the tokens present in the document/query. More advanced methods are covered in later assignments.\n",
    "\n",
    "We will implement the following methods in this section:\n",
    "- [Section 3.1: Bag of Words](#bow) (10 points)\n",
    "- [Section 3.2: TF-IDF](#tfidf) (15 points)\n",
    "- [Section 3.3: Query Likelihood Model](#qlm) (35 points)\n",
    "- [Section 3.4: BM25](#bm25) (20 points)\n",
    "\n",
    "**Scoring policy:**\n",
    "Your implementations in this section are scored based on the expected performance of your ranking functions.\n",
    "You will get a full mark if your implementation meets the expected performance (measured by some evaluation metric).\n",
    "Otherwise, you may get partial credit.\n",
    "For example, if your *Bag of words* ranking function has 60% of expected performance, you will get 4 out of 10."
   ]
  },
  {
   "cell_type": "markdown",
   "metadata": {
    "deletable": false,
    "editable": false,
    "nbgrader": {
     "cell_type": "markdown",
     "checksum": "97c13d2e2cad60df4a70dcb61ea7c30e",
     "grade": false,
     "grade_id": "cell-3daf70a60e393adf",
     "locked": true,
     "schema_version": 3,
     "solution": false,
     "task": false
    }
   },
   "source": [
    "--- \n",
    "\n",
    "### Section 3.1: Bag of Words (10 points)<a class=\"anchor\" id=\"bow\"></a>\n",
    "\n",
    "Probably the simplest IR model is the Bag of Words (BOW) model.\n",
    "Implement a function that scores and ranks all the documents against a query using this model.   \n",
    "\n",
    "Note that you can use either the count of the token or 'binarize' it i.e set the value equal to 1 if the token appears.   \n"
   ]
  },
  {
   "cell_type": "code",
   "execution_count": 23,
   "metadata": {
    "ExecuteTime": {
     "end_time": "2021-02-18T08:34:56.782994Z",
     "start_time": "2021-02-18T08:34:56.760054Z"
    },
    "deletable": false,
    "nbgrader": {
     "cell_type": "code",
     "checksum": "1178c8a8908b0e4dc07add7aa49b7fde",
     "grade": false,
     "grade_id": "cell-de9cf0459c4b9324",
     "locked": false,
     "schema_version": 3,
     "solution": true,
     "task": false
    }
   },
   "outputs": [],
   "source": [
    "# TODO: Implement this! (10 points)\n",
    "def bow_search(query, index_set):\n",
    "    \"\"\"\n",
    "        Perform a search over all documents with the given query. \n",
    "        Note: You have to use the `get_index` function created in the previous cells\n",
    "        Input: \n",
    "            query - a (unprocessed) query\n",
    "            index_set - the index to use\n",
    "        Output: a list of (document_id, score), sorted in descending relevance to the given query \n",
    "    \"\"\"\n",
    "    index = get_index(index_set)\n",
    "    processed_query = preprocess_query(query, index_set)\n",
    "    \n",
    "    # YOUR CODE HERE\n",
    "    \n",
    "    query_score = []\n",
    "    \n",
    "    for query_word in processed_query:\n",
    "        for key, value in index.items():\n",
    "            if query_word == key:\n",
    "                bow_value = [(doc_id, 1) for doc_id, token_count in value]\n",
    "                query_score.extend(bow_value)\n",
    "    \n",
    "    dict_query = dict()\n",
    "    for (key, value) in query_score:\n",
    "        if key in dict_query:\n",
    "            dict_query[key] += value\n",
    "        else:\n",
    "            dict_query[key] = value\n",
    "\n",
    "    query_score = [(k, float(v)) for k, v in dict_query.items()]\n",
    "    query_score.sort(key=lambda x:x[1], reverse=True)\n",
    "    \n",
    "    return query_score\n",
    "    \n",
    "    raise NotImplementedError()"
   ]
  },
  {
   "cell_type": "code",
   "execution_count": 24,
   "metadata": {
    "ExecuteTime": {
     "end_time": "2021-02-18T08:34:56.798949Z",
     "start_time": "2021-02-18T08:34:56.785985Z"
    },
    "deletable": false,
    "editable": false,
    "nbgrader": {
     "cell_type": "code",
     "checksum": "644d6d33cf5075c6d9878d4fe24c6213",
     "grade": true,
     "grade_id": "cell-9f6aceae6dd9125f",
     "locked": true,
     "points": 2,
     "schema_version": 3,
     "solution": false,
     "task": false
    }
   },
   "outputs": [
    {
     "name": "stdout",
     "output_type": "stream",
     "text": [
      "BOW Results:\n",
      "Rank 0(1.0): Preliminary Report-International Algebraic Languag...\n",
      "Rank 1(1.0): ALGOL Sub-Committee Report - Extensions...\n",
      "Rank 2(1.0): The Use of Computers in Engineering Classroom Inst...\n",
      "Rank 3(1.0): Report on a Conference of University Computing Cen...\n",
      "Rank 4(1.0): Report on the Algorithmic Language ALGOL 60...\n"
     ]
    }
   ],
   "source": [
    "#### Function check\n",
    "\n",
    "docs_by_id = dict(docs)\n",
    "def print_results(docs, len_limit=50):    \n",
    "    for i, (doc_id, score) in enumerate(docs):\n",
    "        doc_content = docs_by_id[doc_id].strip().replace(\"\\n\", \"\\\\n\")[:len_limit] + \"...\"\n",
    "        print(f\"Rank {i}({score:.2}): {doc_content}\")\n",
    "\n",
    "test_bow = bow_search(\"report\", index_set=1)[:5]\n",
    "print(f\"BOW Results:\")\n",
    "print_results(test_bow)\n",
    "#### "
   ]
  },
  {
   "cell_type": "code",
   "execution_count": 25,
   "metadata": {
    "ExecuteTime": {
     "end_time": "2021-02-18T08:34:56.814914Z",
     "start_time": "2021-02-18T08:34:56.800945Z"
    },
    "deletable": false,
    "editable": false,
    "nbgrader": {
     "cell_type": "code",
     "checksum": "8d54c91b913d7a54b25f3358c969fa45",
     "grade": true,
     "grade_id": "cell-4eed3abf233d9b58",
     "locked": true,
     "points": 2,
     "schema_version": 3,
     "solution": false,
     "task": false
    }
   },
   "outputs": [],
   "source": [
    "#### Please do not change this. This cell is used for grading."
   ]
  },
  {
   "cell_type": "code",
   "execution_count": 26,
   "metadata": {
    "ExecuteTime": {
     "end_time": "2021-02-18T08:34:56.830865Z",
     "start_time": "2021-02-18T08:34:56.817902Z"
    },
    "deletable": false,
    "editable": false,
    "nbgrader": {
     "cell_type": "code",
     "checksum": "58bcc16d36dc079b7f41f9572423c62b",
     "grade": true,
     "grade_id": "cell-4d65a2d7090c466c",
     "locked": true,
     "points": 3,
     "schema_version": 3,
     "solution": false,
     "task": false
    }
   },
   "outputs": [],
   "source": [
    "#### Please do not change this. This cell is used for grading."
   ]
  },
  {
   "cell_type": "code",
   "execution_count": 27,
   "metadata": {
    "ExecuteTime": {
     "end_time": "2021-02-18T08:34:56.846823Z",
     "start_time": "2021-02-18T08:34:56.833858Z"
    },
    "deletable": false,
    "editable": false,
    "nbgrader": {
     "cell_type": "code",
     "checksum": "65e4561970c4eba3e5ce43b142f858af",
     "grade": true,
     "grade_id": "cell-dedf36ab5853ce20",
     "locked": true,
     "points": 3,
     "schema_version": 3,
     "solution": false,
     "task": false
    }
   },
   "outputs": [],
   "source": [
    "#### Please do not change this. This cell is used for grading."
   ]
  },
  {
   "cell_type": "markdown",
   "metadata": {
    "deletable": false,
    "editable": false,
    "nbgrader": {
     "cell_type": "markdown",
     "checksum": "a5c2318004c5ce534b67c7a36bbc7c31",
     "grade": false,
     "grade_id": "cell-a5c09c79ac1f2871",
     "locked": true,
     "schema_version": 3,
     "solution": false,
     "task": false
    }
   },
   "source": [
    "\n",
    "---\n",
    "\n",
    "### Section 3.2: TF-IDF (15 points) <a class=\"anchor\" id=\"tfidf\"></a>\n",
    "\n",
    "Before we implement the tf-idf scoring functions, let's first write a function to compute the document frequencies of all words.  \n",
    "\n",
    "#### 3.2.1 Document frequency (5 points)\n",
    "Compute the document frequencies of all tokens in the collection.  "
   ]
  },
  {
   "cell_type": "code",
   "execution_count": 28,
   "metadata": {
    "ExecuteTime": {
     "end_time": "2021-02-18T08:34:56.862781Z",
     "start_time": "2021-02-18T08:34:56.848817Z"
    },
    "deletable": false,
    "nbgrader": {
     "cell_type": "code",
     "checksum": "11cdde77378ded394d7922fe36bbc5d1",
     "grade": false,
     "grade_id": "cell-9a2369f32e864b8a",
     "locked": false,
     "schema_version": 3,
     "solution": true,
     "task": false
    }
   },
   "outputs": [],
   "source": [
    "# TODO: Implement this! (5 points)\n",
    "def compute_df(documents):\n",
    "    \"\"\"\n",
    "        Compute the document frequency of all terms in the vocabulary\n",
    "        Input: A list of documents\n",
    "        Output: A dictionary with {token: document frequency)\n",
    "    \"\"\"\n",
    "    # YOUR CODE HERE\n",
    "    \n",
    "    doc_freq = {}\n",
    "    \n",
    "    for doc in documents:\n",
    "        for word in set(doc):\n",
    "            if word not in doc_freq.keys():\n",
    "                doc_freq[word] = 1\n",
    "            else:\n",
    "                doc_freq[word] += 1\n",
    "                \n",
    "    return doc_freq\n",
    "    \n",
    "    raise NotImplementedError()\n"
   ]
  },
  {
   "cell_type": "code",
   "execution_count": 29,
   "metadata": {
    "ExecuteTime": {
     "end_time": "2021-02-18T08:34:56.987447Z",
     "start_time": "2021-02-18T08:34:56.863777Z"
    },
    "deletable": false,
    "editable": false,
    "nbgrader": {
     "cell_type": "code",
     "checksum": "154985511d7925c5793a1f97dea81880",
     "grade": false,
     "grade_id": "cell-4c3bddd0b73ac90e",
     "locked": true,
     "schema_version": 3,
     "solution": false,
     "task": false
    }
   },
   "outputs": [],
   "source": [
    "#### Compute df based on the two configs\n",
    "\n",
    "# get the document frequencies of each document\n",
    "df_1 = compute_df([d[1] for d in doc_repr_1])\n",
    "df_2 = compute_df([d[1] for d in doc_repr_2])\n",
    "\n",
    "def get_df(index_set):\n",
    "    assert index_set in {1, 2}\n",
    "    return {\n",
    "        1: df_1,\n",
    "        2: df_2\n",
    "    }[index_set]\n",
    "####"
   ]
  },
  {
   "cell_type": "code",
   "execution_count": 30,
   "metadata": {
    "ExecuteTime": {
     "end_time": "2021-02-18T08:34:57.002405Z",
     "start_time": "2021-02-18T08:34:56.990438Z"
    },
    "deletable": false,
    "editable": false,
    "nbgrader": {
     "cell_type": "code",
     "checksum": "110cc180068cf3f77c682ee3de2a117c",
     "grade": true,
     "grade_id": "cell-79e8a6db1e5fc46f",
     "locked": true,
     "points": 5,
     "schema_version": 3,
     "solution": false,
     "task": false
    }
   },
   "outputs": [
    {
     "name": "stdout",
     "output_type": "stream",
     "text": [
      "597\n",
      "11\n"
     ]
    }
   ],
   "source": [
    "#### Function check\n",
    "\n",
    "print(df_1['computer'])\n",
    "print(df_2['computer'])\n",
    "####"
   ]
  },
  {
   "cell_type": "markdown",
   "metadata": {
    "deletable": false,
    "editable": false,
    "nbgrader": {
     "cell_type": "markdown",
     "checksum": "6646996a2d016ef86e7cedd2f79a29d1",
     "grade": false,
     "grade_id": "cell-52f6acc487e1b96d",
     "locked": true,
     "schema_version": 3,
     "solution": false,
     "task": false
    }
   },
   "source": [
    "---\n",
    "#### 3.2.2 TF-IDF search (10 points)\n",
    "Next, implement a function that computes a tf-idf score given a query.      "
   ]
  },
  {
   "cell_type": "code",
   "execution_count": 31,
   "metadata": {
    "ExecuteTime": {
     "end_time": "2021-02-18T08:34:57.018364Z",
     "start_time": "2021-02-18T08:34:57.004402Z"
    },
    "deletable": false,
    "nbgrader": {
     "cell_type": "code",
     "checksum": "b33c859693d1b383bcb53acea340027f",
     "grade": false,
     "grade_id": "cell-2fb5ba34b2994cd9",
     "locked": false,
     "schema_version": 3,
     "solution": true,
     "task": false
    }
   },
   "outputs": [],
   "source": [
    "# TODO: Implement this! (10 points)\n",
    "def tfidf_search(query, index_set):\n",
    "    \"\"\"\n",
    "        Perform a search over all documents with the given query using tf-idf. \n",
    "        Note #1: You have to use the `get_index` (and the `get_df`) function created in the previous cells\n",
    "        Input: \n",
    "            query - a (unprocessed) query\n",
    "            index_set - the index to use\n",
    "        Output: a list of (document_id, score), sorted in descending relevance to the given query \n",
    "    \"\"\"\n",
    "    index = get_index(index_set)\n",
    "    df = get_df(index_set)\n",
    "    processed_query = preprocess_query(query, index_set)\n",
    "    \n",
    "    # YOUR CODE HERE\n",
    "    \n",
    "    total_docs = len(docs)\n",
    "    idf = {key: np.log(total_docs / value) for (key, value) in df.items()}\n",
    "\n",
    "    query_score = []\n",
    "    \n",
    "    for query_word in processed_query:\n",
    "        for key, value in index.items():\n",
    "            if query_word == key:\n",
    "                tfidf_value = [(doc_id, token_count * idf[key]) for doc_id, token_count in value]\n",
    "                query_score.extend(tfidf_value)\n",
    "    \n",
    "    dict_query = dict()\n",
    "    for (key, value) in query_score:\n",
    "        if key in dict_query:\n",
    "            dict_query[key] += value\n",
    "        else:\n",
    "            dict_query[key] = value\n",
    "            \n",
    "    query_score = [(k, float(v)) for k, v in dict_query.items()]\n",
    "    query_score.sort(key=lambda x:x[1], reverse=True)\n",
    "    \n",
    "    return query_score\n",
    "    \n",
    "    raise NotImplementedError()"
   ]
  },
  {
   "cell_type": "code",
   "execution_count": 32,
   "metadata": {
    "ExecuteTime": {
     "end_time": "2021-02-18T08:34:57.050280Z",
     "start_time": "2021-02-18T08:34:57.020358Z"
    },
    "deletable": false,
    "editable": false,
    "nbgrader": {
     "cell_type": "code",
     "checksum": "10b9fd39f3c9a9f3ca274c020ad79323",
     "grade": true,
     "grade_id": "cell-bc68aeeacf42beb3",
     "locked": true,
     "points": 2,
     "schema_version": 3,
     "solution": false,
     "task": false
    }
   },
   "outputs": [
    {
     "name": "stdout",
     "output_type": "stream",
     "text": [
      "TFIDF Results:\n",
      "Rank 0(2.3e+01): An Information Algebra - Phase I Report-Language\\n...\n",
      "Rank 1(2.3e+01): Rejuvenating Experimental Computer Science\\nThis r...\n",
      "Rank 2(1.2e+01): ALGOL 60 Confidential\\nThe ALGOL 60 Report,* when ...\n",
      "Rank 3(7.8): Automatic Abstracting and Indexing Survey and Reco...\n",
      "Rank 4(7.8): A String Language for Symbol Manipulation Based on...\n"
     ]
    }
   ],
   "source": [
    "#### Function check\n",
    "test_tfidf = tfidf_search(\"report\", index_set=1)[:5]\n",
    "print(f\"TFIDF Results:\")\n",
    "print_results(test_tfidf)\n",
    "####"
   ]
  },
  {
   "cell_type": "code",
   "execution_count": 33,
   "metadata": {
    "ExecuteTime": {
     "end_time": "2021-02-18T08:34:57.066237Z",
     "start_time": "2021-02-18T08:34:57.052274Z"
    },
    "deletable": false,
    "editable": false,
    "nbgrader": {
     "cell_type": "code",
     "checksum": "03441f97df9db4996d0f260fcc974e9d",
     "grade": true,
     "grade_id": "cell-c7702fa8179fadb9",
     "locked": true,
     "points": 2,
     "schema_version": 3,
     "solution": false,
     "task": false
    }
   },
   "outputs": [],
   "source": [
    "#### Please do not change this. This cell is used for grading."
   ]
  },
  {
   "cell_type": "code",
   "execution_count": 34,
   "metadata": {
    "ExecuteTime": {
     "end_time": "2021-02-18T08:34:57.082193Z",
     "start_time": "2021-02-18T08:34:57.068230Z"
    },
    "deletable": false,
    "editable": false,
    "nbgrader": {
     "cell_type": "code",
     "checksum": "7272cfcbb457a74d23bfec1f85d22d5f",
     "grade": true,
     "grade_id": "cell-3284f50ac29abbaa",
     "locked": true,
     "points": 3,
     "schema_version": 3,
     "solution": false,
     "task": false
    }
   },
   "outputs": [],
   "source": [
    "#### Please do not change this. This cell is used for grading."
   ]
  },
  {
   "cell_type": "code",
   "execution_count": 35,
   "metadata": {
    "ExecuteTime": {
     "end_time": "2021-02-18T08:34:57.098151Z",
     "start_time": "2021-02-18T08:34:57.085188Z"
    },
    "deletable": false,
    "editable": false,
    "nbgrader": {
     "cell_type": "code",
     "checksum": "fcbcc867713612b90395d653db8fd5e3",
     "grade": true,
     "grade_id": "cell-d908c80a3155354b",
     "locked": true,
     "points": 3,
     "schema_version": 3,
     "solution": false,
     "task": false
    }
   },
   "outputs": [],
   "source": [
    "#### Please do not change this. This cell is used for grading."
   ]
  },
  {
   "cell_type": "markdown",
   "metadata": {
    "deletable": false,
    "editable": false,
    "nbgrader": {
     "cell_type": "markdown",
     "checksum": "cdffc83f0eaea937cf64a212e7e9af8d",
     "grade": false,
     "grade_id": "cell-f5d923459ba21733",
     "locked": true,
     "schema_version": 3,
     "solution": false,
     "task": false
    }
   },
   "source": [
    "--- \n",
    "\n",
    "### Section 3.3: Query Likelihood Model (35 points) <a class=\"anchor\" id=\"qlm\"></a>\n",
    "\n",
    "In this section, you will implement a simple query likelihood model. \n",
    "\n",
    "\n",
    "#### 3.3.1 Naive QL (15 points)\n",
    "\n",
    "First, let us implement a naive version of a QL model, assuming a multinomial unigram language model (with a uniform prior over the documents). \n",
    "\n"
   ]
  },
  {
   "cell_type": "code",
   "execution_count": 36,
   "metadata": {
    "ExecuteTime": {
     "end_time": "2021-02-18T08:34:57.114109Z",
     "start_time": "2021-02-18T08:34:57.101142Z"
    },
    "deletable": false,
    "editable": false,
    "nbgrader": {
     "cell_type": "code",
     "checksum": "b7ae2b7d818b428b4638c1c9206d2aca",
     "grade": false,
     "grade_id": "cell-98505778f7b68e7f",
     "locked": true,
     "schema_version": 3,
     "solution": false,
     "task": false
    }
   },
   "outputs": [],
   "source": [
    "#### Document length for normalization\n",
    "\n",
    "def doc_lengths(documents):\n",
    "    doc_lengths = {doc_id:len(doc) for (doc_id, doc) in documents}\n",
    "    return doc_lengths\n",
    "\n",
    "doc_lengths_1 = doc_lengths(doc_repr_1)\n",
    "doc_lengths_2 = doc_lengths(doc_repr_2)\n",
    "\n",
    "def get_doc_lengths(index_set):\n",
    "    assert index_set in {1, 2}\n",
    "    return {\n",
    "        1: doc_lengths_1,\n",
    "        2: doc_lengths_2\n",
    "    }[index_set]\n",
    "####"
   ]
  },
  {
   "cell_type": "code",
   "execution_count": 37,
   "metadata": {
    "ExecuteTime": {
     "end_time": "2021-02-18T08:34:57.130067Z",
     "start_time": "2021-02-18T08:34:57.117099Z"
    },
    "deletable": false,
    "nbgrader": {
     "cell_type": "code",
     "checksum": "cedd08303a914243fefdb6b876977ca1",
     "grade": false,
     "grade_id": "cell-8bcf2b804d636c2e",
     "locked": false,
     "schema_version": 3,
     "solution": true,
     "task": false
    }
   },
   "outputs": [],
   "source": [
    "# TODO: Implement this! (15 points)\n",
    "def naive_ql_search(query, index_set):\n",
    "    \"\"\"\n",
    "        Perform a search over all documents with the given query using a naive QL model. \n",
    "        Note #1: You have to use the `get_index` (and get_doc_lengths) function created in the previous cells\n",
    "        Input: \n",
    "            query - a (unprocessed) query\n",
    "            index_set - the index to use\n",
    "        Output: a list of (document_id, score), sorted in descending relevance to the given query \n",
    "    \"\"\"\n",
    "    index = get_index(index_set)\n",
    "    doc_lengths = get_doc_lengths(index_set)\n",
    "    processed_query = preprocess_query(query, index_set)\n",
    "    \n",
    "    # YOUR CODE HERE\n",
    "    \n",
    "    query_score = []\n",
    "    \n",
    "    for query_word in processed_query:\n",
    "        for key, value in index.items():\n",
    "            if query_word == key:\n",
    "                nql_value = [(doc_id, token_count / doc_lengths[doc_id]) for doc_id, token_count in value]\n",
    "                query_score.extend(nql_value)\n",
    "                \n",
    "                doc_contains = [doc_id for doc_id, token_count in value]\n",
    "                for i in range(len(docs)):\n",
    "                    i += 1\n",
    "                    if i not in doc_contains:\n",
    "                        query_score.append((i, 0))\n",
    "    \n",
    "    dict_query = dict()\n",
    "    for (key, value) in query_score:\n",
    "        if key in dict_query:\n",
    "            dict_query[key] *= value\n",
    "        else:\n",
    "            dict_query[key] = value\n",
    "\n",
    "    query_score = [(k, float(v)) for k, v in dict_query.items()]\n",
    "    query_score.sort(key=lambda x:x[1], reverse=True)\n",
    "    \n",
    "    return query_score\n",
    "    \n",
    "    raise NotImplementedError()"
   ]
  },
  {
   "cell_type": "code",
   "execution_count": 38,
   "metadata": {
    "ExecuteTime": {
     "end_time": "2021-02-18T08:34:57.161981Z",
     "start_time": "2021-02-18T08:34:57.135051Z"
    },
    "deletable": false,
    "editable": false,
    "nbgrader": {
     "cell_type": "code",
     "checksum": "b550d15bdad28354c336020a00c33d56",
     "grade": true,
     "grade_id": "cell-5a83ac12ecde8578",
     "locked": true,
     "points": 3,
     "schema_version": 3,
     "solution": false,
     "task": false
    }
   },
   "outputs": [
    {
     "name": "stdout",
     "output_type": "stream",
     "text": [
      "Naive QL Results:\n",
      "Rank 0(0.2): A Report Writer For COBOL...\n",
      "Rank 1(0.2): A CRT Report Generating System...\n",
      "Rank 2(0.17): Preliminary Report-International Algebraic Languag...\n",
      "Rank 3(0.17): Supplement to the ALGOL 60 Report...\n",
      "Rank 4(0.14): ALGOL Sub-Committee Report - Extensions...\n"
     ]
    }
   ],
   "source": [
    "#### Function check\n",
    "test_naiveql = naive_ql_search(\"report\", index_set=1)[:5]\n",
    "print(f\"Naive QL Results:\")\n",
    "print_results(test_naiveql)\n",
    "####"
   ]
  },
  {
   "cell_type": "code",
   "execution_count": 39,
   "metadata": {
    "ExecuteTime": {
     "end_time": "2021-02-18T08:34:57.177938Z",
     "start_time": "2021-02-18T08:34:57.163974Z"
    },
    "deletable": false,
    "editable": false,
    "nbgrader": {
     "cell_type": "code",
     "checksum": "799df1d81c63fe90edbb6c218fc707fb",
     "grade": true,
     "grade_id": "cell-80f4bf2137f997bb",
     "locked": true,
     "points": 2,
     "schema_version": 3,
     "solution": false,
     "task": false
    }
   },
   "outputs": [],
   "source": [
    "#### Please do not change this. This cell is used for grading."
   ]
  },
  {
   "cell_type": "code",
   "execution_count": 40,
   "metadata": {
    "ExecuteTime": {
     "end_time": "2021-02-18T08:34:57.193895Z",
     "start_time": "2021-02-18T08:34:57.180929Z"
    },
    "deletable": false,
    "editable": false,
    "nbgrader": {
     "cell_type": "code",
     "checksum": "875a4a517d27e20625d41783cebec118",
     "grade": true,
     "grade_id": "cell-5ce2993458a8ce51",
     "locked": true,
     "points": 3,
     "schema_version": 3,
     "solution": false,
     "task": false
    }
   },
   "outputs": [],
   "source": [
    "#### Please do not change this. This cell is used for grading."
   ]
  },
  {
   "cell_type": "code",
   "execution_count": 41,
   "metadata": {
    "ExecuteTime": {
     "end_time": "2021-02-18T08:34:57.208855Z",
     "start_time": "2021-02-18T08:34:57.195889Z"
    },
    "deletable": false,
    "editable": false,
    "nbgrader": {
     "cell_type": "code",
     "checksum": "d5c4e1c3852e71a46f32825b122f1b71",
     "grade": true,
     "grade_id": "cell-7753bdb54e292f3d",
     "locked": true,
     "points": 3,
     "schema_version": 3,
     "solution": false,
     "task": false
    }
   },
   "outputs": [],
   "source": [
    "#### Please do not change this. This cell is used for grading."
   ]
  },
  {
   "cell_type": "code",
   "execution_count": 42,
   "metadata": {
    "ExecuteTime": {
     "end_time": "2021-02-18T08:34:57.224812Z",
     "start_time": "2021-02-18T08:34:57.210851Z"
    },
    "deletable": false,
    "editable": false,
    "nbgrader": {
     "cell_type": "code",
     "checksum": "c4d4332d4356e89ce0240f6b80e1899a",
     "grade": true,
     "grade_id": "cell-54e476e2f96e64bb",
     "locked": true,
     "points": 4,
     "schema_version": 3,
     "solution": false,
     "task": false
    }
   },
   "outputs": [],
   "source": [
    "#### Please do not change this. This cell is used for grading."
   ]
  },
  {
   "cell_type": "markdown",
   "metadata": {
    "deletable": false,
    "editable": false,
    "nbgrader": {
     "cell_type": "markdown",
     "checksum": "8d739dc91a22bd48897f603885f95a74",
     "grade": false,
     "grade_id": "cell-5414dfd69dab8b94",
     "locked": true,
     "schema_version": 3,
     "solution": false,
     "task": false
    }
   },
   "source": [
    "---\n",
    "#### 3.3.2 QL (20 points)\n",
    "Now, let's implement a QL model that handles the issues with the naive version. In particular, you will implement a QL model with Jelinek-Mercer Smoothing. That means an interpolated score is computed per word - one term is the same as the previous naive version, and the second term comes from a unigram language model. In addition, you should accumulate the scores by summing the **log** (smoothed) probability which leads to better numerical stability."
   ]
  },
  {
   "cell_type": "code",
   "execution_count": 43,
   "metadata": {
    "ExecuteTime": {
     "end_time": "2021-02-18T08:34:57.239776Z",
     "start_time": "2021-02-18T08:34:57.226806Z"
    },
    "deletable": false,
    "nbgrader": {
     "cell_type": "code",
     "checksum": "b8c6abf937ad333e628f1db891f2e29e",
     "grade": false,
     "grade_id": "cell-bb1f506409771257",
     "locked": false,
     "schema_version": 3,
     "solution": true,
     "task": false
    }
   },
   "outputs": [],
   "source": [
    "# TODO: Implement this! (20 points)\n",
    "\n",
    "# YOUR CODE HERE\n",
    "\n",
    "#raise NotImplementedError()\n",
    "\n",
    "def ql_search(query, index_set):\n",
    "    \"\"\"\n",
    "        Perform a search over all documents with the given query using a QL model \n",
    "        with Jelinek-Mercer Smoothing (set smoothing=0.1). \n",
    "        \n",
    "        \n",
    "        Note #1: You have to use the `get_index` (and get_doc_lengths) function created in the previous cells\n",
    "        Note #2: You might have to create some variables beforehand and use them in this function\n",
    "        \n",
    "        \n",
    "        Input: \n",
    "            query - a (unprocessed) query\n",
    "            index_set - the index to use\n",
    "        Output: a list of (document_id, score), sorted in descending relevance to the given query \n",
    "    \"\"\"\n",
    "    index = get_index(index_set)\n",
    "    doc_lengths = get_doc_lengths(index_set)\n",
    "    processed_query = preprocess_query(query, index_set)\n",
    "    \n",
    "    # YOUR CODE HERE\n",
    "    \n",
    "    sm = 0.1\n",
    "    rsm = 1 - 0.1\n",
    "    \n",
    "    coll_freq = {k: sum(count for doc_id, count in value) for k, value in index.items()}\n",
    "    coll_length = sum(doc_lengths.values()) \n",
    "    \n",
    "    query_score = []\n",
    "    \n",
    "    for query_word in processed_query:\n",
    "        for key, value in index.items():\n",
    "            if query_word == key:\n",
    "                ql_value = [(doc_id,\n",
    "                             np.log(rsm*(tkn_ct/doc_lengths[doc_id]) + sm*(coll_freq[key]/coll_length))) for doc_id, tkn_ct in value]\n",
    "                query_score.extend(ql_value)\n",
    "                \n",
    "                doc_contains = [doc_id for doc_id, token_count in value]\n",
    "                for i in range(len(docs)):\n",
    "                    i += 1\n",
    "                    if i not in doc_contains:\n",
    "                        query_score.append((i, np.log(0 + sm*(coll_freq[key]/coll_length))))\n",
    "    \n",
    "    dict_query = dict()\n",
    "    for (key, value) in query_score:\n",
    "        if key in dict_query:\n",
    "            dict_query[key] += value\n",
    "        else:\n",
    "            dict_query[key] = value\n",
    "\n",
    "    query_score = [(k, float(v)) for k, v in dict_query.items()]\n",
    "    query_score.sort(key=lambda x:x[1], reverse=True)\n",
    "    \n",
    "    return query_score\n",
    "    \n",
    "    raise NotImplementedError()\n",
    "    "
   ]
  },
  {
   "cell_type": "code",
   "execution_count": 44,
   "metadata": {
    "ExecuteTime": {
     "end_time": "2021-02-18T08:34:57.479130Z",
     "start_time": "2021-02-18T08:34:57.241768Z"
    },
    "deletable": false,
    "editable": false,
    "nbgrader": {
     "cell_type": "code",
     "checksum": "0b12a7f3355193a257fd9f5f69a66562",
     "grade": true,
     "grade_id": "cell-850e9d6369bcec32",
     "locked": true,
     "points": 4,
     "schema_version": 3,
     "solution": false,
     "task": false
    }
   },
   "outputs": [
    {
     "name": "stdout",
     "output_type": "stream",
     "text": [
      "Rank 0(-1.7): A Report Writer For COBOL...\n",
      "Rank 1(-1.7): A CRT Report Generating System...\n",
      "Rank 2(-1.9): Preliminary Report-International Algebraic Languag...\n",
      "Rank 3(-1.9): Supplement to the ALGOL 60 Report...\n",
      "Rank 4(-2.1): ALGOL Sub-Committee Report - Extensions...\n",
      "\n",
      "Rank 0(-1.7e+01): A Report Writer For COBOL...\n",
      "Rank 1(-1.7e+01): A CRT Report Generating System...\n",
      "Rank 2(-1.9e+01): Preliminary Report-International Algebraic Languag...\n",
      "Rank 3(-1.9e+01): Supplement to the ALGOL 60 Report...\n",
      "Rank 4(-2.1e+01): ALGOL Sub-Committee Report - Extensions...\n"
     ]
    }
   ],
   "source": [
    "#### Function check\n",
    "test_ql_results = ql_search(\"report\", index_set=1)[:5]\n",
    "print_results(test_ql_results)\n",
    "print()\n",
    "test_ql_results_long = ql_search(\"report \" * 10, index_set=1)[:5]\n",
    "print_results(test_ql_results_long)\n",
    "####"
   ]
  },
  {
   "cell_type": "code",
   "execution_count": 45,
   "metadata": {
    "ExecuteTime": {
     "end_time": "2021-02-18T08:34:57.495087Z",
     "start_time": "2021-02-18T08:34:57.481126Z"
    },
    "deletable": false,
    "editable": false,
    "nbgrader": {
     "cell_type": "code",
     "checksum": "e40be645140389c115849856145f5b59",
     "grade": true,
     "grade_id": "cell-958cdcf6fd6899b7",
     "locked": true,
     "points": 3,
     "schema_version": 3,
     "solution": false,
     "task": false
    }
   },
   "outputs": [],
   "source": [
    "#### Please do not change this. This cell is used for grading."
   ]
  },
  {
   "cell_type": "code",
   "execution_count": 46,
   "metadata": {
    "ExecuteTime": {
     "end_time": "2021-02-18T08:34:57.511045Z",
     "start_time": "2021-02-18T08:34:57.497082Z"
    },
    "deletable": false,
    "editable": false,
    "nbgrader": {
     "cell_type": "code",
     "checksum": "41d4aff001df17e7963ba79b45810b30",
     "grade": true,
     "grade_id": "cell-384dc23a0c251f6e",
     "locked": true,
     "points": 4,
     "schema_version": 3,
     "solution": false,
     "task": false
    }
   },
   "outputs": [],
   "source": [
    "#### Please do not change this. This cell is used for grading."
   ]
  },
  {
   "cell_type": "code",
   "execution_count": 47,
   "metadata": {
    "ExecuteTime": {
     "end_time": "2021-02-18T08:34:57.527004Z",
     "start_time": "2021-02-18T08:34:57.513040Z"
    },
    "deletable": false,
    "editable": false,
    "nbgrader": {
     "cell_type": "code",
     "checksum": "893e8c5a073abc8ebb763d267b91bc02",
     "grade": true,
     "grade_id": "cell-7218966cba5097cc",
     "locked": true,
     "points": 4,
     "schema_version": 3,
     "solution": false,
     "task": false
    }
   },
   "outputs": [],
   "source": [
    "#### Please do not change this. This cell is used for grading."
   ]
  },
  {
   "cell_type": "code",
   "execution_count": 48,
   "metadata": {
    "ExecuteTime": {
     "end_time": "2021-02-18T08:34:57.542960Z",
     "start_time": "2021-02-18T08:34:57.528997Z"
    },
    "deletable": false,
    "editable": false,
    "nbgrader": {
     "cell_type": "code",
     "checksum": "f99cb6f8b1f5830aaed8f06712ff846e",
     "grade": true,
     "grade_id": "cell-481ab073259ae53f",
     "locked": true,
     "points": 5,
     "schema_version": 3,
     "solution": false,
     "task": false
    }
   },
   "outputs": [],
   "source": [
    "#### Please do not change this. This cell is used for grading."
   ]
  },
  {
   "cell_type": "markdown",
   "metadata": {
    "deletable": false,
    "editable": false,
    "nbgrader": {
     "cell_type": "markdown",
     "checksum": "c02f14705d679579b1aa9f78f54779d5",
     "grade": false,
     "grade_id": "cell-f44088bfdac1dc90",
     "locked": true,
     "schema_version": 3,
     "solution": false,
     "task": false
    }
   },
   "source": [
    "--- \n",
    "\n",
    "### Section 3.4: BM25 (20 points) <a class=\"anchor\" id=\"bm25\"></a>\n",
    "\n",
    "In this section, we will implement the BM25 scoring function. \n"
   ]
  },
  {
   "cell_type": "code",
   "execution_count": 49,
   "metadata": {
    "ExecuteTime": {
     "end_time": "2021-02-18T08:34:57.558918Z",
     "start_time": "2021-02-18T08:34:57.544957Z"
    },
    "deletable": false,
    "nbgrader": {
     "cell_type": "code",
     "checksum": "e57efe06ea92af1c83784a42eb3d86e0",
     "grade": false,
     "grade_id": "cell-15640fc9b5d00a3c",
     "locked": false,
     "schema_version": 3,
     "solution": true,
     "task": false
    }
   },
   "outputs": [],
   "source": [
    "# TODO: Implement this! (20 points)\n",
    "def bm25_search(query, index_set):\n",
    "    \"\"\"\n",
    "        Perform a search over all documents with the given query using BM25. Use k_1 = 1.5 and b = 0.75\n",
    "        Note #1: You have to use the `get_index` (and `get_doc_lengths`) function created in the previous cells\n",
    "        Note #2: You might have to create some variables beforehand and use them in this function\n",
    "        \n",
    "        Input: \n",
    "            query - a (unprocessed) query\n",
    "            index_set - the index to use\n",
    "        Output: a list of (document_id, score), sorted in descending relevance to the given query \n",
    "    \"\"\"\n",
    "    \n",
    "    index = get_index(index_set)\n",
    "    df = get_df(index_set)\n",
    "    doc_lengths = get_doc_lengths(index_set)\n",
    "    processed_query = preprocess_query(query, index_set)\n",
    "    \n",
    "    # YOUR CODE HERE\n",
    "    \n",
    "    k1 = 1.5\n",
    "    b = 0.75\n",
    "    k2 = k1 + 1\n",
    "    b2 = 1 - b\n",
    "    \n",
    "    total_docs = len(docs)\n",
    "    avg_dl = np.mean(list(doc_lengths.values()))\n",
    "    idf = {key: np.log(total_docs / value) for (key, value) in df.items()}\n",
    "\n",
    "    query_score = []\n",
    "    \n",
    "    for query_word in processed_query:\n",
    "        for key, value in index.items():\n",
    "            if query_word == key:\n",
    "                bm_value = [(doc_id, idf[key] * ((k2*tkn_ct)/(k1*(b2+(b*doc_lengths[doc_id]/avg_dl))+tkn_ct))) for doc_id, tkn_ct in value]\n",
    "                query_score.extend(bm_value)\n",
    "    \n",
    "    dict_query = dict()\n",
    "    for (key, value) in query_score:\n",
    "        if key in dict_query:\n",
    "            dict_query[key] += value\n",
    "        else:\n",
    "            dict_query[key] = value\n",
    "            \n",
    "    query_score = [(k, float(v)) for k, v in dict_query.items()]\n",
    "    query_score.sort(key=lambda x:x[1], reverse=True)\n",
    "    \n",
    "    return query_score\n",
    "    \n",
    "    raise NotImplementedError()"
   ]
  },
  {
   "cell_type": "code",
   "execution_count": 50,
   "metadata": {
    "ExecuteTime": {
     "end_time": "2021-02-18T08:34:57.589836Z",
     "start_time": "2021-02-18T08:34:57.560913Z"
    },
    "deletable": false,
    "editable": false,
    "nbgrader": {
     "cell_type": "code",
     "checksum": "4be9de5d4e94637960d83725422bea6c",
     "grade": true,
     "grade_id": "cell-d10536bca72c74b1",
     "locked": true,
     "points": 3,
     "schema_version": 3,
     "solution": false,
     "task": false
    }
   },
   "outputs": [
    {
     "name": "stdout",
     "output_type": "stream",
     "text": [
      "Rank 0(6.7): A Report Writer For COBOL...\n",
      "Rank 1(6.7): A CRT Report Generating System...\n",
      "Rank 2(6.6): Preliminary Report-International Algebraic Languag...\n",
      "Rank 3(6.6): Supplement to the ALGOL 60 Report...\n",
      "Rank 4(6.5): ALGOL Sub-Committee Report - Extensions...\n"
     ]
    }
   ],
   "source": [
    "#### Function check\n",
    "test_bm25_results = bm25_search(\"report\", index_set=1)[:5]\n",
    "print_results(test_bm25_results)\n",
    "####"
   ]
  },
  {
   "cell_type": "code",
   "execution_count": 51,
   "metadata": {
    "ExecuteTime": {
     "end_time": "2021-02-18T08:34:57.604796Z",
     "start_time": "2021-02-18T08:34:57.590834Z"
    },
    "deletable": false,
    "editable": false,
    "nbgrader": {
     "cell_type": "code",
     "checksum": "31b550d6a46ae4f8ede88788799ac2b9",
     "grade": true,
     "grade_id": "cell-60f6ec5052712d79",
     "locked": true,
     "points": 5,
     "schema_version": 3,
     "solution": false,
     "task": false
    }
   },
   "outputs": [],
   "source": [
    "#### Please do not change this. This cell is used for grading."
   ]
  },
  {
   "cell_type": "code",
   "execution_count": 52,
   "metadata": {
    "ExecuteTime": {
     "end_time": "2021-02-18T08:34:57.620753Z",
     "start_time": "2021-02-18T08:34:57.606791Z"
    },
    "deletable": false,
    "editable": false,
    "nbgrader": {
     "cell_type": "code",
     "checksum": "3da2ec16bfe781916e71755d65aa2983",
     "grade": true,
     "grade_id": "cell-5d17524043a5abcc",
     "locked": true,
     "points": 5,
     "schema_version": 3,
     "solution": false,
     "task": false
    }
   },
   "outputs": [],
   "source": [
    "#### Please do not change this. This cell is used for grading."
   ]
  },
  {
   "cell_type": "code",
   "execution_count": 53,
   "metadata": {
    "ExecuteTime": {
     "end_time": "2021-02-18T08:34:57.636710Z",
     "start_time": "2021-02-18T08:34:57.622747Z"
    },
    "deletable": false,
    "editable": false,
    "nbgrader": {
     "cell_type": "code",
     "checksum": "e7b563d54fa84c20909c0ae107010541",
     "grade": true,
     "grade_id": "cell-ff8e704eda1184e3",
     "locked": true,
     "points": 3,
     "schema_version": 3,
     "solution": false,
     "task": false
    }
   },
   "outputs": [],
   "source": [
    "#### Please do not change this. This cell is used for grading."
   ]
  },
  {
   "cell_type": "code",
   "execution_count": 54,
   "metadata": {
    "ExecuteTime": {
     "end_time": "2021-02-18T08:34:57.652700Z",
     "start_time": "2021-02-18T08:34:57.638706Z"
    },
    "deletable": false,
    "editable": false,
    "nbgrader": {
     "cell_type": "code",
     "checksum": "b013f90974b396630a8831d6f1d7e5f7",
     "grade": true,
     "grade_id": "cell-a52310500a2543cb",
     "locked": true,
     "points": 4,
     "schema_version": 3,
     "solution": false,
     "task": false
    }
   },
   "outputs": [],
   "source": [
    "#### Please do not change this. This cell is used for grading."
   ]
  },
  {
   "cell_type": "markdown",
   "metadata": {
    "deletable": false,
    "editable": false,
    "nbgrader": {
     "cell_type": "markdown",
     "checksum": "8fcf67cb7d5e8b26cb9bf1f0aa42c847",
     "grade": false,
     "grade_id": "cell-8b2b412c81d62f2d",
     "locked": true,
     "schema_version": 3,
     "solution": false,
     "task": false
    }
   },
   "source": [
    "\n",
    "---\n",
    "\n",
    "### 3.5. Test Your Functions\n",
    "\n",
    "The widget below allows you to play with the search functions you've written so far. Use this to test your search functions and ensure that they work as expected."
   ]
  },
  {
   "cell_type": "code",
   "execution_count": 55,
   "metadata": {
    "ExecuteTime": {
     "end_time": "2021-02-18T08:34:57.668652Z",
     "start_time": "2021-02-18T08:34:57.654662Z"
    },
    "deletable": false,
    "editable": false,
    "nbgrader": {
     "cell_type": "code",
     "checksum": "dfeb204b390acc0794dbdcac92b0cf2c",
     "grade": false,
     "grade_id": "cell-c9c2bb76354e8d97",
     "locked": true,
     "schema_version": 3,
     "solution": false,
     "task": false
    }
   },
   "outputs": [],
   "source": [
    "#### Highlighter function\n",
    "# class for results\n",
    "ResultRow = namedtuple(\"ResultRow\", [\"doc_id\", \"snippet\", \"score\"])\n",
    "# doc_id -> doc\n",
    "docs_by_id = dict((d[0], d[1]) for d in docs)\n",
    "\n",
    "def highlight_text(document, query, tol=17):\n",
    "    import re\n",
    "    tokens = tokenize(query)\n",
    "    regex = \"|\".join(f\"(\\\\b{t}\\\\b)\" for t in tokens)\n",
    "    regex = re.compile(regex, flags=re.IGNORECASE)\n",
    "    output = \"\"\n",
    "    i = 0\n",
    "    for m in regex.finditer(document):\n",
    "        start_idx = max(0, m.start() - tol)\n",
    "        end_idx = min(len(document), m.end() + tol)\n",
    "        output += \"\".join([\"...\",\n",
    "                        document[start_idx:m.start()],\n",
    "                        \"<strong>\",\n",
    "                        document[m.start():m.end()],\n",
    "                        \"</strong>\",\n",
    "                        document[m.end():end_idx],\n",
    "                        \"...\"])\n",
    "    return output.replace(\"\\n\", \" \")\n",
    "\n",
    "\n",
    "def make_results(query, search_fn, index_set):\n",
    "    results = []\n",
    "    for doc_id, score in search_fn(query, index_set):\n",
    "        highlight = highlight_text(docs_by_id[doc_id], query)\n",
    "        if len(highlight.strip()) == 0:\n",
    "            highlight = docs_by_id[doc_id]\n",
    "        results.append(ResultRow(doc_id, highlight, score))\n",
    "    return results\n",
    "####"
   ]
  },
  {
   "cell_type": "code",
   "execution_count": 56,
   "metadata": {
    "ExecuteTime": {
     "end_time": "2021-02-18T08:34:57.700572Z",
     "start_time": "2021-02-18T08:34:57.669624Z"
    }
   },
   "outputs": [
    {
     "data": {
      "application/vnd.jupyter.widget-view+json": {
       "model_id": "d7ee5caf2f7b4495ad742e27316b8d66",
       "version_major": 2,
       "version_minor": 0
      },
      "text/plain": [
       "Text(value='', description='Search Bar')"
      ]
     },
     "metadata": {},
     "output_type": "display_data"
    }
   ],
   "source": [
    "# TODO: Set this to the function you want to test!\n",
    "# this function should take in a query (string)\n",
    "# and return a sorted list of (doc_id, score) \n",
    "# with the most relevant document in the first position\n",
    "search_fn = bm25_search\n",
    "index_set = 1\n",
    "\n",
    "text = widgets.Text(description=\"Search Bar\", width=200)\n",
    "display(text)\n",
    "\n",
    "def handle_submit(sender):\n",
    "    print(f\"Searching for: '{sender.value}'\")\n",
    "    \n",
    "    results = make_results(sender.value, search_fn, index_set)\n",
    "    \n",
    "    # display only the top 5\n",
    "    results = results[:5]\n",
    "    \n",
    "    body = \"\"\n",
    "    for idx, r in enumerate(results):\n",
    "        body += f\"<li>Document #{r.doc_id}({r.score}): {r.snippet}</li>\"\n",
    "    display(HTML(f\"<ul>{body}</ul>\"))\n",
    "    \n",
    "\n",
    "text.on_submit(handle_submit)"
   ]
  },
  {
   "cell_type": "markdown",
   "metadata": {
    "deletable": false,
    "editable": false,
    "nbgrader": {
     "cell_type": "markdown",
     "checksum": "b315c280048a50e8bad7d6250f6f39d1",
     "grade": false,
     "grade_id": "cell-8d46fe8e4f3d8cdb",
     "locked": true,
     "schema_version": 3,
     "solution": false,
     "task": false
    }
   },
   "source": [
    "---\n",
    "\n",
    "## Section 4: Evaluation (40 points) <a class=\"anchor\" id=\"evaluation\"></a>\n",
    "\n",
    "[Back to Part 1](#part1)\n",
    "\n",
    "Before we jump in and implement an algorithm for retrieval, we first have to learn how to evaluate such a system. In particular, we will work with offline evaluation metrics. These metrics are computed on a dataset with known relevance judgements.\n",
    "\n",
    "Implement the following evaluation metrics. \n",
    "\n",
    "1. Precision (7 points)\n",
    "2. Recall (7 points)\n",
    "3. Mean Average Precision (12 points)\n",
    "4. Expected Reciprocal Rank (12 points)"
   ]
  },
  {
   "cell_type": "markdown",
   "metadata": {
    "deletable": false,
    "editable": false,
    "nbgrader": {
     "cell_type": "markdown",
     "checksum": "82e90076c51893e31fec5c40c49d1828",
     "grade": false,
     "grade_id": "cell-3419fd3bc663d7cc",
     "locked": true,
     "schema_version": 3,
     "solution": false,
     "task": false
    }
   },
   "source": [
    "---\n",
    "### 4.1 Read relevance labels (2 points)\n",
    "\n",
    "Let's take a look at the `qrels.text` file, which contains the ground truth relevance scores. The relevance labels for CACM are binary - either 0 or 1. \n"
   ]
  },
  {
   "cell_type": "code",
   "execution_count": 57,
   "metadata": {
    "ExecuteTime": {
     "end_time": "2021-02-18T08:34:57.764408Z",
     "start_time": "2021-02-18T08:34:57.702566Z"
    },
    "deletable": false,
    "editable": false,
    "nbgrader": {
     "cell_type": "code",
     "checksum": "6c11025f5a222796f2882c73c1634799",
     "grade": false,
     "grade_id": "cell-6b738366059dde9e",
     "locked": true,
     "schema_version": 3,
     "solution": false,
     "task": false
    }
   },
   "outputs": [
    {
     "name": "stdout",
     "output_type": "stream",
     "text": [
      "01 1410  0 0\n",
      "01 1572  0 0\n",
      "01 1605  0 0\n",
      "01 2020  0 0\n",
      "01 2358  0 0\n",
      "02 2434  0 0\n",
      "02 2863  0 0\n",
      "02 3078  0 0\n",
      "03 1134  0 0\n",
      "03 1613  0 0\n"
     ]
    }
   ],
   "source": [
    "!head ./datasets/qrels.text"
   ]
  },
  {
   "cell_type": "markdown",
   "metadata": {
    "deletable": false,
    "editable": false,
    "nbgrader": {
     "cell_type": "markdown",
     "checksum": "e77d7cc6aae69fdbadb5ac9f78f8a560",
     "grade": false,
     "grade_id": "cell-10e16bff2753ffbb",
     "locked": true,
     "schema_version": 3,
     "solution": false,
     "task": false
    }
   },
   "source": [
    "---\n",
    "**Implementation (2 points):**\n",
    "The first column is the query_id and the second column is the document_id. You can safely ignore the 3rd and 4th columns. Write a function to read in the file:"
   ]
  },
  {
   "cell_type": "code",
   "execution_count": 58,
   "metadata": {
    "ExecuteTime": {
     "end_time": "2021-02-18T08:34:57.780327Z",
     "start_time": "2021-02-18T08:34:57.767396Z"
    },
    "deletable": false,
    "nbgrader": {
     "cell_type": "code",
     "checksum": "ef347565a0990ddbd049835105753d59",
     "grade": false,
     "grade_id": "cell-ee5253a4ef602fce",
     "locked": false,
     "schema_version": 3,
     "solution": true,
     "task": false
    }
   },
   "outputs": [],
   "source": [
    "# TODO: Implement this! (2 points)\n",
    "def read_qrels(root_folder = \"./datasets/\"):\n",
    "    \"\"\"\n",
    "        Reads the qrels.text file. \n",
    "        Output: A dictionary: query_id -> [list of relevant documents]\n",
    "    \"\"\"\n",
    "    # YOUR CODE HERE\n",
    "    \n",
    "    file_location = os.path.join(root_folder, \"qrels.text\")\n",
    "\n",
    "    relevant_docs = {}\n",
    "    \n",
    "    with open(file_location, \"r\") as f:\n",
    "        lines = f.readlines()\n",
    "    \n",
    "    qrels = []\n",
    "    \n",
    "    for line in lines:\n",
    "        items_line = line.split(' ')\n",
    "        qrels.append((int(items_line[0].lstrip('0')), int(items_line[1].lstrip('0'))))\n",
    "        \n",
    "    for x, y in qrels:\n",
    "        relevant_docs.setdefault(x, []).append(y)\n",
    "    \n",
    "    return relevant_docs\n",
    "    \n",
    "    raise NotImplementedError()\n"
   ]
  },
  {
   "cell_type": "code",
   "execution_count": 59,
   "metadata": {
    "ExecuteTime": {
     "end_time": "2021-02-18T08:34:57.796283Z",
     "start_time": "2021-02-18T08:34:57.782322Z"
    },
    "deletable": false,
    "editable": false,
    "nbgrader": {
     "cell_type": "code",
     "checksum": "6a258a834392cc8cbf8af5d4ccdee81f",
     "grade": true,
     "grade_id": "cell-72215605fbe24f65",
     "locked": true,
     "points": 2,
     "schema_version": 3,
     "solution": false,
     "task": false
    }
   },
   "outputs": [],
   "source": [
    "#### Function check\n",
    "qrels = read_qrels()\n",
    "\n",
    "assert len(qrels) == 52, \"There should be 52 queries with relevance judgements\"\n",
    "assert sum(len(j) for j in qrels.values()) == 796, \"There should be a total of 796 Relevance Judgements\"\n",
    "####"
   ]
  },
  {
   "cell_type": "markdown",
   "metadata": {
    "deletable": false,
    "editable": false,
    "nbgrader": {
     "cell_type": "markdown",
     "checksum": "6c9e7428a52e291a2cdf92a379730d4c",
     "grade": false,
     "grade_id": "cell-176a6fb2939d0420",
     "locked": true,
     "schema_version": 3,
     "solution": false,
     "task": false
    }
   },
   "source": [
    "---\n",
    "**Note:** For a given query `query_id`, you can assume that documents *not* in `qrels[query_id]` are not relevant to `query_id`. \n"
   ]
  },
  {
   "cell_type": "markdown",
   "metadata": {
    "deletable": false,
    "editable": false,
    "nbgrader": {
     "cell_type": "markdown",
     "checksum": "b26a818c7b4f7ad490e00b35ea0edd69",
     "grade": false,
     "grade_id": "cell-bd8341b72cdd89bb",
     "locked": true,
     "schema_version": 3,
     "solution": false,
     "task": false
    }
   },
   "source": [
    "---\n",
    "### 4.2 Precision (7 points)\n",
    "Implement the `precision@k` metric:"
   ]
  },
  {
   "cell_type": "code",
   "execution_count": 60,
   "metadata": {
    "ExecuteTime": {
     "end_time": "2021-02-18T08:34:57.812268Z",
     "start_time": "2021-02-18T08:34:57.798279Z"
    },
    "deletable": false,
    "nbgrader": {
     "cell_type": "code",
     "checksum": "ad3cc3234a361d269ecb6b59cc447e9f",
     "grade": false,
     "grade_id": "cell-494bd0cce108ed67",
     "locked": false,
     "schema_version": 3,
     "solution": true,
     "task": false
    }
   },
   "outputs": [],
   "source": [
    "# TODO: Implement this! (7 points)\n",
    "def precision_k(results, relevant_docs, k):\n",
    "    \"\"\"\n",
    "        Compute Precision@K\n",
    "        Input: \n",
    "            results: A sorted list of 2-tuples (document_id, score), \n",
    "                    with the most relevant document in the first position\n",
    "            relevant_docs: A set of relevant documents. \n",
    "            k: the cut-off\n",
    "        Output: Precision@K\n",
    "    \"\"\"\n",
    "    # YOUR CODE HERE  \n",
    "    \n",
    "    return np.sum([1 for y in [x[0] for x in results[:k]] if y in relevant_docs])/k\n",
    "    \n",
    "    raise NotImplementedError()"
   ]
  },
  {
   "cell_type": "code",
   "execution_count": 61,
   "metadata": {
    "ExecuteTime": {
     "end_time": "2021-02-18T08:34:57.860111Z",
     "start_time": "2021-02-18T08:34:57.814264Z"
    },
    "deletable": false,
    "editable": false,
    "nbgrader": {
     "cell_type": "code",
     "checksum": "964b214dbfff8fc53cada864019ee863",
     "grade": true,
     "grade_id": "cell-e7ff0d91c319ca64",
     "locked": true,
     "points": 7,
     "schema_version": 3,
     "solution": false,
     "task": false
    }
   },
   "outputs": [
    {
     "name": "stdout",
     "output_type": "stream",
     "text": [
      "query: What articles exist which deal with TSS (Time Sharing System), an\n",
      "operating system for IBM computers?\n",
      "precision@10 = 0.2\n"
     ]
    }
   ],
   "source": [
    "#### Function check\n",
    "qid = queries[0][0]\n",
    "qtext = queries[0][1]\n",
    "print(f'query:{qtext}')\n",
    "results = bm25_search(qtext, 2)\n",
    "precision = precision_k(results, qrels[qid], 10)\n",
    "print(f'precision@10 = {precision}')\n",
    "####"
   ]
  },
  {
   "cell_type": "markdown",
   "metadata": {
    "deletable": false,
    "editable": false,
    "nbgrader": {
     "cell_type": "markdown",
     "checksum": "8fd3b3998197c7097a40348500affb68",
     "grade": false,
     "grade_id": "cell-afd95f865bc7191e",
     "locked": true,
     "schema_version": 3,
     "solution": false,
     "task": false
    }
   },
   "source": [
    "---\n",
    "### 4.3 Recall (7 points)\n",
    "Implement the `recall@k` metric:"
   ]
  },
  {
   "cell_type": "code",
   "execution_count": 62,
   "metadata": {
    "ExecuteTime": {
     "end_time": "2021-02-18T08:34:57.876103Z",
     "start_time": "2021-02-18T08:34:57.862106Z"
    },
    "deletable": false,
    "nbgrader": {
     "cell_type": "code",
     "checksum": "b2020e5741ae03b3fe35817ed8f4ccaa",
     "grade": false,
     "grade_id": "cell-c323fc8c3f8a7cf8",
     "locked": false,
     "schema_version": 3,
     "solution": true,
     "task": false
    }
   },
   "outputs": [],
   "source": [
    "# TODO: Implement this! (7 points)\n",
    "def recall_k(results, relevant_docs, k):\n",
    "    \"\"\"\n",
    "        Compute Recall@K\n",
    "        Input: \n",
    "            results: A sorted list of 2-tuples (document_id, score), with the most relevant document in the first position\n",
    "            relevant_docs: A set of relevant documents. \n",
    "            k: the cut-off\n",
    "        Output: Recall@K\n",
    "    \"\"\"\n",
    "    # YOUR CODE HERE\n",
    "    \n",
    "    to_return = np.sum([1 for y in [x[0] for x in  results[:k]] if y in relevant_docs])/len(relevant_docs)\n",
    "    \n",
    "    return to_return\n",
    "    \n",
    "    raise NotImplementedError()"
   ]
  },
  {
   "cell_type": "code",
   "execution_count": 63,
   "metadata": {
    "ExecuteTime": {
     "end_time": "2021-02-18T08:34:57.907984Z",
     "start_time": "2021-02-18T08:34:57.877067Z"
    },
    "deletable": false,
    "editable": false,
    "nbgrader": {
     "cell_type": "code",
     "checksum": "56b6e0b8522f8b2dffbfb3206b2efa84",
     "grade": true,
     "grade_id": "cell-b25172161aef165c",
     "locked": true,
     "points": 7,
     "schema_version": 3,
     "solution": false,
     "task": false
    }
   },
   "outputs": [
    {
     "name": "stdout",
     "output_type": "stream",
     "text": [
      "query: SETL, Very High Level Languages\n",
      "recall@10 = 0.3157894736842105\n"
     ]
    }
   ],
   "source": [
    "#### Function check\n",
    "qid = queries[10][0]\n",
    "qtext = queries[10][1]\n",
    "print(f'query:{qtext}')\n",
    "results = bm25_search(qtext, 2)\n",
    "recall = recall_k(results, qrels[qid], 10)\n",
    "print(f'recall@10 = {recall}')\n",
    "####"
   ]
  },
  {
   "cell_type": "markdown",
   "metadata": {
    "deletable": false,
    "editable": false,
    "nbgrader": {
     "cell_type": "markdown",
     "checksum": "d43c63fa38f333e0b52d41639b2655f7",
     "grade": false,
     "grade_id": "cell-77fd2e7a39a74739",
     "locked": true,
     "schema_version": 3,
     "solution": false,
     "task": false
    }
   },
   "source": [
    "---\n",
    "### 4.4 Mean Average Precision (12 points)\n",
    "Implement the `map` metric:"
   ]
  },
  {
   "cell_type": "code",
   "execution_count": 64,
   "metadata": {
    "ExecuteTime": {
     "end_time": "2021-02-18T08:34:57.923974Z",
     "start_time": "2021-02-18T08:34:57.910976Z"
    },
    "deletable": false,
    "nbgrader": {
     "cell_type": "code",
     "checksum": "aae2c62f2ffd76f5b6c004e9519b9f14",
     "grade": false,
     "grade_id": "cell-e50925fa9093a30d",
     "locked": false,
     "schema_version": 3,
     "solution": true,
     "task": false
    }
   },
   "outputs": [],
   "source": [
    "# TODO: Implement this! (12 points)\n",
    "def average_precision(results, relevant_docs):\n",
    "    \"\"\"\n",
    "        Compute Average Precision (for a single query - the results are \n",
    "        averaged across queries to get MAP in the next few cells)\n",
    "        Hint: You can use the recall_k and precision_k functions here!\n",
    "        Input: \n",
    "            results: A sorted list of 2-tuples (document_id, score), with the most \n",
    "                    relevant document in the first position\n",
    "            relevant_docs: A set of relevant documents. \n",
    "        Output: Average Precision\n",
    "    \"\"\"\n",
    "    # YOUR CODE HERE\n",
    "    \n",
    "    position_k={}\n",
    "    \n",
    "    for i in range(1,len(results)+1,1):\n",
    "        position_k[i]=precision_k(results, relevant_docs, i)\n",
    "        \n",
    "    index=[]\n",
    "    for i,j in enumerate(results):\n",
    "         if j[0] in relevant_docs:\n",
    "            index.append(i+1)\n",
    "            \n",
    "    if len(index)>0:\n",
    "        return sum([position_k[x] for x in index])/len(index)\n",
    "    else:\n",
    "        return 0\n",
    "    \n",
    "    raise NotImplementedError()\n"
   ]
  },
  {
   "cell_type": "code",
   "execution_count": 65,
   "metadata": {
    "ExecuteTime": {
     "end_time": "2021-02-18T08:34:59.270047Z",
     "start_time": "2021-02-18T08:34:57.925936Z"
    },
    "deletable": false,
    "editable": false,
    "nbgrader": {
     "cell_type": "code",
     "checksum": "5db8cb2dfd3a77554f4147b409f47f38",
     "grade": true,
     "grade_id": "cell-8a1f7ec98571e58b",
     "locked": true,
     "points": 12,
     "schema_version": 3,
     "solution": false,
     "task": false
    }
   },
   "outputs": [
    {
     "name": "stdout",
     "output_type": "stream",
     "text": [
      "query: computational complexity, intractability, class-complete reductions,\n",
      "algorithms and efficiency\n",
      "MAP = 0.17269233631989397\n"
     ]
    }
   ],
   "source": [
    "#### Function check\n",
    "qid = queries[20][0]\n",
    "qtext = queries[20][1]\n",
    "print(f'query:{qtext}')\n",
    "results = bm25_search(qtext, 2)\n",
    "mean_ap = average_precision(results, qrels[qid])\n",
    "print(f'MAP = {mean_ap}')\n",
    "####"
   ]
  },
  {
   "cell_type": "markdown",
   "metadata": {
    "deletable": false,
    "editable": false,
    "nbgrader": {
     "cell_type": "markdown",
     "checksum": "cb645b79d04cc3eed33ca060a5e7bf0f",
     "grade": false,
     "grade_id": "cell-1da18f0fe6f6d7be",
     "locked": true,
     "schema_version": 3,
     "solution": false,
     "task": false
    }
   },
   "source": [
    "---\n",
    "### 4.5 Expected Reciprocal Rank (12 points)\n",
    "Implement the `err` metric:"
   ]
  },
  {
   "cell_type": "code",
   "execution_count": 66,
   "metadata": {
    "ExecuteTime": {
     "end_time": "2021-02-18T08:34:59.285005Z",
     "start_time": "2021-02-18T08:34:59.273040Z"
    },
    "deletable": false,
    "nbgrader": {
     "cell_type": "code",
     "checksum": "9ac94db728e23ea1f5dc0d509473c6fb",
     "grade": false,
     "grade_id": "cell-64262889f9b267ea",
     "locked": false,
     "schema_version": 3,
     "solution": true,
     "task": false
    }
   },
   "outputs": [],
   "source": [
    "# TODO: Implement this! (12 points)\n",
    "def err(results, relevant_docs):\n",
    "    \"\"\"\n",
    "        Compute the expected reciprocal rank.\n",
    "        Hint: https://dl.acm.org/doi/pdf/10.1145/1645953.1646033?download=true\n",
    "        Input: \n",
    "            results: A sorted list of 2-tuples (document_id, score), with the most \n",
    "                    relevant document in the first position\n",
    "            relevant_docs: A set of relevant documents. \n",
    "        Output: ERR\n",
    "        \n",
    "    \"\"\"\n",
    "    # YOUR CODE HERE\n",
    "    \n",
    "    max_grade = 1.0\n",
    "    step_down = 1.0\n",
    "    error = 0.0\n",
    "\n",
    "    for i, (doc_id, score) in enumerate(results):\n",
    "        grade = 1. if doc_id in relevant_docs else 0.\n",
    "        t = (pow(2, grade) - 1) / pow(2, max_grade)\n",
    "        error += step_down * (t / (i + 1.))\n",
    "        step_down *= (1. - t)\n",
    "        \n",
    "    return error\n",
    "    \n",
    "    raise NotImplementedError()"
   ]
  },
  {
   "cell_type": "code",
   "execution_count": 67,
   "metadata": {
    "ExecuteTime": {
     "end_time": "2021-02-18T08:34:59.395709Z",
     "start_time": "2021-02-18T08:34:59.287028Z"
    },
    "deletable": false,
    "editable": false,
    "nbgrader": {
     "cell_type": "code",
     "checksum": "eb97e6d89a0b992b642e4e0ff36ff9f5",
     "grade": true,
     "grade_id": "cell-071e3970ff1afae4",
     "locked": true,
     "points": 12,
     "schema_version": 3,
     "solution": false,
     "task": false
    }
   },
   "outputs": [
    {
     "name": "stdout",
     "output_type": "stream",
     "text": [
      "query: I'd like to find articles describing the use of singular value decomposition\n",
      "in digital image processing.  Applications include finding approximations\n",
      "to the original image and restoring images that are subject to noise. An\n",
      "article on the subject is H.C. Andrews and C.L. Patterson \"Outer product\n",
      "expansions and their uses in digital image processing\", American Mathematical\n",
      "Monthly, vol. 82.\n",
      "ERR = 0.625\n"
     ]
    }
   ],
   "source": [
    "#### Function check\n",
    "qid = queries[30][0]\n",
    "qtext = queries[30][1]\n",
    "print(f'query:{qtext}')\n",
    "results = bm25_search(qtext, 2)\n",
    "ERR = err(results, qrels[qid])\n",
    "print(f'ERR = {ERR}')\n",
    "####"
   ]
  },
  {
   "cell_type": "markdown",
   "metadata": {
    "deletable": false,
    "editable": false,
    "nbgrader": {
     "cell_type": "markdown",
     "checksum": "5bd94caf77cfa5f34675df758d91002d",
     "grade": false,
     "grade_id": "cell-43709a765f353946",
     "locked": true,
     "schema_version": 3,
     "solution": false,
     "task": false
    }
   },
   "source": [
    "---\n",
    "### 4.6 Evaluate Search Functions\n",
    "\n",
    "Let's define some metrics@k using [partial functions](https://docs.python.org/3/library/functools.html#functools.partial)"
   ]
  },
  {
   "cell_type": "code",
   "execution_count": 68,
   "metadata": {
    "ExecuteTime": {
     "end_time": "2021-02-18T08:34:59.411669Z",
     "start_time": "2021-02-18T08:34:59.403695Z"
    },
    "deletable": false,
    "editable": false,
    "nbgrader": {
     "cell_type": "code",
     "checksum": "49ccc158e5fb7340ace55e90eeb9d62a",
     "grade": false,
     "grade_id": "cell-dab560e18e340da8",
     "locked": true,
     "schema_version": 3,
     "solution": false,
     "task": false
    }
   },
   "outputs": [],
   "source": [
    "#### metrics@k functions\n",
    "\n",
    "recall_at_1 = partial(recall_k, k=1)\n",
    "recall_at_5 = partial(recall_k, k=5)\n",
    "recall_at_10 = partial(recall_k, k=10)\n",
    "precision_at_1 = partial(precision_k, k=1)\n",
    "precision_at_5 = partial(precision_k, k=5)\n",
    "precision_at_10 = partial(precision_k, k=10)\n",
    "\n",
    "\n",
    "list_of_metrics = [\n",
    "    (\"ERR\", err),\n",
    "    (\"MAP\", average_precision),\n",
    "    (\"Recall@1\",recall_at_1),\n",
    "    (\"Recall@5\", recall_at_5),\n",
    "    (\"Recall@10\", recall_at_10),\n",
    "    (\"Precision@1\", precision_at_1),\n",
    "    (\"Precision@5\", precision_at_5),\n",
    "    (\"Precision@10\", precision_at_10)]\n",
    "####"
   ]
  },
  {
   "cell_type": "markdown",
   "metadata": {
    "deletable": false,
    "editable": false,
    "nbgrader": {
     "cell_type": "markdown",
     "checksum": "fb541002c03221b453b8936290020ea5",
     "grade": false,
     "grade_id": "cell-580a2bdc66d03b47",
     "locked": true,
     "schema_version": 3,
     "solution": false,
     "task": false
    }
   },
   "source": [
    "---\n",
    "\n",
    "The following function evaluates a `search_fn` using the `metric_fn`. Note that the final number is averaged over all the queries"
   ]
  },
  {
   "cell_type": "code",
   "execution_count": 69,
   "metadata": {
    "ExecuteTime": {
     "end_time": "2021-02-18T08:34:59.427626Z",
     "start_time": "2021-02-18T08:34:59.414687Z"
    }
   },
   "outputs": [],
   "source": [
    "#### Evaluate a search function\n",
    "\n",
    "list_of_search_fns = [\n",
    "    (\"BOW\", bow_search),\n",
    "    (\"TF-IDF\", tfidf_search),\n",
    "    (\"NaiveQL\", naive_ql_search),\n",
    "    (\"QL\", ql_search),\n",
    "    (\"BM25\", bm25_search)\n",
    "]\n",
    "\n",
    "def evaluate_search_fn(search_fn, metric_fns, index_set=None):\n",
    "    # build a dict query_id -> query \n",
    "    queries_by_id = dict((q[0], q[1]) for q in queries)\n",
    "    \n",
    "    metrics = {}\n",
    "    for metric, metric_fn in metric_fns:\n",
    "        metrics[metric] = np.zeros(len(qrels), dtype=np.float32)\n",
    "    \n",
    "    for i, (query_id, relevant_docs) in enumerate(qrels.items()):\n",
    "        query = queries_by_id[query_id]\n",
    "        if index_set:\n",
    "            results = search_fn(query, index_set)\n",
    "        else:\n",
    "            results = search_fn(query)\n",
    "        \n",
    "        for metric, metric_fn in metric_fns:\n",
    "            metrics[metric][i] = metric_fn(results, relevant_docs)\n",
    "\n",
    "    \n",
    "    \n",
    "    final_dict = {}\n",
    "    for metric, metric_vals in metrics.items():\n",
    "        final_dict[metric] = metric_vals.mean()\n",
    "    \n",
    "    return final_dict\n",
    "####"
   ]
  },
  {
   "cell_type": "markdown",
   "metadata": {
    "deletable": false,
    "editable": false,
    "nbgrader": {
     "cell_type": "markdown",
     "checksum": "6ea67534f74a8f81e1f504794f641709",
     "grade": false,
     "grade_id": "cell-b156d83a0649cbb4",
     "locked": true,
     "schema_version": 3,
     "solution": false,
     "task": false
    }
   },
   "source": [
    "## Section 5: Analysis (30 points) <a class=\"anchor\" id=\"analysis\"></a>\n",
    "\n",
    "[Back to Part 1](#part1)\n",
    "\n",
    "In the final section of Part1, we will compare the different term-based IR algorithms and different preprocessing configurations and analyze their advantages and disadvantages.\n",
    "\n",
    "### Section 5.1: Plot (20 points)\n",
    "\n",
    "First, gather the results. The results should consider the index set, the different search functions and different metrics. Plot the results in bar charts, per metric, with clear labels.\n",
    "\n",
    "**Rubric:**\n",
    "- Each Metric is plotted: 7 points\n",
    "- Each Method is plotted: 7 points\n",
    "- Clear titles, x label, y labels and legends (if applicable): 6 points"
   ]
  },
  {
   "cell_type": "code",
   "execution_count": 70,
   "metadata": {
    "ExecuteTime": {
     "end_time": "2021-02-18T08:45:19.970116Z",
     "start_time": "2021-02-18T08:34:59.429621Z"
    },
    "deletable": false,
    "nbgrader": {
     "cell_type": "code",
     "checksum": "7e2588a925d13ddf588abe8311dc9cfc",
     "grade": true,
     "grade_id": "cell-46fda42a25863a04",
     "locked": false,
     "points": 20,
     "schema_version": 3,
     "solution": true,
     "task": false
    }
   },
   "outputs": [
    {
     "data": {
      "image/png": "[encoded data removed]",
      "text/plain": [
       "<Figure size 1440x720 with 8 Axes>"
      ]
     },
     "metadata": {
      "needs_background": "light"
     },
     "output_type": "display_data"
    }
   ],
   "source": [
    "# YOUR CODE HERE\n",
    "\n",
    "results_search_fns = {}\n",
    "\n",
    "for search, search_fn in list_of_search_fns:\n",
    "    for i in range(2):\n",
    "        i += 1\n",
    "        results_search_fns[f'{search}_{i}'] = evaluate_search_fn(search_fn, list_of_metrics, i)\n",
    "\n",
    "#raise NotImplementedError()\n",
    "\n",
    "fig = plt.figure(figsize=(20,10))\n",
    "fig.suptitle('Comparison Between All Term-Based Methods', fontsize=16)\n",
    "colors_index = {'Index Set 1':'b', 'Index Set 2':'r'}\n",
    "\n",
    "for i, (selected_metric, funct) in enumerate(list_of_metrics):\n",
    "    results_fn = []\n",
    "    for (search_fn, results) in results_search_fns.items():\n",
    "        for metric, value in results.items():\n",
    "            if metric == selected_metric and search_fn.endswith('1'):\n",
    "                results_fn.append((search_fn, value, 'Index Set 1'))\n",
    "            elif metric == selected_metric and search_fn.endswith('2'):\n",
    "                results_fn.append((search_fn, value, 'Index Set 2'))\n",
    "    cols = np.array([colors_index[val[2]] for val in results_fn])\n",
    "    title = f'Bar Chart - {selected_metric}'\n",
    "    fig.add_subplot(2,4,i+1)\n",
    "    plt.bar(range(len(results_fn)), [val[1] for val in results_fn], color=cols)\n",
    "    plt.xticks(range(len(results_fn)), [val[0] for val in results_fn])\n",
    "    plt.xticks(rotation=60)\n",
    "    plt.xlabel('Search Function')\n",
    "    plt.ylabel('Average Value')\n",
    "    labels=list(colors_index.keys())\n",
    "    plt.legend(handles=[plt.Rectangle((0,0),1,1, color=colors_index[label]) for label in labels], labels=labels)\n",
    "    plt.title(title)\n",
    "\n",
    "plt.tight_layout(h_pad=4)\n",
    "plt.show()"
   ]
  },
  {
   "cell_type": "markdown",
   "metadata": {
    "deletable": false,
    "editable": false,
    "nbgrader": {
     "cell_type": "markdown",
     "checksum": "e88c444a0acf4e398c65e289169b75f7",
     "grade": false,
     "grade_id": "cell-8aabe3bcf265deb0",
     "locked": true,
     "points": 10,
     "schema_version": 3,
     "solution": false,
     "task": true
    }
   },
   "source": [
    "---\n",
    "### Section 5.2: Summary (10 points)\n",
    "Write a summary of what you observe in the results.\n",
    "Your summary should compare results across the 2 indices and the methods being used. State what you expected to see in the results, followed by either supporting evidence *or* justify why the results did not support your expectations.      "
   ]
  },
  {
   "cell_type": "markdown",
   "metadata": {},
   "source": [
    "As shown in the bar charts plotted above, the search function that performs the best across all the metrics for both index sets is BM25. The second best-performing search function overall is QL with Jelinek-Mercer Smoothing. \n",
    "On the other hand, the search function that performs the worst across all the metrics for both index sets is the Naive QL model. The TF-IDF and the Bag of Words models seem to perform similarly, with one performing slightly better than the other depending on what metric is used to evaluate the results.\n",
    "\n",
    "These results are consistent with what was expected, since BM25 is one of the most popular and effective ranking algorithms as stated by Croft et al. (2010), even if it consists of an empirical model. Furthermore, QL with Jelinek-Mercer Smoothing also performs well because the main issue with Naive QL models is addressed by introducing a smoothing term that prevents documents from getting a score of zero if any words in the query are missing from the document.\n",
    "BOW and TF-IDF, which are older retrieval models, are much simpler in terms of how weights are calculated. Additionally, the overlap score measure was used for these two methods instead of vector similarity, which is much simpler as well. These are some of the reasons that explain why BOW and TF-IDF perform worse than other methods; although it has to be noted that TF-IDF performs better than Naive QL due to introducing IDF, a metric that gives a higher score to terms that occur in less documents. As such, TF-IDF gives a higher score to the documents for which the matching terms have a high frequency within the document but that are only present in a small number of documents. Instead, the Bag of Words model considered performed significantly better than Naive QL and also similarly to TF-IDF since it uses a binary scoring approach (i.e. it gives a score of 1 if the document contains a word or else a score of 0 in the absence of the word) rather than applying term frequency directly, which was found to give much poorer results overall than using a binary scoring system. \n",
    "With regards to Naive QL, it was expected for this method to perform worse than other methods because if any of the query words are missing from the document, then the score given to the document by this method is zero; which is clearly not a desired approach for longer queries such as the ones considered in this assignment. \n",
    "\n",
    "For all the methods, index set 2 gives better evaluation results than index set 1. This is what was expected as well, since additional text pre-processing in the form of removing stopwords and stemming was performed on index set 2; whereas index set 1 was only tokenized and changed to lowercase letters. For basic search engine models such as the one built in this assignment, pre-processing seems to be generally beneficial. For instance, it is evident how transforming words into their root form (stemming) would be useful in search and retrieval systems in order to find documents by matching not only exact words but also words that are semantically similar to the words in the query. Furthermore, since the search functions used are term-based retrieval functions based on term statistics such as term frequency; removing stopwords that are extremely frequent but that do not have a lot of meaning nor are a good indicator of a document's relevance assists in retrieving documents that are more relevant to the query itself and thus improves retrieval effectiveness.\n",
    "\n",
    "With regards to the metrics, it is difficult to evaluate what metric is best in order to evaluate a retrieval system because their suitability depends on the particular scenario and the specific search task that are chosen to optimise. \n",
    "However, it can be observed that recall@1 values are much lower than the average values for other metrics for all search functions and indeces. This is due to the fact that recall evaluates whether all the possible relevant documents are in the top k predictions, regardless of the position at which they are situated; which is impossible to accomplish if only recall@1 is considered and there is more than 1 relevant document per query as is the case with most of the queries in this assignment. Recall values generally increase for all search functions as more items are considered (i.e. k increases) since it makes it possible for more relevant documents to be retrieved.\n",
    "On the other hand, precision@1 is high in comparison to other metrics because it only checks whether the first result is relevant or not, hence, it can only give a value of 0 (top 1 result is not relevant) or 1 (top 1 result is relevant). When this is averaged across all the queries, it leads to higher results than other metrics if there are more 1s that 0s. For instance, an average precision@1 of 0.5 means that for half of the queries, the top 1 result is a relevant document. The only search functions that obtain higher than 0.5 average precision@1 values are QL and BM25 for index set 2, which are also the best-performing functions and index set overall as metioned above.\n",
    "Other metrics such as ERR and MAP are not as easy to compare between each other and interpret as they also take into account the position of the relevant documents in the rank, resulting in higher scores if the relevant documents are higher up in the rank."
   ]
  },
  {
   "cell_type": "markdown",
   "metadata": {
    "deletable": false,
    "editable": false,
    "nbgrader": {
     "cell_type": "markdown",
     "checksum": "b3eb77be74eecca205fc7b47316d1627",
     "grade": false,
     "grade_id": "cell-bb60dd5c092d0f2e",
     "locked": true,
     "schema_version": 3,
     "solution": false,
     "task": false
    }
   },
   "source": [
    "---\n",
    "---\n",
    "# Part 2: Semantic-based Matching (85 points) <a class=\"anchor\" id=\"part2\"></a>\n",
    "\n",
    "[Back to top](#top)\n",
    "\n",
    "We will now experiment with methods that go beyond lexical methods like TF-IDF, which operate at the word level and are high dimensional and sparse, and look at methods which constructs low dimensional dense representations of queries and documents. \n",
    "\n",
    "Since these low-dimensional methods have a higher time complexity, they are typically used in conjunction with methods like BM-25. That is, instead of searching through potentially million documents to find matches using low dimensional vectors, a list of K documents are retrieved using BM25, and then **re-ranked** using the other method. This is the method that is going to be applied in the following exercises. \n",
    "\n",
    "LSI/LDA takes documents that are similar on a semantic level - for instance, if they are describing the same topic - and projects them into nearby vectors, despite having low lexical overlap.\n",
    "\n",
    "In this assignment, you will use `gensim` to create LSI/LDA models and use them in re-ranking. \n",
    "\n",
    "**Note**: The following exercises only uses `doc_repr_2` and `config_2`\n",
    "\n",
    "Table of contents:\n",
    "- [Section 6: LSI](#lsi) (15 points)\n",
    "- [Section 7: LDA](#lda) (10 points)\n",
    "- [Section 8: Word2Vec/Doc2Vec](#2vec) (20 points)\n",
    "- [Section 8: Re-ranking](#reranking) (10 points)\n",
    "- [Section 9: Re-ranking Evaluation](#reranking_eval) (30 points)"
   ]
  },
  {
   "cell_type": "markdown",
   "metadata": {
    "deletable": false,
    "editable": false,
    "nbgrader": {
     "cell_type": "markdown",
     "checksum": "f7c7b2cab82f576ed0acf836ca57171c",
     "grade": false,
     "grade_id": "cell-6b2c81e7a8abd180",
     "locked": true,
     "schema_version": 3,
     "solution": false,
     "task": false
    }
   },
   "source": [
    "---\n",
    "## Section 6: Latent Semantic Indexing (LSI) (15 points) <a class=\"anchor\" id=\"lsi\"></a>\n",
    "\n",
    "[Back to Part 2](#part2)\n",
    "\n",
    "LSI is one of the methods to embed the queries and documents into vectors. It is based on a method similar to Principal Component Analysis (PCA) for obtaining a dense concept matrix out of the sparse term-document matrix.\n",
    "\n",
    "See [wikipedia](https://en.wikipedia.org/wiki/Latent_semantic_analysis), particularly [#Mathematics_of_LSI](https://en.wikipedia.org/wiki/Latent_semantic_analysis#Mathematics_of_LSI)."
   ]
  },
  {
   "cell_type": "code",
   "execution_count": 71,
   "metadata": {
    "ExecuteTime": {
     "end_time": "2021-02-18T08:45:20.191733Z",
     "start_time": "2021-02-18T08:45:19.971113Z"
    },
    "deletable": false,
    "editable": false,
    "nbgrader": {
     "cell_type": "code",
     "checksum": "c17ee75319cb517e2bf48ec3d9efc329",
     "grade": false,
     "grade_id": "cell-59913daee47f680d",
     "locked": true,
     "schema_version": 3,
     "solution": false,
     "task": false
    }
   },
   "outputs": [],
   "source": [
    "from gensim.corpora import Dictionary\n",
    "from gensim.models import LdaModel, LsiModel, Word2Vec\n",
    "from gensim.models.doc2vec import Doc2Vec, TaggedDocument\n",
    "from gensim import downloader as g_downloader\n",
    "# gensim uses logging, so set it up \n",
    "import logging\n",
    "logging.basicConfig(format='%(asctime)s : %(levelname)s : %(message)s', level=logging.INFO)"
   ]
  },
  {
   "cell_type": "markdown",
   "metadata": {
    "deletable": false,
    "editable": false,
    "nbgrader": {
     "cell_type": "markdown",
     "checksum": "5fce140c546759b54a9fc060901ae77c",
     "grade": false,
     "grade_id": "cell-3644faff4976598a",
     "locked": true,
     "schema_version": 3,
     "solution": false,
     "task": false
    }
   },
   "source": [
    "---\n",
    "### Section 6.1: Cosine Similarity (5 points)<a class=\"anchor\" id=\"cosing_sim\"></a>\n",
    "Before we begin, let us first define our method of similarity for the LSI model, the cosine similarity:\n",
    "\n",
    "$$\\text{similarity} = \\cos(\\theta) = {\\mathbf{A} \\cdot \\mathbf{B} \\over \\|\\mathbf{A}\\| \\|\\mathbf{B}\\|} = \\frac{ \\sum\\limits_{i=1}^{n}{A_i  B_i} }{ \\sqrt{\\sum\\limits_{i=1}^{n}{A_i^2}}  \\sqrt{\\sum\\limits_{i=1}^{n}{B_i^2}} }$$\n",
    "\n",
    "Since we are using gensim, the types of vectors returned by their classes are of the form defined below (they are not just simple vectors):"
   ]
  },
  {
   "cell_type": "code",
   "execution_count": 72,
   "metadata": {
    "ExecuteTime": {
     "end_time": "2021-02-18T08:45:20.207718Z",
     "start_time": "2021-02-18T08:45:20.192731Z"
    },
    "deletable": false,
    "editable": false,
    "nbgrader": {
     "cell_type": "code",
     "checksum": "4e340e1a1d546f430c018fd0760e707a",
     "grade": false,
     "grade_id": "cell-3995a50f951314d5",
     "locked": true,
     "schema_version": 3,
     "solution": false,
     "task": false
    }
   },
   "outputs": [],
   "source": [
    "# 1, 2, 3 are either latent dimensions (LSI), or topics (LDA)\n",
    "# The second value in each tuple is a number (LSI) or a probability (LDA)  \n",
    "example_vec_1 = [(1, 0.2), (2, 0.3), (3, 0.4)]\n",
    "example_vec_2 = [(1, 0.2), (2, 0.7), (3, 0.4)]"
   ]
  },
  {
   "cell_type": "markdown",
   "metadata": {
    "deletable": false,
    "editable": false,
    "nbgrader": {
     "cell_type": "markdown",
     "checksum": "20832fd4f579f49ae204b0efee02edd1",
     "grade": false,
     "grade_id": "cell-5e54d581858dc8f7",
     "locked": true,
     "schema_version": 3,
     "solution": false,
     "task": false
    }
   },
   "source": [
    "---\n",
    "**Implementation (2+3 points):**\n",
    "Now, implement the `dot product` operation on these types of vectors and using this operator, implement the `cosine similarity` (don't forget: two functions to implement!):"
   ]
  },
  {
   "cell_type": "code",
   "execution_count": 73,
   "metadata": {
    "ExecuteTime": {
     "end_time": "2021-02-18T08:45:20.223646Z",
     "start_time": "2021-02-18T08:45:20.209685Z"
    },
    "deletable": false,
    "nbgrader": {
     "cell_type": "code",
     "checksum": "06a712ee75fc213a21c5f0067fd8fe28",
     "grade": false,
     "grade_id": "cell-0e8189f5f93de33f",
     "locked": false,
     "schema_version": 3,
     "solution": true,
     "task": false
    }
   },
   "outputs": [],
   "source": [
    "# TODO: Implement this! (2 points)\n",
    "def dot(vec_1,vec_2): \n",
    "    \"\"\"\n",
    "        vec_1 and vec_2 are of the form: [(int, float), (int, float), ...]\n",
    "        Return the dot product of two such vectors, computed only on the floats\n",
    "        You can assume that the lengths of the vectors are the same, and the dimensions are aligned \n",
    "            i.e you won't get: vec_1 = [(1, 0.2)] ; vec_2 = [(2, 0.3)] \n",
    "                                (dimensions are unaligned and lengths are different)\n",
    "    \"\"\"\n",
    "    # YOUR CODE HERE\n",
    "    \n",
    "    vec_1 = list(list(zip(*vec_1))[1])\n",
    "    vec_2 = list(list(zip(*vec_2))[1])\n",
    "    dot_product = np.dot(vec_1,vec_2)\n",
    "    return dot_product\n",
    "    \n",
    "    raise NotImplementedError()\n",
    "\n",
    "\n",
    "# TODO: Implement this! (3 points)\n",
    "def cosine_sim(vec_1, vec_2):\n",
    "    # YOUR CODE HERE\n",
    "    \n",
    "    cosine = dot(vec_1,vec_2)/(np.sqrt(dot(vec_1,vec_1))*np.sqrt(dot(vec_2,vec_2)))\n",
    "    if np.isnan(cosine):\n",
    "        return 0.0\n",
    "    else:\n",
    "        return cosine\n",
    "    \n",
    "    raise NotImplementedError()"
   ]
  },
  {
   "cell_type": "code",
   "execution_count": 74,
   "metadata": {
    "ExecuteTime": {
     "end_time": "2021-02-18T08:45:20.239607Z",
     "start_time": "2021-02-18T08:45:20.224643Z"
    },
    "deletable": false,
    "editable": false,
    "nbgrader": {
     "cell_type": "code",
     "checksum": "d22a4a7325ba7815a808390388f534a1",
     "grade": true,
     "grade_id": "cell-b25d04ed6b79fd35",
     "locked": true,
     "points": 2,
     "schema_version": 3,
     "solution": false,
     "task": false
    }
   },
   "outputs": [
    {
     "name": "stdout",
     "output_type": "stream",
     "text": [
      "vectors: ([(1, 0.2), (2, 0.3), (3, 0.4)], [(1, 0.2), (2, 0.7), (3, 0.4)])\n",
      "dot product = 0.41000000000000003\n",
      "cosine similarity = 0.9165587597202866\n"
     ]
    }
   ],
   "source": [
    "##### Function check\n",
    "print(f'vectors: {(example_vec_1,example_vec_2)}')\n",
    "print(f'dot product = {dot(example_vec_1,example_vec_2)}')\n",
    "print(f'cosine similarity = {cosine_sim(example_vec_1,example_vec_2)}')\n",
    "##### "
   ]
  },
  {
   "cell_type": "code",
   "execution_count": 75,
   "metadata": {
    "ExecuteTime": {
     "end_time": "2021-02-18T08:45:20.255561Z",
     "start_time": "2021-02-18T08:45:20.241600Z"
    },
    "deletable": false,
    "editable": false,
    "nbgrader": {
     "cell_type": "code",
     "checksum": "0744131724ce76b1b3f163b4bae5f700",
     "grade": true,
     "grade_id": "cell-ae3c4466866ace77",
     "locked": true,
     "points": 3,
     "schema_version": 3,
     "solution": false,
     "task": false
    }
   },
   "outputs": [],
   "source": [
    "#### Please do not change this. This cell is used for grading."
   ]
  },
  {
   "cell_type": "markdown",
   "metadata": {
    "deletable": false,
    "editable": false,
    "nbgrader": {
     "cell_type": "markdown",
     "checksum": "9b123f599f9ea372d14676e23f1c6a52",
     "grade": false,
     "grade_id": "cell-4b2534067c44fcdf",
     "locked": true,
     "schema_version": 3,
     "solution": false,
     "task": false
    }
   },
   "source": [
    "---\n",
    "### Section 6.2: LSI Retrieval (10 points)<a class=\"anchor\" id=\"lsi_retrieval\"></a>\n",
    "LSI retrieval is simply ranking the documents based on their cosine similarity to the query vector.\n",
    "First, let's write a parent class for vector-based retrieval models:"
   ]
  },
  {
   "cell_type": "code",
   "execution_count": 76,
   "metadata": {
    "ExecuteTime": {
     "end_time": "2021-02-18T08:45:20.271519Z",
     "start_time": "2021-02-18T08:45:20.257557Z"
    },
    "deletable": false,
    "editable": false,
    "nbgrader": {
     "cell_type": "code",
     "checksum": "ecc111d58182570e2252b8ef5d6b02af",
     "grade": false,
     "grade_id": "cell-937936cea18711ee",
     "locked": true,
     "schema_version": 3,
     "solution": false,
     "task": false
    }
   },
   "outputs": [],
   "source": [
    "class VectorSpaceRetrievalModel:\n",
    "    \"\"\"\n",
    "        Parent class for Dense Vector Retrieval models\n",
    "    \"\"\"\n",
    "    def __init__(self, doc_repr):\n",
    "        \"\"\"\n",
    "            document_collection: \n",
    "                [\n",
    "                    (doc_id_1, [token 1, token 2, ...]), \n",
    "                    (doc_id_2, [token 1, token 2, ....]) \n",
    "                    ...\n",
    "                ]\n",
    "\n",
    "        \"\"\"\n",
    "        self.doc_repr = doc_repr\n",
    "        self.documents = [_[1] for _ in self.doc_repr]\n",
    "        \n",
    "        # construct a dictionary\n",
    "        self.dictionary = Dictionary(self.documents)\n",
    "        # Filter out words that occur less than 20 documents, or more than 50% of the documents.\n",
    "        self.dictionary.filter_extremes(no_below=10)\n",
    "        self.corpus = [self.dictionary.doc2bow(doc) for doc in self.documents]\n",
    "    \n",
    "        # Make a index to word dictionary.\n",
    "        temp = self.dictionary[0]  # This is only to \"load\" the dictionary.\n",
    "        self.id2word = self.dictionary.id2token\n",
    "        \n",
    "        # this is set by the train_model function\n",
    "        self.model = None\n",
    "        \n",
    "        \n",
    "    def vectorize_documents(self):\n",
    "        \"\"\"\n",
    "            Returns a doc_id -> vector dictionary\n",
    "        \"\"\"\n",
    "        vectors = {}\n",
    "        for (doc_id, _), cc in zip(self.doc_repr, self.corpus):\n",
    "            vectors[doc_id] = self.model[cc]\n",
    "        return vectors\n",
    "\n",
    "    def vectorize_query(self, query):\n",
    "        # Note the use of config_2 here!\n",
    "        query = process_text(query, **config_2)\n",
    "        query_vector = self.dictionary.doc2bow(query)\n",
    "        return self.model[query_vector]\n",
    "    \n",
    "    def train_model(self):\n",
    "        \"\"\"\n",
    "            Trains a model and sets the 'self.model' variable. \n",
    "            Make sure to use the variables created in the __init__ method.\n",
    "            e.g the variables which may be useful: {corpus, dictionary, id2word}\n",
    "        \"\"\"\n",
    "        raise NotImplementedError()"
   ]
  },
  {
   "cell_type": "markdown",
   "metadata": {
    "deletable": false,
    "editable": false,
    "nbgrader": {
     "cell_type": "markdown",
     "checksum": "ff161eefd9b81b768cd6361bc1a502b0",
     "grade": false,
     "grade_id": "cell-704a18c2f80cd60c",
     "locked": true,
     "schema_version": 3,
     "solution": false,
     "task": false
    }
   },
   "source": [
    "---\n",
    "**Implementation (5 points):**\n",
    "Implement the `train_model` method in the following class (note that this is only one line of code in `gensim`!). Ensure that the parameters defined in the `__init__` method are not changed, and are *used in the `train_method` function*. Normally, the hyperaparameter space will be searched using grid search / other methods - in this assignment we have provided the hyperparameters for you.\n",
    "\n",
    "The last two lines of code train an LSI model on the list of documents which have been stemmed, lower-cased and have stopwords removed. "
   ]
  },
  {
   "cell_type": "code",
   "execution_count": 77,
   "metadata": {
    "ExecuteTime": {
     "end_time": "2021-02-18T08:45:20.286478Z",
     "start_time": "2021-02-18T08:45:20.273513Z"
    },
    "deletable": false,
    "nbgrader": {
     "cell_type": "code",
     "checksum": "0e90eedc27c248bc1ae050518a46a46c",
     "grade": false,
     "grade_id": "cell-307682c9089f15d6",
     "locked": false,
     "schema_version": 3,
     "solution": true,
     "task": false
    }
   },
   "outputs": [],
   "source": [
    "# TODO: Implement this! (5 points)\n",
    "class LsiRetrievalModel(VectorSpaceRetrievalModel):\n",
    "    def __init__(self, doc_repr):\n",
    "        super().__init__(doc_repr)\n",
    "        \n",
    "        self.num_topics = 100\n",
    "        self.chunksize = 2000\n",
    "    \n",
    "    def train_model(self):\n",
    "        # YOUR CODE HERE\n",
    "        \n",
    "        model = LsiModel(corpus=self.corpus, id2word=self.id2word, num_topics=self.num_topics, chunksize=self.chunksize)\n",
    "        self.model = model\n",
    "        return model\n",
    "    \n",
    "        raise NotImplementedError()"
   ]
  },
  {
   "cell_type": "code",
   "execution_count": 78,
   "metadata": {
    "ExecuteTime": {
     "end_time": "2021-02-18T08:45:20.899799Z",
     "start_time": "2021-02-18T08:45:20.288473Z"
    },
    "deletable": false,
    "editable": false,
    "nbgrader": {
     "cell_type": "code",
     "checksum": "00399cfe13d60cb4beed1271e36004b0",
     "grade": true,
     "grade_id": "cell-5ce512650c1b2dfb",
     "locked": true,
     "points": 0,
     "schema_version": 3,
     "solution": false,
     "task": false
    }
   },
   "outputs": [
    {
     "name": "stderr",
     "output_type": "stream",
     "text": [
      "2021-02-18 09:45:20,289 : INFO : adding document #0 to Dictionary(0 unique tokens: [])\n",
      "2021-02-18 09:45:20,436 : INFO : built Dictionary(5937 unique tokens: ['-', 'algebra', 'intern', 'languag', 'preliminari']...) from 3204 documents (total 115978 corpus positions)\n",
      "2021-02-18 09:45:20,443 : INFO : discarding 4740 tokens: [('repeat', 8), ('glossari', 7), ('inspect', 8), ('uncol', 2), ('rung', 9), ('secant', 2), ('.', 1603), ('acceler', 6), ('diverg', 3), ('induc', 9)]...\n",
      "2021-02-18 09:45:20,444 : INFO : keeping 1197 tokens which were in no less than 10 and no more than 1602 (=50.0%) documents\n",
      "2021-02-18 09:45:20,448 : INFO : resulting dictionary: Dictionary(1197 unique tokens: ['-', 'algebra', 'intern', 'languag', 'preliminari']...)\n",
      "2021-02-18 09:45:20,521 : INFO : using serial LSI version on this node\n",
      "2021-02-18 09:45:20,521 : INFO : updating model with new documents\n",
      "2021-02-18 09:45:20,522 : INFO : preparing a new chunk of documents\n",
      "2021-02-18 09:45:20,536 : INFO : using 100 extra samples and 2 power iterations\n",
      "2021-02-18 09:45:20,536 : INFO : 1st phase: constructing (1197, 200) action matrix\n",
      "2021-02-18 09:45:20,556 : INFO : orthonormalizing (1197, 200) action matrix\n",
      "2021-02-18 09:45:20,672 : INFO : 2nd phase: running dense svd on (200, 2000) matrix\n",
      "2021-02-18 09:45:20,723 : INFO : computing the final decomposition\n",
      "2021-02-18 09:45:20,724 : INFO : keeping 100 factors (discarding 13.444% of energy spectrum)\n",
      "2021-02-18 09:45:20,727 : INFO : processed documents up to #2000\n",
      "2021-02-18 09:45:20,729 : INFO : topic #0(152.127): -0.741*\",\" + -0.342*\"-\" + -0.211*\"system\" + -0.204*\"program\" + -0.192*\"comput\" + -0.146*\"(\" + -0.127*\"languag\" + -0.108*\")\" + -0.084*\"gener\" + -0.083*\"data\"\n",
      "2021-02-18 09:45:20,730 : INFO : topic #1(60.600): 0.607*\"(\" + 0.434*\")\" + 0.366*\"algorithm\" + 0.300*\"-\" + -0.237*\",\" + -0.213*\"system\" + -0.132*\"comput\" + 0.096*\"[\" + -0.093*\"program\" + 0.084*\"])\"\n",
      "2021-02-18 09:45:20,731 : INFO : topic #2(57.438): -0.744*\"-\" + 0.452*\",\" + -0.263*\"system\" + 0.214*\"(\" + 0.166*\")\" + -0.107*\"time\" + -0.105*\"program\" + 0.094*\"algorithm\" + -0.068*\"comput\" + -0.067*\"share\"\n",
      "2021-02-18 09:45:20,732 : INFO : topic #3(48.370): -0.483*\"system\" + -0.375*\"program\" + -0.367*\"comput\" + 0.363*\"-\" + 0.308*\",\" + -0.212*\"(\" + -0.168*\")\" + -0.147*\"algorithm\" + 0.144*\"languag\" + -0.119*\"time\"\n",
      "2021-02-18 09:45:20,733 : INFO : topic #4(45.710): -0.489*\"comput\" + 0.475*\"languag\" + 0.428*\"program\" + -0.238*\"method\" + -0.141*\"problem\" + 0.121*\"system\" + 0.109*\")\" + -0.107*\"equat\" + -0.100*\"algorithm\" + 0.099*\"(\"\n",
      "2021-02-18 09:45:20,734 : INFO : preparing a new chunk of documents\n",
      "2021-02-18 09:45:20,751 : INFO : using 100 extra samples and 2 power iterations\n",
      "2021-02-18 09:45:20,752 : INFO : 1st phase: constructing (1197, 200) action matrix\n",
      "2021-02-18 09:45:20,770 : INFO : orthonormalizing (1197, 200) action matrix\n",
      "2021-02-18 09:45:20,826 : INFO : 2nd phase: running dense svd on (200, 1204) matrix\n",
      "2021-02-18 09:45:20,848 : INFO : computing the final decomposition\n",
      "2021-02-18 09:45:20,849 : INFO : keeping 100 factors (discarding 14.017% of energy spectrum)\n",
      "2021-02-18 09:45:20,852 : INFO : merging projections: (1197, 100) + (1197, 100)\n",
      "2021-02-18 09:45:20,866 : INFO : keeping 100 factors (discarding 8.160% of energy spectrum)\n",
      "2021-02-18 09:45:20,871 : INFO : processed documents up to #3204\n",
      "2021-02-18 09:45:20,873 : INFO : topic #0(225.145): 0.759*\",\" + 0.337*\"-\" + 0.196*\"system\" + 0.186*\"program\" + 0.166*\"comput\" + 0.139*\"(\" + 0.103*\")\" + 0.103*\"algorithm\" + 0.099*\"languag\" + 0.087*\"time\"\n",
      "2021-02-18 09:45:20,874 : INFO : topic #1(87.813): 0.614*\"-\" + -0.400*\",\" + 0.398*\"(\" + 0.325*\"algorithm\" + 0.292*\")\" + -0.129*\"system\" + -0.107*\"program\" + 0.085*\"method\" + 0.077*\"time\" + 0.062*\"1\"\n",
      "2021-02-18 09:45:20,875 : INFO : topic #2(81.924): 0.549*\"-\" + -0.435*\"(\" + 0.355*\"system\" + -0.322*\")\" + -0.290*\",\" + -0.267*\"algorithm\" + 0.145*\"program\" + 0.123*\"comput\" + 0.078*\"time\" + -0.064*\"[\"\n",
      "2021-02-18 09:45:20,876 : INFO : topic #3(72.434): -0.693*\"program\" + 0.339*\",\" + 0.279*\"-\" + -0.251*\"(\" + -0.222*\"system\" + -0.214*\"languag\" + -0.204*\")\" + -0.159*\"comput\" + -0.099*\"data\" + -0.056*\"execut\"\n",
      "2021-02-18 09:45:20,877 : INFO : topic #4(68.522): -0.674*\"system\" + 0.453*\"program\" + 0.254*\"languag\" + 0.212*\"-\" + -0.178*\"comput\" + -0.165*\"(\" + -0.121*\")\" + -0.116*\"model\" + 0.101*\",\" + -0.098*\"algorithm\"\n"
     ]
    },
    {
     "data": {
      "text/plain": [
       "[(0, 0.015211709059869303),\n",
       " (1, -0.01626094106495996),\n",
       " (2, -0.0001571687327599114),\n",
       " (3, -0.0017792589690525792),\n",
       " (4, -0.009417906968767775),\n",
       " (5, -0.004794386408179493),\n",
       " (6, 0.027002919688653974),\n",
       " (7, 0.01677557434985872),\n",
       " (8, -0.03173539416878356),\n",
       " (9, -0.0005339480224908627),\n",
       " (10, 0.00199529925946664),\n",
       " (11, -0.01738903216935434),\n",
       " (12, 3.0802840548968015e-05),\n",
       " (13, 0.001557346217377369),\n",
       " (14, 0.0043117881879691095),\n",
       " (15, 0.005404089939001647),\n",
       " (16, 0.005549181928884872),\n",
       " (17, 0.002653238673210677),\n",
       " (18, -0.01788588384239053),\n",
       " (19, 0.019866326068235716),\n",
       " (20, -0.009768043824512787),\n",
       " (21, -0.01512042812944912),\n",
       " (22, 0.047794330811321395),\n",
       " (23, 0.024896533404230686),\n",
       " (24, -0.009721513336204593),\n",
       " (25, -0.010600778826000858),\n",
       " (26, 0.006653705138131952),\n",
       " (27, 0.07738338235725392),\n",
       " (28, -0.06148782708984099),\n",
       " (29, 0.03073805699537115),\n",
       " (30, 0.041909889204518165),\n",
       " (31, 0.04118836444416231),\n",
       " (32, -0.07345742583782026),\n",
       " (33, 0.04386173425456002),\n",
       " (34, -0.018166977064108754),\n",
       " (35, 0.06638282272376336),\n",
       " (36, 0.03744828050393225),\n",
       " (37, -0.014205222966636467),\n",
       " (38, -0.0599211571450461),\n",
       " (39, 0.017990547939225117),\n",
       " (40, -0.04573783748279747),\n",
       " (41, -0.035320317575913834),\n",
       " (42, 0.02160591982673637),\n",
       " (43, 0.017240340077115123),\n",
       " (44, 0.01486011736273825),\n",
       " (45, 0.0636312098750326),\n",
       " (46, -0.006826475114399903),\n",
       " (47, 0.012437256884027857),\n",
       " (48, 0.010732133589129667),\n",
       " (49, 0.02781105760031486),\n",
       " (50, 0.018011047089792266),\n",
       " (51, 0.05380259813360346),\n",
       " (52, -0.007930225780162127),\n",
       " (53, 0.005649926194113067),\n",
       " (54, 0.03934758797218763),\n",
       " (55, 0.024373420400207096),\n",
       " (56, 0.006516286072956526),\n",
       " (57, -0.019826258473633805),\n",
       " (58, -0.009108846815904369),\n",
       " (59, 0.04906695923857425),\n",
       " (60, -0.004832070489295565),\n",
       " (61, -0.03579958623802048),\n",
       " (62, -0.009552524167917081),\n",
       " (63, 0.020655396937996916),\n",
       " (64, 0.0678187228116307),\n",
       " (65, 0.048101462573573006),\n",
       " (66, 0.01254958833556134),\n",
       " (67, -0.059148548249881444),\n",
       " (68, 0.010541415094270066),\n",
       " (69, -0.03304531726032514),\n",
       " (70, -0.05915932493761043),\n",
       " (71, -0.025974196606005532),\n",
       " (72, 0.013848504274986607),\n",
       " (73, 0.031873753493327564),\n",
       " (74, -0.10337395950497828),\n",
       " (75, 0.03341798880108188),\n",
       " (76, -0.025047079402778012),\n",
       " (77, 0.0038645327137306167),\n",
       " (78, 0.025962207658489965),\n",
       " (79, 0.05045318375472454),\n",
       " (80, -0.03278925580119858),\n",
       " (81, -0.0019917499918759227),\n",
       " (82, 0.04298037309177324),\n",
       " (83, -0.01028846576604573),\n",
       " (84, 0.0433752133710226),\n",
       " (85, -0.026847993156004918),\n",
       " (86, -0.005206639570350876),\n",
       " (87, -0.032741276651843565),\n",
       " (88, 0.03243519361086601),\n",
       " (89, 0.023592754457346373),\n",
       " (90, -0.1051058954565435),\n",
       " (91, 0.031257508554545475),\n",
       " (92, -0.028202852883804266),\n",
       " (93, -0.05506871010204105),\n",
       " (94, -0.03562234044763386),\n",
       " (95, 0.027143983086711388),\n",
       " (96, -0.02024276073848994),\n",
       " (97, 0.011309693710388452),\n",
       " (98, -0.020417767688448253),\n",
       " (99, 0.0034837597054631114)]"
      ]
     },
     "execution_count": 78,
     "metadata": {},
     "output_type": "execute_result"
    }
   ],
   "source": [
    "##### Function check\n",
    "lsi = LsiRetrievalModel(doc_repr_2)\n",
    "lsi.train_model()\n",
    "\n",
    "# you can now get an LSI vector for a given query in the following way:\n",
    "lsi.vectorize_query(\"report\")\n",
    "##### "
   ]
  },
  {
   "cell_type": "markdown",
   "metadata": {
    "deletable": false,
    "editable": false,
    "nbgrader": {
     "cell_type": "markdown",
     "checksum": "7116bb9f576c5bb04934e1d59c51d729",
     "grade": false,
     "grade_id": "cell-4c5eeb557b4fca2f",
     "locked": true,
     "points": 5,
     "schema_version": 3,
     "solution": false,
     "task": true
    }
   },
   "source": [
    "\\#### Please do not change this. This cell is used for grading."
   ]
  },
  {
   "cell_type": "markdown",
   "metadata": {
    "deletable": false,
    "editable": false,
    "nbgrader": {
     "cell_type": "markdown",
     "checksum": "1068a108600b8c1539117d543e720354",
     "grade": false,
     "grade_id": "cell-c4e50296cd17a555",
     "locked": true,
     "schema_version": 3,
     "solution": false,
     "task": false
    }
   },
   "source": [
    "---\n",
    "Next, implement a basic ranking class for vector space retrieval (used for all semantic methods): "
   ]
  },
  {
   "cell_type": "code",
   "execution_count": 79,
   "metadata": {
    "ExecuteTime": {
     "end_time": "2021-02-18T08:45:20.915757Z",
     "start_time": "2021-02-18T08:45:20.901794Z"
    },
    "deletable": false,
    "nbgrader": {
     "cell_type": "code",
     "checksum": "1a8389d2f0635c3405e2b0b27ed9f327",
     "grade": false,
     "grade_id": "cell-250515d288e80cdc",
     "locked": false,
     "schema_version": 3,
     "solution": true,
     "task": false
    }
   },
   "outputs": [],
   "source": [
    "# TODO: Implement this! (5 points)\n",
    "class DenseRetrievalRanker:\n",
    "    def __init__(self, vsrm, similarity_fn):\n",
    "        \"\"\"\n",
    "            vsrm: instance of `VectorSpaceRetrievalModel`\n",
    "            similarity_fn: function instance that takes in two vectors \n",
    "                            and returns a similarity score e.g cosine_sim defined earlier\n",
    "        \"\"\"\n",
    "        self.vsrm = vsrm \n",
    "        self.vectorized_documents = self.vsrm.vectorize_documents()\n",
    "        self.similarity_fn = similarity_fn\n",
    "    \n",
    "    def _compute_sim(self, query_vector):\n",
    "        \"\"\"\n",
    "            Compute the similarity of `query_vector` to documents in \n",
    "            `self.vectorized_documents` using `self.similarity_fn`\n",
    "            Returns a list of (doc_id, score) tuples\n",
    "        \"\"\"\n",
    "        # YOUR CODE HERE\n",
    "        \n",
    "        #list_scores = [(doc_id, self.similarity_fn(query_vector, vec)) for doc_id, vec in self.vectorized_documents.items()]\n",
    "        list_scores = list()\n",
    "        if not query_vector:\n",
    "            return []\n",
    "        for doc_id, vec in self.vectorized_documents.items():\n",
    "            if not vec: #doc_id in [235, 913, 917, 2782]: I think we should do \"if not vec:\" instead\n",
    "                score = 0\n",
    "            else:\n",
    "                score = self.similarity_fn(query_vector, vec)\n",
    "            list_scores.append((doc_id, score))\n",
    "            \n",
    "        return list_scores\n",
    "    \n",
    "        raise NotImplementedError()\n",
    "        \n",
    "    \n",
    "    def search(self, query):\n",
    "        scores = self._compute_sim(self.vsrm.vectorize_query(query))\n",
    "        scores.sort(key=lambda _:-_[1])\n",
    "        return scores  "
   ]
  },
  {
   "cell_type": "code",
   "execution_count": 80,
   "metadata": {
    "ExecuteTime": {
     "end_time": "2021-02-18T08:45:21.951512Z",
     "start_time": "2021-02-18T08:45:20.918754Z"
    },
    "deletable": false,
    "editable": false,
    "nbgrader": {
     "cell_type": "code",
     "checksum": "f237dd1ef6c1783c06797f4b514421f5",
     "grade": true,
     "grade_id": "cell-b73068b3e77a8e31",
     "locked": true,
     "points": 0,
     "schema_version": 3,
     "solution": false,
     "task": false
    }
   },
   "outputs": [
    {
     "data": {
      "text/plain": [
       "[(599, 0.7996616893459932),\n",
       " (947, 0.5727198744397531),\n",
       " (53, 0.5036188582993223),\n",
       " (1339, 0.4618035237113527),\n",
       " (3160, 0.44068710472917144)]"
      ]
     },
     "execution_count": 80,
     "metadata": {},
     "output_type": "execute_result"
    }
   ],
   "source": [
    "##### Function check\n",
    "drm_lsi = DenseRetrievalRanker(lsi, cosine_sim)\n",
    "drm_lsi.search(\"report\")[:5]\n",
    "##### "
   ]
  },
  {
   "cell_type": "markdown",
   "metadata": {
    "deletable": false,
    "editable": false,
    "nbgrader": {
     "cell_type": "markdown",
     "checksum": "5b3f19fdcaa585d263706d5a26038799",
     "grade": false,
     "grade_id": "cell-034c755a6502b868",
     "locked": true,
     "points": 5,
     "schema_version": 3,
     "solution": false,
     "task": true
    }
   },
   "source": [
    "\\#### Please do not change this. This cell is used for grading."
   ]
  },
  {
   "cell_type": "markdown",
   "metadata": {
    "deletable": false,
    "editable": false,
    "nbgrader": {
     "cell_type": "markdown",
     "checksum": "dcafef6e037033c46304b914f7c78bdf",
     "grade": false,
     "grade_id": "cell-d1df23f497d5ed6b",
     "locked": true,
     "schema_version": 3,
     "solution": false,
     "task": false
    }
   },
   "source": [
    "---\n",
    "Now, you can test your LSI model in the following cell: try finding queries which are lexically different to documents, but semantically similar - does LSI work well for these queries?!"
   ]
  },
  {
   "cell_type": "code",
   "execution_count": 81,
   "metadata": {
    "ExecuteTime": {
     "end_time": "2021-02-18T08:45:21.978469Z",
     "start_time": "2021-02-18T08:45:21.952510Z"
    },
    "deletable": false,
    "editable": false,
    "nbgrader": {
     "cell_type": "code",
     "checksum": "11734bc7674377b340ad51297a8e8bb5",
     "grade": false,
     "grade_id": "cell-efd1d08dfc04ec3e",
     "locked": true,
     "schema_version": 3,
     "solution": false,
     "task": false
    }
   },
   "outputs": [
    {
     "data": {
      "application/vnd.jupyter.widget-view+json": {
       "model_id": "4468a28a6ae446cb91e7d2f76b9bc5f5",
       "version_major": 2,
       "version_minor": 0
      },
      "text/plain": [
       "Text(value='', description='Search Bar')"
      ]
     },
     "metadata": {},
     "output_type": "display_data"
    }
   ],
   "source": [
    "# test your LSI model\n",
    "search_fn = drm_lsi.search\n",
    "\n",
    "text = widgets.Text(description=\"Search Bar\", width=200)\n",
    "display(text)\n",
    "\n",
    "def make_results_2(query, search_fn):\n",
    "    results = []\n",
    "    for doc_id, score in search_fn(query):\n",
    "        highlight = highlight_text(docs_by_id[doc_id], query)\n",
    "        if len(highlight.strip()) == 0:\n",
    "            highlight = docs_by_id[doc_id]\n",
    "        results.append(ResultRow(doc_id, highlight, score))\n",
    "    return results\n",
    "\n",
    "def handle_submit_2(sender):\n",
    "    print(f\"Searching for: '{sender.value}' (SEARCH FN: {search_fn})\")\n",
    "    \n",
    "    results = make_results_2(sender.value, search_fn)\n",
    "    \n",
    "    # display only the top 5\n",
    "    results = results[:5]\n",
    "    \n",
    "    body = \"\"\n",
    "    for idx, r in enumerate(results):\n",
    "        body += f\"<li>Document #{r.doc_id}({r.score}): {r.snippet}</li>\"\n",
    "    display(HTML(f\"<ul>{body}</ul>\"))\n",
    "    \n",
    "\n",
    "text.on_submit(handle_submit_2)"
   ]
  },
  {
   "cell_type": "markdown",
   "metadata": {
    "deletable": false,
    "editable": false,
    "nbgrader": {
     "cell_type": "markdown",
     "checksum": "d074ce1ca48384cdda78742741c938be",
     "grade": false,
     "grade_id": "cell-3a86cef264d8f6cf",
     "locked": true,
     "schema_version": 3,
     "solution": false,
     "task": false
    }
   },
   "source": [
    "---\n",
    "## Section 7: Latent Dirichlet Allocation (LDA) (10 points) <a class=\"anchor\" id=\"lda\"></a>\n",
    "\n",
    "[Back to Part 2](#part2)\n",
    "\n",
    "The specifics of LDA is out of the scope of this assignment, but we will use the `gensim` implementation to perform search using LDA over our small document collection. The key thing to remember is that LDA, unlike LSI, outputs a topic **distribution**, not a vector. With that in mind, let's first define a similarity measure.\n"
   ]
  },
  {
   "cell_type": "markdown",
   "metadata": {
    "deletable": false,
    "editable": false,
    "nbgrader": {
     "cell_type": "markdown",
     "checksum": "db01092373b18f0c9dfed1bb17db4ad9",
     "grade": false,
     "grade_id": "cell-6b78ad22c2d60ba7",
     "locked": true,
     "schema_version": 3,
     "solution": false,
     "task": false
    }
   },
   "source": [
    "---\n",
    "### Section 7.1: Jenson-Shannon divergence (5 points) <a class=\"anchor\" id=\"js_sim\"></a>\n",
    "\n",
    "The Jenson-Shannon divergence is a symmetric and finite measure on two probability distributions (unlike the KL, which is neither). For identical distributions, the JSD is equal to 0, and since our code uses 0 as irrelevant and higher scores as relevant, we use `(1 - JSD)` as the score or 'similarity' in our setup\n",
    "\n",
    "**Note**: the JSD is bounded to \\[0,1\\] only if we use log base 2. So please ensure that you're using `np.log2` instead of `np.log`"
   ]
  },
  {
   "cell_type": "code",
   "execution_count": 82,
   "metadata": {
    "ExecuteTime": {
     "end_time": "2021-02-18T08:45:21.994397Z",
     "start_time": "2021-02-18T08:45:21.979437Z"
    },
    "deletable": false,
    "nbgrader": {
     "cell_type": "code",
     "checksum": "a579e6cd7a24a3516bc9a84528b392d3",
     "grade": false,
     "grade_id": "cell-d2376a85a4841e98",
     "locked": false,
     "schema_version": 3,
     "solution": true,
     "task": false
    }
   },
   "outputs": [],
   "source": [
    "## TODO: Implement this! (5 points)\n",
    "def jenson_shannon_divergence(vec_1, vec_2, assert_prob=False):\n",
    "    \"\"\"\n",
    "        Computes the Jensen-Shannon divergence between two probability distributions. \n",
    "        NOTE: DO NOT RETURN 1 - JSD here, that is handled by the next function which is already implemented! \n",
    "        The inputs are *gensim* vectors - same as the vectors for the cosine_sim function\n",
    "        assert_prob is a flag that checks if the inputs are proper probability distributions \n",
    "            i.e they sum to 1 and are positive - use this to check your inputs if needed. \n",
    "                (This is optional to implement, but recommended - \n",
    "                you can the default to False to save a few ms off the runtime)\n",
    "    \"\"\"\n",
    "    # YOUR CODE HERE\n",
    "    \n",
    "    if assert_prob:\n",
    "        assert sum([v for k,v in vec_1]) == 1\n",
    "        assert sum([v for k,v in vec_2]) == 1\n",
    "        assert min([v for k,v in vec_1]) > 0\n",
    "        assert min([v for k,v in vec_2]) > 0\n",
    "    vec_1 = list(list(zip(*vec_1))[1])\n",
    "    vec_2 = list(list(zip(*vec_2))[1])\n",
    "    mean = list(0.5*(np.array(vec_1) + np.array(vec_2)))\n",
    "    kl_divergence_1 = sum(vec_1[i]*np.log2(vec_1[i]/mean[i]) for i in range(len(vec_1)))\n",
    "    kl_divergence_2 = sum(vec_2[i]*np.log2(vec_2[i]/mean[i]) for i in range(len(vec_2)))\n",
    "    \n",
    "    return 0.5*kl_divergence_1 + 0.5*kl_divergence_2\n",
    "    \n",
    "    raise NotImplementedError()\n",
    "\n",
    "def jenson_shannon_sim(vec_1, vec_2, assert_prob=False):\n",
    "    return 1 - jenson_shannon_divergence(vec_1, vec_2)\n",
    "\n",
    "\n"
   ]
  },
  {
   "cell_type": "code",
   "execution_count": 83,
   "metadata": {
    "ExecuteTime": {
     "end_time": "2021-02-18T08:45:22.009389Z",
     "start_time": "2021-02-18T08:45:21.996394Z"
    },
    "deletable": false,
    "editable": false,
    "nbgrader": {
     "cell_type": "code",
     "checksum": "ab340aa941c9fb5c89b3fd0a9139e246",
     "grade": true,
     "grade_id": "cell-487c6d2933f38053",
     "locked": true,
     "points": 5,
     "schema_version": 3,
     "solution": false,
     "task": false
    }
   },
   "outputs": [
    {
     "data": {
      "text/plain": [
       "0.9251064410358459"
      ]
     },
     "execution_count": 83,
     "metadata": {},
     "output_type": "execute_result"
    }
   ],
   "source": [
    "##### Function check\n",
    "vec_1 = [(1, 0.3), (2, 0.4), (3, 0.3)]\n",
    "vec_2 = [(1, 0.1), (2, 0.7), (3, 0.2)]\n",
    "jenson_shannon_sim(vec_1, vec_2, assert_prob=True)\n",
    "##### "
   ]
  },
  {
   "cell_type": "markdown",
   "metadata": {
    "deletable": false,
    "editable": false,
    "nbgrader": {
     "cell_type": "markdown",
     "checksum": "0a1583a5f23e3390038331cce67f5d8e",
     "grade": false,
     "grade_id": "cell-4535cc67a50b80fa",
     "locked": true,
     "schema_version": 3,
     "solution": false,
     "task": false
    }
   },
   "source": [
    "---\n",
    "### Section 7.2: LDA retrieval (5 points) <a class=\"anchor\" id=\"lda_ret\"></a>\n",
    "\n",
    "Implement the `train_model` method in the following class (note that this is only one line of code in `gensim`!). Ensure that the parameters defined in the `__init__` method are not changed, and are *used in the `train_method` function*. You do not need to set this. Normally, the hyperaparameter space will be searched using grid search / other methods. Note that training the LDA model might take some time\n",
    "\n",
    "The last two lines of code train an LDA model on the list of documents which have been stemmed, lower-cased and have stopwords removed. "
   ]
  },
  {
   "cell_type": "code",
   "execution_count": 84,
   "metadata": {
    "ExecuteTime": {
     "end_time": "2021-02-18T08:45:22.025291Z",
     "start_time": "2021-02-18T08:45:22.010354Z"
    },
    "deletable": false,
    "nbgrader": {
     "cell_type": "code",
     "checksum": "27de8e4fa85536bb396b73bfc51b3f50",
     "grade": false,
     "grade_id": "cell-021a48dff4a8bb91",
     "locked": false,
     "schema_version": 3,
     "solution": true,
     "task": false
    }
   },
   "outputs": [],
   "source": [
    "# TODO: Implement this! (5 points)\n",
    "class LdaRetrievalModel(VectorSpaceRetrievalModel):\n",
    "    def __init__(self, doc_repr):\n",
    "        super().__init__(doc_repr)\n",
    "        \n",
    "        # use these parameters in the train_model method\n",
    "        self.num_topics = 100\n",
    "        self.chunksize = 2000\n",
    "        self.passes = 20\n",
    "        self.iterations = 400\n",
    "        self.eval_every = 10\n",
    "        # this is need to get full vectors\n",
    "        self.minimum_probability=0.0\n",
    "        self.alpha='auto'\n",
    "        self.eta='auto'\n",
    "    \n",
    "    \n",
    "    def train_model(self):\n",
    "        # YOUR CODE HERE\n",
    "        \n",
    "        model = LdaModel(corpus=self.corpus, id2word=self.id2word, num_topics=self.num_topics, chunksize=self.chunksize,\\\n",
    "                        passes=self.passes, alpha=self.alpha,eval_every=self.eval_every, minimum_probability=self.minimum_probability,\\\n",
    "                        eta=self.eta, iterations=self.iterations)\n",
    "        self.model = model\n",
    "        return model\n",
    "    \n",
    "        raise NotImplementedError()"
   ]
  },
  {
   "cell_type": "code",
   "execution_count": 85,
   "metadata": {
    "ExecuteTime": {
     "end_time": "2021-02-18T08:46:12.755486Z",
     "start_time": "2021-02-18T08:45:22.027281Z"
    },
    "deletable": false,
    "editable": false,
    "nbgrader": {
     "cell_type": "code",
     "checksum": "be70fcb8098d0b6ce64cd2a10e6a05b7",
     "grade": true,
     "grade_id": "cell-86750b715f0345fd",
     "locked": true,
     "points": 0,
     "schema_version": 3,
     "solution": false,
     "task": false
    }
   },
   "outputs": [
    {
     "name": "stderr",
     "output_type": "stream",
     "text": [
      "2021-02-18 09:45:22,029 : INFO : adding document #0 to Dictionary(0 unique tokens: [])\n",
      "2021-02-18 09:45:22,153 : INFO : built Dictionary(5937 unique tokens: ['-', 'algebra', 'intern', 'languag', 'preliminari']...) from 3204 documents (total 115978 corpus positions)\n",
      "2021-02-18 09:45:22,161 : INFO : discarding 4740 tokens: [('repeat', 8), ('glossari', 7), ('inspect', 8), ('uncol', 2), ('rung', 9), ('secant', 2), ('.', 1603), ('acceler', 6), ('diverg', 3), ('induc', 9)]...\n",
      "2021-02-18 09:45:22,162 : INFO : keeping 1197 tokens which were in no less than 10 and no more than 1602 (=50.0%) documents\n",
      "2021-02-18 09:45:22,165 : INFO : resulting dictionary: Dictionary(1197 unique tokens: ['-', 'algebra', 'intern', 'languag', 'preliminari']...)\n",
      "2021-02-18 09:45:22,236 : INFO : using autotuned alpha, starting with [0.01, 0.01, 0.01, 0.01, 0.01, 0.01, 0.01, 0.01, 0.01, 0.01, 0.01, 0.01, 0.01, 0.01, 0.01, 0.01, 0.01, 0.01, 0.01, 0.01, 0.01, 0.01, 0.01, 0.01, 0.01, 0.01, 0.01, 0.01, 0.01, 0.01, 0.01, 0.01, 0.01, 0.01, 0.01, 0.01, 0.01, 0.01, 0.01, 0.01, 0.01, 0.01, 0.01, 0.01, 0.01, 0.01, 0.01, 0.01, 0.01, 0.01, 0.01, 0.01, 0.01, 0.01, 0.01, 0.01, 0.01, 0.01, 0.01, 0.01, 0.01, 0.01, 0.01, 0.01, 0.01, 0.01, 0.01, 0.01, 0.01, 0.01, 0.01, 0.01, 0.01, 0.01, 0.01, 0.01, 0.01, 0.01, 0.01, 0.01, 0.01, 0.01, 0.01, 0.01, 0.01, 0.01, 0.01, 0.01, 0.01, 0.01, 0.01, 0.01, 0.01, 0.01, 0.01, 0.01, 0.01, 0.01, 0.01, 0.01]\n",
      "2021-02-18 09:45:22,237 : INFO : using serial LDA version on this node\n",
      "2021-02-18 09:45:22,252 : INFO : running online (multi-pass) LDA training, 100 topics, 20 passes over the supplied corpus of 3204 documents, updating model once every 2000 documents, evaluating perplexity every 3204 documents, iterating 400x with a convergence threshold of 0.001000\n",
      "2021-02-18 09:45:22,253 : INFO : PROGRESS: pass 0, at document #2000/3204\n",
      "2021-02-18 09:45:24,177 : INFO : optimized alpha [0.009825013, 0.009877724, 0.009793737, 0.009851245, 0.009871822, 0.009788847, 0.009809613, 0.0098514585, 0.009788986, 0.01006455, 0.009788988, 0.009825138, 0.009856114, 0.009804328, 0.009830678, 0.009799059, 0.009793768, 0.009940214, 0.00983032, 0.009839599, 0.009788712, 0.009820161, 0.00980426, 0.009809535, 0.009818349, 0.009814834, 0.009778519, 0.009788983, 0.009829841, 0.009799149, 0.0098045515, 0.009850444, 0.009876106, 0.009808336, 0.009778488, 0.009783696, 0.009793827, 0.0098249735, 0.009783722, 0.009835572, 0.010043838, 0.009773324, 0.009809542, 0.009840932, 0.009830349, 0.009881949, 0.009809704, 0.00988728, 0.009794145, 0.009835695, 0.009840946, 0.009799182, 0.009861606, 0.009851847, 0.009799047, 0.009814483, 0.009805001, 0.009799378, 0.009975827, 0.009866839, 0.009798877, 0.009830467, 0.009809466, 0.009835425, 0.009829828, 0.00979902, 0.0098043885, 0.009804434, 0.009819951, 0.009814842, 0.009839202, 0.009948913, 0.0098658865, 0.009798906, 0.009804428, 0.009788855, 0.009798024, 0.00978873, 0.009855873, 0.009793877, 0.009903009, 0.009773289, 0.009814581, 0.009855527, 0.009849896, 0.009866165, 0.009799198, 0.00984062, 0.009788674, 0.009892204, 0.00980963, 0.009866306, 0.009810019, 0.009814557, 0.009829966, 0.009804354, 0.009820254, 0.009823532, 0.009877087, 0.009788738]\n",
      "2021-02-18 09:45:24,186 : INFO : merging changes from 2000 documents into a model of 3204 documents\n",
      "2021-02-18 09:45:24,198 : INFO : topic #5 (0.010): 0.047*\",\" + 0.047*\"comput\" + 0.026*\"(\" + 0.024*\"understand\" + 0.024*\"system\" + 0.018*\"prepar\" + 0.018*\"data\" + 0.018*\"convers\" + 0.018*\"multiprogram\" + 0.018*\"program\"\n",
      "2021-02-18 09:45:24,199 : INFO : topic #20 (0.010): 0.069*\"polynomi\" + 0.066*\"comput\" + 0.046*\"squar\" + 0.046*\"(\" + 0.035*\"algorithm\" + 0.023*\")\" + 0.023*\"])\" + 0.023*\"true\" + 0.023*\"approxim\" + 0.023*\"[\"\n",
      "2021-02-18 09:45:24,200 : INFO : topic #58 (0.010): 0.083*\",\" + 0.023*\"-\" + 0.023*\"(\" + 0.019*\"comput\" + 0.018*\")\" + 0.017*\"system\" + 0.016*\"program\" + 0.015*\"method\" + 0.011*\"oper\" + 0.011*\"string\"\n",
      "2021-02-18 09:45:24,200 : INFO : topic #40 (0.010): 0.073*\",\" + 0.036*\"program\" + 0.028*\"system\" + 0.025*\"languag\" + 0.024*\"-\" + 0.019*\"(\" + 0.016*\")\" + 0.014*\"comput\" + 0.012*\"algorithm\" + 0.012*\"process\"\n",
      "2021-02-18 09:45:24,201 : INFO : topic #9 (0.010): 0.069*\"-\" + 0.055*\",\" + 0.023*\"languag\" + 0.022*\"(\" + 0.021*\"comput\" + 0.020*\")\" + 0.016*\"program\" + 0.013*\"system\" + 0.011*\"number\" + 0.011*\"gener\"\n",
      "2021-02-18 09:45:24,202 : INFO : topic diff=82.661461, rho=1.000000\n",
      "2021-02-18 09:45:25,246 : INFO : -7.280 per-word bound, 155.4 perplexity estimate based on a held-out corpus of 1204 documents with 49790 words\n",
      "2021-02-18 09:45:25,246 : INFO : PROGRESS: pass 0, at document #3204/3204\n",
      "2021-02-18 09:45:26,136 : INFO : optimized alpha [0.010059798, 0.010217585, 0.009775323, 0.010035818, 0.01017466, 0.009964766, 0.009956904, 0.009893739, 0.009970901, 0.010499934, 0.009893616, 0.010072132, 0.009815529, 0.009956994, 0.010175079, 0.0098811, 0.00973501, 0.010095599, 0.009912967, 0.009802982, 0.009607312, 0.0099453945, 0.009857163, 0.009920072, 0.010142802, 0.009943633, 0.009761378, 0.010089848, 0.010069052, 0.009828828, 0.01008796, 0.009896813, 0.009909513, 0.010024995, 0.009976587, 0.009713444, 0.009722845, 0.00990853, 0.01004749, 0.010155298, 0.010638329, 0.009878561, 0.010026237, 0.0099599995, 0.009795155, 0.0100122085, 0.010256981, 0.010094599, 0.010080014, 0.010125436, 0.010268365, 0.010074432, 0.010329832, 0.010036215, 0.009851829, 0.009842737, 0.009886414, 0.009876248, 0.010329753, 0.009926961, 0.00970481, 0.009860986, 0.009833066, 0.009982656, 0.009746661, 0.009862626, 0.009734124, 0.009730437, 0.009949398, 0.009850002, 0.010179483, 0.010242603, 0.009805412, 0.00968098, 0.009951226, 0.009782441, 0.00965678, 0.009700355, 0.009855584, 0.00995798, 0.010009617, 0.009719573, 0.0097434055, 0.009765712, 0.009949635, 0.009794467, 0.009828919, 0.00998121, 0.00981149, 0.010164453, 0.009915026, 0.010189508, 0.00988791, 0.009878973, 0.009799983, 0.010090399, 0.010039103, 0.009948409, 0.010180751, 0.009683058]\n",
      "2021-02-18 09:45:26,146 : INFO : merging changes from 1204 documents into a model of 3204 documents\n",
      "2021-02-18 09:45:26,157 : INFO : topic #20 (0.010): 0.073*\"squar\" + 0.063*\"(\" + 0.053*\"constant\" + 0.052*\"algorithm\" + 0.043*\"quadratur\" + 0.043*\"romberg\" + 0.042*\")\" + 0.038*\"modifi\" + 0.034*\"comput\" + 0.033*\"set\"\n",
      "2021-02-18 09:45:26,157 : INFO : topic #76 (0.010): 0.098*\"speed\" + 0.069*\"flow\" + 0.061*\"comput\" + 0.059*\"central\" + 0.056*\"determin\" + 0.047*\"effect\" + 0.042*\"rel\" + 0.030*\"-\" + 0.026*\"calcul\" + 0.024*\"measur\"\n",
      "2021-02-18 09:45:26,158 : INFO : topic #52 (0.010): 0.069*\",\" + 0.030*\"-\" + 0.026*\"control\" + 0.023*\"hash\" + 0.022*\"simul\" + 0.018*\"data\" + 0.017*\"delet\" + 0.016*\"method\" + 0.015*\"rout\" + 0.015*\"program\"\n",
      "2021-02-18 09:45:26,159 : INFO : topic #9 (0.010): 0.069*\"-\" + 0.064*\",\" + 0.024*\"languag\" + 0.019*\"(\" + 0.018*\")\" + 0.016*\";\" + 0.014*\"comput\" + 0.013*\"program\" + 0.012*\"grammar\" + 0.012*\"system\"\n",
      "2021-02-18 09:45:26,159 : INFO : topic #40 (0.011): 0.082*\",\" + 0.037*\"program\" + 0.029*\"system\" + 0.027*\"languag\" + 0.018*\"-\" + 0.016*\"data\" + 0.012*\"(\" + 0.012*\"comput\" + 0.011*\")\" + 0.011*\"structur\"\n",
      "2021-02-18 09:45:26,160 : INFO : topic diff=0.687301, rho=0.707107\n",
      "2021-02-18 09:45:26,169 : INFO : PROGRESS: pass 1, at document #2000/3204\n",
      "2021-02-18 09:45:27,079 : INFO : optimized alpha [0.0100582875, 0.010160152, 0.00978127, 0.009962984, 0.010158384, 0.009879276, 0.009890111, 0.009815872, 0.009964773, 0.010467798, 0.0098730475, 0.009986945, 0.0097684255, 0.00999898, 0.010093455, 0.010022717, 0.010014058, 0.010040802, 0.009895424, 0.009838962, 0.009701341, 0.009842216, 0.009750686, 0.009896369, 0.010075057, 0.010015099, 0.009761207, 0.010017863, 0.010097376, 0.009775176, 0.009997181, 0.009791995, 0.0098547125, 0.009958857, 0.010057483, 0.009688399, 0.009717679, 0.0098115085, 0.010002275, 0.010084524, 0.010655632, 0.009915369, 0.009925896, 0.00988898, 0.009690589, 0.009977264, 0.010156008, 0.010006538, 0.010023911, 0.010120498, 0.010200457, 0.0101016555, 0.010249476, 0.009947338, 0.009958262, 0.009804516, 0.009807657, 0.009874616, 0.010236527, 0.009867243, 0.009801737, 0.0098047005, 0.009805719, 0.0100012, 0.009676756, 0.009892798, 0.009782134, 0.009630074, 0.009912523, 0.009831046, 0.010975126, 0.010298275, 0.009757681, 0.009843834, 0.009906193, 0.0097951, 0.009696131, 0.009677446, 0.009809593, 0.0099203745, 0.009923851, 0.009716336, 0.009676166, 0.009813829, 0.009901691, 0.009713273, 0.009764934, 0.009943041, 0.009753017, 0.010080061, 0.009844126, 0.010109229, 0.00986575, 0.00985073, 0.009739407, 0.01001531, 0.010006012, 0.009831806, 0.010107262, 0.009647994]\n"
     ]
    },
    {
     "name": "stderr",
     "output_type": "stream",
     "text": [
      "2021-02-18 09:45:27,079 : INFO : merging changes from 2000 documents into a model of 3204 documents\n",
      "2021-02-18 09:45:27,101 : INFO : topic #67 (0.010): 0.058*\",\" + 0.052*\"program\" + 0.040*\"grammar\" + 0.038*\"insert\" + 0.031*\"gener\" + 0.030*\"system\" + 0.025*\"sentenc\" + 0.023*\"restrict\" + 0.022*\"tree\" + 0.020*\"-\"\n",
      "2021-02-18 09:45:27,102 : INFO : topic #64 (0.010): 0.056*\"program\" + 0.051*\"algorithm\" + 0.039*\"regist\" + 0.039*\"-\" + 0.035*\"problem\" + 0.030*\"(\" + 0.029*\"alloc\" + 0.023*\"linear\" + 0.022*\",\" + 0.021*\"occurr\"\n",
      "2021-02-18 09:45:27,103 : INFO : topic #9 (0.010): 0.075*\"-\" + 0.067*\",\" + 0.030*\"languag\" + 0.021*\"(\" + 0.021*\")\" + 0.017*\";\" + 0.014*\"comput\" + 0.014*\"program\" + 0.012*\"grammar\" + 0.011*\"\"\"\n",
      "2021-02-18 09:45:27,104 : INFO : topic #40 (0.011): 0.085*\",\" + 0.040*\"program\" + 0.032*\"languag\" + 0.029*\"system\" + 0.018*\"-\" + 0.016*\"data\" + 0.013*\"process\" + 0.012*\"comput\" + 0.012*\"(\" + 0.011*\")\"\n",
      "2021-02-18 09:45:27,104 : INFO : topic #70 (0.011): 0.225*\"(\" + 0.209*\"algorithm\" + 0.181*\")\" + 0.034*\"$\" + 0.030*\"[\" + 0.026*\"function\" + 0.025*\"))\" + 0.020*\"])\" + 0.015*\"-\" + 0.013*\"polynomi\"\n",
      "2021-02-18 09:45:27,105 : INFO : topic diff=0.327969, rho=0.526900\n",
      "2021-02-18 09:45:28,049 : INFO : -6.891 per-word bound, 118.7 perplexity estimate based on a held-out corpus of 1204 documents with 49790 words\n",
      "2021-02-18 09:45:28,049 : INFO : PROGRESS: pass 1, at document #3204/3204\n",
      "2021-02-18 09:45:28,859 : INFO : optimized alpha [0.010274425, 0.010365775, 0.0098256795, 0.010083218, 0.010398379, 0.010195554, 0.010039853, 0.009849269, 0.010211103, 0.0107122585, 0.010030009, 0.010220449, 0.009837332, 0.010115931, 0.01030754, 0.010153981, 0.010054774, 0.010088925, 0.010014786, 0.00988214, 0.009655624, 0.009949891, 0.00983948, 0.010022827, 0.010332609, 0.010145446, 0.009819206, 0.010329155, 0.010438385, 0.009859539, 0.010192412, 0.009871703, 0.009964116, 0.010182659, 0.010347322, 0.009725753, 0.009736458, 0.009971319, 0.010226393, 0.010333715, 0.011094559, 0.010028489, 0.01003035, 0.009938301, 0.009664062, 0.010074417, 0.010504992, 0.010192652, 0.010229923, 0.010428472, 0.010455604, 0.010375183, 0.010594902, 0.010040652, 0.010093459, 0.009839369, 0.009934613, 0.009962987, 0.010387111, 0.009948138, 0.009772011, 0.009842322, 0.0099025015, 0.01016888, 0.009684325, 0.010027389, 0.009861654, 0.009613172, 0.010040448, 0.00987587, 0.01166132, 0.010496438, 0.009751126, 0.0098604085, 0.01004654, 0.009891114, 0.009719107, 0.009675536, 0.009841474, 0.010139609, 0.009977245, 0.009713219, 0.00967061, 0.009783907, 0.009989596, 0.009707607, 0.009814734, 0.010083045, 0.009827761, 0.010305544, 0.009958103, 0.010311148, 0.009906206, 0.009929876, 0.009815277, 0.010145095, 0.010133519, 0.009960742, 0.010339902, 0.009638645]\n",
      "2021-02-18 09:45:28,866 : INFO : merging changes from 1204 documents into a model of 3204 documents\n",
      "2021-02-18 09:45:28,877 : INFO : topic #99 (0.010): 0.166*\"definit\" + 0.065*\"discuss\" + 0.061*\"acm\" + 0.053*\"practic\" + 0.048*\"program\" + 0.046*\"recurs\" + 0.039*\"empir\" + 0.034*\"integr\" + 0.033*\"evalu\" + 0.033*\"posit\"\n",
      "2021-02-18 09:45:28,878 : INFO : topic #67 (0.010): 0.076*\"insert\" + 0.058*\",\" + 0.052*\"program\" + 0.052*\"grammar\" + 0.035*\"restrict\" + 0.033*\"gener\" + 0.033*\"tree\" + 0.024*\"system\" + 0.022*\"sentenc\" + 0.020*\"-\"\n",
      "2021-02-18 09:45:28,879 : INFO : topic #9 (0.011): 0.075*\"-\" + 0.071*\",\" + 0.029*\"languag\" + 0.021*\"(\" + 0.020*\";\" + 0.020*\")\" + 0.017*\"semant\" + 0.016*\"grammar\" + 0.016*\"parser\" + 0.013*\"program\"\n",
      "2021-02-18 09:45:28,880 : INFO : topic #40 (0.011): 0.086*\",\" + 0.039*\"program\" + 0.034*\"languag\" + 0.029*\"system\" + 0.023*\"data\" + 0.015*\"-\" + 0.013*\"structur\" + 0.012*\"process\" + 0.011*\"comput\" + 0.011*\"relat\"\n",
      "2021-02-18 09:45:28,881 : INFO : topic #70 (0.012): 0.246*\"(\" + 0.213*\"algorithm\" + 0.196*\")\" + 0.047*\"$\" + 0.037*\"))\" + 0.022*\"[\" + 0.021*\"function\" + 0.013*\"-\" + 0.013*\"order\" + 0.012*\"complex\"\n",
      "2021-02-18 09:45:28,882 : INFO : topic diff=0.418560, rho=0.526900\n",
      "2021-02-18 09:45:28,891 : INFO : PROGRESS: pass 2, at document #2000/3204\n",
      "2021-02-18 09:45:29,753 : INFO : optimized alpha [0.010283297, 0.010323133, 0.009842905, 0.010030732, 0.010393641, 0.0101305945, 0.00997551, 0.009796313, 0.010229789, 0.0106631955, 0.010039282, 0.010162241, 0.009856876, 0.010187507, 0.010233515, 0.010363975, 0.0104091335, 0.010043969, 0.010036822, 0.009950672, 0.009825133, 0.009883217, 0.009795411, 0.010011039, 0.010291937, 0.010272761, 0.009865745, 0.010305816, 0.010516662, 0.009828964, 0.010132661, 0.009803904, 0.009962395, 0.010148534, 0.010451481, 0.009798612, 0.009771445, 0.00992523, 0.010205791, 0.010273551, 0.011112902, 0.010070084, 0.009949661, 0.009884012, 0.009591628, 0.010053224, 0.010435941, 0.010111205, 0.010192979, 0.010462715, 0.010422373, 0.010440434, 0.010516596, 0.009967644, 0.010290101, 0.009822896, 0.009895376, 0.009999025, 0.010299283, 0.009919556, 0.009842454, 0.009822003, 0.009913273, 0.0102347955, 0.009645355, 0.01007668, 0.009999806, 0.009548508, 0.010078684, 0.009906512, 0.012706014, 0.010594961, 0.009733835, 0.010091264, 0.0100299055, 0.009951064, 0.009831787, 0.009702253, 0.009857704, 0.010123235, 0.009919564, 0.009743323, 0.009631671, 0.009845882, 0.009954496, 0.009656924, 0.009824148, 0.010067456, 0.009806724, 0.010238655, 0.009904946, 0.010243384, 0.009887242, 0.00993102, 0.009787717, 0.010107191, 0.01012532, 0.009891275, 0.010280217, 0.009636445]\n",
      "2021-02-18 09:45:29,766 : INFO : merging changes from 2000 documents into a model of 3204 documents\n",
      "2021-02-18 09:45:29,766 : INFO : topic #67 (0.010): 0.061*\",\" + 0.059*\"grammar\" + 0.051*\"program\" + 0.049*\"insert\" + 0.042*\"sentenc\" + 0.034*\"gener\" + 0.028*\"restrict\" + 0.027*\"system\" + 0.025*\"tree\" + 0.019*\"-\"\n",
      "2021-02-18 09:45:29,766 : INFO : topic #44 (0.010): 0.090*\",\" + 0.039*\"associ\" + 0.021*\"output\" + 0.020*\"key\" + 0.020*\"requir\" + 0.020*\"procedur\" + 0.018*\"form\" + 0.017*\"-\" + 0.016*\"data\" + 0.016*\"time\"\n",
      "2021-02-18 09:45:29,781 : INFO : topic #9 (0.011): 0.078*\"-\" + 0.074*\",\" + 0.035*\"languag\" + 0.023*\"(\" + 0.022*\")\" + 0.021*\";\" + 0.016*\"grammar\" + 0.014*\"semant\" + 0.013*\"program\" + 0.013*\"parser\"\n",
      "2021-02-18 09:45:29,781 : INFO : topic #40 (0.011): 0.090*\",\" + 0.043*\"program\" + 0.039*\"languag\" + 0.028*\"system\" + 0.022*\"data\" + 0.015*\"-\" + 0.014*\"process\" + 0.013*\"structur\" + 0.011*\"applic\" + 0.011*\"comput\"\n",
      "2021-02-18 09:45:29,781 : INFO : topic #70 (0.013): 0.267*\"(\" + 0.230*\")\" + 0.221*\"algorithm\" + 0.028*\"$\" + 0.021*\"))\" + 0.020*\"function\" + 0.017*\"[\" + 0.012*\"order\" + 0.012*\"polynomi\" + 0.011*\"-\"\n",
      "2021-02-18 09:45:29,784 : INFO : topic diff=0.405100, rho=0.466151\n",
      "2021-02-18 09:45:30,720 : INFO : -6.776 per-word bound, 109.6 perplexity estimate based on a held-out corpus of 1204 documents with 49790 words\n",
      "2021-02-18 09:45:30,720 : INFO : PROGRESS: pass 2, at document #3204/3204\n",
      "2021-02-18 09:45:31,542 : INFO : optimized alpha [0.010504384, 0.010497852, 0.009882584, 0.010149612, 0.010591085, 0.010410954, 0.010108638, 0.009873435, 0.010502376, 0.010834244, 0.010190702, 0.01040634, 0.009983931, 0.0103225205, 0.010411912, 0.010520056, 0.010461191, 0.010075395, 0.010193941, 0.010042394, 0.009821675, 0.010002723, 0.009924594, 0.010193988, 0.010546297, 0.010395366, 0.00995563, 0.010634039, 0.010821231, 0.009919681, 0.010274582, 0.009925481, 0.010109963, 0.01036809, 0.010752702, 0.009904487, 0.009807393, 0.010102861, 0.010401755, 0.010495875, 0.011471161, 0.010189678, 0.010089572, 0.009893975, 0.009575004, 0.010159442, 0.010799052, 0.010292646, 0.010380476, 0.0107686035, 0.010682889, 0.010685578, 0.010826067, 0.010047171, 0.010437396, 0.009885302, 0.010047048, 0.010085027, 0.010424868, 0.010022939, 0.00984335, 0.009864098, 0.010037834, 0.0104361605, 0.009691797, 0.010219163, 0.010147962, 0.009543906, 0.01023548, 0.00997364, 0.013610259, 0.010767249, 0.00979063, 0.010130525, 0.01015067, 0.010074844, 0.009885744, 0.009742855, 0.009921041, 0.010390379, 0.009956286, 0.009783141, 0.009647682, 0.009816045, 0.010044756, 0.009669164, 0.009911157, 0.0102509055, 0.009923298, 0.010427338, 0.010025726, 0.010455355, 0.009931432, 0.009997648, 0.009932169, 0.010182869, 0.010266305, 0.010033292, 0.01049981, 0.009697066]\n",
      "2021-02-18 09:45:31,563 : INFO : merging changes from 1204 documents into a model of 3204 documents\n"
     ]
    },
    {
     "name": "stderr",
     "output_type": "stream",
     "text": [
      "2021-02-18 09:45:31,575 : INFO : topic #67 (0.010): 0.078*\"insert\" + 0.074*\"grammar\" + 0.060*\",\" + 0.048*\"program\" + 0.039*\"restrict\" + 0.037*\"sentenc\" + 0.036*\"gener\" + 0.032*\"tree\" + 0.023*\"system\" + 0.020*\"form\"\n",
      "2021-02-18 09:45:31,576 : INFO : topic #44 (0.010): 0.094*\",\" + 0.053*\"associ\" + 0.030*\"key\" + 0.029*\"requir\" + 0.021*\"output\" + 0.021*\"form\" + 0.020*\"data\" + 0.020*\"time\" + 0.019*\"procedur\" + 0.019*\"lack\"\n",
      "2021-02-18 09:45:31,577 : INFO : topic #9 (0.011): 0.077*\",\" + 0.076*\"-\" + 0.033*\"languag\" + 0.023*\";\" + 0.022*\"(\" + 0.021*\")\" + 0.021*\"parser\" + 0.021*\"semant\" + 0.020*\"grammar\" + 0.015*\"natur\"\n",
      "2021-02-18 09:45:31,578 : INFO : topic #40 (0.011): 0.091*\",\" + 0.040*\"program\" + 0.039*\"languag\" + 0.029*\"data\" + 0.028*\"system\" + 0.015*\"structur\" + 0.014*\"-\" + 0.013*\"process\" + 0.012*\"relat\" + 0.012*\"base\"\n",
      "2021-02-18 09:45:31,579 : INFO : topic #70 (0.014): 0.287*\"(\" + 0.240*\")\" + 0.212*\"algorithm\" + 0.037*\"$\" + 0.029*\"))\" + 0.018*\"function\" + 0.013*\"order\" + 0.011*\"complex\" + 0.011*\"[\" + 0.010*\"-\"\n",
      "2021-02-18 09:45:31,580 : INFO : topic diff=0.526411, rho=0.466151\n",
      "2021-02-18 09:45:31,590 : INFO : PROGRESS: pass 3, at document #2000/3204\n",
      "2021-02-18 09:45:32,432 : INFO : optimized alpha [0.010533255, 0.010462787, 0.009945177, 0.010123868, 0.010589806, 0.010378343, 0.010039717, 0.009851618, 0.010528423, 0.01079132, 0.010231028, 0.010356031, 0.010029247, 0.010411287, 0.010355255, 0.010740734, 0.010865274, 0.0100556165, 0.010219987, 0.010142768, 0.009985301, 0.009963929, 0.009905554, 0.010208216, 0.010511808, 0.010524952, 0.010019326, 0.01062572, 0.010900281, 0.009907101, 0.010224721, 0.009893823, 0.010122819, 0.010353036, 0.01083766, 0.0100405915, 0.0098479595, 0.010084, 0.010397382, 0.010459842, 0.011494491, 0.010248926, 0.010023021, 0.009857285, 0.00953674, 0.010162227, 0.010729788, 0.010253028, 0.010365643, 0.010809318, 0.010680088, 0.010725754, 0.010770155, 0.009997134, 0.010632004, 0.009885735, 0.010021663, 0.010154302, 0.0103456555, 0.009988473, 0.009909983, 0.009846795, 0.010070801, 0.010533261, 0.009669907, 0.010289344, 0.010328716, 0.009500072, 0.010313426, 0.010036009, 0.014867444, 0.01087555, 0.009783862, 0.0103519885, 0.010148424, 0.010154832, 0.01003069, 0.009777975, 0.009969866, 0.01040642, 0.009912077, 0.009846217, 0.009622238, 0.009854062, 0.010023919, 0.0096374955, 0.009947397, 0.010248737, 0.009927153, 0.010383414, 0.009986084, 0.0104125, 0.009929867, 0.010018453, 0.009925718, 0.010164259, 0.010271535, 0.00998303, 0.010459958, 0.0097161345]\n",
      "2021-02-18 09:45:32,454 : INFO : merging changes from 2000 documents into a model of 3204 documents\n",
      "2021-02-18 09:45:32,464 : INFO : topic #67 (0.010): 0.077*\"grammar\" + 0.061*\",\" + 0.053*\"insert\" + 0.052*\"sentenc\" + 0.047*\"program\" + 0.037*\"gener\" + 0.031*\"restrict\" + 0.026*\"tree\" + 0.025*\"system\" + 0.020*\"form\"\n",
      "2021-02-18 09:45:32,464 : INFO : topic #44 (0.010): 0.092*\",\" + 0.051*\"associ\" + 0.027*\"output\" + 0.024*\"requir\" + 0.023*\"key\" + 0.022*\"procedur\" + 0.021*\"form\" + 0.019*\"data\" + 0.018*\"time\" + 0.016*\"rang\"\n",
      "2021-02-18 09:45:32,464 : INFO : topic #16 (0.011): 0.151*\"algorithm\" + 0.142*\"[\" + 0.133*\"])\" + 0.121*\"(\" + 0.089*\"gener\" + 0.088*\"random\" + 0.054*\"permut\" + 0.032*\"distribut\" + 0.024*\"symmetr\" + 0.023*\"normal\"\n",
      "2021-02-18 09:45:32,464 : INFO : topic #40 (0.011): 0.094*\",\" + 0.043*\"program\" + 0.042*\"languag\" + 0.029*\"data\" + 0.028*\"system\" + 0.015*\"process\" + 0.015*\"structur\" + 0.013*\"-\" + 0.012*\"base\" + 0.012*\"relat\"\n",
      "2021-02-18 09:45:32,464 : INFO : topic #70 (0.015): 0.298*\"(\" + 0.261*\")\" + 0.216*\"algorithm\" + 0.026*\"$\" + 0.019*\"))\" + 0.018*\"function\" + 0.012*\"order\" + 0.011*\"polynomi\" + 0.010*\"complex\" + 0.009*\"-\"\n",
      "2021-02-18 09:45:32,464 : INFO : topic diff=0.531427, rho=0.422502\n",
      "2021-02-18 09:45:33,363 : INFO : -6.698 per-word bound, 103.8 perplexity estimate based on a held-out corpus of 1204 documents with 49790 words\n",
      "2021-02-18 09:45:33,363 : INFO : PROGRESS: pass 3, at document #3204/3204\n",
      "2021-02-18 09:45:34,089 : INFO : optimized alpha [0.010765778, 0.010614642, 0.009991688, 0.010228782, 0.010725046, 0.010665561, 0.010157788, 0.009960923, 0.010794316, 0.010951249, 0.010391051, 0.010616558, 0.010184635, 0.010541578, 0.010529213, 0.010878485, 0.010923452, 0.010103127, 0.010385474, 0.010275684, 0.009991244, 0.010087346, 0.010030556, 0.010401106, 0.010756434, 0.010639569, 0.01012943, 0.010939971, 0.011201342, 0.010004223, 0.010368962, 0.010025862, 0.0102929, 0.010557654, 0.011127307, 0.010182906, 0.009894643, 0.010267945, 0.010602371, 0.010667051, 0.011825171, 0.010375847, 0.010154433, 0.009882028, 0.0095442245, 0.010288105, 0.01110661, 0.010429822, 0.010548022, 0.011102993, 0.010896188, 0.010957896, 0.011054543, 0.010056028, 0.010784653, 0.009946589, 0.010170726, 0.010264694, 0.010486057, 0.0100938715, 0.009935623, 0.009892946, 0.010212705, 0.01072153, 0.009740444, 0.010422689, 0.010504213, 0.009497811, 0.010482093, 0.010146701, 0.015957817, 0.011052189, 0.009853348, 0.010403933, 0.010269382, 0.010264088, 0.010110604, 0.009822215, 0.010062702, 0.010678241, 0.009967905, 0.009917166, 0.009655259, 0.009838645, 0.010134883, 0.009656852, 0.010058464, 0.010438402, 0.010082664, 0.010537175, 0.01011047, 0.010632442, 0.009956349, 0.010090047, 0.010078686, 0.0102335345, 0.010407423, 0.010105741, 0.010664756, 0.009819724]\n",
      "2021-02-18 09:45:34,105 : INFO : merging changes from 1204 documents into a model of 3204 documents\n",
      "2021-02-18 09:45:34,119 : INFO : topic #67 (0.009): 0.093*\"grammar\" + 0.079*\"insert\" + 0.060*\",\" + 0.046*\"sentenc\" + 0.045*\"restrict\" + 0.042*\"program\" + 0.039*\"gener\" + 0.031*\"tree\" + 0.024*\"form\" + 0.022*\"system\"\n",
      "2021-02-18 09:45:34,121 : INFO : topic #44 (0.010): 0.099*\",\" + 0.057*\"associ\" + 0.031*\"key\" + 0.030*\"requir\" + 0.027*\"output\" + 0.024*\"form\" + 0.022*\"data\" + 0.022*\"lack\" + 0.021*\"procedur\" + 0.020*\"time\"\n",
      "2021-02-18 09:45:34,122 : INFO : topic #28 (0.011): 0.146*\"]\" + 0.128*\"[\" + 0.112*\")\" + 0.110*\"(\" + 0.106*\"algorithm\" + 0.074*\"function\" + 0.039*\"complex\" + 0.030*\"-\" + 0.015*\"number\" + 0.014*\"argument\"\n",
      "2021-02-18 09:45:34,123 : INFO : topic #40 (0.012): 0.094*\",\" + 0.042*\"languag\" + 0.040*\"program\" + 0.035*\"data\" + 0.027*\"system\" + 0.017*\"structur\" + 0.014*\"relat\" + 0.014*\"process\" + 0.013*\"base\" + 0.013*\"local\"\n",
      "2021-02-18 09:45:34,124 : INFO : topic #70 (0.016): 0.314*\"(\" + 0.266*\")\" + 0.206*\"algorithm\" + 0.032*\"$\" + 0.026*\"))\" + 0.016*\"function\" + 0.013*\"order\" + 0.011*\"complex\" + 0.009*\"-\" + 0.008*\"a1\"\n",
      "2021-02-18 09:45:34,125 : INFO : topic diff=0.640793, rho=0.422502\n",
      "2021-02-18 09:45:34,134 : INFO : PROGRESS: pass 4, at document #2000/3204\n",
      "2021-02-18 09:45:34,933 : INFO : optimized alpha [0.010799599, 0.0105925035, 0.010049653, 0.0102213435, 0.010725537, 0.010656068, 0.010108616, 0.009948759, 0.010819052, 0.010911193, 0.010440234, 0.010578408, 0.010240263, 0.010636118, 0.01048886, 0.011096083, 0.01132321, 0.010107679, 0.010425179, 0.010382782, 0.010149617, 0.010047539, 0.010032536, 0.010435827, 0.010726999, 0.010770532, 0.010206283, 0.010964355, 0.011293118, 0.009994789, 0.010332904, 0.010004388, 0.0103241075, 0.010544649, 0.011217872, 0.010343941, 0.0099460725, 0.010255724, 0.010597113, 0.010643189, 0.011851109, 0.010432531, 0.01010122, 0.009863236, 0.009525666, 0.010308846, 0.011058224, 0.010406798, 0.010549883, 0.01116738, 0.010903115, 0.011002302, 0.011007036, 0.010020859, 0.011002922, 0.009953338, 0.010152855, 0.010371121, 0.010423496, 0.010078182, 0.010001545, 0.009907051, 0.010258809, 0.010844953, 0.009738093, 0.010487416, 0.010702768, 0.009466794, 0.010593272, 0.01021244, 0.017387792, 0.011159241, 0.009868638, 0.010621541, 0.010271128, 0.010340277, 0.0102596525, 0.009876315, 0.010117783, 0.010712222, 0.009939857, 0.009985403, 0.009636686, 0.009882269, 0.010117684, 0.009628961, 0.010099952, 0.010459879, 0.010101349, 0.010494199, 0.010079852, 0.010601923, 0.009961725, 0.010117542, 0.010080137, 0.010221, 0.010426168, 0.010071417, 0.010624763, 0.009852664]\n",
      "2021-02-18 09:45:34,945 : INFO : merging changes from 2000 documents into a model of 3204 documents\n",
      "2021-02-18 09:45:34,956 : INFO : topic #67 (0.009): 0.095*\"grammar\" + 0.061*\",\" + 0.060*\"sentenc\" + 0.055*\"insert\" + 0.042*\"program\" + 0.041*\"gener\" + 0.035*\"restrict\" + 0.027*\"form\" + 0.025*\"tree\" + 0.024*\"english\"\n"
     ]
    },
    {
     "name": "stderr",
     "output_type": "stream",
     "text": [
      "2021-02-18 09:45:34,957 : INFO : topic #44 (0.010): 0.096*\",\" + 0.055*\"associ\" + 0.034*\"output\" + 0.026*\"requir\" + 0.025*\"form\" + 0.024*\"procedur\" + 0.023*\"key\" + 0.022*\"data\" + 0.019*\"time\" + 0.019*\"input\"\n",
      "2021-02-18 09:45:34,957 : INFO : topic #16 (0.011): 0.157*\"algorithm\" + 0.149*\"[\" + 0.142*\"])\" + 0.125*\"(\" + 0.091*\"random\" + 0.085*\"gener\" + 0.056*\"permut\" + 0.026*\"symmetr\" + 0.024*\"distribut\" + 0.022*\"normal\"\n",
      "2021-02-18 09:45:34,959 : INFO : topic #40 (0.012): 0.096*\",\" + 0.044*\"languag\" + 0.043*\"program\" + 0.036*\"data\" + 0.027*\"system\" + 0.017*\"structur\" + 0.016*\"process\" + 0.013*\"relat\" + 0.012*\"base\" + 0.012*\"-\"\n",
      "2021-02-18 09:45:34,959 : INFO : topic #70 (0.017): 0.319*\"(\" + 0.280*\")\" + 0.209*\"algorithm\" + 0.024*\"$\" + 0.018*\"))\" + 0.017*\"function\" + 0.012*\"order\" + 0.010*\"complex\" + 0.009*\"polynomi\" + 0.008*\"-\"\n",
      "2021-02-18 09:45:34,961 : INFO : topic diff=0.614206, rho=0.389191\n",
      "2021-02-18 09:45:35,820 : INFO : -6.640 per-word bound, 99.8 perplexity estimate based on a held-out corpus of 1204 documents with 49790 words\n",
      "2021-02-18 09:45:35,820 : INFO : PROGRESS: pass 4, at document #3204/3204\n",
      "2021-02-18 09:45:36,649 : INFO : optimized alpha [0.011020158, 0.010723052, 0.010092693, 0.010332005, 0.010851098, 0.010921396, 0.010225144, 0.010063468, 0.011085533, 0.011059757, 0.010609321, 0.0108250985, 0.010388212, 0.010774104, 0.010647072, 0.01123744, 0.011380389, 0.010168801, 0.010585963, 0.010526081, 0.010170475, 0.010168774, 0.01014856, 0.010652754, 0.010965576, 0.010865603, 0.010324736, 0.0112560745, 0.011579824, 0.01007528, 0.0104904985, 0.0101432195, 0.010492288, 0.010748535, 0.011482078, 0.010526532, 0.009989397, 0.010453675, 0.010787918, 0.0108497795, 0.012160863, 0.010563705, 0.0102267, 0.009903308, 0.009540117, 0.010432532, 0.01144849, 0.010571123, 0.010722903, 0.011461148, 0.011097093, 0.01122595, 0.0112903975, 0.010076033, 0.011176354, 0.010010084, 0.010307811, 0.010486641, 0.010570781, 0.010179378, 0.0100350985, 0.009953624, 0.010393773, 0.01103442, 0.0098419245, 0.010624422, 0.010932569, 0.009469458, 0.010774363, 0.010321718, 0.01865189, 0.011349256, 0.009936266, 0.01068168, 0.0103899855, 0.010464955, 0.010333068, 0.009914065, 0.010223475, 0.010991437, 0.009998785, 0.0100672105, 0.009674437, 0.0098817125, 0.010247248, 0.009651122, 0.01021279, 0.01065014, 0.01026236, 0.010647172, 0.010198669, 0.010830965, 0.009996665, 0.010193909, 0.010238609, 0.010292233, 0.010559032, 0.010198576, 0.010829316, 0.009964861]\n",
      "2021-02-18 09:45:36,664 : INFO : merging changes from 1204 documents into a model of 3204 documents\n",
      "2021-02-18 09:45:36,676 : INFO : topic #67 (0.009): 0.105*\"grammar\" + 0.077*\"insert\" + 0.060*\",\" + 0.053*\"sentenc\" + 0.049*\"restrict\" + 0.043*\"gener\" + 0.037*\"program\" + 0.029*\"form\" + 0.029*\"tree\" + 0.024*\"english\"\n",
      "2021-02-18 09:45:36,677 : INFO : topic #44 (0.010): 0.102*\",\" + 0.058*\"associ\" + 0.033*\"output\" + 0.031*\"requir\" + 0.030*\"form\" + 0.028*\"key\" + 0.024*\"data\" + 0.024*\"procedur\" + 0.023*\"lack\" + 0.020*\"time\"\n",
      "2021-02-18 09:45:36,678 : INFO : topic #28 (0.012): 0.141*\"]\" + 0.132*\"[\" + 0.115*\"(\" + 0.114*\")\" + 0.112*\"algorithm\" + 0.077*\"function\" + 0.042*\"complex\" + 0.028*\"-\" + 0.014*\"number\" + 0.014*\"argument\"\n",
      "2021-02-18 09:45:36,678 : INFO : topic #40 (0.012): 0.096*\",\" + 0.042*\"languag\" + 0.041*\"data\" + 0.040*\"program\" + 0.026*\"system\" + 0.019*\"structur\" + 0.015*\"relat\" + 0.015*\"process\" + 0.014*\"local\" + 0.013*\"paper\"\n",
      "2021-02-18 09:45:36,679 : INFO : topic #70 (0.019): 0.329*\"(\" + 0.281*\")\" + 0.201*\"algorithm\" + 0.030*\"$\" + 0.024*\"))\" + 0.015*\"function\" + 0.013*\"order\" + 0.011*\"complex\" + 0.008*\"-\" + 0.008*\"a1\"\n",
      "2021-02-18 09:45:36,680 : INFO : topic diff=0.675065, rho=0.389191\n",
      "2021-02-18 09:45:36,688 : INFO : PROGRESS: pass 5, at document #2000/3204\n",
      "2021-02-18 09:45:37,593 : INFO : optimized alpha [0.011048782, 0.010710253, 0.010141631, 0.01032889, 0.010855422, 0.010914709, 0.010187013, 0.010055761, 0.011115225, 0.011026195, 0.010666544, 0.010785754, 0.010457259, 0.010864797, 0.010609101, 0.011474685, 0.011802386, 0.010188466, 0.010632396, 0.010644041, 0.010330984, 0.0101373615, 0.010152208, 0.010692169, 0.010944662, 0.0109969005, 0.010415653, 0.011298011, 0.011654526, 0.010076086, 0.010456354, 0.010137696, 0.010547777, 0.010729398, 0.011560099, 0.010704307, 0.01005419, 0.0104565825, 0.010787914, 0.010836383, 0.012176252, 0.0106281135, 0.010186464, 0.009895797, 0.009541458, 0.0104652615, 0.011407658, 0.010545181, 0.010737657, 0.011524667, 0.011126969, 0.011264552, 0.011245835, 0.010053419, 0.011392109, 0.010024206, 0.010298189, 0.010610012, 0.010516256, 0.010159178, 0.010099003, 0.009973005, 0.01043684, 0.01117692, 0.009857724, 0.010709911, 0.011147837, 0.009452478, 0.010902649, 0.010389028, 0.020262327, 0.011451657, 0.009959997, 0.0108919, 0.010395329, 0.010542088, 0.010477518, 0.0099831885, 0.010293646, 0.011035887, 0.009984392, 0.010140412, 0.00966678, 0.009908714, 0.010236628, 0.0096350415, 0.01026094, 0.010677277, 0.010283136, 0.010612516, 0.010171939, 0.0108050695, 0.010024263, 0.010231241, 0.010248772, 0.010288554, 0.010591803, 0.010173939, 0.010794846, 0.010001038]\n",
      "2021-02-18 09:45:37,613 : INFO : merging changes from 2000 documents into a model of 3204 documents\n",
      "2021-02-18 09:45:37,625 : INFO : topic #67 (0.009): 0.104*\"grammar\" + 0.066*\"sentenc\" + 0.060*\",\" + 0.055*\"insert\" + 0.041*\"gener\" + 0.038*\"restrict\" + 0.038*\"program\" + 0.032*\"form\" + 0.032*\"english\" + 0.024*\"system\"\n",
      "2021-02-18 09:45:37,626 : INFO : topic #44 (0.010): 0.099*\",\" + 0.055*\"associ\" + 0.040*\"output\" + 0.029*\"form\" + 0.028*\"requir\" + 0.026*\"procedur\" + 0.026*\"input\" + 0.024*\"data\" + 0.021*\"key\" + 0.019*\"lack\"\n",
      "2021-02-18 09:45:37,627 : INFO : topic #16 (0.012): 0.159*\"algorithm\" + 0.155*\"[\" + 0.150*\"])\" + 0.131*\"(\" + 0.091*\"random\" + 0.080*\"gener\" + 0.057*\"permut\" + 0.027*\"symmetr\" + 0.021*\"normal\" + 0.020*\"g6\"\n",
      "2021-02-18 09:45:37,628 : INFO : topic #40 (0.012): 0.098*\",\" + 0.043*\"languag\" + 0.042*\"program\" + 0.041*\"data\" + 0.026*\"system\" + 0.018*\"structur\" + 0.017*\"process\" + 0.014*\"relat\" + 0.012*\"paper\" + 0.012*\"base\"\n",
      "2021-02-18 09:45:37,628 : INFO : topic #70 (0.020): 0.331*\"(\" + 0.292*\")\" + 0.203*\"algorithm\" + 0.023*\"$\" + 0.017*\"))\" + 0.016*\"function\" + 0.012*\"order\" + 0.010*\"complex\" + 0.009*\"polynomi\" + 0.008*\"-\"\n",
      "2021-02-18 09:45:37,629 : INFO : topic diff=0.612987, rho=0.362690\n",
      "2021-02-18 09:45:38,516 : INFO : -6.600 per-word bound, 97.0 perplexity estimate based on a held-out corpus of 1204 documents with 49790 words\n",
      "2021-02-18 09:45:38,516 : INFO : PROGRESS: pass 5, at document #3204/3204\n",
      "2021-02-18 09:45:39,245 : INFO : optimized alpha [0.011256828, 0.010842729, 0.010182019, 0.010436071, 0.010970026, 0.011168805, 0.010299649, 0.010175841, 0.01139125, 0.011162455, 0.010848201, 0.011028546, 0.010615578, 0.01100741, 0.010764354, 0.011592465, 0.011852146, 0.010267775, 0.010796584, 0.010794599, 0.010365208, 0.010248271, 0.010282555, 0.010906848, 0.011179822, 0.011092069, 0.010523622, 0.011588739, 0.011933685, 0.010145642, 0.010598083, 0.010283657, 0.01070273, 0.010931165, 0.011817132, 0.010883367, 0.0100917695, 0.010671894, 0.010970866, 0.011030909, 0.012469433, 0.010751261, 0.010310548, 0.009946094, 0.009561716, 0.010603765, 0.011789549, 0.0106932605, 0.01090691, 0.011799979, 0.011346849, 0.011485845, 0.011520396, 0.0101056965, 0.01157595, 0.010095898, 0.010446957, 0.010714877, 0.010661283, 0.010275933, 0.010139556, 0.01001391, 0.010585591, 0.011362413, 0.009967275, 0.010844907, 0.011406787, 0.009467676, 0.0110932235, 0.010501076, 0.021675216, 0.0116552785, 0.010041572, 0.010956712, 0.010519528, 0.010684401, 0.010548834, 0.010036634, 0.010402057, 0.011310801, 0.010046235, 0.01022309, 0.009708751, 0.009906063, 0.010358533, 0.00965965, 0.010363793, 0.01087276, 0.010444005, 0.010772332, 0.010277437, 0.011017795, 0.010066477, 0.010296719, 0.01041016, 0.010349414, 0.010700598, 0.010287377, 0.010990856, 0.010115424]\n",
      "2021-02-18 09:45:39,262 : INFO : merging changes from 1204 documents into a model of 3204 documents\n",
      "2021-02-18 09:45:39,273 : INFO : topic #67 (0.009): 0.111*\"grammar\" + 0.076*\"insert\" + 0.059*\",\" + 0.058*\"sentenc\" + 0.053*\"restrict\" + 0.043*\"gener\" + 0.034*\"program\" + 0.033*\"form\" + 0.030*\"english\" + 0.027*\"tree\"\n",
      "2021-02-18 09:45:39,274 : INFO : topic #44 (0.010): 0.104*\",\" + 0.057*\"associ\" + 0.038*\"output\" + 0.036*\"form\" + 0.033*\"requir\" + 0.026*\"data\" + 0.026*\"procedur\" + 0.024*\"lack\" + 0.022*\"input\" + 0.022*\"key\"\n"
     ]
    },
    {
     "name": "stderr",
     "output_type": "stream",
     "text": [
      "2021-02-18 09:45:39,274 : INFO : topic #28 (0.012): 0.137*\"]\" + 0.134*\"[\" + 0.118*\"(\" + 0.116*\")\" + 0.115*\"algorithm\" + 0.078*\"function\" + 0.044*\"complex\" + 0.027*\"-\" + 0.014*\"argument\" + 0.014*\"number\"\n",
      "2021-02-18 09:45:39,275 : INFO : topic #40 (0.012): 0.098*\",\" + 0.045*\"data\" + 0.041*\"languag\" + 0.038*\"program\" + 0.025*\"system\" + 0.021*\"structur\" + 0.016*\"relat\" + 0.016*\"process\" + 0.015*\"local\" + 0.013*\"paper\"\n",
      "2021-02-18 09:45:39,276 : INFO : topic #70 (0.022): 0.340*\"(\" + 0.291*\")\" + 0.196*\"algorithm\" + 0.028*\"$\" + 0.022*\"))\" + 0.014*\"function\" + 0.012*\"order\" + 0.010*\"complex\" + 0.008*\"-\" + 0.007*\"a1\"\n",
      "2021-02-18 09:45:39,277 : INFO : topic diff=0.636391, rho=0.362690\n",
      "2021-02-18 09:45:39,286 : INFO : PROGRESS: pass 6, at document #2000/3204\n",
      "2021-02-18 09:45:40,100 : INFO : optimized alpha [0.011284995, 0.010836225, 0.010235549, 0.010431359, 0.010981631, 0.011166695, 0.010263948, 0.010171961, 0.01142381, 0.011128855, 0.010922382, 0.010999342, 0.010677214, 0.011108249, 0.010733942, 0.011825817, 0.012294555, 0.010293693, 0.010843842, 0.01091768, 0.010526904, 0.010224011, 0.010294582, 0.010956342, 0.011166454, 0.011214975, 0.010618991, 0.0116350595, 0.012023869, 0.010148567, 0.01056384, 0.010272911, 0.010756855, 0.010912097, 0.0118921865, 0.011092971, 0.010161926, 0.010697481, 0.0109758815, 0.011025058, 0.012490684, 0.010813971, 0.010279765, 0.009944929, 0.009577086, 0.010639988, 0.011753655, 0.010681462, 0.0109240925, 0.011867243, 0.011389886, 0.011538864, 0.011482226, 0.01008689, 0.011786922, 0.010119912, 0.010441071, 0.01084879, 0.010615356, 0.010262163, 0.010205427, 0.010034385, 0.010631513, 0.011492329, 0.0099873915, 0.010936902, 0.011629929, 0.0094576245, 0.011247741, 0.010575686, 0.023457801, 0.011778549, 0.010065847, 0.011163296, 0.010526348, 0.010760928, 0.010686449, 0.010114395, 0.0104844775, 0.011369201, 0.0100367395, 0.010308185, 0.009705552, 0.009927053, 0.010350237, 0.009643789, 0.010423593, 0.010912541, 0.010477456, 0.010739199, 0.010255803, 0.010992262, 0.010099992, 0.010335842, 0.0104299225, 0.010355352, 0.010733454, 0.010258904, 0.010961245, 0.010159842]\n",
      "2021-02-18 09:45:40,107 : INFO : merging changes from 2000 documents into a model of 3204 documents\n",
      "2021-02-18 09:45:40,118 : INFO : topic #67 (0.009): 0.109*\"grammar\" + 0.069*\"sentenc\" + 0.059*\",\" + 0.055*\"insert\" + 0.043*\"gener\" + 0.041*\"restrict\" + 0.037*\"english\" + 0.036*\"form\" + 0.035*\"program\" + 0.025*\"system\"\n",
      "2021-02-18 09:45:40,119 : INFO : topic #44 (0.010): 0.103*\",\" + 0.054*\"associ\" + 0.044*\"output\" + 0.036*\"form\" + 0.032*\"input\" + 0.031*\"requir\" + 0.028*\"procedur\" + 0.027*\"data\" + 0.019*\"lack\" + 0.018*\"rang\"\n",
      "2021-02-18 09:45:40,120 : INFO : topic #16 (0.012): 0.164*\"algorithm\" + 0.161*\"[\" + 0.156*\"])\" + 0.136*\"(\" + 0.089*\"random\" + 0.074*\"gener\" + 0.058*\"permut\" + 0.026*\"symmetr\" + 0.020*\"g6\" + 0.019*\"normal\"\n",
      "2021-02-18 09:45:40,120 : INFO : topic #40 (0.012): 0.099*\",\" + 0.045*\"data\" + 0.041*\"languag\" + 0.041*\"program\" + 0.025*\"system\" + 0.020*\"structur\" + 0.018*\"process\" + 0.015*\"relat\" + 0.013*\"paper\" + 0.012*\"base\"\n",
      "2021-02-18 09:45:40,121 : INFO : topic #70 (0.023): 0.341*\"(\" + 0.300*\")\" + 0.198*\"algorithm\" + 0.022*\"$\" + 0.017*\"))\" + 0.015*\"function\" + 0.012*\"order\" + 0.009*\"complex\" + 0.008*\"polynomi\" + 0.008*\"-\"\n",
      "2021-02-18 09:45:40,122 : INFO : topic diff=0.562619, rho=0.340958\n",
      "2021-02-18 09:45:40,978 : INFO : -6.565 per-word bound, 94.7 perplexity estimate based on a held-out corpus of 1204 documents with 49790 words\n",
      "2021-02-18 09:45:40,978 : INFO : PROGRESS: pass 6, at document #3204/3204\n",
      "2021-02-18 09:45:41,722 : INFO : optimized alpha [0.011495844, 0.01095865, 0.010276684, 0.010544845, 0.011102631, 0.011399553, 0.010376724, 0.010288732, 0.011664797, 0.011258069, 0.01109518, 0.011243162, 0.010824612, 0.011259228, 0.010893591, 0.011946257, 0.012344462, 0.010392437, 0.010987458, 0.011072823, 0.010561324, 0.010332095, 0.010418245, 0.011176471, 0.011380692, 0.01129811, 0.010733024, 0.011936743, 0.012287542, 0.010220466, 0.010701246, 0.010417242, 0.010916106, 0.011100685, 0.012130574, 0.011292103, 0.010211861, 0.010905936, 0.011158993, 0.01122876, 0.012781507, 0.010921226, 0.010412036, 0.010001457, 0.009613263, 0.010768304, 0.012133966, 0.010821907, 0.011078523, 0.012140559, 0.011586111, 0.0117659075, 0.011753731, 0.010148578, 0.011985001, 0.010202306, 0.010599955, 0.010953941, 0.010755825, 0.0103846025, 0.010237878, 0.010084967, 0.010769594, 0.011665275, 0.010111165, 0.011067731, 0.011898858, 0.009472852, 0.011448382, 0.01067876, 0.02501233, 0.01196557, 0.010151661, 0.011229587, 0.0106561165, 0.010895899, 0.010753294, 0.010164856, 0.01060186, 0.011635466, 0.010101221, 0.010392008, 0.009751263, 0.009934011, 0.010462792, 0.00967609, 0.010532875, 0.011110926, 0.010645118, 0.0108876, 0.010355694, 0.011203959, 0.010148696, 0.010415528, 0.0105862, 0.0104072485, 0.0108365035, 0.010381195, 0.0111569455, 0.010276941]\n",
      "2021-02-18 09:45:41,735 : INFO : merging changes from 1204 documents into a model of 3204 documents\n",
      "2021-02-18 09:45:41,745 : INFO : topic #67 (0.009): 0.114*\"grammar\" + 0.075*\"insert\" + 0.061*\"sentenc\" + 0.058*\",\" + 0.053*\"restrict\" + 0.045*\"gener\" + 0.036*\"form\" + 0.035*\"english\" + 0.031*\"program\" + 0.026*\"tree\"\n",
      "2021-02-18 09:45:41,746 : INFO : topic #44 (0.010): 0.107*\",\" + 0.055*\"associ\" + 0.042*\"form\" + 0.042*\"output\" + 0.035*\"requir\" + 0.028*\"input\" + 0.028*\"procedur\" + 0.028*\"data\" + 0.023*\"lack\" + 0.022*\"high\"\n",
      "2021-02-18 09:45:41,747 : INFO : topic #16 (0.012): 0.165*\"algorithm\" + 0.144*\"[\" + 0.125*\"])\" + 0.125*\"(\" + 0.108*\"random\" + 0.087*\"gener\" + 0.078*\"permut\" + 0.032*\"symmetr\" + 0.023*\"normal\" + 0.022*\"g6\"\n",
      "2021-02-18 09:45:41,748 : INFO : topic #40 (0.013): 0.099*\",\" + 0.049*\"data\" + 0.038*\"languag\" + 0.038*\"program\" + 0.025*\"system\" + 0.023*\"structur\" + 0.017*\"process\" + 0.017*\"relat\" + 0.015*\"local\" + 0.013*\"paper\"\n",
      "2021-02-18 09:45:41,749 : INFO : topic #70 (0.025): 0.349*\"(\" + 0.298*\")\" + 0.191*\"algorithm\" + 0.027*\"$\" + 0.021*\"))\" + 0.013*\"function\" + 0.012*\"order\" + 0.010*\"complex\" + 0.008*\"-\" + 0.007*\"a1\"\n",
      "2021-02-18 09:45:41,750 : INFO : topic diff=0.570282, rho=0.340958\n",
      "2021-02-18 09:45:41,759 : INFO : PROGRESS: pass 7, at document #2000/3204\n",
      "2021-02-18 09:45:42,594 : INFO : optimized alpha [0.0115236435, 0.010955988, 0.010326201, 0.010540417, 0.011111825, 0.011403697, 0.0103447195, 0.010286755, 0.01170622, 0.011228061, 0.011167437, 0.011214, 0.010886774, 0.011360896, 0.010871531, 0.012175256, 0.012797083, 0.010413793, 0.011019648, 0.011196044, 0.010718133, 0.010315972, 0.010434643, 0.011228375, 0.011372533, 0.011417489, 0.010824195, 0.011993217, 0.012372841, 0.010228592, 0.010679052, 0.01041517, 0.010976192, 0.011085423, 0.012203354, 0.01149701, 0.010283931, 0.010934876, 0.011157653, 0.011224148, 0.012808536, 0.010988036, 0.010382748, 0.010005715, 0.0096362885, 0.010823762, 0.012096576, 0.010826309, 0.011101662, 0.012209609, 0.011626526, 0.011817568, 0.011727139, 0.010133023, 0.01219255, 0.010235189, 0.010600729, 0.011087648, 0.01071562, 0.010379937, 0.010300825, 0.010104876, 0.0108131, 0.011808548, 0.010139975, 0.011162722, 0.012119286, 0.009467301, 0.0116044795, 0.010758644, 0.02696775, 0.012095276, 0.01017812, 0.011428351, 0.010665875, 0.010974103, 0.010885242, 0.010247387, 0.01068732, 0.011697736, 0.0100975605, 0.010471665, 0.009750398, 0.009952973, 0.01045493, 0.009664927, 0.010598401, 0.0111518195, 0.010685229, 0.010857647, 0.010333665, 0.011184156, 0.0101859, 0.0104732495, 0.010613151, 0.010416806, 0.0108694965, 0.010355865, 0.011129723, 0.010325768]\n",
      "2021-02-18 09:45:42,609 : INFO : merging changes from 2000 documents into a model of 3204 documents\n",
      "2021-02-18 09:45:42,620 : INFO : topic #67 (0.009): 0.111*\"grammar\" + 0.071*\"sentenc\" + 0.059*\",\" + 0.055*\"insert\" + 0.044*\"gener\" + 0.042*\"restrict\" + 0.041*\"english\" + 0.039*\"form\" + 0.033*\"program\" + 0.025*\"system\"\n",
      "2021-02-18 09:45:42,621 : INFO : topic #44 (0.010): 0.106*\",\" + 0.052*\"associ\" + 0.048*\"output\" + 0.042*\"form\" + 0.037*\"input\" + 0.033*\"requir\" + 0.029*\"data\" + 0.028*\"procedur\" + 0.019*\"subroutin\" + 0.019*\"high\"\n",
      "2021-02-18 09:45:42,621 : INFO : topic #16 (0.013): 0.168*\"algorithm\" + 0.165*\"[\" + 0.160*\"])\" + 0.140*\"(\" + 0.087*\"random\" + 0.070*\"gener\" + 0.058*\"permut\" + 0.025*\"symmetr\" + 0.020*\"g6\" + 0.019*\"normal\"\n"
     ]
    },
    {
     "name": "stderr",
     "output_type": "stream",
     "text": [
      "2021-02-18 09:45:42,622 : INFO : topic #40 (0.013): 0.100*\",\" + 0.049*\"data\" + 0.040*\"program\" + 0.039*\"languag\" + 0.024*\"system\" + 0.022*\"structur\" + 0.019*\"process\" + 0.016*\"relat\" + 0.013*\"local\" + 0.013*\"paper\"\n",
      "2021-02-18 09:45:42,623 : INFO : topic #70 (0.027): 0.348*\"(\" + 0.305*\")\" + 0.194*\"algorithm\" + 0.022*\"$\" + 0.016*\"))\" + 0.014*\"function\" + 0.012*\"order\" + 0.009*\"complex\" + 0.008*\"polynomi\" + 0.008*\"-\"\n",
      "2021-02-18 09:45:42,624 : INFO : topic diff=0.498069, rho=0.322715\n",
      "2021-02-18 09:45:43,480 : INFO : -6.539 per-word bound, 93.0 perplexity estimate based on a held-out corpus of 1204 documents with 49790 words\n",
      "2021-02-18 09:45:43,480 : INFO : PROGRESS: pass 7, at document #3204/3204\n",
      "2021-02-18 09:45:44,218 : INFO : optimized alpha [0.011709914, 0.011084794, 0.010370978, 0.0106516015, 0.011233274, 0.011620878, 0.010455153, 0.010409406, 0.011950304, 0.011357626, 0.011353816, 0.0114447875, 0.01103949, 0.011508124, 0.011024266, 0.01230212, 0.012830126, 0.010513739, 0.01116885, 0.011344206, 0.010750074, 0.010433138, 0.010555562, 0.011466781, 0.011580743, 0.01150546, 0.010929962, 0.012297259, 0.012629793, 0.010300035, 0.010816041, 0.010561494, 0.011125401, 0.011274665, 0.01244861, 0.011688484, 0.010328646, 0.011146629, 0.01134197, 0.0114131905, 0.013098264, 0.011095982, 0.010520247, 0.010073402, 0.009678885, 0.010952081, 0.012473702, 0.010954537, 0.011249167, 0.0124659715, 0.0118079465, 0.012038572, 0.011990808, 0.010192069, 0.012395532, 0.010324875, 0.010763976, 0.011193562, 0.010861441, 0.010508061, 0.01033449, 0.010156039, 0.010945019, 0.011986762, 0.010260938, 0.011305352, 0.012405669, 0.009485113, 0.011800323, 0.010865664, 0.028627045, 0.012294169, 0.0102598965, 0.011493451, 0.010786871, 0.0111175785, 0.010945433, 0.010295189, 0.010813637, 0.01196676, 0.010156515, 0.010559748, 0.009802205, 0.009960293, 0.010556862, 0.009701502, 0.010705363, 0.011357005, 0.01085729, 0.011002266, 0.010434583, 0.011398817, 0.01023515, 0.010554599, 0.010762458, 0.010463761, 0.010976606, 0.010478159, 0.011316879, 0.010443071]\n",
      "2021-02-18 09:45:44,227 : INFO : merging changes from 1204 documents into a model of 3204 documents\n",
      "2021-02-18 09:45:44,239 : INFO : topic #67 (0.009): 0.116*\"grammar\" + 0.074*\"insert\" + 0.064*\"sentenc\" + 0.058*\",\" + 0.052*\"restrict\" + 0.046*\"gener\" + 0.039*\"form\" + 0.038*\"english\" + 0.030*\"program\" + 0.024*\"tree\"\n",
      "2021-02-18 09:45:44,240 : INFO : topic #44 (0.010): 0.110*\",\" + 0.053*\"associ\" + 0.048*\"form\" + 0.044*\"output\" + 0.036*\"requir\" + 0.032*\"input\" + 0.029*\"data\" + 0.029*\"procedur\" + 0.023*\"lack\" + 0.022*\"high\"\n",
      "2021-02-18 09:45:44,241 : INFO : topic #16 (0.013): 0.169*\"algorithm\" + 0.149*\"[\" + 0.132*\"])\" + 0.129*\"(\" + 0.104*\"random\" + 0.081*\"gener\" + 0.077*\"permut\" + 0.031*\"symmetr\" + 0.022*\"g6\" + 0.022*\"normal\"\n",
      "2021-02-18 09:45:44,242 : INFO : topic #40 (0.013): 0.100*\",\" + 0.052*\"data\" + 0.037*\"program\" + 0.036*\"languag\" + 0.024*\"structur\" + 0.024*\"system\" + 0.017*\"process\" + 0.017*\"relat\" + 0.017*\"local\" + 0.014*\"paper\"\n",
      "2021-02-18 09:45:44,243 : INFO : topic #70 (0.029): 0.355*\"(\" + 0.304*\")\" + 0.186*\"algorithm\" + 0.026*\"$\" + 0.020*\"))\" + 0.013*\"function\" + 0.012*\"order\" + 0.010*\"complex\" + 0.008*\"-\" + 0.007*\"exponenti\"\n",
      "2021-02-18 09:45:44,244 : INFO : topic diff=0.501596, rho=0.322715\n",
      "2021-02-18 09:45:44,252 : INFO : PROGRESS: pass 8, at document #2000/3204\n",
      "2021-02-18 09:45:45,034 : INFO : optimized alpha [0.011734181, 0.011085701, 0.010421821, 0.010650712, 0.011241974, 0.011627557, 0.01042473, 0.010413829, 0.011990847, 0.011336087, 0.0114350775, 0.011419275, 0.0111023905, 0.011612816, 0.011004579, 0.012516413, 0.013278377, 0.010545686, 0.011208024, 0.011461113, 0.010909494, 0.010419338, 0.010576026, 0.011522894, 0.011573915, 0.011618487, 0.011026047, 0.012359925, 0.012728641, 0.010309735, 0.010803034, 0.01057547, 0.011189684, 0.011254166, 0.012523346, 0.011903903, 0.010399562, 0.011171922, 0.011334818, 0.011424148, 0.013120516, 0.011158271, 0.010493745, 0.01007787, 0.0097103305, 0.011010276, 0.012442593, 0.010958682, 0.011274543, 0.012535303, 0.011864251, 0.012102194, 0.011971268, 0.010180947, 0.012602654, 0.010366048, 0.010769223, 0.011338064, 0.010822937, 0.010519769, 0.010398169, 0.010178747, 0.010986515, 0.012130554, 0.0102868, 0.011405151, 0.012630047, 0.009479146, 0.011976792, 0.010952416, 0.030757416, 0.0124269305, 0.010286815, 0.011687418, 0.010794459, 0.011195933, 0.011072544, 0.010387197, 0.010894004, 0.012034796, 0.010156668, 0.01064435, 0.009798857, 0.009977478, 0.010549531, 0.0096930275, 0.010764913, 0.011400783, 0.01090367, 0.010969993, 0.010423392, 0.01137887, 0.010277343, 0.010624744, 0.010792949, 0.010473425, 0.011009901, 0.010457178, 0.01129381, 0.0104978075]\n",
      "2021-02-18 09:45:45,054 : INFO : merging changes from 2000 documents into a model of 3204 documents\n",
      "2021-02-18 09:45:45,067 : INFO : topic #67 (0.009): 0.112*\"grammar\" + 0.073*\"sentenc\" + 0.058*\",\" + 0.056*\"insert\" + 0.045*\"english\" + 0.045*\"gener\" + 0.042*\"restrict\" + 0.041*\"form\" + 0.031*\"program\" + 0.024*\"system\"\n",
      "2021-02-18 09:45:45,067 : INFO : topic #85 (0.010): 0.094*\"boundari\" + 0.058*\"-\" + 0.056*\"rate\" + 0.050*\"remov\" + 0.037*\"left\" + 0.037*\"transfer\" + 0.034*\"messag\" + 0.027*\",\" + 0.026*\";\" + 0.023*\"strongli\"\n",
      "2021-02-18 09:45:45,068 : INFO : topic #40 (0.013): 0.101*\",\" + 0.052*\"data\" + 0.039*\"program\" + 0.037*\"languag\" + 0.024*\"system\" + 0.024*\"structur\" + 0.020*\"process\" + 0.017*\"relat\" + 0.014*\"local\" + 0.013*\"base\"\n",
      "2021-02-18 09:45:45,069 : INFO : topic #16 (0.013): 0.171*\"algorithm\" + 0.168*\"[\" + 0.163*\"])\" + 0.143*\"(\" + 0.085*\"random\" + 0.066*\"gener\" + 0.058*\"permut\" + 0.025*\"symmetr\" + 0.020*\"g6\" + 0.018*\"normal\"\n",
      "2021-02-18 09:45:45,070 : INFO : topic #70 (0.031): 0.354*\"(\" + 0.311*\")\" + 0.189*\"algorithm\" + 0.021*\"$\" + 0.016*\"))\" + 0.014*\"function\" + 0.011*\"order\" + 0.009*\"complex\" + 0.008*\"-\" + 0.007*\"polynomi\"\n",
      "2021-02-18 09:45:45,072 : INFO : topic diff=0.436377, rho=0.307119\n",
      "2021-02-18 09:45:46,054 : INFO : -6.519 per-word bound, 91.7 perplexity estimate based on a held-out corpus of 1204 documents with 49790 words\n",
      "2021-02-18 09:45:46,054 : INFO : PROGRESS: pass 8, at document #3204/3204\n",
      "2021-02-18 09:45:46,891 : INFO : optimized alpha [0.011894989, 0.011206365, 0.0104648145, 0.010754652, 0.0113556115, 0.01183072, 0.010536047, 0.01052894, 0.012238897, 0.01146641, 0.011626226, 0.011641665, 0.011252118, 0.011759978, 0.011148538, 0.012659616, 0.013315827, 0.010649575, 0.011359996, 0.0116092, 0.010944786, 0.0105264485, 0.010694803, 0.011759248, 0.011771326, 0.011696346, 0.0111301225, 0.012642181, 0.012983387, 0.010386174, 0.010940095, 0.0107215615, 0.011341509, 0.011433289, 0.0127535835, 0.012100882, 0.0104475925, 0.011382041, 0.011500345, 0.011611828, 0.013417634, 0.011267446, 0.010623021, 0.010140335, 0.009758854, 0.011141996, 0.012802277, 0.011090269, 0.011416148, 0.012789299, 0.012041651, 0.012324599, 0.012234939, 0.010235272, 0.012807961, 0.010467982, 0.010937215, 0.011448004, 0.010968484, 0.010650796, 0.010430378, 0.010225371, 0.011110332, 0.012308293, 0.010416229, 0.011541955, 0.012931512, 0.009496826, 0.0121811405, 0.011057723, 0.032485165, 0.012625056, 0.01037049, 0.011748717, 0.010918826, 0.011342314, 0.011135346, 0.010430108, 0.011018035, 0.01231086, 0.010216058, 0.0107286265, 0.009851324, 0.009990245, 0.010647357, 0.0097335195, 0.010875808, 0.011598527, 0.011074841, 0.011111599, 0.0105202235, 0.011591415, 0.010329874, 0.010713362, 0.010941968, 0.010518714, 0.011123929, 0.010585361, 0.011479624, 0.010618513]\n",
      "2021-02-18 09:45:46,907 : INFO : merging changes from 1204 documents into a model of 3204 documents\n",
      "2021-02-18 09:45:46,918 : INFO : topic #67 (0.009): 0.111*\"grammar\" + 0.075*\"insert\" + 0.066*\"sentenc\" + 0.057*\",\" + 0.052*\"restrict\" + 0.045*\"gener\" + 0.043*\"form\" + 0.041*\"english\" + 0.028*\"program\" + 0.025*\"deriv\"\n",
      "2021-02-18 09:45:46,919 : INFO : topic #85 (0.010): 0.089*\"boundari\" + 0.057*\"-\" + 0.056*\"remov\" + 0.053*\"rate\" + 0.045*\"messag\" + 0.042*\"left\" + 0.034*\"transfer\" + 0.029*\";\" + 0.028*\"strongli\" + 0.026*\",\"\n",
      "2021-02-18 09:45:46,920 : INFO : topic #16 (0.013): 0.172*\"algorithm\" + 0.154*\"[\" + 0.137*\"])\" + 0.133*\"(\" + 0.100*\"random\" + 0.076*\"permut\" + 0.075*\"gener\" + 0.030*\"symmetr\" + 0.022*\"g6\" + 0.021*\"normal\"\n"
     ]
    },
    {
     "name": "stderr",
     "output_type": "stream",
     "text": [
      "2021-02-18 09:45:46,921 : INFO : topic #40 (0.013): 0.100*\",\" + 0.054*\"data\" + 0.036*\"program\" + 0.034*\"languag\" + 0.026*\"structur\" + 0.024*\"system\" + 0.018*\"process\" + 0.018*\"relat\" + 0.017*\"local\" + 0.014*\"base\"\n",
      "2021-02-18 09:45:46,922 : INFO : topic #70 (0.032): 0.361*\"(\" + 0.310*\")\" + 0.182*\"algorithm\" + 0.025*\"$\" + 0.020*\"))\" + 0.013*\"function\" + 0.011*\"order\" + 0.009*\"complex\" + 0.008*\"-\" + 0.007*\"a1\"\n",
      "2021-02-18 09:45:46,924 : INFO : topic diff=0.439364, rho=0.307119\n",
      "2021-02-18 09:45:46,934 : INFO : PROGRESS: pass 9, at document #2000/3204\n",
      "2021-02-18 09:45:47,732 : INFO : optimized alpha [0.011907412, 0.011213774, 0.010504654, 0.010752267, 0.011363869, 0.011843281, 0.010508612, 0.010533168, 0.012282305, 0.011447468, 0.011712867, 0.011614445, 0.011315849, 0.011866177, 0.011134443, 0.012873669, 0.013769046, 0.010683424, 0.011402485, 0.011725495, 0.011100817, 0.010516348, 0.010714368, 0.011819511, 0.011763986, 0.01180891, 0.011236154, 0.012697809, 0.013082103, 0.010398802, 0.010930688, 0.010731647, 0.011409831, 0.011416373, 0.012821226, 0.012322113, 0.010517588, 0.011422504, 0.011491288, 0.011623503, 0.013449556, 0.011337374, 0.010602162, 0.010151015, 0.009798056, 0.011202902, 0.012773518, 0.011097414, 0.011443637, 0.012855373, 0.012099157, 0.012392491, 0.012214623, 0.01022816, 0.013003931, 0.010515285, 0.010941757, 0.0115998415, 0.010932958, 0.010661809, 0.010488886, 0.01024904, 0.011155048, 0.012458542, 0.010437868, 0.011638283, 0.0131645035, 0.0094946, 0.01236546, 0.011144795, 0.03473481, 0.012747821, 0.010396516, 0.011940388, 0.010935727, 0.011417652, 0.011258271, 0.010514457, 0.011095527, 0.012379194, 0.010218072, 0.010815059, 0.009852849, 0.010002794, 0.010643622, 0.009725992, 0.010934661, 0.01164346, 0.011117516, 0.011082125, 0.010512733, 0.011578191, 0.010378302, 0.010788969, 0.010979015, 0.010533113, 0.011159142, 0.010566703, 0.011458567, 0.01067433]\n",
      "2021-02-18 09:45:47,748 : INFO : merging changes from 2000 documents into a model of 3204 documents\n",
      "2021-02-18 09:45:47,762 : INFO : topic #67 (0.009): 0.108*\"grammar\" + 0.075*\"sentenc\" + 0.057*\"insert\" + 0.057*\",\" + 0.048*\"english\" + 0.045*\"form\" + 0.044*\"gener\" + 0.043*\"restrict\" + 0.030*\"program\" + 0.025*\"deriv\"\n",
      "2021-02-18 09:45:47,763 : INFO : topic #85 (0.010): 0.096*\"boundari\" + 0.056*\"rate\" + 0.055*\"-\" + 0.051*\"remov\" + 0.039*\"messag\" + 0.038*\"left\" + 0.037*\"transfer\" + 0.027*\",\" + 0.026*\";\" + 0.023*\"strongli\"\n",
      "2021-02-18 09:45:47,764 : INFO : topic #40 (0.013): 0.101*\",\" + 0.054*\"data\" + 0.038*\"program\" + 0.035*\"languag\" + 0.025*\"structur\" + 0.024*\"system\" + 0.021*\"process\" + 0.017*\"relat\" + 0.015*\"local\" + 0.013*\"base\"\n",
      "2021-02-18 09:45:47,764 : INFO : topic #16 (0.014): 0.174*\"algorithm\" + 0.172*\"[\" + 0.166*\"])\" + 0.147*\"(\" + 0.083*\"random\" + 0.062*\"gener\" + 0.058*\"permut\" + 0.024*\"symmetr\" + 0.020*\"g6\" + 0.018*\"normal\"\n",
      "2021-02-18 09:45:47,765 : INFO : topic #70 (0.035): 0.360*\"(\" + 0.315*\")\" + 0.185*\"algorithm\" + 0.021*\"$\" + 0.016*\"))\" + 0.014*\"function\" + 0.011*\"order\" + 0.008*\"complex\" + 0.007*\"-\" + 0.007*\"a1\"\n",
      "2021-02-18 09:45:47,766 : INFO : topic diff=0.382668, rho=0.293585\n",
      "2021-02-18 09:45:48,603 : INFO : -6.503 per-word bound, 90.7 perplexity estimate based on a held-out corpus of 1204 documents with 49790 words\n",
      "2021-02-18 09:45:48,603 : INFO : PROGRESS: pass 9, at document #3204/3204\n",
      "2021-02-18 09:45:49,306 : INFO : optimized alpha [0.012053602, 0.011332745, 0.01055127, 0.010844418, 0.011465029, 0.01204554, 0.010618537, 0.010662236, 0.012528968, 0.011584531, 0.011909407, 0.011832267, 0.011471596, 0.0120110335, 0.011270526, 0.013001678, 0.01379739, 0.01079408, 0.011557587, 0.011871105, 0.011147567, 0.0106352605, 0.010831528, 0.012043189, 0.0119517585, 0.011883466, 0.011338956, 0.012972316, 0.013332469, 0.010472487, 0.011068253, 0.010880544, 0.011561929, 0.011592091, 0.013056604, 0.012522222, 0.010563724, 0.011645778, 0.0116481455, 0.011810676, 0.01372793, 0.011439725, 0.01072424, 0.01022882, 0.0098544825, 0.011352096, 0.01312047, 0.01121881, 0.011582974, 0.0130953, 0.012282446, 0.012613912, 0.012482244, 0.0102858255, 0.013205833, 0.0106263785, 0.011109358, 0.011716884, 0.0110788215, 0.010801199, 0.0105199525, 0.010296681, 0.011277131, 0.012657847, 0.010562698, 0.011761591, 0.013478796, 0.009512152, 0.012578832, 0.011254264, 0.036541637, 0.012936503, 0.010479667, 0.012001275, 0.011066297, 0.0115672145, 0.011315534, 0.010560734, 0.011223301, 0.012653937, 0.010275378, 0.010893379, 0.009905996, 0.010025539, 0.010737926, 0.009767708, 0.011044172, 0.011829118, 0.011291183, 0.011221417, 0.01061377, 0.011778114, 0.010433885, 0.010881995, 0.011128238, 0.01057697, 0.011271693, 0.01068509, 0.011652348, 0.0107906815]\n",
      "2021-02-18 09:45:49,327 : INFO : merging changes from 1204 documents into a model of 3204 documents\n",
      "2021-02-18 09:45:49,339 : INFO : topic #67 (0.010): 0.106*\"grammar\" + 0.075*\"insert\" + 0.069*\"sentenc\" + 0.056*\",\" + 0.052*\"restrict\" + 0.046*\"form\" + 0.046*\"english\" + 0.044*\"gener\" + 0.027*\"program\" + 0.027*\"deriv\"\n",
      "2021-02-18 09:45:49,340 : INFO : topic #85 (0.010): 0.091*\"boundari\" + 0.056*\"remov\" + 0.054*\"-\" + 0.053*\"rate\" + 0.049*\"messag\" + 0.042*\"left\" + 0.034*\"transfer\" + 0.029*\";\" + 0.028*\"strongli\" + 0.026*\",\"\n",
      "2021-02-18 09:45:49,342 : INFO : topic #40 (0.014): 0.101*\",\" + 0.056*\"data\" + 0.035*\"program\" + 0.032*\"languag\" + 0.027*\"structur\" + 0.024*\"system\" + 0.019*\"process\" + 0.018*\"relat\" + 0.018*\"local\" + 0.014*\"base\"\n",
      "2021-02-18 09:45:49,342 : INFO : topic #16 (0.014): 0.173*\"algorithm\" + 0.159*\"[\" + 0.141*\"])\" + 0.137*\"(\" + 0.098*\"random\" + 0.075*\"permut\" + 0.071*\"gener\" + 0.029*\"symmetr\" + 0.022*\"g6\" + 0.020*\"normal\"\n",
      "2021-02-18 09:45:49,343 : INFO : topic #70 (0.037): 0.366*\"(\" + 0.314*\")\" + 0.178*\"algorithm\" + 0.025*\"$\" + 0.019*\"))\" + 0.012*\"function\" + 0.011*\"order\" + 0.009*\"complex\" + 0.008*\"-\" + 0.007*\"a1\"\n",
      "2021-02-18 09:45:49,344 : INFO : topic diff=0.386899, rho=0.293585\n",
      "2021-02-18 09:45:49,353 : INFO : PROGRESS: pass 10, at document #2000/3204\n",
      "2021-02-18 09:45:50,137 : INFO : optimized alpha [0.012053447, 0.011338366, 0.010586965, 0.010843849, 0.0114715025, 0.0120621, 0.010599685, 0.0106706675, 0.012584211, 0.011577628, 0.01199822, 0.011805028, 0.011538027, 0.012115578, 0.011258393, 0.013203145, 0.014242768, 0.010828297, 0.011604932, 0.0119889155, 0.0113086635, 0.010629949, 0.010848807, 0.012097439, 0.011947425, 0.011990869, 0.011449731, 0.013025138, 0.013431347, 0.010483371, 0.011062198, 0.010899112, 0.011632766, 0.0115801785, 0.013132312, 0.012740854, 0.010633028, 0.0116942385, 0.011640764, 0.01182306, 0.013763456, 0.0115041435, 0.010704065, 0.010240759, 0.009900901, 0.011410811, 0.013090225, 0.011222398, 0.011612539, 0.013162153, 0.012342804, 0.012679011, 0.012468207, 0.010277978, 0.0133951325, 0.010681061, 0.011116451, 0.0118680345, 0.011050736, 0.010816163, 0.010573708, 0.010316947, 0.011320228, 0.0128093995, 0.010586407, 0.011856499, 0.013707642, 0.009516048, 0.012769665, 0.011351325, 0.038910918, 0.013063034, 0.010503404, 0.012184554, 0.011079326, 0.011639943, 0.011434806, 0.010646982, 0.0112998905, 0.012730143, 0.010277715, 0.010981674, 0.009906465, 0.0100353025, 0.010736005, 0.009763719, 0.011101003, 0.01188207, 0.011333618, 0.0111944685, 0.010611139, 0.011761237, 0.0104838405, 0.010965987, 0.011160614, 0.010591277, 0.011305623, 0.010671624, 0.011633049, 0.010846086]\n",
      "2021-02-18 09:45:50,147 : INFO : merging changes from 2000 documents into a model of 3204 documents\n",
      "2021-02-18 09:45:50,147 : INFO : topic #67 (0.010): 0.103*\"grammar\" + 0.076*\"sentenc\" + 0.058*\"insert\" + 0.056*\",\" + 0.051*\"english\" + 0.048*\"form\" + 0.044*\"restrict\" + 0.044*\"gener\" + 0.029*\"program\" + 0.028*\"deriv\"\n",
      "2021-02-18 09:45:50,147 : INFO : topic #85 (0.010): 0.098*\"boundari\" + 0.057*\"rate\" + 0.052*\"-\" + 0.051*\"remov\" + 0.044*\"messag\" + 0.038*\"left\" + 0.038*\"transfer\" + 0.027*\";\" + 0.026*\",\" + 0.023*\"strongli\"\n",
      "2021-02-18 09:45:50,147 : INFO : topic #40 (0.014): 0.101*\",\" + 0.056*\"data\" + 0.037*\"program\" + 0.033*\"languag\" + 0.027*\"structur\" + 0.024*\"system\" + 0.021*\"process\" + 0.018*\"relat\" + 0.016*\"local\" + 0.014*\"concept\"\n",
      "2021-02-18 09:45:50,147 : INFO : topic #16 (0.014): 0.176*\"algorithm\" + 0.175*\"[\" + 0.168*\"])\" + 0.150*\"(\" + 0.081*\"random\" + 0.058*\"permut\" + 0.058*\"gener\" + 0.023*\"symmetr\" + 0.020*\"g6\" + 0.017*\"normal\"\n"
     ]
    },
    {
     "name": "stderr",
     "output_type": "stream",
     "text": [
      "2021-02-18 09:45:50,162 : INFO : topic #70 (0.039): 0.364*\"(\" + 0.318*\")\" + 0.182*\"algorithm\" + 0.021*\"$\" + 0.016*\"))\" + 0.013*\"function\" + 0.011*\"order\" + 0.008*\"complex\" + 0.007*\"-\" + 0.007*\"a1\"\n",
      "2021-02-18 09:45:50,164 : INFO : topic diff=0.337406, rho=0.281696\n",
      "2021-02-18 09:45:50,981 : INFO : -6.487 per-word bound, 89.7 perplexity estimate based on a held-out corpus of 1204 documents with 49790 words\n",
      "2021-02-18 09:45:50,981 : INFO : PROGRESS: pass 10, at document #3204/3204\n",
      "2021-02-18 09:45:51,677 : INFO : optimized alpha [0.012177724, 0.011464238, 0.010632136, 0.010935524, 0.0115775, 0.012266908, 0.0107085155, 0.010798175, 0.012818278, 0.011721395, 0.012189297, 0.012005272, 0.011680893, 0.012264326, 0.011400893, 0.013329232, 0.014265911, 0.010940516, 0.011758028, 0.0121325785, 0.011355778, 0.010755051, 0.010967222, 0.01231499, 0.012132305, 0.012070926, 0.01155143, 0.013298902, 0.013671818, 0.010557152, 0.011197979, 0.011048568, 0.011780114, 0.011750433, 0.013351812, 0.0129446415, 0.010677488, 0.011911608, 0.011795364, 0.012018658, 0.014044324, 0.011600237, 0.010824617, 0.010313606, 0.0099577615, 0.011563492, 0.013428746, 0.011345204, 0.011744671, 0.013395416, 0.012520479, 0.012894233, 0.01273146, 0.010333898, 0.0136035355, 0.010786033, 0.011281603, 0.011981049, 0.01119455, 0.010958909, 0.010603713, 0.0103606945, 0.011438388, 0.013009036, 0.0107248025, 0.011981116, 0.014028988, 0.009535696, 0.01298349, 0.011449165, 0.04077888, 0.013267643, 0.010591178, 0.0122338785, 0.011208383, 0.011784749, 0.011492358, 0.010693921, 0.011423484, 0.013010543, 0.010330855, 0.011057118, 0.009964995, 0.010055338, 0.010834874, 0.009811231, 0.011201571, 0.012067798, 0.01150477, 0.011326596, 0.010708809, 0.01196618, 0.010539906, 0.011063514, 0.011307789, 0.010631295, 0.01141178, 0.010796248, 0.011820964, 0.010958601]\n",
      "2021-02-18 09:45:51,692 : INFO : merging changes from 1204 documents into a model of 3204 documents\n",
      "2021-02-18 09:45:51,704 : INFO : topic #67 (0.010): 0.100*\"grammar\" + 0.076*\"insert\" + 0.070*\"sentenc\" + 0.055*\",\" + 0.054*\"restrict\" + 0.049*\"form\" + 0.048*\"english\" + 0.044*\"gener\" + 0.029*\"deriv\" + 0.026*\"program\"\n",
      "2021-02-18 09:45:51,705 : INFO : topic #85 (0.010): 0.092*\"boundari\" + 0.055*\"remov\" + 0.054*\"rate\" + 0.053*\"messag\" + 0.051*\"-\" + 0.041*\"left\" + 0.035*\"transfer\" + 0.028*\";\" + 0.028*\"strongli\" + 0.025*\",\"\n",
      "2021-02-18 09:45:51,706 : INFO : topic #66 (0.014): 0.182*\"problem\" + 0.162*\"solut\" + 0.130*\"equat\" + 0.076*\"numer\" + 0.067*\"-\" + 0.055*\"method\" + 0.045*\"solv\" + 0.036*\",\" + 0.028*\"system\" + 0.025*\"techniqu\"\n",
      "2021-02-18 09:45:51,707 : INFO : topic #16 (0.014): 0.174*\"algorithm\" + 0.163*\"[\" + 0.144*\"])\" + 0.140*\"(\" + 0.096*\"random\" + 0.075*\"permut\" + 0.066*\"gener\" + 0.028*\"symmetr\" + 0.022*\"g6\" + 0.019*\"normal\"\n",
      "2021-02-18 09:45:51,707 : INFO : topic #70 (0.041): 0.370*\"(\" + 0.317*\")\" + 0.175*\"algorithm\" + 0.024*\"$\" + 0.019*\"))\" + 0.012*\"function\" + 0.011*\"order\" + 0.009*\"complex\" + 0.007*\"-\" + 0.007*\"a1\"\n",
      "2021-02-18 09:45:51,709 : INFO : topic diff=0.342761, rho=0.281696\n",
      "2021-02-18 09:45:51,718 : INFO : PROGRESS: pass 11, at document #2000/3204\n",
      "2021-02-18 09:45:52,577 : INFO : optimized alpha [0.012179264, 0.011472704, 0.01067129, 0.010939624, 0.011586908, 0.012285558, 0.010696224, 0.010809114, 0.012865969, 0.01172096, 0.0122786425, 0.011979856, 0.011743686, 0.012365855, 0.011387386, 0.013518838, 0.014715811, 0.010975118, 0.011810117, 0.012248846, 0.011512933, 0.0107498765, 0.0109883, 0.012365361, 0.012135916, 0.01217709, 0.011667178, 0.013356369, 0.013769271, 0.010569332, 0.011196524, 0.011073781, 0.011855014, 0.011738438, 0.013428387, 0.013170092, 0.010746322, 0.011962953, 0.011786235, 0.012034942, 0.014075572, 0.01166276, 0.010805104, 0.010338124, 0.010011083, 0.011632916, 0.0133935, 0.011356282, 0.011779551, 0.0134523595, 0.012585534, 0.012963859, 0.012725186, 0.010328137, 0.013790406, 0.010843414, 0.011288051, 0.0121351285, 0.011168756, 0.0109806415, 0.01065457, 0.010389179, 0.011478548, 0.013160357, 0.01075332, 0.012076517, 0.014265545, 0.009537376, 0.013177592, 0.011534228, 0.043230303, 0.013388859, 0.010615625, 0.012419339, 0.011220792, 0.011853579, 0.011611544, 0.01077924, 0.011497787, 0.01308563, 0.010337723, 0.011142904, 0.00996849, 0.01006525, 0.01083461, 0.009810479, 0.0112597, 0.0121187465, 0.011547105, 0.011305128, 0.010712135, 0.011950731, 0.010589861, 0.011157031, 0.011344962, 0.010648419, 0.011446169, 0.010784626, 0.011803294, 0.011013754]\n",
      "2021-02-18 09:45:52,589 : INFO : merging changes from 2000 documents into a model of 3204 documents\n",
      "2021-02-18 09:45:52,601 : INFO : topic #67 (0.010): 0.098*\"grammar\" + 0.078*\"sentenc\" + 0.059*\"insert\" + 0.054*\",\" + 0.053*\"english\" + 0.051*\"form\" + 0.046*\"restrict\" + 0.044*\"gener\" + 0.029*\"deriv\" + 0.027*\"program\"\n",
      "2021-02-18 09:45:52,602 : INFO : topic #85 (0.010): 0.098*\"boundari\" + 0.057*\"rate\" + 0.050*\"remov\" + 0.050*\"-\" + 0.047*\"messag\" + 0.037*\"left\" + 0.037*\"transfer\" + 0.026*\",\" + 0.026*\";\" + 0.023*\"strongli\"\n",
      "2021-02-18 09:45:52,602 : INFO : topic #66 (0.014): 0.175*\"problem\" + 0.157*\"solut\" + 0.133*\"equat\" + 0.084*\"numer\" + 0.066*\"-\" + 0.057*\"method\" + 0.043*\"solv\" + 0.036*\",\" + 0.030*\"system\" + 0.025*\"techniqu\"\n",
      "2021-02-18 09:45:52,603 : INFO : topic #16 (0.015): 0.178*\"[\" + 0.176*\"algorithm\" + 0.170*\"])\" + 0.152*\"(\" + 0.080*\"random\" + 0.058*\"permut\" + 0.054*\"gener\" + 0.023*\"symmetr\" + 0.020*\"g6\" + 0.017*\"normal\"\n",
      "2021-02-18 09:45:52,603 : INFO : topic #70 (0.043): 0.368*\"(\" + 0.321*\")\" + 0.179*\"algorithm\" + 0.021*\"$\" + 0.015*\"))\" + 0.013*\"function\" + 0.011*\"order\" + 0.008*\"complex\" + 0.007*\"-\" + 0.007*\"a1\"\n",
      "2021-02-18 09:45:52,604 : INFO : topic diff=0.299147, rho=0.271143\n",
      "2021-02-18 09:45:53,542 : INFO : -6.475 per-word bound, 88.9 perplexity estimate based on a held-out corpus of 1204 documents with 49790 words\n",
      "2021-02-18 09:45:53,542 : INFO : PROGRESS: pass 11, at document #3204/3204\n",
      "2021-02-18 09:45:54,295 : INFO : optimized alpha [0.012294334, 0.011594946, 0.01071272, 0.011033596, 0.01168972, 0.01248772, 0.010806716, 0.010935443, 0.013094305, 0.011868488, 0.012464818, 0.012182754, 0.011893201, 0.012515936, 0.011528424, 0.013655695, 0.014740615, 0.011091563, 0.011961625, 0.012396507, 0.011570851, 0.010871387, 0.011105731, 0.012574574, 0.012310174, 0.012254337, 0.011760338, 0.013623892, 0.014000737, 0.010645708, 0.011328375, 0.011221578, 0.01200614, 0.011903862, 0.013651177, 0.013365946, 0.010791725, 0.012197015, 0.011946969, 0.012225419, 0.014346343, 0.011761049, 0.010924599, 0.010415883, 0.010068521, 0.011792003, 0.013724585, 0.011470243, 0.011907795, 0.013685859, 0.012763951, 0.013185249, 0.0129877655, 0.010377829, 0.013990244, 0.010952552, 0.011451172, 0.01225829, 0.011308397, 0.011121836, 0.010686086, 0.0104340855, 0.011593215, 0.01336391, 0.010892827, 0.012194562, 0.014591576, 0.009565409, 0.01338632, 0.0116185285, 0.045124516, 0.013591466, 0.010710339, 0.01246893, 0.011358829, 0.01199954, 0.01166429, 0.010829384, 0.011615089, 0.013366092, 0.010394102, 0.011218329, 0.010020883, 0.010089664, 0.010928148, 0.009856735, 0.0113546215, 0.012304992, 0.011711021, 0.01143591, 0.010821391, 0.012152892, 0.010639389, 0.011256493, 0.011490557, 0.010687447, 0.011546488, 0.010905569, 0.011986216, 0.011122903]\n",
      "2021-02-18 09:45:54,308 : INFO : merging changes from 1204 documents into a model of 3204 documents\n",
      "2021-02-18 09:45:54,319 : INFO : topic #67 (0.010): 0.094*\"grammar\" + 0.076*\"insert\" + 0.072*\"sentenc\" + 0.055*\"restrict\" + 0.053*\"form\" + 0.053*\",\" + 0.050*\"english\" + 0.045*\"gener\" + 0.030*\"deriv\" + 0.026*\"linguist\"\n",
      "2021-02-18 09:45:54,320 : INFO : topic #85 (0.010): 0.093*\"boundari\" + 0.056*\"messag\" + 0.055*\"remov\" + 0.054*\"rate\" + 0.048*\"-\" + 0.041*\"left\" + 0.035*\"transfer\" + 0.028*\";\" + 0.027*\"strongli\" + 0.026*\"transmit\"\n",
      "2021-02-18 09:45:54,321 : INFO : topic #66 (0.015): 0.189*\"problem\" + 0.163*\"solut\" + 0.129*\"equat\" + 0.076*\"numer\" + 0.067*\"-\" + 0.055*\"method\" + 0.045*\"solv\" + 0.037*\",\" + 0.028*\"system\" + 0.024*\"techniqu\"\n",
      "2021-02-18 09:45:54,323 : INFO : topic #16 (0.015): 0.177*\"algorithm\" + 0.165*\"[\" + 0.146*\"])\" + 0.143*\"(\" + 0.094*\"random\" + 0.074*\"permut\" + 0.062*\"gener\" + 0.027*\"symmetr\" + 0.022*\"g6\" + 0.019*\"normal\"\n",
      "2021-02-18 09:45:54,324 : INFO : topic #70 (0.045): 0.374*\"(\" + 0.320*\")\" + 0.172*\"algorithm\" + 0.024*\"$\" + 0.019*\"))\" + 0.012*\"function\" + 0.011*\"order\" + 0.008*\"complex\" + 0.007*\"-\" + 0.007*\"a1\"\n"
     ]
    },
    {
     "name": "stderr",
     "output_type": "stream",
     "text": [
      "2021-02-18 09:45:54,325 : INFO : topic diff=0.305255, rho=0.271143\n",
      "2021-02-18 09:45:54,333 : INFO : PROGRESS: pass 12, at document #2000/3204\n",
      "2021-02-18 09:45:55,101 : INFO : optimized alpha [0.012292636, 0.01160615, 0.010746731, 0.011042031, 0.01169739, 0.01250678, 0.010790549, 0.010945913, 0.013148533, 0.0118692955, 0.012559871, 0.012160489, 0.011954132, 0.012613181, 0.011519707, 0.013844829, 0.015184274, 0.011126611, 0.01201363, 0.012511484, 0.0117321, 0.010874891, 0.011124658, 0.012632809, 0.012309985, 0.0123593295, 0.011881082, 0.013689726, 0.014093395, 0.010657698, 0.011328342, 0.011241401, 0.012077375, 0.011890244, 0.013721574, 0.013589766, 0.010860185, 0.012262489, 0.011939361, 0.01223906, 0.014385107, 0.011818742, 0.01090995, 0.010441194, 0.010132498, 0.011868775, 0.013702746, 0.011479482, 0.011938415, 0.013744206, 0.01282697, 0.013261053, 0.01297864, 0.010372714, 0.014173298, 0.0110155335, 0.011456953, 0.012409096, 0.01128168, 0.01114266, 0.0107371, 0.010467523, 0.011633681, 0.013520705, 0.010917436, 0.012289039, 0.014832621, 0.009571212, 0.013576992, 0.011707446, 0.047658704, 0.0137132555, 0.010735509, 0.0126438495, 0.011370683, 0.012067897, 0.011780606, 0.010918262, 0.011685864, 0.013440153, 0.010401071, 0.011300451, 0.0100245895, 0.010108935, 0.010932317, 0.009855077, 0.0114081735, 0.012349254, 0.011750315, 0.011418028, 0.010827443, 0.012140403, 0.010695016, 0.011362367, 0.011527966, 0.010704434, 0.01157831, 0.010892778, 0.011974806, 0.011177921]\n",
      "2021-02-18 09:45:55,112 : INFO : merging changes from 2000 documents into a model of 3204 documents\n",
      "2021-02-18 09:45:55,123 : INFO : topic #67 (0.010): 0.091*\"grammar\" + 0.079*\"sentenc\" + 0.060*\"insert\" + 0.055*\"form\" + 0.054*\"english\" + 0.052*\",\" + 0.047*\"restrict\" + 0.045*\"gener\" + 0.029*\"deriv\" + 0.026*\"program\"\n",
      "2021-02-18 09:45:55,125 : INFO : topic #85 (0.010): 0.099*\"boundari\" + 0.058*\"rate\" + 0.050*\"remov\" + 0.050*\"messag\" + 0.047*\"-\" + 0.038*\"transfer\" + 0.037*\"left\" + 0.026*\",\" + 0.025*\";\" + 0.023*\"transmit\"\n",
      "2021-02-18 09:45:55,125 : INFO : topic #66 (0.015): 0.181*\"problem\" + 0.158*\"solut\" + 0.132*\"equat\" + 0.084*\"numer\" + 0.066*\"-\" + 0.057*\"method\" + 0.043*\"solv\" + 0.037*\",\" + 0.030*\"system\" + 0.025*\"techniqu\"\n",
      "2021-02-18 09:45:55,126 : INFO : topic #16 (0.015): 0.179*\"[\" + 0.179*\"algorithm\" + 0.170*\"])\" + 0.154*\"(\" + 0.078*\"random\" + 0.058*\"permut\" + 0.052*\"gener\" + 0.022*\"symmetr\" + 0.020*\"g6\" + 0.017*\"normal\"\n",
      "2021-02-18 09:45:55,127 : INFO : topic #70 (0.048): 0.372*\"(\" + 0.323*\")\" + 0.176*\"algorithm\" + 0.020*\"$\" + 0.015*\"))\" + 0.013*\"function\" + 0.010*\"order\" + 0.008*\"complex\" + 0.007*\"-\" + 0.007*\"a1\"\n",
      "2021-02-18 09:45:55,128 : INFO : topic diff=0.267786, rho=0.261694\n",
      "2021-02-18 09:45:55,945 : INFO : -6.465 per-word bound, 88.4 perplexity estimate based on a held-out corpus of 1204 documents with 49790 words\n",
      "2021-02-18 09:45:55,945 : INFO : PROGRESS: pass 12, at document #3204/3204\n",
      "2021-02-18 09:45:56,645 : INFO : optimized alpha [0.012404567, 0.011722583, 0.01079177, 0.011133407, 0.011794857, 0.012704044, 0.01089802, 0.011073799, 0.0133775575, 0.012018161, 0.012741755, 0.012363642, 0.012094572, 0.012756521, 0.011662142, 0.013980358, 0.015200916, 0.011247278, 0.012169153, 0.012655183, 0.011797818, 0.011002767, 0.0112462025, 0.012834532, 0.012482413, 0.012434078, 0.011974064, 0.013957774, 0.014325771, 0.01072737, 0.011459287, 0.011392832, 0.012227212, 0.012054051, 0.013945098, 0.013778134, 0.010901841, 0.012497289, 0.0120934015, 0.012424951, 0.014653128, 0.011914161, 0.011028565, 0.0105098775, 0.010197173, 0.012029262, 0.014033344, 0.011597862, 0.012063175, 0.01398134, 0.013009342, 0.013474386, 0.013241081, 0.010428121, 0.014368116, 0.011126504, 0.011615896, 0.01252604, 0.01141756, 0.011282703, 0.010770094, 0.01052052, 0.011747776, 0.013728389, 0.01105343, 0.012409039, 0.015176797, 0.009600784, 0.013784105, 0.011786604, 0.04958401, 0.013908189, 0.010832338, 0.012693892, 0.0115076965, 0.012212638, 0.0118314745, 0.010971557, 0.011802486, 0.013721352, 0.010458296, 0.011371089, 0.010077825, 0.01013954, 0.011028088, 0.009902417, 0.01151296, 0.012541839, 0.01190756, 0.011552818, 0.010933731, 0.012337699, 0.010757104, 0.01146893, 0.011674796, 0.010742545, 0.011675835, 0.011015232, 0.012155568, 0.011288937]\n",
      "2021-02-18 09:45:56,663 : INFO : merging changes from 1204 documents into a model of 3204 documents\n",
      "2021-02-18 09:45:56,675 : INFO : topic #67 (0.010): 0.086*\"grammar\" + 0.078*\"insert\" + 0.074*\"sentenc\" + 0.057*\"form\" + 0.056*\"restrict\" + 0.052*\"english\" + 0.051*\",\" + 0.045*\"gener\" + 0.030*\"deriv\" + 0.028*\"linguist\"\n",
      "2021-02-18 09:45:56,676 : INFO : topic #85 (0.010): 0.094*\"boundari\" + 0.058*\"messag\" + 0.055*\"remov\" + 0.054*\"rate\" + 0.046*\"-\" + 0.041*\"left\" + 0.035*\"transfer\" + 0.027*\";\" + 0.027*\"transmit\" + 0.027*\"strongli\"\n",
      "2021-02-18 09:45:56,677 : INFO : topic #66 (0.015): 0.196*\"problem\" + 0.164*\"solut\" + 0.128*\"equat\" + 0.076*\"numer\" + 0.067*\"-\" + 0.055*\"method\" + 0.046*\"solv\" + 0.037*\",\" + 0.029*\"system\" + 0.023*\"techniqu\"\n",
      "2021-02-18 09:45:56,678 : INFO : topic #16 (0.015): 0.180*\"algorithm\" + 0.167*\"[\" + 0.148*\"])\" + 0.145*\"(\" + 0.092*\"random\" + 0.073*\"permut\" + 0.058*\"gener\" + 0.026*\"symmetr\" + 0.022*\"g6\" + 0.019*\"normal\"\n",
      "2021-02-18 09:45:56,679 : INFO : topic #70 (0.050): 0.377*\"(\" + 0.322*\")\" + 0.170*\"algorithm\" + 0.024*\"$\" + 0.019*\"))\" + 0.012*\"function\" + 0.010*\"order\" + 0.008*\"complex\" + 0.007*\"-\" + 0.007*\"a1\"\n",
      "2021-02-18 09:45:56,680 : INFO : topic diff=0.273317, rho=0.261694\n",
      "2021-02-18 09:45:56,688 : INFO : PROGRESS: pass 13, at document #2000/3204\n",
      "2021-02-18 09:45:57,419 : INFO : optimized alpha [0.012407771, 0.011734945, 0.010823712, 0.011137377, 0.011800946, 0.0127252145, 0.010883773, 0.01108799, 0.013443449, 0.012020207, 0.012832869, 0.0123381475, 0.0121569345, 0.012857808, 0.011654968, 0.0141693475, 0.01564258, 0.011282742, 0.012218092, 0.012769144, 0.011957416, 0.011003196, 0.011267358, 0.012895854, 0.012484986, 0.01253821, 0.012095366, 0.014015935, 0.014422995, 0.010739167, 0.011457625, 0.011417655, 0.012299611, 0.012040416, 0.014013137, 0.013995329, 0.010971465, 0.012567101, 0.012088789, 0.012445627, 0.014684209, 0.011971868, 0.011014268, 0.010538679, 0.010272707, 0.012111806, 0.014002894, 0.011616994, 0.012094404, 0.014037437, 0.013072075, 0.013551299, 0.013235991, 0.010424838, 0.014547693, 0.011190733, 0.011621161, 0.012683457, 0.0113914665, 0.011304222, 0.01081996, 0.010554636, 0.011785649, 0.013890711, 0.01107578, 0.012504369, 0.015426632, 0.009606815, 0.013976836, 0.011869012, 0.052194525, 0.014036016, 0.010858203, 0.012868454, 0.011524877, 0.012279147, 0.011945157, 0.0110556, 0.011874449, 0.013791039, 0.010463976, 0.011452723, 0.010084294, 0.010158595, 0.011032238, 0.009901139, 0.011565111, 0.012592474, 0.011945483, 0.011536781, 0.0109409755, 0.012326398, 0.010807282, 0.011575505, 0.01170802, 0.010759423, 0.0117083, 0.011006875, 0.012139344, 0.0113425255]\n",
      "2021-02-18 09:45:57,434 : INFO : merging changes from 2000 documents into a model of 3204 documents\n",
      "2021-02-18 09:45:57,445 : INFO : topic #67 (0.010): 0.085*\"grammar\" + 0.081*\"sentenc\" + 0.062*\"insert\" + 0.058*\"form\" + 0.056*\"english\" + 0.050*\",\" + 0.048*\"restrict\" + 0.045*\"gener\" + 0.029*\"deriv\" + 0.027*\"linguist\"\n",
      "2021-02-18 09:45:57,446 : INFO : topic #85 (0.010): 0.099*\"boundari\" + 0.058*\"rate\" + 0.052*\"messag\" + 0.050*\"remov\" + 0.045*\"-\" + 0.038*\"transfer\" + 0.037*\"left\" + 0.026*\",\" + 0.025*\";\" + 0.024*\"transmit\"\n",
      "2021-02-18 09:45:57,447 : INFO : topic #66 (0.015): 0.187*\"problem\" + 0.159*\"solut\" + 0.131*\"equat\" + 0.083*\"numer\" + 0.066*\"-\" + 0.057*\"method\" + 0.044*\"solv\" + 0.037*\",\" + 0.030*\"system\" + 0.024*\"techniqu\"\n",
      "2021-02-18 09:45:57,448 : INFO : topic #16 (0.016): 0.181*\"algorithm\" + 0.181*\"[\" + 0.171*\"])\" + 0.155*\"(\" + 0.077*\"random\" + 0.058*\"permut\" + 0.049*\"gener\" + 0.021*\"symmetr\" + 0.020*\"g6\" + 0.017*\"normal\"\n",
      "2021-02-18 09:45:57,449 : INFO : topic #70 (0.052): 0.375*\"(\" + 0.325*\")\" + 0.174*\"algorithm\" + 0.020*\"$\" + 0.015*\"))\" + 0.013*\"function\" + 0.010*\"order\" + 0.007*\"-\" + 0.007*\"complex\" + 0.007*\"a1\"\n",
      "2021-02-18 09:45:57,450 : INFO : topic diff=0.240823, rho=0.253169\n",
      "2021-02-18 09:45:58,261 : INFO : -6.456 per-word bound, 87.8 perplexity estimate based on a held-out corpus of 1204 documents with 49790 words\n"
     ]
    },
    {
     "name": "stderr",
     "output_type": "stream",
     "text": [
      "2021-02-18 09:45:58,261 : INFO : PROGRESS: pass 13, at document #3204/3204\n",
      "2021-02-18 09:45:58,940 : INFO : optimized alpha [0.012516885, 0.011850937, 0.010867604, 0.011233516, 0.011898427, 0.012915329, 0.010993216, 0.011212702, 0.013673491, 0.012168017, 0.013018855, 0.012531392, 0.012301794, 0.013005725, 0.011798988, 0.0143068675, 0.015657783, 0.011400466, 0.01237525, 0.012911933, 0.012030894, 0.01113263, 0.011388285, 0.013090553, 0.012663951, 0.012610656, 0.012193317, 0.014288105, 0.01465372, 0.010809356, 0.011585374, 0.011563194, 0.012448475, 0.012200304, 0.014222982, 0.014161749, 0.011016541, 0.012808403, 0.012241797, 0.0126326615, 0.014953081, 0.012059675, 0.011132297, 0.010612294, 0.010340011, 0.012268735, 0.014327532, 0.011732455, 0.012218631, 0.014266634, 0.01325312, 0.0137772, 0.013496051, 0.0104767345, 0.014740973, 0.011298936, 0.011776357, 0.012789107, 0.011523995, 0.011448151, 0.010852133, 0.010610821, 0.011896865, 0.014093957, 0.011210982, 0.012621194, 0.015789881, 0.009635809, 0.014176603, 0.011943371, 0.05406013, 0.014241694, 0.010957167, 0.0129136145, 0.011658644, 0.012425497, 0.011994308, 0.011112008, 0.011990608, 0.014061553, 0.010524286, 0.011521331, 0.01013839, 0.010195049, 0.01112334, 0.009947438, 0.011667214, 0.012791665, 0.012098868, 0.011665788, 0.011044641, 0.012529711, 0.010858571, 0.011684137, 0.011858675, 0.010796756, 0.01180074, 0.011135629, 0.012326467, 0.011450735]\n",
      "2021-02-18 09:45:58,962 : INFO : merging changes from 1204 documents into a model of 3204 documents\n",
      "2021-02-18 09:45:58,974 : INFO : topic #67 (0.010): 0.079*\"insert\" + 0.079*\"grammar\" + 0.076*\"sentenc\" + 0.060*\"form\" + 0.056*\"restrict\" + 0.054*\"english\" + 0.049*\",\" + 0.046*\"gener\" + 0.030*\"deriv\" + 0.029*\"linguist\"\n",
      "2021-02-18 09:45:58,974 : INFO : topic #85 (0.010): 0.094*\"boundari\" + 0.059*\"messag\" + 0.054*\"remov\" + 0.054*\"rate\" + 0.044*\"-\" + 0.041*\"left\" + 0.035*\"transfer\" + 0.028*\"transmit\" + 0.027*\";\" + 0.027*\"strongli\"\n",
      "2021-02-18 09:45:58,975 : INFO : topic #16 (0.016): 0.182*\"algorithm\" + 0.169*\"[\" + 0.150*\"])\" + 0.147*\"(\" + 0.091*\"random\" + 0.073*\"permut\" + 0.055*\"gener\" + 0.025*\"symmetr\" + 0.022*\"g6\" + 0.019*\"normal\"\n",
      "2021-02-18 09:45:58,975 : INFO : topic #66 (0.016): 0.202*\"problem\" + 0.164*\"solut\" + 0.127*\"equat\" + 0.075*\"numer\" + 0.067*\"-\" + 0.055*\"method\" + 0.047*\"solv\" + 0.038*\",\" + 0.029*\"system\" + 0.022*\"techniqu\"\n",
      "2021-02-18 09:45:58,975 : INFO : topic #70 (0.054): 0.381*\"(\" + 0.324*\")\" + 0.168*\"algorithm\" + 0.024*\"$\" + 0.018*\"))\" + 0.012*\"function\" + 0.010*\"order\" + 0.007*\"-\" + 0.007*\"complex\" + 0.007*\"a1\"\n",
      "2021-02-18 09:45:58,976 : INFO : topic diff=0.246283, rho=0.253169\n",
      "2021-02-18 09:45:58,985 : INFO : PROGRESS: pass 14, at document #2000/3204\n",
      "2021-02-18 09:45:59,687 : INFO : optimized alpha [0.012521643, 0.011862984, 0.010898978, 0.011243031, 0.011905894, 0.012938607, 0.01097934, 0.011223677, 0.013735634, 0.012172797, 0.013111022, 0.012505903, 0.012362636, 0.013104761, 0.011797647, 0.014497805, 0.016097823, 0.011437791, 0.012425851, 0.013021907, 0.012192155, 0.011146673, 0.011410175, 0.013156409, 0.012667569, 0.012712601, 0.0123168025, 0.014358247, 0.014755582, 0.01082107, 0.01158217, 0.011592851, 0.0125222085, 0.012191171, 0.014288905, 0.014384691, 0.011083335, 0.012887368, 0.012240083, 0.012649211, 0.014989792, 0.012117511, 0.011116914, 0.010647078, 0.010415304, 0.012352456, 0.014295891, 0.011755427, 0.012249006, 0.014317309, 0.013314023, 0.013855266, 0.013494892, 0.010475183, 0.014922816, 0.0113617005, 0.011782595, 0.012945283, 0.0114984745, 0.011471746, 0.010900989, 0.010641626, 0.011933783, 0.014260403, 0.011235374, 0.012714406, 0.016037248, 0.009643195, 0.014364653, 0.012023918, 0.056745842, 0.014359878, 0.010983713, 0.013078565, 0.01167236, 0.012490324, 0.012104222, 0.011198381, 0.012059416, 0.014134147, 0.010533978, 0.011602601, 0.010146192, 0.010211363, 0.011130207, 0.009947758, 0.011723868, 0.012845359, 0.012138573, 0.01165007, 0.011054417, 0.012519563, 0.010908967, 0.011794314, 0.01189225, 0.010816196, 0.011830956, 0.011128737, 0.012310114, 0.011507212]\n",
      "2021-02-18 09:45:59,706 : INFO : merging changes from 2000 documents into a model of 3204 documents\n",
      "2021-02-18 09:45:59,717 : INFO : topic #67 (0.010): 0.083*\"sentenc\" + 0.078*\"grammar\" + 0.063*\"insert\" + 0.062*\"form\" + 0.059*\"english\" + 0.049*\",\" + 0.049*\"restrict\" + 0.046*\"gener\" + 0.030*\"deriv\" + 0.029*\"linguist\"\n",
      "2021-02-18 09:45:59,718 : INFO : topic #85 (0.010): 0.099*\"boundari\" + 0.058*\"rate\" + 0.053*\"messag\" + 0.050*\"remov\" + 0.043*\"-\" + 0.037*\"transfer\" + 0.037*\"left\" + 0.025*\",\" + 0.025*\"transmit\" + 0.025*\";\"\n",
      "2021-02-18 09:45:59,720 : INFO : topic #16 (0.016): 0.183*\"algorithm\" + 0.181*\"[\" + 0.171*\"])\" + 0.156*\"(\" + 0.077*\"random\" + 0.058*\"permut\" + 0.046*\"gener\" + 0.021*\"symmetr\" + 0.020*\"g6\" + 0.017*\"normal\"\n",
      "2021-02-18 09:45:59,721 : INFO : topic #66 (0.016): 0.193*\"problem\" + 0.159*\"solut\" + 0.130*\"equat\" + 0.083*\"numer\" + 0.067*\"-\" + 0.056*\"method\" + 0.045*\"solv\" + 0.038*\",\" + 0.030*\"system\" + 0.023*\"techniqu\"\n",
      "2021-02-18 09:45:59,722 : INFO : topic #70 (0.057): 0.378*\"(\" + 0.327*\")\" + 0.173*\"algorithm\" + 0.020*\"$\" + 0.015*\"))\" + 0.013*\"function\" + 0.010*\"order\" + 0.007*\"-\" + 0.007*\"a1\" + 0.007*\"complex\"\n",
      "2021-02-18 09:45:59,723 : INFO : topic diff=0.217911, rho=0.245426\n",
      "2021-02-18 09:46:00,518 : INFO : -6.447 per-word bound, 87.2 perplexity estimate based on a held-out corpus of 1204 documents with 49790 words\n",
      "2021-02-18 09:46:00,518 : INFO : PROGRESS: pass 14, at document #3204/3204\n",
      "2021-02-18 09:46:01,179 : INFO : optimized alpha [0.012625653, 0.011973885, 0.010939682, 0.011330026, 0.012003516, 0.013127425, 0.011088546, 0.011340988, 0.013961517, 0.012322362, 0.013293333, 0.012695067, 0.01250696, 0.013257289, 0.0119433645, 0.014637431, 0.016101815, 0.011559856, 0.012577173, 0.013158755, 0.01226583, 0.011273337, 0.011533038, 0.013352623, 0.0128402095, 0.012782988, 0.012407155, 0.014628814, 0.01498183, 0.010891856, 0.011707041, 0.011742427, 0.012667751, 0.012350037, 0.014494376, 0.014544283, 0.011129486, 0.013140816, 0.012402215, 0.012835043, 0.015244129, 0.012203178, 0.011234525, 0.010712383, 0.010487381, 0.012516402, 0.014620946, 0.011875346, 0.012372899, 0.014545023, 0.0134940995, 0.014074032, 0.013753034, 0.01052597, 0.01511489, 0.0114697125, 0.011944027, 0.013050762, 0.011627984, 0.011612559, 0.010932404, 0.010709746, 0.012042404, 0.014456693, 0.011369995, 0.012828314, 0.016416732, 0.009671687, 0.014572147, 0.012091482, 0.058598056, 0.014543777, 0.011082605, 0.013121814, 0.011812734, 0.012635992, 0.012156739, 0.011260074, 0.012167874, 0.0144004505, 0.010597273, 0.011664624, 0.01019909, 0.010249188, 0.011219212, 0.00999311, 0.01182835, 0.013038024, 0.012288624, 0.011785659, 0.011157935, 0.012721355, 0.01096792, 0.011900375, 0.012042084, 0.01085502, 0.011923598, 0.011252335, 0.012498522, 0.011612855]\n",
      "2021-02-18 09:46:01,187 : INFO : merging changes from 1204 documents into a model of 3204 documents\n",
      "2021-02-18 09:46:01,200 : INFO : topic #67 (0.010): 0.081*\"insert\" + 0.077*\"sentenc\" + 0.071*\"grammar\" + 0.065*\"form\" + 0.058*\"restrict\" + 0.056*\"english\" + 0.048*\",\" + 0.047*\"gener\" + 0.031*\"linguist\" + 0.030*\"deriv\"\n",
      "2021-02-18 09:46:01,200 : INFO : topic #85 (0.010): 0.094*\"boundari\" + 0.060*\"messag\" + 0.054*\"rate\" + 0.054*\"remov\" + 0.042*\"-\" + 0.041*\"left\" + 0.035*\"transfer\" + 0.028*\"transmit\" + 0.027*\";\" + 0.027*\"strongli\"\n",
      "2021-02-18 09:46:01,201 : INFO : topic #16 (0.016): 0.181*\"algorithm\" + 0.170*\"[\" + 0.152*\"])\" + 0.149*\"(\" + 0.090*\"random\" + 0.072*\"permut\" + 0.052*\"gener\" + 0.025*\"symmetr\" + 0.022*\"g6\" + 0.019*\"normal\"\n",
      "2021-02-18 09:46:01,201 : INFO : topic #66 (0.016): 0.207*\"problem\" + 0.164*\"solut\" + 0.126*\"equat\" + 0.075*\"numer\" + 0.068*\"-\" + 0.055*\"method\" + 0.048*\"solv\" + 0.038*\",\" + 0.029*\"system\" + 0.022*\"techniqu\"\n",
      "2021-02-18 09:46:01,202 : INFO : topic #70 (0.059): 0.384*\"(\" + 0.326*\")\" + 0.166*\"algorithm\" + 0.023*\"$\" + 0.018*\"))\" + 0.012*\"function\" + 0.010*\"order\" + 0.007*\"-\" + 0.007*\"complex\" + 0.007*\"a1\"\n",
      "2021-02-18 09:46:01,203 : INFO : topic diff=0.223538, rho=0.245426\n",
      "2021-02-18 09:46:01,213 : INFO : PROGRESS: pass 15, at document #2000/3204\n",
      "2021-02-18 09:46:01,935 : INFO : optimized alpha [0.012628883, 0.011984146, 0.010969248, 0.011344782, 0.012010883, 0.0131527865, 0.011074995, 0.011351625, 0.014033492, 0.012329641, 0.013391408, 0.012672641, 0.012572322, 0.013354227, 0.011940369, 0.014823516, 0.01653479, 0.011596247, 0.012623407, 0.013271228, 0.012427402, 0.011281438, 0.011557038, 0.013419831, 0.012843344, 0.012884463, 0.012530012, 0.0146896485, 0.015074038, 0.010902108, 0.011705184, 0.011771158, 0.012739825, 0.012340779, 0.014556571, 0.014750436, 0.011196259, 0.013222498, 0.012398662, 0.0128569035, 0.015282867, 0.0122597795, 0.011219482, 0.010747798, 0.010563749, 0.012605865, 0.014588032, 0.011900654, 0.012403966, 0.0145938005, 0.013556556, 0.014146572, 0.013752361, 0.010526065, 0.015295572, 0.011531048, 0.011951126, 0.013199641, 0.011604388, 0.011647946, 0.0109816305, 0.010738651, 0.012077002, 0.014625632, 0.01139359, 0.012921085, 0.016667819, 0.009678088, 0.014767909, 0.012168885, 0.061306395, 0.014665006, 0.011111116, 0.013287036, 0.011825899, 0.012700758, 0.012264564, 0.011350138, 0.012235197, 0.014476049, 0.0106069185, 0.011742872, 0.010206931, 0.010266578, 0.01122868, 0.009992536, 0.011880906, 0.0130823, 0.012330157, 0.011772968, 0.01116743, 0.012712252, 0.011016019, 0.012017068, 0.012078974, 0.0108742835, 0.011954563, 0.011245425, 0.012489541, 0.011666678]\n"
     ]
    },
    {
     "name": "stderr",
     "output_type": "stream",
     "text": [
      "2021-02-18 09:46:01,952 : INFO : merging changes from 2000 documents into a model of 3204 documents\n",
      "2021-02-18 09:46:01,963 : INFO : topic #67 (0.010): 0.084*\"sentenc\" + 0.071*\"grammar\" + 0.065*\"form\" + 0.065*\"insert\" + 0.060*\"english\" + 0.050*\"restrict\" + 0.047*\",\" + 0.046*\"gener\" + 0.030*\"linguist\" + 0.029*\"deriv\"\n",
      "2021-02-18 09:46:01,965 : INFO : topic #85 (0.010): 0.099*\"boundari\" + 0.058*\"rate\" + 0.054*\"messag\" + 0.050*\"remov\" + 0.042*\"-\" + 0.037*\"transfer\" + 0.037*\"left\" + 0.025*\",\" + 0.025*\"transmit\" + 0.025*\";\"\n",
      "2021-02-18 09:46:01,965 : INFO : topic #16 (0.017): 0.183*\"algorithm\" + 0.182*\"[\" + 0.172*\"])\" + 0.158*\"(\" + 0.077*\"random\" + 0.058*\"permut\" + 0.044*\"gener\" + 0.021*\"symmetr\" + 0.020*\"g6\" + 0.017*\"normal\"\n",
      "2021-02-18 09:46:01,967 : INFO : topic #66 (0.017): 0.198*\"problem\" + 0.160*\"solut\" + 0.129*\"equat\" + 0.082*\"numer\" + 0.067*\"-\" + 0.056*\"method\" + 0.045*\"solv\" + 0.038*\",\" + 0.030*\"system\" + 0.022*\"techniqu\"\n",
      "2021-02-18 09:46:01,967 : INFO : topic #70 (0.061): 0.381*\"(\" + 0.329*\")\" + 0.171*\"algorithm\" + 0.020*\"$\" + 0.015*\"))\" + 0.013*\"function\" + 0.010*\"order\" + 0.007*\"-\" + 0.007*\"a1\" + 0.006*\"s14\"\n",
      "2021-02-18 09:46:01,969 : INFO : topic diff=0.198901, rho=0.238352\n",
      "2021-02-18 09:46:02,770 : INFO : -6.439 per-word bound, 86.8 perplexity estimate based on a held-out corpus of 1204 documents with 49790 words\n",
      "2021-02-18 09:46:02,770 : INFO : PROGRESS: pass 15, at document #3204/3204\n",
      "2021-02-18 09:46:03,439 : INFO : optimized alpha [0.0127305845, 0.012092607, 0.011011309, 0.01143668, 0.01210641, 0.013327354, 0.011181885, 0.011468728, 0.014249926, 0.012476169, 0.013570332, 0.012868096, 0.012713763, 0.013506247, 0.012090404, 0.014965428, 0.01653789, 0.011718058, 0.0127716055, 0.013405004, 0.012501375, 0.0114054615, 0.011677322, 0.013609805, 0.013009977, 0.012952921, 0.012625487, 0.014958901, 0.015296046, 0.010973509, 0.011827419, 0.011917806, 0.012884921, 0.012498819, 0.014754951, 0.014891794, 0.011243472, 0.013483215, 0.012552618, 0.013034071, 0.015545091, 0.012343394, 0.011343512, 0.010818089, 0.010629914, 0.012771859, 0.014911149, 0.012018026, 0.012530114, 0.014820349, 0.0137330955, 0.01436429, 0.014011597, 0.010580096, 0.015492771, 0.011638991, 0.012109404, 0.013302421, 0.011733425, 0.011795317, 0.011014561, 0.010800963, 0.012188021, 0.014812271, 0.011530144, 0.013032297, 0.017047945, 0.00970608, 0.014974497, 0.01223713, 0.06304865, 0.0148749575, 0.011216665, 0.013325861, 0.01196109, 0.012853446, 0.012315557, 0.011412462, 0.012338757, 0.014747145, 0.010666707, 0.011803306, 0.010258731, 0.010307735, 0.011320254, 0.01003899, 0.011985486, 0.0132689, 0.0124746915, 0.011912748, 0.011268727, 0.01291791, 0.011069204, 0.012132523, 0.012228152, 0.0109123895, 0.012035503, 0.011366432, 0.012674258, 0.011769963]\n",
      "2021-02-18 09:46:03,449 : INFO : merging changes from 1204 documents into a model of 3204 documents\n",
      "2021-02-18 09:46:03,461 : INFO : topic #67 (0.010): 0.082*\"insert\" + 0.079*\"sentenc\" + 0.069*\"form\" + 0.064*\"grammar\" + 0.059*\"restrict\" + 0.058*\"english\" + 0.046*\",\" + 0.046*\"gener\" + 0.032*\"linguist\" + 0.029*\"deriv\"\n",
      "2021-02-18 09:46:03,462 : INFO : topic #85 (0.010): 0.094*\"boundari\" + 0.060*\"messag\" + 0.055*\"rate\" + 0.054*\"remov\" + 0.041*\"-\" + 0.040*\"left\" + 0.035*\"transfer\" + 0.028*\"transmit\" + 0.027*\"strongli\" + 0.026*\";\"\n",
      "2021-02-18 09:46:03,463 : INFO : topic #16 (0.017): 0.182*\"algorithm\" + 0.171*\"[\" + 0.153*\"])\" + 0.150*\"(\" + 0.090*\"random\" + 0.072*\"permut\" + 0.049*\"gener\" + 0.024*\"symmetr\" + 0.022*\"g6\" + 0.018*\"normal\"\n",
      "2021-02-18 09:46:03,464 : INFO : topic #66 (0.017): 0.212*\"problem\" + 0.165*\"solut\" + 0.126*\"equat\" + 0.075*\"numer\" + 0.068*\"-\" + 0.054*\"method\" + 0.048*\"solv\" + 0.038*\",\" + 0.029*\"system\" + 0.021*\"techniqu\"\n",
      "2021-02-18 09:46:03,464 : INFO : topic #70 (0.063): 0.386*\"(\" + 0.328*\")\" + 0.165*\"algorithm\" + 0.023*\"$\" + 0.018*\"))\" + 0.012*\"function\" + 0.010*\"order\" + 0.007*\"-\" + 0.007*\"a1\" + 0.006*\"complex\"\n",
      "2021-02-18 09:46:03,465 : INFO : topic diff=0.203710, rho=0.238352\n",
      "2021-02-18 09:46:03,473 : INFO : PROGRESS: pass 16, at document #2000/3204\n",
      "2021-02-18 09:46:04,239 : INFO : optimized alpha [0.012733853, 0.012105459, 0.011044278, 0.011448511, 0.012113689, 0.013348694, 0.011169953, 0.011479, 0.01431665, 0.01247863, 0.013669609, 0.012847011, 0.012771836, 0.013602793, 0.012091453, 0.015157429, 0.016971722, 0.011756302, 0.012815197, 0.013516961, 0.012664865, 0.011413257, 0.0117033925, 0.013675365, 0.0130156735, 0.0130525, 0.012753455, 0.015022938, 0.015386036, 0.0109836785, 0.0118268905, 0.011949843, 0.012958425, 0.012492317, 0.014815374, 0.015090003, 0.011308985, 0.013572445, 0.012550233, 0.013053546, 0.0155802835, 0.012398835, 0.011329994, 0.010857921, 0.010711101, 0.012867074, 0.014882321, 0.012048261, 0.012560379, 0.014862326, 0.013793998, 0.014439972, 0.014011404, 0.010581681, 0.015677966, 0.011700432, 0.012115959, 0.013450567, 0.011708845, 0.011833819, 0.011062917, 0.010834475, 0.0122260675, 0.0149803795, 0.011554403, 0.013121771, 0.017300762, 0.009716016, 0.015169654, 0.012314503, 0.06580834, 0.014992104, 0.011244472, 0.0134884, 0.011973779, 0.012918212, 0.012418613, 0.011499575, 0.012404698, 0.014817034, 0.01067757, 0.011878742, 0.010266617, 0.010326131, 0.01133223, 0.010044545, 0.0120369345, 0.01331648, 0.012512217, 0.011904274, 0.011277995, 0.012914328, 0.011120253, 0.0122502195, 0.012266842, 0.010935309, 0.0120644905, 0.011359563, 0.012663414, 0.011821275]\n",
      "2021-02-18 09:46:04,256 : INFO : merging changes from 2000 documents into a model of 3204 documents\n",
      "2021-02-18 09:46:04,267 : INFO : topic #67 (0.010): 0.085*\"sentenc\" + 0.069*\"form\" + 0.066*\"insert\" + 0.065*\"grammar\" + 0.062*\"english\" + 0.052*\"restrict\" + 0.046*\",\" + 0.046*\"gener\" + 0.031*\"linguist\" + 0.029*\"deriv\"\n",
      "2021-02-18 09:46:04,268 : INFO : topic #85 (0.010): 0.099*\"boundari\" + 0.059*\"rate\" + 0.055*\"messag\" + 0.050*\"remov\" + 0.040*\"-\" + 0.037*\"transfer\" + 0.037*\"left\" + 0.025*\"transmit\" + 0.025*\",\" + 0.025*\";\"\n",
      "2021-02-18 09:46:04,269 : INFO : topic #16 (0.017): 0.183*\"algorithm\" + 0.183*\"[\" + 0.172*\"])\" + 0.159*\"(\" + 0.077*\"random\" + 0.059*\"permut\" + 0.042*\"gener\" + 0.021*\"symmetr\" + 0.020*\"g6\" + 0.017*\"normal\"\n",
      "2021-02-18 09:46:04,270 : INFO : topic #66 (0.017): 0.203*\"problem\" + 0.160*\"solut\" + 0.129*\"equat\" + 0.082*\"numer\" + 0.067*\"-\" + 0.055*\"method\" + 0.045*\"solv\" + 0.038*\",\" + 0.030*\"system\" + 0.022*\"techniqu\"\n",
      "2021-02-18 09:46:04,272 : INFO : topic #70 (0.066): 0.384*\"(\" + 0.330*\")\" + 0.170*\"algorithm\" + 0.020*\"$\" + 0.015*\"))\" + 0.013*\"function\" + 0.009*\"order\" + 0.007*\"-\" + 0.007*\"a1\" + 0.006*\"s14\"\n",
      "2021-02-18 09:46:04,273 : INFO : topic diff=0.182282, rho=0.231857\n",
      "2021-02-18 09:46:05,071 : INFO : -6.433 per-word bound, 86.4 perplexity estimate based on a held-out corpus of 1204 documents with 49790 words\n",
      "2021-02-18 09:46:05,071 : INFO : PROGRESS: pass 16, at document #3204/3204\n",
      "2021-02-18 09:46:05,707 : INFO : optimized alpha [0.012836007, 0.012223635, 0.011085507, 0.011536292, 0.012207284, 0.013517436, 0.011274725, 0.0115960585, 0.014529585, 0.012627189, 0.013850701, 0.013043949, 0.012913123, 0.013759758, 0.01223161, 0.015298979, 0.016963964, 0.011880442, 0.012968076, 0.013645308, 0.012746407, 0.011537128, 0.011823583, 0.013862064, 0.013184291, 0.013124169, 0.01285175, 0.015288426, 0.015616225, 0.011051485, 0.011951351, 0.012098454, 0.013100733, 0.012649794, 0.01501302, 0.015245531, 0.011355111, 0.013856572, 0.012706207, 0.013225055, 0.015819948, 0.012482934, 0.011451556, 0.010922475, 0.01078415, 0.013035347, 0.015206679, 0.01216792, 0.012686507, 0.015073261, 0.013967346, 0.01465686, 0.014272249, 0.010640878, 0.015868362, 0.011806148, 0.012275937, 0.013548254, 0.011833044, 0.01198092, 0.011093026, 0.01089765, 0.012332464, 0.015180969, 0.011692954, 0.013233056, 0.017684827, 0.009741712, 0.015378483, 0.012376356, 0.06748678, 0.015186781, 0.011352245, 0.013523052, 0.0121064, 0.013073025, 0.012470634, 0.011558211, 0.012506062, 0.01508731, 0.01073827, 0.011937743, 0.010317415, 0.010366517, 0.011426422, 0.010092074, 0.01213706, 0.013504965, 0.01265394, 0.012041351, 0.011383757, 0.013119011, 0.011178723, 0.0123657305, 0.012417976, 0.010974863, 0.012148409, 0.011487023, 0.012844875, 0.011920133]\n",
      "2021-02-18 09:46:05,717 : INFO : merging changes from 1204 documents into a model of 3204 documents\n"
     ]
    },
    {
     "name": "stderr",
     "output_type": "stream",
     "text": [
      "2021-02-18 09:46:05,728 : INFO : topic #67 (0.010): 0.083*\"insert\" + 0.080*\"sentenc\" + 0.072*\"form\" + 0.061*\"restrict\" + 0.060*\"english\" + 0.058*\"grammar\" + 0.046*\"gener\" + 0.045*\",\" + 0.033*\"linguist\" + 0.028*\"deriv\"\n",
      "2021-02-18 09:46:05,729 : INFO : topic #85 (0.010): 0.094*\"boundari\" + 0.060*\"messag\" + 0.055*\"rate\" + 0.054*\"remov\" + 0.040*\"left\" + 0.040*\"-\" + 0.035*\"transfer\" + 0.028*\"transmit\" + 0.027*\"strongli\" + 0.027*\";\"\n",
      "2021-02-18 09:46:05,730 : INFO : topic #16 (0.017): 0.181*\"algorithm\" + 0.172*\"[\" + 0.154*\"])\" + 0.151*\"(\" + 0.090*\"random\" + 0.072*\"permut\" + 0.046*\"gener\" + 0.024*\"symmetr\" + 0.022*\"g6\" + 0.019*\"normal\"\n",
      "2021-02-18 09:46:05,732 : INFO : topic #66 (0.018): 0.216*\"problem\" + 0.165*\"solut\" + 0.126*\"equat\" + 0.075*\"numer\" + 0.068*\"-\" + 0.054*\"method\" + 0.047*\"solv\" + 0.039*\",\" + 0.029*\"system\" + 0.020*\"techniqu\"\n",
      "2021-02-18 09:46:05,732 : INFO : topic #70 (0.067): 0.388*\"(\" + 0.329*\")\" + 0.164*\"algorithm\" + 0.023*\"$\" + 0.018*\"))\" + 0.012*\"function\" + 0.010*\"order\" + 0.007*\"-\" + 0.007*\"a1\" + 0.006*\"s14\"\n",
      "2021-02-18 09:46:05,733 : INFO : topic diff=0.187078, rho=0.231857\n",
      "2021-02-18 09:46:05,742 : INFO : PROGRESS: pass 17, at document #2000/3204\n",
      "2021-02-18 09:46:06,414 : INFO : optimized alpha [0.012846585, 0.012236133, 0.011117983, 0.011549219, 0.012213098, 0.013540931, 0.011260486, 0.011607333, 0.014596219, 0.012627879, 0.013954416, 0.0130226845, 0.012975829, 0.013852921, 0.012235236, 0.015484916, 0.017393058, 0.011917846, 0.013018019, 0.013756879, 0.012913538, 0.011547231, 0.01185165, 0.013924505, 0.013189437, 0.013222047, 0.012976614, 0.015354079, 0.015704034, 0.011062841, 0.01195207, 0.012132349, 0.013177238, 0.0126459375, 0.015076809, 0.015444825, 0.011418181, 0.013945549, 0.012704975, 0.013239142, 0.015849896, 0.012537312, 0.01143949, 0.0109628355, 0.0108689405, 0.013122998, 0.015176463, 0.012194736, 0.012717431, 0.0151172895, 0.014028328, 0.0147306025, 0.014274203, 0.010646305, 0.016049065, 0.011866433, 0.01228336, 0.013697293, 0.011807568, 0.012019859, 0.011140594, 0.010933081, 0.012369729, 0.015350173, 0.011715173, 0.013320894, 0.017941609, 0.009753941, 0.015576522, 0.012453762, 0.07026737, 0.015298404, 0.011379407, 0.013684651, 0.01212277, 0.01314084, 0.01257619, 0.011645175, 0.01256934, 0.015153482, 0.0107502835, 0.012013167, 0.010324156, 0.010384717, 0.011439502, 0.010098869, 0.012190247, 0.013548106, 0.012690495, 0.012035571, 0.011392804, 0.013116284, 0.011228871, 0.012487356, 0.012459787, 0.010997546, 0.012179608, 0.011481414, 0.012833681, 0.011973116]\n",
      "2021-02-18 09:46:06,435 : INFO : merging changes from 2000 documents into a model of 3204 documents\n",
      "2021-02-18 09:46:06,447 : INFO : topic #67 (0.010): 0.085*\"sentenc\" + 0.072*\"form\" + 0.067*\"insert\" + 0.064*\"english\" + 0.061*\"grammar\" + 0.054*\"restrict\" + 0.045*\"gener\" + 0.044*\",\" + 0.031*\"linguist\" + 0.029*\"deriv\"\n",
      "2021-02-18 09:46:06,448 : INFO : topic #85 (0.010): 0.098*\"boundari\" + 0.060*\"rate\" + 0.055*\"messag\" + 0.050*\"remov\" + 0.039*\"-\" + 0.037*\"left\" + 0.037*\"transfer\" + 0.025*\"transmit\" + 0.025*\",\" + 0.025*\";\"\n",
      "2021-02-18 09:46:06,448 : INFO : topic #16 (0.017): 0.184*\"[\" + 0.182*\"algorithm\" + 0.173*\"])\" + 0.160*\"(\" + 0.078*\"random\" + 0.059*\"permut\" + 0.040*\"gener\" + 0.020*\"symmetr\" + 0.020*\"g6\" + 0.017*\"normal\"\n",
      "2021-02-18 09:46:06,449 : INFO : topic #66 (0.018): 0.207*\"problem\" + 0.161*\"solut\" + 0.128*\"equat\" + 0.081*\"numer\" + 0.068*\"-\" + 0.055*\"method\" + 0.046*\"solv\" + 0.039*\",\" + 0.030*\"system\" + 0.021*\"techniqu\"\n",
      "2021-02-18 09:46:06,449 : INFO : topic #70 (0.070): 0.386*\"(\" + 0.332*\")\" + 0.169*\"algorithm\" + 0.020*\"$\" + 0.015*\"))\" + 0.013*\"function\" + 0.009*\"order\" + 0.007*\"-\" + 0.007*\"a1\" + 0.006*\"s14\"\n",
      "2021-02-18 09:46:06,450 : INFO : topic diff=0.168406, rho=0.225865\n",
      "2021-02-18 09:46:07,208 : INFO : -6.428 per-word bound, 86.1 perplexity estimate based on a held-out corpus of 1204 documents with 49790 words\n",
      "2021-02-18 09:46:07,208 : INFO : PROGRESS: pass 17, at document #3204/3204\n",
      "2021-02-18 09:46:07,844 : INFO : optimized alpha [0.012944339, 0.012354501, 0.0111584505, 0.011635327, 0.0123118, 0.013704208, 0.011359045, 0.011724456, 0.014811466, 0.012773816, 0.014135224, 0.0132138925, 0.013109756, 0.014007121, 0.012382205, 0.01563771, 0.017378073, 0.012030619, 0.013168284, 0.01388522, 0.012997811, 0.011668853, 0.011976354, 0.014108134, 0.013352593, 0.013294549, 0.013072662, 0.015624879, 0.015933687, 0.0111314105, 0.0120787425, 0.012278497, 0.013319426, 0.012800634, 0.015276747, 0.015603061, 0.011463309, 0.014235081, 0.012867768, 0.013410318, 0.01608862, 0.012619699, 0.011558775, 0.011024009, 0.010954889, 0.0132911755, 0.015493888, 0.012319025, 0.0128412405, 0.015339231, 0.014201274, 0.014952355, 0.014525924, 0.010702449, 0.01623288, 0.011972357, 0.012438291, 0.013813342, 0.011929419, 0.012166762, 0.011167997, 0.011001293, 0.012476436, 0.015550173, 0.011853607, 0.013429898, 0.018329931, 0.009782963, 0.01577643, 0.012509497, 0.071843006, 0.015483956, 0.0114873275, 0.013723007, 0.012253007, 0.0132905515, 0.0126244845, 0.011706812, 0.012666295, 0.015440648, 0.0108098015, 0.012070847, 0.010375978, 0.010426319, 0.01153194, 0.010145555, 0.012288382, 0.01373354, 0.012829642, 0.0121724345, 0.01149873, 0.013317801, 0.011288288, 0.012607784, 0.012606058, 0.011038482, 0.012264185, 0.011608746, 0.013016842, 0.012072223]\n",
      "2021-02-18 09:46:07,853 : INFO : merging changes from 1204 documents into a model of 3204 documents\n",
      "2021-02-18 09:46:07,866 : INFO : topic #67 (0.010): 0.083*\"insert\" + 0.080*\"sentenc\" + 0.076*\"form\" + 0.064*\"restrict\" + 0.062*\"english\" + 0.055*\"grammar\" + 0.046*\"gener\" + 0.043*\",\" + 0.033*\"linguist\" + 0.028*\"deriv\"\n",
      "2021-02-18 09:46:07,867 : INFO : topic #85 (0.010): 0.094*\"boundari\" + 0.061*\"messag\" + 0.056*\"rate\" + 0.054*\"remov\" + 0.040*\"left\" + 0.038*\"-\" + 0.035*\"transfer\" + 0.028*\"transmit\" + 0.026*\"strongli\" + 0.025*\";\"\n",
      "2021-02-18 09:46:07,868 : INFO : topic #16 (0.017): 0.180*\"algorithm\" + 0.174*\"[\" + 0.155*\"])\" + 0.153*\"(\" + 0.090*\"random\" + 0.072*\"permut\" + 0.044*\"gener\" + 0.024*\"symmetr\" + 0.022*\"g6\" + 0.019*\"normal\"\n",
      "2021-02-18 09:46:07,868 : INFO : topic #66 (0.018): 0.220*\"problem\" + 0.166*\"solut\" + 0.125*\"equat\" + 0.075*\"numer\" + 0.069*\"-\" + 0.054*\"method\" + 0.047*\"solv\" + 0.039*\",\" + 0.029*\"system\" + 0.020*\"techniqu\"\n",
      "2021-02-18 09:46:07,869 : INFO : topic #70 (0.072): 0.391*\"(\" + 0.331*\")\" + 0.163*\"algorithm\" + 0.023*\"$\" + 0.018*\"))\" + 0.012*\"function\" + 0.009*\"order\" + 0.007*\"-\" + 0.007*\"a1\" + 0.006*\"s14\"\n",
      "2021-02-18 09:46:07,871 : INFO : topic diff=0.172740, rho=0.225865\n",
      "2021-02-18 09:46:07,881 : INFO : PROGRESS: pass 18, at document #2000/3204\n",
      "2021-02-18 09:46:08,641 : INFO : optimized alpha [0.012951866, 0.012366652, 0.011190469, 0.011648088, 0.012317505, 0.0137299625, 0.01134641, 0.011732755, 0.014896207, 0.012775593, 0.014238701, 0.013192439, 0.013169816, 0.014100097, 0.012382659, 0.015822893, 0.017800651, 0.01206993, 0.01321853, 0.0139934765, 0.013160158, 0.011678626, 0.012005062, 0.0141659845, 0.013355833, 0.013389367, 0.013201542, 0.015685089, 0.016028292, 0.01114144, 0.0120792985, 0.012310165, 0.013394502, 0.012797945, 0.0153372595, 0.015794823, 0.011529136, 0.014330114, 0.012866204, 0.013425236, 0.016115276, 0.012673101, 0.011545559, 0.01106981, 0.011039749, 0.013383259, 0.015471095, 0.012347928, 0.012872935, 0.015388589, 0.014260863, 0.015029217, 0.014528364, 0.010705598, 0.016420202, 0.012034127, 0.012445229, 0.013966584, 0.011904392, 0.01220613, 0.011214831, 0.011036145, 0.01251708, 0.01571549, 0.011873878, 0.013517681, 0.018594947, 0.009797348, 0.015965452, 0.012589808, 0.0746267, 0.015602355, 0.011516408, 0.013876259, 0.012266184, 0.013361353, 0.012729777, 0.011797556, 0.012725558, 0.015508248, 0.010825313, 0.012145041, 0.010381626, 0.010445484, 0.011546036, 0.010151284, 0.012341924, 0.013781561, 0.012863876, 0.012165189, 0.0115087805, 0.01331296, 0.011341321, 0.012730513, 0.012646935, 0.011063359, 0.012297491, 0.011604399, 0.0130082145, 0.012118895]\n",
      "2021-02-18 09:46:08,661 : INFO : merging changes from 2000 documents into a model of 3204 documents\n",
      "2021-02-18 09:46:08,672 : INFO : topic #67 (0.010): 0.085*\"sentenc\" + 0.075*\"form\" + 0.068*\"insert\" + 0.065*\"english\" + 0.057*\"grammar\" + 0.056*\"restrict\" + 0.046*\"gener\" + 0.043*\",\" + 0.032*\"linguist\" + 0.029*\"deriv\"\n"
     ]
    },
    {
     "name": "stderr",
     "output_type": "stream",
     "text": [
      "2021-02-18 09:46:08,673 : INFO : topic #85 (0.010): 0.098*\"boundari\" + 0.061*\"rate\" + 0.056*\"messag\" + 0.050*\"remov\" + 0.038*\"-\" + 0.037*\"left\" + 0.037*\"transfer\" + 0.025*\"transmit\" + 0.025*\",\" + 0.023*\"condit\"\n",
      "2021-02-18 09:46:08,674 : INFO : topic #16 (0.018): 0.184*\"[\" + 0.182*\"algorithm\" + 0.174*\"])\" + 0.161*\"(\" + 0.078*\"random\" + 0.059*\"permut\" + 0.039*\"gener\" + 0.020*\"symmetr\" + 0.020*\"g6\" + 0.017*\"normal\"\n",
      "2021-02-18 09:46:08,675 : INFO : topic #66 (0.019): 0.212*\"problem\" + 0.161*\"solut\" + 0.128*\"equat\" + 0.081*\"numer\" + 0.068*\"-\" + 0.055*\"method\" + 0.045*\"solv\" + 0.039*\",\" + 0.030*\"system\" + 0.021*\"techniqu\"\n",
      "2021-02-18 09:46:08,676 : INFO : topic #70 (0.075): 0.388*\"(\" + 0.332*\")\" + 0.168*\"algorithm\" + 0.020*\"$\" + 0.015*\"))\" + 0.013*\"function\" + 0.009*\"order\" + 0.007*\"-\" + 0.007*\"a1\" + 0.006*\"s14\"\n",
      "2021-02-18 09:46:08,677 : INFO : topic diff=0.156153, rho=0.220316\n",
      "2021-02-18 09:46:09,522 : INFO : -6.423 per-word bound, 85.8 perplexity estimate based on a held-out corpus of 1204 documents with 49790 words\n",
      "2021-02-18 09:46:09,522 : INFO : PROGRESS: pass 18, at document #3204/3204\n",
      "2021-02-18 09:46:10,487 : INFO : optimized alpha [0.013050233, 0.012478379, 0.011232276, 0.011730468, 0.012412174, 0.013895571, 0.011445279, 0.011854342, 0.015119309, 0.0129166655, 0.0144167915, 0.013392786, 0.0133014815, 0.014256826, 0.01253642, 0.015972512, 0.01778189, 0.012189762, 0.013373732, 0.01411937, 0.013249608, 0.01179827, 0.012127655, 0.014349351, 0.013516333, 0.0134602515, 0.013305388, 0.015940823, 0.016248561, 0.0112108495, 0.012203792, 0.012458532, 0.013536759, 0.0129453195, 0.015539543, 0.015941152, 0.011575414, 0.014612192, 0.01303366, 0.013588682, 0.016341448, 0.012753854, 0.011667018, 0.011131833, 0.011126182, 0.013549, 0.015781851, 0.012467856, 0.012994553, 0.015598532, 0.014431077, 0.015239613, 0.01479015, 0.010762709, 0.016594417, 0.012138123, 0.012597627, 0.014075159, 0.012026282, 0.012355236, 0.01124384, 0.011109169, 0.01261954, 0.015915282, 0.0120035, 0.013624539, 0.019004835, 0.009825983, 0.016179409, 0.012655978, 0.07610609, 0.015793793, 0.011626669, 0.013910665, 0.012394211, 0.013511118, 0.012774513, 0.011860033, 0.012818263, 0.01578373, 0.010879755, 0.012199214, 0.010430664, 0.010490179, 0.01163891, 0.010200917, 0.012440565, 0.013971766, 0.013002932, 0.012304153, 0.011619181, 0.013513966, 0.01139951, 0.012851174, 0.012793131, 0.0111056315, 0.012378207, 0.011731722, 0.013186196, 0.012220645]\n",
      "2021-02-18 09:46:10,503 : INFO : merging changes from 1204 documents into a model of 3204 documents\n",
      "2021-02-18 09:46:10,519 : INFO : topic #67 (0.010): 0.083*\"insert\" + 0.080*\"form\" + 0.079*\"sentenc\" + 0.066*\"restrict\" + 0.063*\"english\" + 0.052*\"grammar\" + 0.046*\"gener\" + 0.042*\",\" + 0.033*\"linguist\" + 0.029*\"deriv\"\n",
      "2021-02-18 09:46:10,520 : INFO : topic #85 (0.010): 0.094*\"boundari\" + 0.061*\"messag\" + 0.057*\"rate\" + 0.053*\"remov\" + 0.040*\"left\" + 0.037*\"-\" + 0.035*\"transfer\" + 0.028*\"transmit\" + 0.026*\"strongli\" + 0.025*\"condit\"\n",
      "2021-02-18 09:46:10,521 : INFO : topic #16 (0.018): 0.179*\"algorithm\" + 0.175*\"[\" + 0.156*\"])\" + 0.154*\"(\" + 0.090*\"random\" + 0.072*\"permut\" + 0.042*\"gener\" + 0.024*\"symmetr\" + 0.022*\"g6\" + 0.019*\"normal\"\n",
      "2021-02-18 09:46:10,521 : INFO : topic #66 (0.019): 0.225*\"problem\" + 0.165*\"solut\" + 0.124*\"equat\" + 0.074*\"numer\" + 0.069*\"-\" + 0.053*\"method\" + 0.047*\"solv\" + 0.039*\",\" + 0.029*\"system\" + 0.019*\"techniqu\"\n",
      "2021-02-18 09:46:10,522 : INFO : topic #70 (0.076): 0.393*\"(\" + 0.331*\")\" + 0.163*\"algorithm\" + 0.023*\"$\" + 0.018*\"))\" + 0.012*\"function\" + 0.009*\"order\" + 0.007*\"-\" + 0.007*\"a1\" + 0.006*\"s14\"\n",
      "2021-02-18 09:46:10,523 : INFO : topic diff=0.160095, rho=0.220316\n",
      "2021-02-18 09:46:10,534 : INFO : PROGRESS: pass 19, at document #2000/3204\n",
      "2021-02-18 09:46:11,314 : INFO : optimized alpha [0.013057685, 0.012492947, 0.011263909, 0.011739224, 0.0124178, 0.013923524, 0.011431672, 0.011863622, 0.015200652, 0.012918195, 0.014520209, 0.013371047, 0.013358947, 0.014349685, 0.012535191, 0.016155414, 0.01820579, 0.012228291, 0.013424315, 0.014227455, 0.013410195, 0.011811551, 0.012158284, 0.014405851, 0.013524936, 0.0135550685, 0.013438364, 0.015999231, 0.016341155, 0.0112207765, 0.012205511, 0.012488054, 0.013610479, 0.012936802, 0.015601753, 0.01613074, 0.011638973, 0.014707007, 0.013037259, 0.013607376, 0.016368726, 0.012807735, 0.011652663, 0.011182933, 0.011213485, 0.013639575, 0.015754387, 0.0125001, 0.01302692, 0.015637955, 0.014490844, 0.015316376, 0.014793009, 0.010772999, 0.01677589, 0.012201474, 0.012608149, 0.01422494, 0.012002951, 0.012397758, 0.011291194, 0.011144655, 0.012659485, 0.016083578, 0.012023198, 0.013712359, 0.01927409, 0.009840308, 0.016362948, 0.012737715, 0.07885559, 0.015908502, 0.011658884, 0.014063327, 0.012412294, 0.013580593, 0.012876894, 0.011952009, 0.012873711, 0.015844356, 0.01089396, 0.012272237, 0.010435277, 0.010513649, 0.011652699, 0.010211102, 0.012495849, 0.014018505, 0.01304055, 0.012300746, 0.011631436, 0.013509998, 0.011455426, 0.012977978, 0.012837157, 0.011129033, 0.012410968, 0.011729813, 0.013172967, 0.012267799]\n",
      "2021-02-18 09:46:11,330 : INFO : merging changes from 2000 documents into a model of 3204 documents\n",
      "2021-02-18 09:46:11,343 : INFO : topic #67 (0.010): 0.085*\"sentenc\" + 0.079*\"form\" + 0.068*\"insert\" + 0.066*\"english\" + 0.058*\"restrict\" + 0.055*\"grammar\" + 0.046*\"gener\" + 0.042*\",\" + 0.032*\"linguist\" + 0.029*\"deriv\"\n",
      "2021-02-18 09:46:11,344 : INFO : topic #85 (0.010): 0.098*\"boundari\" + 0.061*\"rate\" + 0.056*\"messag\" + 0.050*\"remov\" + 0.037*\"left\" + 0.037*\"transfer\" + 0.037*\"-\" + 0.026*\"transmit\" + 0.024*\",\" + 0.024*\"condit\"\n",
      "2021-02-18 09:46:11,345 : INFO : topic #16 (0.018): 0.185*\"[\" + 0.182*\"algorithm\" + 0.174*\"])\" + 0.162*\"(\" + 0.078*\"random\" + 0.059*\"permut\" + 0.037*\"gener\" + 0.020*\"symmetr\" + 0.020*\"g6\" + 0.017*\"normal\"\n",
      "2021-02-18 09:46:11,347 : INFO : topic #66 (0.019): 0.216*\"problem\" + 0.161*\"solut\" + 0.127*\"equat\" + 0.080*\"numer\" + 0.068*\"-\" + 0.054*\"method\" + 0.046*\"solv\" + 0.039*\",\" + 0.030*\"system\" + 0.020*\"techniqu\"\n",
      "2021-02-18 09:46:11,347 : INFO : topic #70 (0.079): 0.390*\"(\" + 0.333*\")\" + 0.168*\"algorithm\" + 0.020*\"$\" + 0.015*\"))\" + 0.013*\"function\" + 0.009*\"order\" + 0.007*\"a1\" + 0.007*\"-\" + 0.006*\"s14\"\n",
      "2021-02-18 09:46:11,348 : INFO : topic diff=0.145675, rho=0.215156\n",
      "2021-02-18 09:46:12,082 : INFO : -6.418 per-word bound, 85.5 perplexity estimate based on a held-out corpus of 1204 documents with 49790 words\n",
      "2021-02-18 09:46:12,082 : INFO : PROGRESS: pass 19, at document #3204/3204\n",
      "2021-02-18 09:46:12,696 : INFO : optimized alpha [0.013154358, 0.012614144, 0.011302981, 0.011813849, 0.01250858, 0.014089102, 0.011524768, 0.011983276, 0.015423758, 0.013054664, 0.014693122, 0.013561345, 0.013488485, 0.014503937, 0.012693442, 0.016310617, 0.01818996, 0.012348354, 0.013577152, 0.014353574, 0.013512044, 0.011927198, 0.012278941, 0.014583934, 0.013687754, 0.013622041, 0.013545069, 0.016254636, 0.016552329, 0.011290986, 0.012332294, 0.012634218, 0.0137528395, 0.013077239, 0.015812084, 0.016268311, 0.011684328, 0.015000155, 0.013206877, 0.013773275, 0.016594436, 0.012886983, 0.011765828, 0.011243824, 0.0113024665, 0.013810472, 0.016064335, 0.012618032, 0.01315124, 0.01584486, 0.014663552, 0.015523779, 0.0150489425, 0.010835049, 0.016946934, 0.012305875, 0.012760486, 0.014338986, 0.012120679, 0.012540266, 0.011317624, 0.011218413, 0.012760208, 0.016286114, 0.012155178, 0.013822041, 0.019685503, 0.009868543, 0.01658848, 0.012800261, 0.08021702, 0.016100148, 0.011771511, 0.014096413, 0.012540492, 0.013728064, 0.01292281, 0.012013226, 0.0129600745, 0.01611685, 0.010949425, 0.012325261, 0.01048163, 0.010557603, 0.011741914, 0.010259904, 0.012594968, 0.014203589, 0.013174979, 0.012437513, 0.011742123, 0.013717948, 0.011514578, 0.013096626, 0.012981124, 0.011170618, 0.012490231, 0.011855099, 0.013350641, 0.012367763]\n",
      "2021-02-18 09:46:12,710 : INFO : merging changes from 1204 documents into a model of 3204 documents\n",
      "2021-02-18 09:46:12,721 : INFO : topic #67 (0.010): 0.083*\"insert\" + 0.081*\"form\" + 0.079*\"sentenc\" + 0.067*\"restrict\" + 0.064*\"english\" + 0.050*\"grammar\" + 0.046*\"gener\" + 0.041*\",\" + 0.033*\"linguist\" + 0.030*\"deriv\"\n",
      "2021-02-18 09:46:12,721 : INFO : topic #85 (0.010): 0.094*\"boundari\" + 0.061*\"messag\" + 0.057*\"rate\" + 0.053*\"remov\" + 0.040*\"left\" + 0.036*\"-\" + 0.035*\"transfer\" + 0.028*\"transmit\" + 0.026*\"strongli\" + 0.025*\"condit\"\n"
     ]
    },
    {
     "name": "stderr",
     "output_type": "stream",
     "text": [
      "2021-02-18 09:46:12,722 : INFO : topic #16 (0.018): 0.179*\"algorithm\" + 0.175*\"[\" + 0.157*\"])\" + 0.155*\"(\" + 0.090*\"random\" + 0.072*\"permut\" + 0.040*\"gener\" + 0.024*\"symmetr\" + 0.022*\"g6\" + 0.020*\"normal\"\n",
      "2021-02-18 09:46:12,723 : INFO : topic #66 (0.020): 0.229*\"problem\" + 0.165*\"solut\" + 0.124*\"equat\" + 0.074*\"numer\" + 0.069*\"-\" + 0.053*\"method\" + 0.048*\"solv\" + 0.039*\",\" + 0.029*\"system\" + 0.019*\"techniqu\"\n",
      "2021-02-18 09:46:12,724 : INFO : topic #70 (0.080): 0.395*\"(\" + 0.332*\")\" + 0.162*\"algorithm\" + 0.023*\"$\" + 0.018*\"))\" + 0.012*\"function\" + 0.009*\"order\" + 0.007*\"-\" + 0.007*\"a1\" + 0.006*\"s14\"\n",
      "2021-02-18 09:46:12,725 : INFO : topic diff=0.149026, rho=0.215156\n"
     ]
    },
    {
     "data": {
      "text/plain": [
       "[(0, 0.005480254),\n",
       " (1, 0.0052551953),\n",
       " (2, 0.0047089495),\n",
       " (3, 0.004921783),\n",
       " (4, 0.0052112164),\n",
       " (5, 0.005869679),\n",
       " (6, 0.004801349),\n",
       " (7, 0.0049923686),\n",
       " (8, 0.0064257123),\n",
       " (9, 0.005438721),\n",
       " (10, 0.006121321),\n",
       " (11, 0.0056498097),\n",
       " (12, 0.005619455),\n",
       " (13, 0.006042504),\n",
       " (14, 0.0052882317),\n",
       " (15, 0.006795188),\n",
       " (16, 0.007578143),\n",
       " (17, 0.005144464),\n",
       " (18, 0.005656395),\n",
       " (19, 0.0059798616),\n",
       " (20, 0.0056292703),\n",
       " (21, 0.0049690055),\n",
       " (22, 0.005115546),\n",
       " (23, 0.006075832),\n",
       " (24, 0.005702473),\n",
       " (25, 0.0056750965),\n",
       " (26, 0.0056430288),\n",
       " (27, 0.0067718653),\n",
       " (28, 0.0068958877),\n",
       " (29, 0.0047039525),\n",
       " (30, 0.005137773),\n",
       " (31, 0.005263558),\n",
       " (32, 0.0057295887),\n",
       " (33, 0.005448126),\n",
       " (34, 0.0065874932),\n",
       " (35, 0.0067775627),\n",
       " (36, 0.0048678233),\n",
       " (37, 0.0062492345),\n",
       " (38, 0.0055021346),\n",
       " (39, 0.005738102),\n",
       " (40, 0.00691343),\n",
       " (41, 0.005368863),\n",
       " (42, 0.004901777),\n",
       " (43, 0.0046843044),\n",
       " (44, 0.0047087353),\n",
       " (45, 0.0057535986),\n",
       " (46, 0.0066925837),\n",
       " (47, 0.005256815),\n",
       " (48, 0.0054789553),\n",
       " (49, 0.42320555),\n",
       " (50, 0.0061090016),\n",
       " (51, 0.006467382),\n",
       " (52, 0.0062695597),\n",
       " (53, 0.004514004),\n",
       " (54, 0.0070602847),\n",
       " (55, 0.005126767),\n",
       " (56, 0.005316163),\n",
       " (57, 0.005973784),\n",
       " (58, 0.005049612),\n",
       " (59, 0.0052244165),\n",
       " (60, 0.00471505),\n",
       " (61, 0.0046737175),\n",
       " (62, 0.005316047),\n",
       " (63, 0.0067849793),\n",
       " (64, 0.0050639845),\n",
       " (65, 0.0057584187),\n",
       " (66, 0.008201203),\n",
       " (67, 0.0041113463),\n",
       " (68, 0.006910948),\n",
       " (69, 0.005332734),\n",
       " (70, 0.03341932),\n",
       " (71, 0.006707504),\n",
       " (72, 0.004904145),\n",
       " (73, 0.005872725),\n",
       " (74, 0.005224511),\n",
       " (75, 0.005719267),\n",
       " (76, 0.005383789),\n",
       " (77, 0.005004846),\n",
       " (78, 0.0053993138),\n",
       " (79, 0.0067144623),\n",
       " (80, 0.0045616548),\n",
       " (81, 0.0051348433),\n",
       " (82, 0.0043667657),\n",
       " (83, 0.0043984167),\n",
       " (84, 0.004891814),\n",
       " (85, 0.004274392),\n",
       " (86, 0.0052472064),\n",
       " (87, 0.005917376),\n",
       " (88, 0.0054888455),\n",
       " (89, 0.0051816087),\n",
       " (90, 0.0048919013),\n",
       " (91, 0.0057150526),\n",
       " (92, 0.0047971033),\n",
       " (93, 0.0054562027),\n",
       " (94, 0.005408083),\n",
       " (95, 0.004653806),\n",
       " (96, 0.0052035716),\n",
       " (97, 0.0049389685),\n",
       " (98, 0.0055620284),\n",
       " (99, 0.00515255)]"
      ]
     },
     "execution_count": 85,
     "metadata": {},
     "output_type": "execute_result"
    }
   ],
   "source": [
    "##### Function check\n",
    "lda = LdaRetrievalModel(doc_repr_2)\n",
    "lda.train_model()\n",
    "\n",
    "# you can now get an LDA vector for a given query in the following way:\n",
    "lda.vectorize_query(\"report\")\n",
    "##### "
   ]
  },
  {
   "cell_type": "markdown",
   "metadata": {
    "deletable": false,
    "editable": false,
    "nbgrader": {
     "cell_type": "markdown",
     "checksum": "32d83b6ea79ca3ddb789a7f8805a1b25",
     "grade": false,
     "grade_id": "cell-0e24b727d5908c0e",
     "locked": true,
     "points": 5,
     "schema_version": 3,
     "solution": false,
     "task": true
    }
   },
   "source": [
    "\\#### Please do not change this. This cell is used for grading."
   ]
  },
  {
   "cell_type": "markdown",
   "metadata": {
    "deletable": false,
    "editable": false,
    "nbgrader": {
     "cell_type": "markdown",
     "checksum": "114a934f0b9ce696e6cf09d3b8da6a3d",
     "grade": false,
     "grade_id": "cell-b1bffcb970b18aeb",
     "locked": true,
     "schema_version": 3,
     "solution": false,
     "task": false
    }
   },
   "source": [
    "---\n",
    "Now we can use the `DenseRetrievalModel` class to obtain an LDA search function.\n",
    "You can test your LDA model in the following cell: Try finding queries which are lexically different to documents, but semantically similar - does LDA work well for these queries?!"
   ]
  },
  {
   "cell_type": "code",
   "execution_count": 86,
   "metadata": {
    "ExecuteTime": {
     "end_time": "2021-02-18T08:46:14.565672Z",
     "start_time": "2021-02-18T08:46:12.756514Z"
    }
   },
   "outputs": [
    {
     "data": {
      "application/vnd.jupyter.widget-view+json": {
       "model_id": "1d1eed05aebc41de8f8eaa505fe939db",
       "version_major": 2,
       "version_minor": 0
      },
      "text/plain": [
       "Text(value='', description='Search Bar')"
      ]
     },
     "metadata": {},
     "output_type": "display_data"
    }
   ],
   "source": [
    "drm_lda = DenseRetrievalRanker(lda, jenson_shannon_sim)\n",
    "\n",
    "# test your LDA model\n",
    "search_fn = drm_lda.search\n",
    "\n",
    "text = widgets.Text(description=\"Search Bar\", width=200)\n",
    "display(text)\n",
    "\n",
    "\n",
    "text.on_submit(handle_submit_2)"
   ]
  },
  {
   "cell_type": "markdown",
   "metadata": {
    "deletable": false,
    "editable": false,
    "nbgrader": {
     "cell_type": "markdown",
     "checksum": "9d7f15863b655119b45f4d89354e5661",
     "grade": false,
     "grade_id": "cell-190cd0854b2791cc",
     "locked": true,
     "schema_version": 3,
     "solution": false,
     "task": false
    }
   },
   "source": [
    "## Section 8: Word2Vec/Doc2Vec (20 points) <a class=\"anchor\" id=\"2vec\"></a>\n",
    "\n",
    "[Back to Part 2](#part2)\n",
    "\n",
    "We will implement two other methods here, the Word2Vec model and the Doc2Vec model, also using `gensim`. Word2Vec creates representations of words, not documents, so the word level vectors need to be aggregated to obtain a representation for the document. Here, we will simply take the mean of the vectors. \n",
    "\n",
    "\n",
    "A drawback of these models is that they need a lot of training data. Our dataset is tiny, so in addition to using a model trained on the data, we will also use a pre-trained model for Word2Vec (this will be automatically downloaded).     \n",
    "\n",
    "*Note*:\n",
    "1. The code in vectorize_documents / vectorize_query should return gensim-like vectors i.e `[(dim, val), .. (dim, val)]`. \n",
    "2. For Word2Vec: You should also handle the following two cases: (a) A word in the query is not present in the vocabulary of the model and (b) none of the words in the query are present in the model - you can return 0 scores for all documents in this case. For either of these, you can check if a `word` is present in the vocab by using `word in self.model`\n"
   ]
  },
  {
   "cell_type": "code",
   "execution_count": 87,
   "metadata": {
    "ExecuteTime": {
     "end_time": "2021-02-18T08:46:16.328218Z",
     "start_time": "2021-02-18T08:46:14.566680Z"
    },
    "deletable": false,
    "nbgrader": {
     "cell_type": "code",
     "checksum": "83ab733608ed14c29c09b36b4e1b6daa",
     "grade": false,
     "grade_id": "cell-2b73759f9baf688f",
     "locked": false,
     "schema_version": 3,
     "solution": true,
     "task": false
    }
   },
   "outputs": [
    {
     "name": "stderr",
     "output_type": "stream",
     "text": [
      "2021-02-18 09:46:14,573 : INFO : adding document #0 to Dictionary(0 unique tokens: [])\n",
      "2021-02-18 09:46:14,702 : INFO : built Dictionary(5937 unique tokens: ['-', 'algebra', 'intern', 'languag', 'preliminari']...) from 3204 documents (total 115978 corpus positions)\n",
      "2021-02-18 09:46:14,708 : INFO : discarding 4740 tokens: [('repeat', 8), ('glossari', 7), ('inspect', 8), ('uncol', 2), ('rung', 9), ('secant', 2), ('.', 1603), ('acceler', 6), ('diverg', 3), ('induc', 9)]...\n",
      "2021-02-18 09:46:14,709 : INFO : keeping 1197 tokens which were in no less than 10 and no more than 1602 (=50.0%) documents\n",
      "2021-02-18 09:46:14,712 : INFO : resulting dictionary: Dictionary(1197 unique tokens: ['-', 'algebra', 'intern', 'languag', 'preliminari']...)\n",
      "2021-02-18 09:46:14,775 : INFO : collecting all words and their counts\n",
      "2021-02-18 09:46:14,777 : INFO : PROGRESS: at sentence #0, processed 0 words, keeping 0 word types\n",
      "2021-02-18 09:46:14,796 : INFO : collected 5937 word types from a corpus of 115978 raw words and 3204 sentences\n",
      "2021-02-18 09:46:14,797 : INFO : Loading a fresh vocabulary\n",
      "2021-02-18 09:46:14,807 : INFO : effective_min_count=1 retains 5937 unique words (100% of original 5937, drops 0)\n",
      "2021-02-18 09:46:14,808 : INFO : effective_min_count=1 leaves 115978 word corpus (100% of original 115978, drops 0)\n",
      "2021-02-18 09:46:14,824 : INFO : deleting the raw counts dictionary of 5937 items\n",
      "2021-02-18 09:46:14,825 : INFO : sample=0.001 downsamples 40 most-common words\n",
      "2021-02-18 09:46:14,826 : INFO : downsampling leaves estimated 92353 word corpus (79.6% of prior 115978)\n",
      "2021-02-18 09:46:14,840 : INFO : estimated required memory for 5937 words and 100 dimensions: 7718100 bytes\n",
      "2021-02-18 09:46:14,841 : INFO : resetting layer weights\n",
      "2021-02-18 09:46:15,909 : INFO : training model with 3 workers on 5937 vocabulary and 100 features, using sg=0 hs=0 sample=0.001 negative=5 window=5\n",
      "2021-02-18 09:46:15,981 : INFO : worker thread finished; awaiting finish of 2 more threads\n",
      "2021-02-18 09:46:15,982 : INFO : worker thread finished; awaiting finish of 1 more threads\n",
      "2021-02-18 09:46:15,984 : INFO : worker thread finished; awaiting finish of 0 more threads\n",
      "2021-02-18 09:46:15,985 : INFO : EPOCH - 1 : training on 115978 raw words (92382 effective words) took 0.1s, 1310489 effective words/s\n",
      "2021-02-18 09:46:16,047 : INFO : worker thread finished; awaiting finish of 2 more threads\n",
      "2021-02-18 09:46:16,052 : INFO : worker thread finished; awaiting finish of 1 more threads\n",
      "2021-02-18 09:46:16,056 : INFO : worker thread finished; awaiting finish of 0 more threads\n",
      "2021-02-18 09:46:16,057 : INFO : EPOCH - 2 : training on 115978 raw words (92434 effective words) took 0.1s, 1362754 effective words/s\n",
      "2021-02-18 09:46:16,121 : INFO : worker thread finished; awaiting finish of 2 more threads\n",
      "2021-02-18 09:46:16,129 : INFO : worker thread finished; awaiting finish of 1 more threads\n",
      "2021-02-18 09:46:16,132 : INFO : worker thread finished; awaiting finish of 0 more threads\n",
      "2021-02-18 09:46:16,133 : INFO : EPOCH - 3 : training on 115978 raw words (92491 effective words) took 0.1s, 1292350 effective words/s\n",
      "2021-02-18 09:46:16,205 : INFO : worker thread finished; awaiting finish of 2 more threads\n",
      "2021-02-18 09:46:16,207 : INFO : worker thread finished; awaiting finish of 1 more threads\n",
      "2021-02-18 09:46:16,210 : INFO : worker thread finished; awaiting finish of 0 more threads\n",
      "2021-02-18 09:46:16,211 : INFO : EPOCH - 4 : training on 115978 raw words (92441 effective words) took 0.1s, 1254742 effective words/s\n",
      "2021-02-18 09:46:16,289 : INFO : worker thread finished; awaiting finish of 2 more threads\n",
      "2021-02-18 09:46:16,294 : INFO : worker thread finished; awaiting finish of 1 more threads\n",
      "2021-02-18 09:46:16,296 : INFO : worker thread finished; awaiting finish of 0 more threads\n",
      "2021-02-18 09:46:16,298 : INFO : EPOCH - 5 : training on 115978 raw words (92306 effective words) took 0.1s, 1148035 effective words/s\n",
      "2021-02-18 09:46:16,299 : INFO : training on a 579890 raw words (462054 effective words) took 0.4s, 1195981 effective words/s\n"
     ]
    },
    {
     "data": {
      "text/plain": [
       "[(0, 0.086458154),\n",
       " (1, 0.47689313),\n",
       " (2, -0.116774),\n",
       " (3, -1.0261179),\n",
       " (4, 0.40345186),\n",
       " (5, -0.08808004),\n",
       " (6, -0.32522276),\n",
       " (7, 0.023351425),\n",
       " (8, -0.26708075),\n",
       " (9, -0.019330628),\n",
       " (10, -0.29249766),\n",
       " (11, 0.04949044),\n",
       " (12, -0.07726371),\n",
       " (13, -1.0515071),\n",
       " (14, 0.092795976),\n",
       " (15, -0.49762914),\n",
       " (16, 0.36850604),\n",
       " (17, -0.20609863),\n",
       " (18, 0.58328485),\n",
       " (19, -0.22554697),\n",
       " (20, 0.43124232),\n",
       " (21, -0.20167613),\n",
       " (22, -0.074251674),\n",
       " (23, 0.17088152),\n",
       " (24, -0.14901637),\n",
       " (25, 1.1308036),\n",
       " (26, -0.41290075),\n",
       " (27, -0.10039292),\n",
       " (28, 0.4723352),\n",
       " (29, 0.6130844),\n",
       " (30, -0.26171646),\n",
       " (31, 0.07677623),\n",
       " (32, 0.3208393),\n",
       " (33, -0.3194513),\n",
       " (34, -0.27150375),\n",
       " (35, 0.31206724),\n",
       " (36, -0.77079135),\n",
       " (37, -0.7586395),\n",
       " (38, 0.228283),\n",
       " (39, 1.1315128),\n",
       " (40, 0.051851362),\n",
       " (41, 0.010796506),\n",
       " (42, 0.3717191),\n",
       " (43, -0.75109404),\n",
       " (44, 0.07001864),\n",
       " (45, -0.66212624),\n",
       " (46, 0.36532757),\n",
       " (47, -0.39243025),\n",
       " (48, 0.72810745),\n",
       " (49, -0.2040465),\n",
       " (50, 0.366937),\n",
       " (51, 0.07305568),\n",
       " (52, 0.07312008),\n",
       " (53, 0.40273568),\n",
       " (54, 0.58351684),\n",
       " (55, 0.01294411),\n",
       " (56, -0.23830988),\n",
       " (57, -0.06789668),\n",
       " (58, 0.57918566),\n",
       " (59, -0.6266365),\n",
       " (60, 0.4436687),\n",
       " (61, -0.5501367),\n",
       " (62, 0.24446015),\n",
       " (63, -0.26303372),\n",
       " (64, 0.53166306),\n",
       " (65, -0.3208225),\n",
       " (66, -0.34135088),\n",
       " (67, 0.20438664),\n",
       " (68, -0.48459077),\n",
       " (69, -0.25823805),\n",
       " (70, -0.40402132),\n",
       " (71, 0.3897769),\n",
       " (72, -0.45197812),\n",
       " (73, -0.6117323),\n",
       " (74, -0.075122304),\n",
       " (75, 0.61223274),\n",
       " (76, -0.11718115),\n",
       " (77, -0.1332483),\n",
       " (78, -0.028396873),\n",
       " (79, 0.04991695),\n",
       " (80, -0.4159489),\n",
       " (81, -0.13558318),\n",
       " (82, 0.66911864),\n",
       " (83, 0.43699244),\n",
       " (84, -0.3895292),\n",
       " (85, 0.062892705),\n",
       " (86, 0.18684046),\n",
       " (87, -0.9522201),\n",
       " (88, -0.3912237),\n",
       " (89, 0.13548383),\n",
       " (90, -0.30052817),\n",
       " (91, 0.094983146),\n",
       " (92, -0.053093407),\n",
       " (93, 0.44571495),\n",
       " (94, 0.2849528),\n",
       " (95, -0.101835474),\n",
       " (96, 0.23282112),\n",
       " (97, 0.5316269),\n",
       " (98, 0.75622714),\n",
       " (99, 0.4048996)]"
      ]
     },
     "execution_count": 87,
     "metadata": {},
     "output_type": "execute_result"
    }
   ],
   "source": [
    "# TODO: Implement this! (10 points)\n",
    "class W2VRetrievalModel(VectorSpaceRetrievalModel):\n",
    "    def __init__(self, doc_repr):\n",
    "        super().__init__(doc_repr)\n",
    "        \n",
    "        # the dimensionality of the vectors\n",
    "        self.size = 100 \n",
    "        self.min_count = 1\n",
    "    \n",
    "    def train_model(self):\n",
    "        \"\"\"\n",
    "        Trains the W2V model\n",
    "        \"\"\"\n",
    "        # YOUR CODE HERE\n",
    "        \n",
    "        model = Word2Vec(sentences=self.documents, size=self.size, min_count=self.min_count)\n",
    "        self.model = model\n",
    "        return model\n",
    "    \n",
    "        raise NotImplementedError()\n",
    "\n",
    "    def vectorize_documents(self):\n",
    "        \"\"\"\n",
    "            Returns a doc_id -> vector dictionary\n",
    "        \"\"\"\n",
    "        # YOUR CODE HERE\n",
    "        \n",
    "        vectors = {}\n",
    "        \n",
    "        final_repr = list()\n",
    "        for doc_id, tok in self.doc_repr:\n",
    "            for word in tok:\n",
    "                if word in self.model.wv.vocab:\n",
    "                    vec = self.model.wv[word]\n",
    "                    final_repr.append(vec)\n",
    "                else:\n",
    "                    final_repr.append(np.zeros((self.size,)))\n",
    "            mean_vector = np.mean(np.array(final_repr),axis=0)\n",
    "            vectors[doc_id] = list(enumerate(mean_vector))\n",
    "        return vectors\n",
    "    \n",
    "        raise NotImplementedError()\n",
    "            \n",
    "    def vectorize_query(self, query):\n",
    "        \"\"\"\n",
    "        Vectorizes the query using the W2V model\n",
    "        \"\"\"\n",
    "        # YOUR CODE HERE\n",
    "        \n",
    "        query = process_text(query, **config_2)\n",
    "        final_repr = list()\n",
    "        for word in query:\n",
    "            if word in self.model.wv.vocab:\n",
    "                vec = self.model.wv[word]\n",
    "                \n",
    "                final_repr.append(vec)\n",
    "            else:\n",
    "                final_repr.append(np.zeros((self.size,)))\n",
    "        final_repr = np.mean(np.array(final_repr), axis=0)\n",
    "        \n",
    "    \n",
    "        return list(enumerate(final_repr))\n",
    "    \n",
    "        raise NotImplementedError()\n",
    "    \n",
    "class W2VPretrainedRetrievalModel(W2VRetrievalModel):\n",
    "    def __init__(self, doc_repr):\n",
    "        super().__init__(doc_repr)\n",
    "        self.model_name = \"word2vec-google-news-300\"\n",
    "        self.size = 300\n",
    "    \n",
    "    def train_model(self):\n",
    "        \"\"\"\n",
    "        Loads the pretrained model\n",
    "        \"\"\"\n",
    "        self.model = g_downloader.load(self.model_name)\n",
    "\n",
    "w2v = W2VRetrievalModel(doc_repr_2)\n",
    "w2v.train_model()\n",
    "\n",
    "# you can now get a W2V vector for a given query in the following way:\n",
    "w2v.vectorize_query(\"report\")"
   ]
  },
  {
   "cell_type": "code",
   "execution_count": 88,
   "metadata": {
    "ExecuteTime": {
     "end_time": "2021-02-18T08:46:16.343681Z",
     "start_time": "2021-02-18T08:46:16.330214Z"
    },
    "deletable": false,
    "editable": false,
    "nbgrader": {
     "cell_type": "code",
     "checksum": "f92b5c5a8c6c4b80652b94223209ab0b",
     "grade": true,
     "grade_id": "cell-b31c0f8d214b8bdf",
     "locked": true,
     "points": 0,
     "schema_version": 3,
     "solution": false,
     "task": false
    }
   },
   "outputs": [],
   "source": [
    "assert len(w2v.vectorize_query(\"report\")) == 100\n",
    "assert len(w2v.vectorize_query(\"this is a sentence that is not mellifluous\")) == 100\n"
   ]
  },
  {
   "cell_type": "markdown",
   "metadata": {
    "deletable": false,
    "editable": false,
    "nbgrader": {
     "cell_type": "markdown",
     "checksum": "8dfaabebcb06f308a7ca61fdc5d369e7",
     "grade": false,
     "grade_id": "cell-c2614fa067386384",
     "locked": true,
     "points": 8,
     "schema_version": 3,
     "solution": false,
     "task": true
    }
   },
   "source": [
    "\\#### Please do not change this. This cell is used for grading."
   ]
  },
  {
   "cell_type": "code",
   "execution_count": 89,
   "metadata": {
    "ExecuteTime": {
     "end_time": "2021-02-18T08:46:57.877640Z",
     "start_time": "2021-02-18T08:46:16.345675Z"
    }
   },
   "outputs": [
    {
     "name": "stderr",
     "output_type": "stream",
     "text": [
      "2021-02-18 09:46:16,347 : INFO : adding document #0 to Dictionary(0 unique tokens: [])\n",
      "2021-02-18 09:46:16,494 : INFO : built Dictionary(5937 unique tokens: ['-', 'algebra', 'intern', 'languag', 'preliminari']...) from 3204 documents (total 115978 corpus positions)\n",
      "2021-02-18 09:46:16,502 : INFO : discarding 4740 tokens: [('repeat', 8), ('glossari', 7), ('inspect', 8), ('uncol', 2), ('rung', 9), ('secant', 2), ('.', 1603), ('acceler', 6), ('diverg', 3), ('induc', 9)]...\n",
      "2021-02-18 09:46:16,503 : INFO : keeping 1197 tokens which were in no less than 10 and no more than 1602 (=50.0%) documents\n",
      "2021-02-18 09:46:16,506 : INFO : resulting dictionary: Dictionary(1197 unique tokens: ['-', 'algebra', 'intern', 'languag', 'preliminari']...)\n",
      "2021-02-18 09:46:16,862 : INFO : loading projection weights from C:\\Users\\marta/gensim-data\\word2vec-google-news-300\\word2vec-google-news-300.gz\n",
      "2021-02-18 09:46:57,830 : INFO : loaded (3000000, 300) matrix from C:\\Users\\marta/gensim-data\\word2vec-google-news-300\\word2vec-google-news-300.gz\n",
      "<ipython-input-87-9aa5b93747f8>:47: DeprecationWarning: Call to deprecated `wv` (Attribute will be removed in 4.0.0, use self instead).\n",
      "  if word in self.model.wv.vocab:\n",
      "<ipython-input-87-9aa5b93747f8>:48: DeprecationWarning: Call to deprecated `wv` (Attribute will be removed in 4.0.0, use self instead).\n",
      "  vec = self.model.wv[word]\n"
     ]
    },
    {
     "data": {
      "text/plain": [
       "[(0, -0.14257812),\n",
       " (1, -0.1640625),\n",
       " (2, -0.09033203),\n",
       " (3, -0.11230469),\n",
       " (4, 0.100097656),\n",
       " (5, -0.041259766),\n",
       " (6, 0.048828125),\n",
       " (7, -0.13671875),\n",
       " (8, 0.19628906),\n",
       " (9, -0.13476562),\n",
       " (10, -0.017578125),\n",
       " (11, 0.032226562),\n",
       " (12, 0.095214844),\n",
       " (13, -0.10595703),\n",
       " (14, -0.16992188),\n",
       " (15, 0.041015625),\n",
       " (16, -0.26367188),\n",
       " (17, -0.0063171387),\n",
       " (18, -0.17773438),\n",
       " (19, -0.24023438),\n",
       " (20, 0.3515625),\n",
       " (21, -0.012207031),\n",
       " (22, -0.16210938),\n",
       " (23, -0.12060547),\n",
       " (24, 0.04321289),\n",
       " (25, 0.10986328),\n",
       " (26, 0.052490234),\n",
       " (27, 0.17871094),\n",
       " (28, -0.14550781),\n",
       " (29, 0.13769531),\n",
       " (30, -0.08203125),\n",
       " (31, -0.28320312),\n",
       " (32, -0.10888672),\n",
       " (33, -0.2890625),\n",
       " (34, 0.072265625),\n",
       " (35, -0.04736328),\n",
       " (36, 0.040283203),\n",
       " (37, 0.067871094),\n",
       " (38, 0.11669922),\n",
       " (39, 0.000831604),\n",
       " (40, 0.068359375),\n",
       " (41, 0.12011719),\n",
       " (42, -0.088378906),\n",
       " (43, 0.33789062),\n",
       " (44, -0.044677734),\n",
       " (45, -0.030151367),\n",
       " (46, 0.0076904297),\n",
       " (47, -0.021118164),\n",
       " (48, -0.25390625),\n",
       " (49, 0.14941406),\n",
       " (50, 0.3984375),\n",
       " (51, 0.021606445),\n",
       " (52, -0.02319336),\n",
       " (53, 0.0063476562),\n",
       " (54, 0.008239746),\n",
       " (55, -0.16894531),\n",
       " (56, 0.037353516),\n",
       " (57, -0.06347656),\n",
       " (58, 0.1171875),\n",
       " (59, -0.1484375),\n",
       " (60, -0.07861328),\n",
       " (61, 0.36914062),\n",
       " (62, -0.22460938),\n",
       " (63, 0.17382812),\n",
       " (64, 0.0138549805),\n",
       " (65, 0.1875),\n",
       " (66, -0.10107422),\n",
       " (67, 0.037841797),\n",
       " (68, 0.0021209717),\n",
       " (69, -0.05126953),\n",
       " (70, 0.096191406),\n",
       " (71, -0.057128906),\n",
       " (72, 0.10595703),\n",
       " (73, -0.020996094),\n",
       " (74, 0.16113281),\n",
       " (75, 0.09765625),\n",
       " (76, 0.038330078),\n",
       " (77, 0.21972656),\n",
       " (78, 0.10644531),\n",
       " (79, 0.0859375),\n",
       " (80, 0.1796875),\n",
       " (81, -0.08300781),\n",
       " (82, -0.033203125),\n",
       " (83, 0.041015625),\n",
       " (84, -0.064941406),\n",
       " (85, 0.019897461),\n",
       " (86, 0.13378906),\n",
       " (87, -0.09765625),\n",
       " (88, -0.19335938),\n",
       " (89, -0.23535156),\n",
       " (90, 0.19042969),\n",
       " (91, 0.0024871826),\n",
       " (92, -0.01574707),\n",
       " (93, 0.032226562),\n",
       " (94, -0.21972656),\n",
       " (95, -0.091308594),\n",
       " (96, 0.021240234),\n",
       " (97, 0.15820312),\n",
       " (98, 0.29882812),\n",
       " (99, -0.328125),\n",
       " (100, 0.057373047),\n",
       " (101, -0.04638672),\n",
       " (102, 0.11328125),\n",
       " (103, -0.1015625),\n",
       " (104, 0.18066406),\n",
       " (105, -0.025146484),\n",
       " (106, -0.16601562),\n",
       " (107, -0.096191406),\n",
       " (108, 0.018798828),\n",
       " (109, -0.19433594),\n",
       " (110, 0.14941406),\n",
       " (111, -0.056640625),\n",
       " (112, -0.106933594),\n",
       " (113, -0.15039062),\n",
       " (114, -0.17578125),\n",
       " (115, 0.11279297),\n",
       " (116, 0.049316406),\n",
       " (117, 0.21972656),\n",
       " (118, 0.31835938),\n",
       " (119, 0.15722656),\n",
       " (120, -0.29296875),\n",
       " (121, 0.10498047),\n",
       " (122, -0.296875),\n",
       " (123, -0.013427734),\n",
       " (124, 0.09082031),\n",
       " (125, 0.012573242),\n",
       " (126, -0.051513672),\n",
       " (127, -0.12890625),\n",
       " (128, 0.014465332),\n",
       " (129, 0.12060547),\n",
       " (130, -0.10107422),\n",
       " (131, -0.111328125),\n",
       " (132, 0.063964844),\n",
       " (133, -0.052978516),\n",
       " (134, -0.04321289),\n",
       " (135, -0.012939453),\n",
       " (136, -0.02758789),\n",
       " (137, -0.09716797),\n",
       " (138, -0.20214844),\n",
       " (139, 0.123046875),\n",
       " (140, -0.04248047),\n",
       " (141, 0.17382812),\n",
       " (142, -0.013671875),\n",
       " (143, 0.1015625),\n",
       " (144, -0.0009384155),\n",
       " (145, -0.03564453),\n",
       " (146, 0.30078125),\n",
       " (147, -0.068359375),\n",
       " (148, -0.056152344),\n",
       " (149, 0.037597656),\n",
       " (150, 0.06591797),\n",
       " (151, 0.040283203),\n",
       " (152, 0.0119018555),\n",
       " (153, 0.096191406),\n",
       " (154, 0.3671875),\n",
       " (155, -0.27929688),\n",
       " (156, -0.052001953),\n",
       " (157, -0.106933594),\n",
       " (158, -0.13476562),\n",
       " (159, -0.046142578),\n",
       " (160, 0.25),\n",
       " (161, 0.0056762695),\n",
       " (162, -0.014404297),\n",
       " (163, -0.03100586),\n",
       " (164, -0.060302734),\n",
       " (165, 0.10595703),\n",
       " (166, 0.37890625),\n",
       " (167, 0.05883789),\n",
       " (168, 0.123046875),\n",
       " (169, -0.115234375),\n",
       " (170, 0.14941406),\n",
       " (171, -0.1640625),\n",
       " (172, -0.23339844),\n",
       " (173, -0.07763672),\n",
       " (174, 0.026733398),\n",
       " (175, -0.021118164),\n",
       " (176, 0.19433594),\n",
       " (177, -0.056152344),\n",
       " (178, -0.006439209),\n",
       " (179, -0.16992188),\n",
       " (180, -0.118652344),\n",
       " (181, -0.06738281),\n",
       " (182, -0.068847656),\n",
       " (183, -0.08691406),\n",
       " (184, -0.1015625),\n",
       " (185, 0.014160156),\n",
       " (186, -0.20117188),\n",
       " (187, 0.09814453),\n",
       " (188, -0.010253906),\n",
       " (189, 0.1875),\n",
       " (190, 0.19628906),\n",
       " (191, -0.22070312),\n",
       " (192, -0.19628906),\n",
       " (193, -0.07373047),\n",
       " (194, 0.06640625),\n",
       " (195, -0.13378906),\n",
       " (196, 0.18359375),\n",
       " (197, -0.20019531),\n",
       " (198, 0.19824219),\n",
       " (199, 0.05029297),\n",
       " (200, 0.029907227),\n",
       " (201, 0.017700195),\n",
       " (202, -0.19335938),\n",
       " (203, -0.096191406),\n",
       " (204, -0.10253906),\n",
       " (205, 0.21289062),\n",
       " (206, -0.029907227),\n",
       " (207, 0.14355469),\n",
       " (208, 0.041015625),\n",
       " (209, -0.21191406),\n",
       " (210, 0.20800781),\n",
       " (211, 0.13769531),\n",
       " (212, -0.01965332),\n",
       " (213, 0.014953613),\n",
       " (214, -0.09765625),\n",
       " (215, 0.24316406),\n",
       " (216, 0.080078125),\n",
       " (217, 0.08251953),\n",
       " (218, 0.09863281),\n",
       " (219, 0.056884766),\n",
       " (220, 0.04248047),\n",
       " (221, 0.068847656),\n",
       " (222, -0.03540039),\n",
       " (223, -0.076171875),\n",
       " (224, -0.00016117096),\n",
       " (225, -0.07519531),\n",
       " (226, 0.22460938),\n",
       " (227, 0.15136719),\n",
       " (228, 0.10058594),\n",
       " (229, 0.10986328),\n",
       " (230, 0.023803711),\n",
       " (231, 0.088378906),\n",
       " (232, 0.061767578),\n",
       " (233, -0.107910156),\n",
       " (234, 0.06225586),\n",
       " (235, 0.0034332275),\n",
       " (236, 0.080566406),\n",
       " (237, 0.106933594),\n",
       " (238, 0.08886719),\n",
       " (239, -0.23730469),\n",
       " (240, 0.064941406),\n",
       " (241, 0.010192871),\n",
       " (242, -0.088378906),\n",
       " (243, -0.33203125),\n",
       " (244, 0.0046691895),\n",
       " (245, 0.21289062),\n",
       " (246, 0.0859375),\n",
       " (247, 0.020385742),\n",
       " (248, 0.045654297),\n",
       " (249, 0.1484375),\n",
       " (250, 0.11816406),\n",
       " (251, 0.055664062),\n",
       " (252, -0.17285156),\n",
       " (253, -0.125),\n",
       " (254, -0.025390625),\n",
       " (255, -0.31835938),\n",
       " (256, 0.03112793),\n",
       " (257, 0.0859375),\n",
       " (258, -0.041992188),\n",
       " (259, 0.15625),\n",
       " (260, 0.16113281),\n",
       " (261, 0.19824219),\n",
       " (262, -0.100097656),\n",
       " (263, 0.203125),\n",
       " (264, 0.12890625),\n",
       " (265, 0.23339844),\n",
       " (266, -0.26757812),\n",
       " (267, 0.05517578),\n",
       " (268, 0.048828125),\n",
       " (269, 0.072265625),\n",
       " (270, 0.24414062),\n",
       " (271, 0.24414062),\n",
       " (272, 0.056884766),\n",
       " (273, -0.0546875),\n",
       " (274, -0.033691406),\n",
       " (275, -0.12060547),\n",
       " (276, 0.03491211),\n",
       " (277, -0.14550781),\n",
       " (278, 0.087402344),\n",
       " (279, -0.08300781),\n",
       " (280, 0.017211914),\n",
       " (281, 0.14355469),\n",
       " (282, -0.122558594),\n",
       " (283, 0.1796875),\n",
       " (284, 0.13085938),\n",
       " (285, -0.16503906),\n",
       " (286, 0.012756348),\n",
       " (287, 0.16015625),\n",
       " (288, -0.03112793),\n",
       " (289, 0.08203125),\n",
       " (290, 0.17382812),\n",
       " (291, -0.16796875),\n",
       " (292, 0.13085938),\n",
       " (293, 0.08544922),\n",
       " (294, -0.2109375),\n",
       " (295, -0.13085938),\n",
       " (296, -0.028930664),\n",
       " (297, -0.10546875),\n",
       " (298, 0.084472656),\n",
       " (299, -0.14160156)]"
      ]
     },
     "execution_count": 89,
     "metadata": {},
     "output_type": "execute_result"
    }
   ],
   "source": [
    "w2v_pretrained = W2VPretrainedRetrievalModel(doc_repr_2)\n",
    "w2v_pretrained.train_model()\n",
    "\n",
    "# you can now get an W2V vector for a given query in the following way:\n",
    "w2v_pretrained.vectorize_query(\"report\")"
   ]
  },
  {
   "cell_type": "code",
   "execution_count": 90,
   "metadata": {
    "ExecuteTime": {
     "end_time": "2021-02-18T08:46:57.893597Z",
     "start_time": "2021-02-18T08:46:57.881629Z"
    },
    "deletable": false,
    "editable": false,
    "nbgrader": {
     "cell_type": "code",
     "checksum": "0822845afb5eafe5ddb1ffeaa4f4942a",
     "grade": true,
     "grade_id": "cell-1b1466f8ce516f42",
     "locked": true,
     "points": 2,
     "schema_version": 3,
     "solution": false,
     "task": false
    }
   },
   "outputs": [
    {
     "name": "stdout",
     "output_type": "stream",
     "text": [
      "300\n"
     ]
    },
    {
     "name": "stderr",
     "output_type": "stream",
     "text": [
      "<ipython-input-87-9aa5b93747f8>:47: DeprecationWarning: Call to deprecated `wv` (Attribute will be removed in 4.0.0, use self instead).\n",
      "  if word in self.model.wv.vocab:\n",
      "<ipython-input-87-9aa5b93747f8>:48: DeprecationWarning: Call to deprecated `wv` (Attribute will be removed in 4.0.0, use self instead).\n",
      "  vec = self.model.wv[word]\n"
     ]
    }
   ],
   "source": [
    "##### Function check\n",
    "\n",
    "print(len(w2v_pretrained.vectorize_query(\"report\")))\n",
    "#####"
   ]
  },
  {
   "cell_type": "code",
   "execution_count": 91,
   "metadata": {
    "ExecuteTime": {
     "end_time": "2021-02-18T08:48:09.656452Z",
     "start_time": "2021-02-18T08:46:57.896589Z"
    }
   },
   "outputs": [
    {
     "data": {
      "application/vnd.jupyter.widget-view+json": {
       "model_id": "fb1935fdded14b6cb153c53212ecaf8b",
       "version_major": 2,
       "version_minor": 0
      },
      "text/plain": [
       "Text(value='', description='Search Bar')"
      ]
     },
     "metadata": {},
     "output_type": "display_data"
    }
   ],
   "source": [
    "drm_w2v = DenseRetrievalRanker(w2v, cosine_sim)\n",
    "\n",
    "# test your LDA model\n",
    "search_fn = drm_w2v.search\n",
    "\n",
    "text = widgets.Text(description=\"Search Bar\", width=200)\n",
    "display(text)\n",
    "\n",
    "\n",
    "text.on_submit(handle_submit_2)"
   ]
  },
  {
   "cell_type": "code",
   "execution_count": 92,
   "metadata": {
    "ExecuteTime": {
     "end_time": "2021-02-18T08:51:12.570933Z",
     "start_time": "2021-02-18T08:48:09.658445Z"
    }
   },
   "outputs": [
    {
     "name": "stderr",
     "output_type": "stream",
     "text": [
      "<ipython-input-87-9aa5b93747f8>:29: DeprecationWarning: Call to deprecated `wv` (Attribute will be removed in 4.0.0, use self instead).\n",
      "  if word in self.model.wv.vocab:\n",
      "<ipython-input-87-9aa5b93747f8>:30: DeprecationWarning: Call to deprecated `wv` (Attribute will be removed in 4.0.0, use self instead).\n",
      "  vec = self.model.wv[word]\n"
     ]
    },
    {
     "data": {
      "application/vnd.jupyter.widget-view+json": {
       "model_id": "a9974d34cba940e3b0cfa89f28ed191e",
       "version_major": 2,
       "version_minor": 0
      },
      "text/plain": [
       "Text(value='', description='Search Bar')"
      ]
     },
     "metadata": {},
     "output_type": "display_data"
    }
   ],
   "source": [
    "drm_w2v_pretrained = DenseRetrievalRanker(w2v_pretrained, cosine_sim)\n",
    "\n",
    "# test your LDA model\n",
    "search_fn = drm_w2v_pretrained.search\n",
    "\n",
    "text = widgets.Text(description=\"Search Bar\", width=200)\n",
    "display(text)\n",
    "\n",
    "\n",
    "text.on_submit(handle_submit_2)"
   ]
  },
  {
   "cell_type": "markdown",
   "metadata": {
    "deletable": false,
    "editable": false,
    "nbgrader": {
     "cell_type": "markdown",
     "checksum": "51b778984fd60757974f51047c61eb15",
     "grade": false,
     "grade_id": "cell-b92f701cbc706108",
     "locked": true,
     "schema_version": 3,
     "solution": false,
     "task": false
    }
   },
   "source": [
    "**Implementation (10 points):**\n",
    "For Doc2Vec, you will need to create a list of `TaggedDocument` instead of using the `self.corpus` or `self.documents` variable. Use the document id as the 'tag'.\n",
    "  "
   ]
  },
  {
   "cell_type": "code",
   "execution_count": 93,
   "metadata": {
    "ExecuteTime": {
     "end_time": "2021-02-18T08:51:18.955245Z",
     "start_time": "2021-02-18T08:51:12.570933Z"
    },
    "deletable": false,
    "nbgrader": {
     "cell_type": "code",
     "checksum": "1f60fdeb97febb7f4a6fd5bf109aac20",
     "grade": false,
     "grade_id": "cell-680facdcc98a19ab",
     "locked": false,
     "schema_version": 3,
     "solution": true,
     "task": false
    }
   },
   "outputs": [
    {
     "name": "stderr",
     "output_type": "stream",
     "text": [
      "2021-02-18 09:51:12,577 : INFO : adding document #0 to Dictionary(0 unique tokens: [])\n",
      "2021-02-18 09:51:12,716 : INFO : built Dictionary(5937 unique tokens: ['-', 'algebra', 'intern', 'languag', 'preliminari']...) from 3204 documents (total 115978 corpus positions)\n",
      "2021-02-18 09:51:12,723 : INFO : discarding 4740 tokens: [('repeat', 8), ('glossari', 7), ('inspect', 8), ('uncol', 2), ('rung', 9), ('secant', 2), ('.', 1603), ('acceler', 6), ('diverg', 3), ('induc', 9)]...\n",
      "2021-02-18 09:51:12,724 : INFO : keeping 1197 tokens which were in no less than 10 and no more than 1602 (=50.0%) documents\n",
      "2021-02-18 09:51:12,727 : INFO : resulting dictionary: Dictionary(1197 unique tokens: ['-', 'algebra', 'intern', 'languag', 'preliminari']...)\n",
      "2021-02-18 09:51:12,802 : INFO : collecting all words and their counts\n",
      "2021-02-18 09:51:12,802 : INFO : PROGRESS: at example #0, processed 0 words (0/s), 0 word types, 0 tags\n",
      "2021-02-18 09:51:12,827 : INFO : collected 5937 word types and 3205 unique tags from a corpus of 3204 examples and 115978 words\n",
      "2021-02-18 09:51:12,829 : INFO : Loading a fresh vocabulary\n",
      "2021-02-18 09:51:12,840 : INFO : effective_min_count=1 retains 5937 unique words (100% of original 5937, drops 0)\n",
      "2021-02-18 09:51:12,841 : INFO : effective_min_count=1 leaves 115978 word corpus (100% of original 115978, drops 0)\n",
      "2021-02-18 09:51:12,862 : INFO : deleting the raw counts dictionary of 5937 items\n",
      "2021-02-18 09:51:12,863 : INFO : sample=0.001 downsamples 40 most-common words\n",
      "2021-02-18 09:51:12,864 : INFO : downsampling leaves estimated 92353 word corpus (79.6% of prior 115978)\n",
      "2021-02-18 09:51:12,879 : INFO : estimated required memory for 5937 words and 100 dimensions: 9000100 bytes\n",
      "2021-02-18 09:51:12,879 : INFO : resetting layer weights\n",
      "2021-02-18 09:51:14,640 : INFO : training model with 3 workers on 5937 vocabulary and 100 features, using sg=0 hs=0 sample=0.001 negative=5 window=5\n",
      "2021-02-18 09:51:14,815 : INFO : worker thread finished; awaiting finish of 2 more threads\n",
      "2021-02-18 09:51:14,839 : INFO : worker thread finished; awaiting finish of 1 more threads\n",
      "2021-02-18 09:51:14,843 : INFO : worker thread finished; awaiting finish of 0 more threads\n",
      "2021-02-18 09:51:14,844 : INFO : EPOCH - 1 : training on 115978 raw words (95594 effective words) took 0.2s, 530080 effective words/s\n",
      "2021-02-18 09:51:15,025 : INFO : worker thread finished; awaiting finish of 2 more threads\n",
      "2021-02-18 09:51:15,031 : INFO : worker thread finished; awaiting finish of 1 more threads\n",
      "2021-02-18 09:51:15,038 : INFO : worker thread finished; awaiting finish of 0 more threads\n",
      "2021-02-18 09:51:15,038 : INFO : EPOCH - 2 : training on 115978 raw words (95468 effective words) took 0.2s, 500049 effective words/s\n",
      "2021-02-18 09:51:15,217 : INFO : worker thread finished; awaiting finish of 2 more threads\n",
      "2021-02-18 09:51:15,237 : INFO : worker thread finished; awaiting finish of 1 more threads\n",
      "2021-02-18 09:51:15,241 : INFO : worker thread finished; awaiting finish of 0 more threads\n",
      "2021-02-18 09:51:15,242 : INFO : EPOCH - 3 : training on 115978 raw words (95456 effective words) took 0.2s, 480473 effective words/s\n",
      "2021-02-18 09:51:15,437 : INFO : worker thread finished; awaiting finish of 2 more threads\n",
      "2021-02-18 09:51:15,447 : INFO : worker thread finished; awaiting finish of 1 more threads\n",
      "2021-02-18 09:51:15,455 : INFO : worker thread finished; awaiting finish of 0 more threads\n",
      "2021-02-18 09:51:15,456 : INFO : EPOCH - 4 : training on 115978 raw words (95499 effective words) took 0.2s, 451862 effective words/s\n",
      "2021-02-18 09:51:15,641 : INFO : worker thread finished; awaiting finish of 2 more threads\n",
      "2021-02-18 09:51:15,665 : INFO : worker thread finished; awaiting finish of 1 more threads\n",
      "2021-02-18 09:51:15,670 : INFO : worker thread finished; awaiting finish of 0 more threads\n",
      "2021-02-18 09:51:15,670 : INFO : EPOCH - 5 : training on 115978 raw words (95443 effective words) took 0.2s, 457245 effective words/s\n",
      "2021-02-18 09:51:15,867 : INFO : worker thread finished; awaiting finish of 2 more threads\n",
      "2021-02-18 09:51:15,883 : INFO : worker thread finished; awaiting finish of 1 more threads\n",
      "2021-02-18 09:51:15,893 : INFO : worker thread finished; awaiting finish of 0 more threads\n",
      "2021-02-18 09:51:15,894 : INFO : EPOCH - 6 : training on 115978 raw words (95566 effective words) took 0.2s, 436484 effective words/s\n",
      "2021-02-18 09:51:16,084 : INFO : worker thread finished; awaiting finish of 2 more threads\n",
      "2021-02-18 09:51:16,105 : INFO : worker thread finished; awaiting finish of 1 more threads\n",
      "2021-02-18 09:51:16,111 : INFO : worker thread finished; awaiting finish of 0 more threads\n",
      "2021-02-18 09:51:16,112 : INFO : EPOCH - 7 : training on 115978 raw words (95464 effective words) took 0.2s, 445802 effective words/s\n",
      "2021-02-18 09:51:16,305 : INFO : worker thread finished; awaiting finish of 2 more threads\n",
      "2021-02-18 09:51:16,323 : INFO : worker thread finished; awaiting finish of 1 more threads\n",
      "2021-02-18 09:51:16,335 : INFO : worker thread finished; awaiting finish of 0 more threads\n",
      "2021-02-18 09:51:16,335 : INFO : EPOCH - 8 : training on 115978 raw words (95617 effective words) took 0.2s, 438135 effective words/s\n",
      "2021-02-18 09:51:16,533 : INFO : worker thread finished; awaiting finish of 2 more threads\n",
      "2021-02-18 09:51:16,550 : INFO : worker thread finished; awaiting finish of 1 more threads\n",
      "2021-02-18 09:51:16,553 : INFO : worker thread finished; awaiting finish of 0 more threads\n",
      "2021-02-18 09:51:16,554 : INFO : EPOCH - 9 : training on 115978 raw words (95544 effective words) took 0.2s, 446962 effective words/s\n",
      "2021-02-18 09:51:16,749 : INFO : worker thread finished; awaiting finish of 2 more threads\n",
      "2021-02-18 09:51:16,761 : INFO : worker thread finished; awaiting finish of 1 more threads\n",
      "2021-02-18 09:51:16,772 : INFO : worker thread finished; awaiting finish of 0 more threads\n",
      "2021-02-18 09:51:16,773 : INFO : EPOCH - 10 : training on 115978 raw words (95598 effective words) took 0.2s, 446135 effective words/s\n",
      "2021-02-18 09:51:16,965 : INFO : worker thread finished; awaiting finish of 2 more threads\n",
      "2021-02-18 09:51:16,971 : INFO : worker thread finished; awaiting finish of 1 more threads\n",
      "2021-02-18 09:51:16,971 : INFO : worker thread finished; awaiting finish of 0 more threads\n",
      "2021-02-18 09:51:16,971 : INFO : EPOCH - 11 : training on 115978 raw words (95352 effective words) took 0.2s, 467577 effective words/s\n",
      "2021-02-18 09:51:17,184 : INFO : worker thread finished; awaiting finish of 2 more threads\n",
      "2021-02-18 09:51:17,184 : INFO : worker thread finished; awaiting finish of 1 more threads\n",
      "2021-02-18 09:51:17,199 : INFO : worker thread finished; awaiting finish of 0 more threads\n",
      "2021-02-18 09:51:17,199 : INFO : EPOCH - 12 : training on 115978 raw words (95453 effective words) took 0.2s, 444452 effective words/s\n",
      "2021-02-18 09:51:17,401 : INFO : worker thread finished; awaiting finish of 2 more threads\n",
      "2021-02-18 09:51:17,413 : INFO : worker thread finished; awaiting finish of 1 more threads\n",
      "2021-02-18 09:51:17,414 : INFO : worker thread finished; awaiting finish of 0 more threads\n",
      "2021-02-18 09:51:17,414 : INFO : EPOCH - 13 : training on 115978 raw words (95584 effective words) took 0.2s, 455664 effective words/s\n",
      "2021-02-18 09:51:17,618 : INFO : worker thread finished; awaiting finish of 2 more threads\n",
      "2021-02-18 09:51:17,630 : INFO : worker thread finished; awaiting finish of 1 more threads\n",
      "2021-02-18 09:51:17,637 : INFO : worker thread finished; awaiting finish of 0 more threads\n",
      "2021-02-18 09:51:17,637 : INFO : EPOCH - 14 : training on 115978 raw words (95485 effective words) took 0.2s, 451766 effective words/s\n",
      "2021-02-18 09:51:17,834 : INFO : worker thread finished; awaiting finish of 2 more threads\n",
      "2021-02-18 09:51:17,845 : INFO : worker thread finished; awaiting finish of 1 more threads\n",
      "2021-02-18 09:51:17,858 : INFO : worker thread finished; awaiting finish of 0 more threads\n",
      "2021-02-18 09:51:17,859 : INFO : EPOCH - 15 : training on 115978 raw words (95673 effective words) took 0.2s, 440555 effective words/s\n",
      "2021-02-18 09:51:18,053 : INFO : worker thread finished; awaiting finish of 2 more threads\n",
      "2021-02-18 09:51:18,068 : INFO : worker thread finished; awaiting finish of 1 more threads\n"
     ]
    },
    {
     "name": "stderr",
     "output_type": "stream",
     "text": [
      "2021-02-18 09:51:18,083 : INFO : worker thread finished; awaiting finish of 0 more threads\n",
      "2021-02-18 09:51:18,083 : INFO : EPOCH - 16 : training on 115978 raw words (95650 effective words) took 0.2s, 433495 effective words/s\n",
      "2021-02-18 09:51:18,283 : INFO : worker thread finished; awaiting finish of 2 more threads\n",
      "2021-02-18 09:51:18,294 : INFO : worker thread finished; awaiting finish of 1 more threads\n",
      "2021-02-18 09:51:18,301 : INFO : worker thread finished; awaiting finish of 0 more threads\n",
      "2021-02-18 09:51:18,302 : INFO : EPOCH - 17 : training on 115978 raw words (95576 effective words) took 0.2s, 448061 effective words/s\n",
      "2021-02-18 09:51:18,502 : INFO : worker thread finished; awaiting finish of 2 more threads\n",
      "2021-02-18 09:51:18,521 : INFO : worker thread finished; awaiting finish of 1 more threads\n",
      "2021-02-18 09:51:18,529 : INFO : worker thread finished; awaiting finish of 0 more threads\n",
      "2021-02-18 09:51:18,529 : INFO : EPOCH - 18 : training on 115978 raw words (95529 effective words) took 0.2s, 427224 effective words/s\n",
      "2021-02-18 09:51:18,715 : INFO : worker thread finished; awaiting finish of 2 more threads\n",
      "2021-02-18 09:51:18,732 : INFO : worker thread finished; awaiting finish of 1 more threads\n",
      "2021-02-18 09:51:18,735 : INFO : worker thread finished; awaiting finish of 0 more threads\n",
      "2021-02-18 09:51:18,735 : INFO : EPOCH - 19 : training on 115978 raw words (95553 effective words) took 0.2s, 475025 effective words/s\n",
      "2021-02-18 09:51:18,908 : INFO : worker thread finished; awaiting finish of 2 more threads\n",
      "2021-02-18 09:51:18,934 : INFO : worker thread finished; awaiting finish of 1 more threads\n",
      "2021-02-18 09:51:18,938 : INFO : worker thread finished; awaiting finish of 0 more threads\n",
      "2021-02-18 09:51:18,938 : INFO : EPOCH - 20 : training on 115978 raw words (95549 effective words) took 0.2s, 481945 effective words/s\n",
      "2021-02-18 09:51:18,939 : INFO : training on a 2319560 raw words (1910653 effective words) took 4.3s, 445443 effective words/s\n"
     ]
    },
    {
     "data": {
      "text/plain": [
       "[(0, 0.039129663),\n",
       " (1, 0.06380455),\n",
       " (2, 0.0372417),\n",
       " (3, -0.066919826),\n",
       " (4, 0.029172387),\n",
       " (5, 0.043593843),\n",
       " (6, -0.07972468),\n",
       " (7, -0.006866838),\n",
       " (8, -0.029241165),\n",
       " (9, 0.04472167),\n",
       " (10, 0.007805907),\n",
       " (11, -0.02276804),\n",
       " (12, -0.012108639),\n",
       " (13, -0.0821464),\n",
       " (14, 0.06447723),\n",
       " (15, -0.047652494),\n",
       " (16, 0.067281485),\n",
       " (17, -0.018826548),\n",
       " (18, 0.09013158),\n",
       " (19, -0.038388304),\n",
       " (20, 0.04685946),\n",
       " (21, -0.03749524),\n",
       " (22, -0.050237402),\n",
       " (23, 0.043843053),\n",
       " (24, -0.018520087),\n",
       " (25, 0.15471224),\n",
       " (26, 0.05769825),\n",
       " (27, -0.036037397),\n",
       " (28, 0.06086186),\n",
       " (29, 0.08397715),\n",
       " (30, -0.08648466),\n",
       " (31, 0.058906913),\n",
       " (32, 0.06772328),\n",
       " (33, -0.011261158),\n",
       " (34, -0.009952199),\n",
       " (35, -0.0033186167),\n",
       " (36, -0.056504942),\n",
       " (37, -0.054663632),\n",
       " (38, 0.042858183),\n",
       " (39, 0.10614691),\n",
       " (40, 0.030201562),\n",
       " (41, -0.025412027),\n",
       " (42, -0.006855831),\n",
       " (43, -0.06881432),\n",
       " (44, 0.015810946),\n",
       " (45, -0.054090057),\n",
       " (46, 0.088405214),\n",
       " (47, -0.03807256),\n",
       " (48, 0.13304307),\n",
       " (49, -0.035028167),\n",
       " (50, 0.028044464),\n",
       " (51, 0.026773695),\n",
       " (52, -0.026300121),\n",
       " (53, 0.030995699),\n",
       " (54, 0.06652481),\n",
       " (55, 0.0047106002),\n",
       " (56, -0.023302313),\n",
       " (57, 0.034355115),\n",
       " (58, 0.060992267),\n",
       " (59, -0.06492762),\n",
       " (60, 0.048114892),\n",
       " (61, -0.112234585),\n",
       " (62, -0.0005814653),\n",
       " (63, -0.014774057),\n",
       " (64, 0.021622112),\n",
       " (65, -0.013831952),\n",
       " (66, -0.040982813),\n",
       " (67, -0.06990617),\n",
       " (68, -0.050360892),\n",
       " (69, -0.054096308),\n",
       " (70, 0.016015965),\n",
       " (71, 0.06123679),\n",
       " (72, -0.056127034),\n",
       " (73, -0.072999954),\n",
       " (74, -0.04938703),\n",
       " (75, 0.0800327),\n",
       " (76, -0.04238491),\n",
       " (77, -0.026824946),\n",
       " (78, 0.0067367153),\n",
       " (79, -0.022722807),\n",
       " (80, -0.0132485125),\n",
       " (81, -0.06629803),\n",
       " (82, -0.0027044038),\n",
       " (83, 0.10700216),\n",
       " (84, -0.068378106),\n",
       " (85, 0.04271313),\n",
       " (86, 0.027894672),\n",
       " (87, -0.026299806),\n",
       " (88, -0.073968776),\n",
       " (89, 0.016280694),\n",
       " (90, -0.0653638),\n",
       " (91, -0.00492025),\n",
       " (92, 0.0074912724),\n",
       " (93, 0.043905795),\n",
       " (94, 0.08879455),\n",
       " (95, 0.0059225885),\n",
       " (96, 0.062235534),\n",
       " (97, 0.033231266),\n",
       " (98, 0.085916124),\n",
       " (99, 0.00044983145)]"
      ]
     },
     "execution_count": 93,
     "metadata": {},
     "output_type": "execute_result"
    }
   ],
   "source": [
    "# TODO: Implement this! (10 points)\n",
    "class D2VRetrievalModel(VectorSpaceRetrievalModel):\n",
    "    def __init__(self, doc_repr):\n",
    "        super().__init__(doc_repr)\n",
    "        \n",
    "        self.vector_size= 100\n",
    "        self.min_count = 1\n",
    "        self.epochs = 20\n",
    "        \n",
    "        # YOUR CODE HERE\n",
    "        \n",
    "        self.tags = [TaggedDocument(doc, [i]) for i, doc in self.doc_repr]\n",
    "        self.model = None\n",
    "        \n",
    "        #raise NotImplementedError()\n",
    "        \n",
    "    def train_model(self):\n",
    "        # YOUR CODE HERE\n",
    "        \n",
    "        model = Doc2Vec(self.tags, vector_size=self.vector_size, min_count=self.min_count, epochs=self.epochs)\n",
    "        self.model = model\n",
    "        return model\n",
    "    \n",
    "        raise NotImplementedError()\n",
    "    \n",
    "    def vectorize_documents(self):\n",
    "        \"\"\"\n",
    "            Returns a doc_id -> vector dictionary\n",
    "        \"\"\"\n",
    "        # YOUR CODE HERE\n",
    "        \n",
    "        vectors = {}\n",
    "        for doc_id, tok in self.doc_repr:\n",
    "            vectors[doc_id] = list(enumerate(self.model.infer_vector(tok)))\n",
    "        return vectors\n",
    "        \n",
    "        raise NotImplementedError()\n",
    "\n",
    "    def vectorize_query(self, query):\n",
    "        # YOUR CODE HERE\n",
    "        \n",
    "        query = process_text(query, **config_2)\n",
    "        return list(enumerate(self.model.infer_vector(query)))\n",
    "    \n",
    "        raise NotImplementedError()\n",
    "        \n",
    "d2v = D2VRetrievalModel(doc_repr_2)\n",
    "d2v.train_model()\n",
    "\n",
    "\n",
    "# # you can now get an LSI vector for a given query in the following way:\n",
    "d2v.vectorize_query(\"report\")"
   ]
  },
  {
   "cell_type": "code",
   "execution_count": 94,
   "metadata": {
    "ExecuteTime": {
     "end_time": "2021-02-18T08:51:18.971235Z",
     "start_time": "2021-02-18T08:51:18.957241Z"
    },
    "deletable": false,
    "editable": false,
    "nbgrader": {
     "cell_type": "code",
     "checksum": "e83a363a9d4f136efbdde1426a83925e",
     "grade": true,
     "grade_id": "cell-5e2c5e0c9a2e8cb5",
     "locked": true,
     "points": 0,
     "schema_version": 3,
     "solution": false,
     "task": false
    }
   },
   "outputs": [],
   "source": [
    "#### Please do not change this. This cell is used for grading."
   ]
  },
  {
   "cell_type": "markdown",
   "metadata": {
    "deletable": false,
    "editable": false,
    "nbgrader": {
     "cell_type": "markdown",
     "checksum": "5bb46bf6b9be1e0ca66f0b0bc6260ecb",
     "grade": false,
     "grade_id": "cell-8a49d414f798a595",
     "locked": true,
     "points": 10,
     "schema_version": 3,
     "solution": false,
     "task": true
    }
   },
   "source": [
    "\\#### Please do not change this. This cell is used for grading."
   ]
  },
  {
   "cell_type": "code",
   "execution_count": 95,
   "metadata": {
    "ExecuteTime": {
     "end_time": "2021-02-18T08:51:23.334513Z",
     "start_time": "2021-02-18T08:51:18.972200Z"
    }
   },
   "outputs": [
    {
     "data": {
      "application/vnd.jupyter.widget-view+json": {
       "model_id": "d421a1d66ae147029605891a7251df9e",
       "version_major": 2,
       "version_minor": 0
      },
      "text/plain": [
       "Text(value='', description='Search Bar')"
      ]
     },
     "metadata": {},
     "output_type": "display_data"
    }
   ],
   "source": [
    "drm_d2v = DenseRetrievalRanker(d2v, cosine_sim)\n",
    "\n",
    "# test your LDA model\n",
    "search_fn = drm_d2v.search\n",
    "\n",
    "text = widgets.Text(description=\"Search Bar\", width=200)\n",
    "display(text)\n",
    "\n",
    "\n",
    "text.on_submit(handle_submit_2)"
   ]
  },
  {
   "cell_type": "markdown",
   "metadata": {
    "deletable": false,
    "editable": false,
    "nbgrader": {
     "cell_type": "markdown",
     "checksum": "363ec36c1d03d9f9e1c2045a6e193c14",
     "grade": false,
     "grade_id": "cell-3529ae29eece7b97",
     "locked": true,
     "schema_version": 3,
     "solution": false,
     "task": false
    }
   },
   "source": [
    "---\n",
    "## Section 9: Re-ranking (10 points) <a class=\"anchor\" id=\"reranking\"></a>\n",
    "\n",
    "[Back to Part 2](#part2)\n",
    "\n",
    "To motivate the re-ranking perspective (i.e retrieve with lexical method + rerank with a semantic method), let's search using semantic methods and compare it to BM25's performance, along with their runtime:\n"
   ]
  },
  {
   "cell_type": "code",
   "execution_count": 96,
   "metadata": {
    "ExecuteTime": {
     "end_time": "2021-02-18T08:51:55.246879Z",
     "start_time": "2021-02-18T08:51:23.336472Z"
    },
    "deletable": false,
    "editable": false,
    "nbgrader": {
     "cell_type": "code",
     "checksum": "5755f70e3eb28abc65d14d80125338af",
     "grade": false,
     "grade_id": "cell-f8f43bf5ae383128",
     "locked": true,
     "schema_version": 3,
     "solution": false,
     "task": false
    }
   },
   "outputs": [
    {
     "name": "stdout",
     "output_type": "stream",
     "text": [
      "BM25: \n",
      "9.63 ms ± 1.28 ms per loop (mean ± std. dev. of 7 runs, 100 loops each)\n",
      "LSI: \n",
      "332 ms ± 11.2 ms per loop (mean ± std. dev. of 7 runs, 1 loop each)\n",
      "LDA: \n",
      "1.17 s ± 19 ms per loop (mean ± std. dev. of 7 runs, 1 loop each)\n",
      "W2V: \n",
      "334 ms ± 15.2 ms per loop (mean ± std. dev. of 7 runs, 1 loop each)\n",
      "W2V(Pretrained): \n"
     ]
    },
    {
     "name": "stderr",
     "output_type": "stream",
     "text": [
      "<ipython-input-87-9aa5b93747f8>:47: DeprecationWarning: Call to deprecated `wv` (Attribute will be removed in 4.0.0, use self instead).\n",
      "  if word in self.model.wv.vocab:\n",
      "<ipython-input-87-9aa5b93747f8>:48: DeprecationWarning: Call to deprecated `wv` (Attribute will be removed in 4.0.0, use self instead).\n",
      "  vec = self.model.wv[word]\n"
     ]
    },
    {
     "name": "stdout",
     "output_type": "stream",
     "text": [
      "838 ms ± 22.8 ms per loop (mean ± std. dev. of 7 runs, 1 loop each)\n",
      "D2V:\n",
      "321 ms ± 11.7 ms per loop (mean ± std. dev. of 7 runs, 1 loop each)\n"
     ]
    }
   ],
   "source": [
    "query = \"algebraic functions\"\n",
    "print(\"BM25: \")\n",
    "%timeit bm25_search(query, 2)\n",
    "print(\"LSI: \")\n",
    "%timeit drm_lsi.search(query)\n",
    "print(\"LDA: \")\n",
    "%timeit drm_lda.search(query)\n",
    "print(\"W2V: \")\n",
    "%timeit drm_w2v.search(query)\n",
    "print(\"W2V(Pretrained): \")\n",
    "%timeit drm_w2v_pretrained.search(query)\n",
    "print(\"D2V:\")\n",
    "%timeit drm_d2v.search(query)"
   ]
  },
  {
   "cell_type": "markdown",
   "metadata": {
    "deletable": false,
    "editable": false,
    "nbgrader": {
     "cell_type": "markdown",
     "checksum": "ae398da0a8c23c95bcbb0023b7ec6f34",
     "grade": false,
     "grade_id": "cell-db5ff09f97841af7",
     "locked": true,
     "schema_version": 3,
     "solution": false,
     "task": false
    }
   },
   "source": [
    "---\n",
    "\n",
    "**Implementation (10 points):**\n",
    "Re-ranking involves retrieving a small set of documents using simple but fast methods like BM25 and then re-ranking them with the aid of semantic methods such as LDA or LSI. Implement the following class, which takes in an `initial_retrieval_fn` - the initial retrieval function and `vsrm` - an instance of the `VectorSpaceRetrievalModel` class (i.e LSI/LDA) as input. The search function should first retrieve an initial list of K documents, and then these documents are re-ranked using a semantic method. This not only makes retrieval faster, but semantic methods perform poorly when used in isolation, as you will find out."
   ]
  },
  {
   "cell_type": "code",
   "execution_count": 97,
   "metadata": {
    "ExecuteTime": {
     "end_time": "2021-02-18T08:51:55.262841Z",
     "start_time": "2021-02-18T08:51:55.249875Z"
    },
    "deletable": false,
    "nbgrader": {
     "cell_type": "code",
     "checksum": "63b6b05a676a2ae3f08d8bed1bc59428",
     "grade": false,
     "grade_id": "cell-5bf47600d1a0c507",
     "locked": false,
     "schema_version": 3,
     "solution": true,
     "task": false
    }
   },
   "outputs": [],
   "source": [
    "# TODO: Implement this! (10 points)\n",
    "class DenseRerankingModel:\n",
    "    def __init__(self, initial_retrieval_fn, vsrm, similarity_fn):\n",
    "        \"\"\"\n",
    "            initial_retrieval_fn: takes in a query and returns a list of [(doc_id, score)] (sorted)\n",
    "            vsrm: instance of `VectorSpaceRetrievalModel`\n",
    "            similarity_fn: function instance that takes in two vectors \n",
    "                            and returns a similarity score e.g cosine_sim defined earlier\n",
    "        \"\"\"\n",
    "        self.ret = initial_retrieval_fn\n",
    "        self.vsrm = vsrm\n",
    "        self.similarity_fn = similarity_fn\n",
    "        self.vectorized_documents = vsrm.vectorize_documents()\n",
    "        \n",
    "        assert len(self.vectorized_documents) == len(doc_repr_2)\n",
    "    \n",
    "    def search(self, query, K=50):\n",
    "        \"\"\"\n",
    "            First, retrieve the top K results using the retrieval function\n",
    "            Then, re-rank the results using the VSRM instance\n",
    "        \"\"\"\n",
    "        # YOUR CODE HERE\n",
    "        \n",
    "        initial_list = self.ret(query)[:K]\n",
    "        query = self.vsrm.vectorize_query(query)\n",
    "        list_scores = list()\n",
    "        for doc_id, _ in initial_list:\n",
    "            doc_vec = self.vectorized_documents[doc_id]\n",
    "            score = self.similarity_fn(query, doc_vec)\n",
    "            list_scores.append((doc_id, score))\n",
    "        list_scores.sort(key=lambda _:-_[1])\n",
    "        return list_scores\n",
    "    \n",
    "        raise NotImplementedError()"
   ]
  },
  {
   "cell_type": "code",
   "execution_count": 98,
   "metadata": {
    "ExecuteTime": {
     "end_time": "2021-02-18T08:56:38.686041Z",
     "start_time": "2021-02-18T08:51:55.264830Z"
    },
    "deletable": false,
    "editable": false,
    "nbgrader": {
     "cell_type": "code",
     "checksum": "334ab5af96976265cace682ab82a7387",
     "grade": true,
     "grade_id": "cell-52c6d18a4c0b4882",
     "locked": true,
     "points": 0,
     "schema_version": 3,
     "solution": false,
     "task": false
    }
   },
   "outputs": [
    {
     "name": "stderr",
     "output_type": "stream",
     "text": [
      "<ipython-input-87-9aa5b93747f8>:29: DeprecationWarning: Call to deprecated `wv` (Attribute will be removed in 4.0.0, use self instead).\n",
      "  if word in self.model.wv.vocab:\n",
      "<ipython-input-87-9aa5b93747f8>:30: DeprecationWarning: Call to deprecated `wv` (Attribute will be removed in 4.0.0, use self instead).\n",
      "  vec = self.model.wv[word]\n"
     ]
    }
   ],
   "source": [
    "##### Function check\n",
    "bm25_search_2 = partial(bm25_search, index_set=2)\n",
    "lsi_rerank = DenseRerankingModel(bm25_search_2, lsi, cosine_sim)\n",
    "lda_rerank = DenseRerankingModel(bm25_search_2, lda, jenson_shannon_sim)\n",
    "w2v_rerank = DenseRerankingModel(bm25_search_2, w2v, cosine_sim)\n",
    "w2v_pretrained_rerank = DenseRerankingModel(bm25_search_2, w2v_pretrained, cosine_sim)\n",
    "d2v_rerank = DenseRerankingModel(bm25_search_2, d2v, cosine_sim)\n",
    "\n",
    "##### "
   ]
  },
  {
   "cell_type": "markdown",
   "metadata": {
    "deletable": false,
    "editable": false,
    "nbgrader": {
     "cell_type": "markdown",
     "checksum": "bd904253f45f84e63bab3a69729058fc",
     "grade": false,
     "grade_id": "cell-93215dfe6bcf7cff",
     "locked": true,
     "points": 10,
     "schema_version": 3,
     "solution": false,
     "task": true
    }
   },
   "source": [
    "\\#### Please do not change this. This cell is used for grading."
   ]
  },
  {
   "cell_type": "markdown",
   "metadata": {
    "deletable": false,
    "editable": false,
    "nbgrader": {
     "cell_type": "markdown",
     "checksum": "b592e60292bfe3d9ef2930a354c4077a",
     "grade": false,
     "grade_id": "cell-aa694ff55fa91e7d",
     "locked": true,
     "schema_version": 3,
     "solution": false,
     "task": false
    }
   },
   "source": [
    "---\n",
    "Now, let us time the new search functions:"
   ]
  },
  {
   "cell_type": "code",
   "execution_count": 99,
   "metadata": {
    "ExecuteTime": {
     "end_time": "2021-02-18T08:57:13.453988Z",
     "start_time": "2021-02-18T08:56:38.688038Z"
    },
    "deletable": false,
    "editable": false,
    "nbgrader": {
     "cell_type": "code",
     "checksum": "338c7e3528cba266a865a061287c0e38",
     "grade": false,
     "grade_id": "cell-5edbd481562ad91f",
     "locked": true,
     "schema_version": 3,
     "solution": false,
     "task": false
    }
   },
   "outputs": [
    {
     "name": "stdout",
     "output_type": "stream",
     "text": [
      "BM25: \n",
      "6.52 ms ± 418 µs per loop (mean ± std. dev. of 7 runs, 100 loops each)\n",
      "LSI: \n",
      "13.2 ms ± 1.47 ms per loop (mean ± std. dev. of 7 runs, 100 loops each)\n",
      "LDA: \n",
      "42.9 ms ± 3.57 ms per loop (mean ± std. dev. of 7 runs, 10 loops each)\n",
      "W2V: \n",
      "23.8 ms ± 2.5 ms per loop (mean ± std. dev. of 7 runs, 10 loops each)\n",
      "W2V(Pretrained): \n"
     ]
    },
    {
     "name": "stderr",
     "output_type": "stream",
     "text": [
      "<ipython-input-87-9aa5b93747f8>:47: DeprecationWarning: Call to deprecated `wv` (Attribute will be removed in 4.0.0, use self instead).\n",
      "  if word in self.model.wv.vocab:\n",
      "<ipython-input-87-9aa5b93747f8>:48: DeprecationWarning: Call to deprecated `wv` (Attribute will be removed in 4.0.0, use self instead).\n",
      "  vec = self.model.wv[word]\n"
     ]
    },
    {
     "name": "stdout",
     "output_type": "stream",
     "text": [
      "24.8 ms ± 2.41 ms per loop (mean ± std. dev. of 7 runs, 10 loops each)\n",
      "D2V:\n",
      "14.1 ms ± 1.1 ms per loop (mean ± std. dev. of 7 runs, 100 loops each)\n"
     ]
    }
   ],
   "source": [
    "query = \"algebraic functions\"\n",
    "print(\"BM25: \")\n",
    "%timeit bm25_search(query, 2)\n",
    "print(\"LSI: \")\n",
    "%timeit lsi_rerank.search(query)\n",
    "print(\"LDA: \")\n",
    "%timeit lda_rerank.search(query)\n",
    "print(\"W2V: \")\n",
    "%timeit w2v_rerank.search(query)\n",
    "print(\"W2V(Pretrained): \")\n",
    "%timeit w2v_pretrained_rerank.search(query)\n",
    "print(\"D2V:\")\n",
    "%timeit d2v_rerank.search(query)"
   ]
  },
  {
   "cell_type": "markdown",
   "metadata": {
    "deletable": false,
    "editable": false,
    "nbgrader": {
     "cell_type": "markdown",
     "checksum": "c45c5e3f015b2de89d9d39ae3766368b",
     "grade": false,
     "grade_id": "cell-85c50f2ab9eec301",
     "locked": true,
     "schema_version": 3,
     "solution": false,
     "task": false
    }
   },
   "source": [
    "---\n",
    "As you can see, it is much faster (but BM25 is still orders of magnitude faster)."
   ]
  },
  {
   "cell_type": "markdown",
   "metadata": {
    "deletable": false,
    "editable": false,
    "nbgrader": {
     "cell_type": "markdown",
     "checksum": "1e2f3388e3807659f303fe31a75a010e",
     "grade": false,
     "grade_id": "cell-5071bb99b2af61cb",
     "locked": true,
     "schema_version": 3,
     "solution": false,
     "task": false
    }
   },
   "source": [
    "---\n",
    "## Section 10: Evaluation & Analysis (30 points) <a class=\"anchor\" id=\"reranking_eval\"></a>\n",
    "\n",
    "[Back to Part 2](#part2)\n",
    "\n",
    "[Previously](#evaluation) we have implemented some evaluation metrics and used them for measuring the ranking performance of term-based IR algorithms. In this section, we will do the same for semantic methods, both with and without re-ranking.\n",
    "\n",
    "### Section 10.1: Plot (10 points)\n",
    "\n",
    "First, gather the results. The results should consider the index set, the different search functions and different metrics. Plot the results in bar charts, per metric, with clear labels.\n",
    "\n",
    "Then, gather only the re-ranking models, and plot and compare them with the results obtained in part 1 (only index set 2)."
   ]
  },
  {
   "cell_type": "code",
   "execution_count": 100,
   "metadata": {
    "ExecuteTime": {
     "end_time": "2021-02-18T08:57:13.469945Z",
     "start_time": "2021-02-18T08:57:13.460990Z"
    },
    "deletable": false,
    "editable": false,
    "nbgrader": {
     "cell_type": "code",
     "checksum": "4fe81520ac6413a803838913fd64de03",
     "grade": false,
     "grade_id": "cell-b672fe6dfae0b1ce",
     "locked": true,
     "schema_version": 3,
     "solution": false,
     "task": false
    }
   },
   "outputs": [],
   "source": [
    "list_of_sem_search_fns = [\n",
    "    (\"lda\", drm_lda.search),\n",
    "    (\"lsi\", drm_lsi.search),\n",
    "    (\"w2v\", drm_w2v.search),\n",
    "    (\"w2v_pretrained\", drm_w2v_pretrained.search),\n",
    "    (\"d2v\", drm_d2v.search),\n",
    "    (\"lsi_rr\", lsi_rerank.search),\n",
    "    (\"lda_rr\", lda_rerank.search),\n",
    "    (\"w2v_rr\", w2v_rerank.search),\n",
    "    (\"w2v_pretrained_rr\", w2v_pretrained_rerank.search),\n",
    "    (\"d2v_rr\", d2v_rerank.search),\n",
    "    \n",
    "]"
   ]
  },
  {
   "cell_type": "code",
   "execution_count": 101,
   "metadata": {
    "ExecuteTime": {
     "end_time": "2021-02-18T09:06:36.646125Z",
     "start_time": "2021-02-18T08:57:13.472938Z"
    },
    "deletable": false,
    "nbgrader": {
     "cell_type": "code",
     "checksum": "54707c4afac084299aeefa047259b4a9",
     "grade": true,
     "grade_id": "cell-7dd8273b0f5a3c22",
     "locked": false,
     "points": 10,
     "schema_version": 3,
     "solution": true,
     "task": false
    }
   },
   "outputs": [
    {
     "name": "stderr",
     "output_type": "stream",
     "text": [
      "<ipython-input-87-9aa5b93747f8>:47: DeprecationWarning: Call to deprecated `wv` (Attribute will be removed in 4.0.0, use self instead).\n",
      "  if word in self.model.wv.vocab:\n",
      "<ipython-input-87-9aa5b93747f8>:48: DeprecationWarning: Call to deprecated `wv` (Attribute will be removed in 4.0.0, use self instead).\n",
      "  vec = self.model.wv[word]\n"
     ]
    }
   ],
   "source": [
    "# YOUR CODE HERE\n",
    "\n",
    "results_search_sem_fns = {}\n",
    "\n",
    "for search, search_fn in list_of_sem_search_fns:\n",
    "    results_search_sem_fns[f'{search}'] = evaluate_search_fn(search_fn, list_of_metrics)\n",
    "    \n",
    "#raise NotImplementedError()"
   ]
  },
  {
   "cell_type": "code",
   "execution_count": 102,
   "metadata": {
    "ExecuteTime": {
     "end_time": "2021-02-18T09:06:37.723067Z",
     "start_time": "2021-02-18T09:06:36.652802Z"
    }
   },
   "outputs": [
    {
     "data": {
      "image/png": "[encoded data removed]",
      "text/plain": [
       "<Figure size 1440x720 with 8 Axes>"
      ]
     },
     "metadata": {
      "needs_background": "light"
     },
     "output_type": "display_data"
    }
   ],
   "source": [
    "fig = plt.figure(figsize=(20,10))\n",
    "fig.suptitle('Comparison Between All Semantic Methods', fontsize=16)\n",
    "\n",
    "for i, (selected_metric, funct) in enumerate(list_of_metrics):\n",
    "    results_fn = []\n",
    "    for (search_fn, results) in results_search_sem_fns.items():\n",
    "        for metric, value in results.items():\n",
    "            if metric == selected_metric:\n",
    "                results_fn.append((search_fn, value))\n",
    "    title = f'Bar Chart - {selected_metric}'\n",
    "    fig.add_subplot(2,4,i+1)\n",
    "    plt.bar(range(len(results_fn)), [val[1] for val in results_fn])\n",
    "    plt.xticks(range(len(results_fn)), [val[0] for val in results_fn])\n",
    "    plt.xticks(rotation=90)\n",
    "    plt.xlabel('Search Function')\n",
    "    plt.ylabel('Average Value')\n",
    "    plt.title(title)\n",
    "\n",
    "plt.tight_layout(h_pad=4)\n",
    "plt.show()"
   ]
  },
  {
   "cell_type": "code",
   "execution_count": 103,
   "metadata": {
    "ExecuteTime": {
     "end_time": "2021-02-18T09:06:38.932800Z",
     "start_time": "2021-02-18T09:06:37.724077Z"
    }
   },
   "outputs": [
    {
     "data": {
      "image/png": "[encoded data removed]",
      "text/plain": [
       "<Figure size 1440x720 with 8 Axes>"
      ]
     },
     "metadata": {
      "needs_background": "light"
     },
     "output_type": "display_data"
    }
   ],
   "source": [
    "fig = plt.figure(figsize=(20,10))\n",
    "fig.suptitle('Comparison Between Re-Ranking and Term-Based Methods', fontsize=16)\n",
    "colors_index = {'Re-Ranking':'b', 'Term-Based':'r'}\n",
    "\n",
    "merged_results = {**results_search_fns, **results_search_sem_fns}\n",
    "for i, (selected_metric, funct) in enumerate(list_of_metrics):\n",
    "    results_fn = []\n",
    "    for (search_fn, results) in merged_results.items():\n",
    "        for metric, value in results.items():\n",
    "            if metric == selected_metric and search_fn.endswith('2'):\n",
    "                results_fn.append((search_fn, value, 'Term-Based'))\n",
    "            if metric == selected_metric and search_fn.endswith('rr'):\n",
    "                results_fn.append((search_fn, value, 'Re-Ranking'))\n",
    "    cols = np.array([colors_index[val[2]] for val in results_fn])\n",
    "    title = f'Bar Chart - {selected_metric}'\n",
    "    fig.add_subplot(2,4,i+1)\n",
    "    plt.bar(range(len(results_fn)), [val[1] for val in results_fn], color=cols)\n",
    "    plt.xticks(range(len(results_fn)), [val[0] for val in results_fn])\n",
    "    plt.xticks(rotation=90)\n",
    "    plt.xlabel('Search Function')\n",
    "    plt.ylabel('Average Value')\n",
    "    labels=list(colors_index.keys())\n",
    "    plt.legend(handles=[plt.Rectangle((0,0),1,1, color=colors_index[label]) for label in labels], labels=labels)\n",
    "    plt.title(title)\n",
    "\n",
    "plt.tight_layout(h_pad=4)\n",
    "plt.show()"
   ]
  },
  {
   "cell_type": "markdown",
   "metadata": {
    "deletable": false,
    "editable": false,
    "nbgrader": {
     "cell_type": "markdown",
     "checksum": "a8a3b6189bdde66704c694d85e38d049",
     "grade": false,
     "grade_id": "cell-deb2ef3daa306e82",
     "locked": true,
     "schema_version": 3,
     "solution": false,
     "task": false
    }
   },
   "source": [
    "### Section 10.2: Summary (20 points)\n",
    "\n",
    "Your summary should compare methods from Part 1 and Part 2 (only for index set 2). State what you expected to see in the results, followed by either supporting evidence *or* justify why the results did not support your expectations. Consider the availability of data, scalability, domain/type of data, etc."
   ]
  },
  {
   "cell_type": "markdown",
   "metadata": {
    "deletable": false,
    "nbgrader": {
     "cell_type": "markdown",
     "checksum": "ff97c43837d10bff6aaffa75e1492887",
     "grade": true,
     "grade_id": "cell-ec5dd7d9cf59dd86",
     "locked": false,
     "points": 20,
     "schema_version": 3,
     "solution": true,
     "task": false
    }
   },
   "source": [
    "The experiments have been conducted on the index set 2 and we can present the results for sematic-based approaches. Across all the metrics, we can observe that the best performing methods are the ones that involve re-ranking. The worst performing search methods are both Word2Vec and Word2Vec Pretrained. The other 3 semantic methods considered, LSI, LDA and Doc2Vec, have a similar performance except for when we are considering Recall@1.\n",
    "\n",
    "It is expected for Word2Vec to not perform as well as the other semantic-based methods due to the fact that the model gives a vector representation per word which is then averaged for the whole document. In our case, this imposes a problem for two reasons. Firstly, not all the documents in our dataset have an abstract, therefore the representation of a document without it can hold less information. Secondly, when using the averaging of the word vectors, their order in the sentence is lost and, furthermore, it is not always the case that all the words carry the same weight for the overall meaning of the document. Therefore, as seen in the bar charts, the methods that give representations for the whole document are more competitive. Overall, Doc2Vec re-ranking and LDA re-ranking have similar performance compared to its competitors. Doc2Vec is expected to perform well considering that it has a more complex approach using stochastic gradient descent and a neural network architecture which can handle the dependencies between the words and paragraphs better. One of the main differences between LSI and LDA is that LSI has at its core a Vector Language Model, whereas LDA is based on a distribution over topics where even if a query is not explicitly present in the document, it can still retrieve the document if they have the same topic. Thus, when we are taking into consideration the reranking cases, we can see that LDA outperforms LSI in all metrics and D2V outperforms LDA for Precision@10 and Precision@5. From the analysis we can see that D2V tends to be more precise in the documents that it finds despite missing some relevant ones, whereas LDA tends to find more relevant documents. This is expected, if we think that LDA takes into consideration the topic of every document, but it can also have more false positives if we are asking for more than 5 documents to retrieve. \n",
    "\n",
    "Moreover, when comparing the term-based approaches with the re-ranking semantic-based ones, we can see that BM25 continues to outperform all other methods for all the metrics. We believe that another reason that the sematic approaches are not performing at the same level is the fact that they require more substantial data to be trained on and, in our case, the data is limited. The documents that we are working on are technical and contain scientific information; thus, when doing a query search, it is possible that exact matches between documents and the query are preferred rather than all other possible combinations. The semantic-based approaches also suffer from high computational time even in re-ranking methods compared to BM25, which provides another reason why it is considered one of the most effective and state-of-the-art approaches. When taking into consideration the order in which the documents are retrieved by the system, we can see that the reranking methods are coming closer to the performance of the term-based methods. Considering that usually in web-based applications, the rank plays a significant role, one can conclude that with enough data semantic based methods can outperform and provide more useful information.\n"
   ]
  },
  {
   "cell_type": "code",
   "execution_count": null,
   "metadata": {},
   "outputs": [],
   "source": []
  }
 ],
 "metadata": {
  "kernelspec": {
   "display_name": "Python 3",
   "language": "python",
   "name": "python3"
  },
  "language_info": {
   "codemirror_mode": {
    "name": "ipython",
    "version": 3
   },
   "file_extension": ".py",
   "mimetype": "text/x-python",
   "name": "python",
   "nbconvert_exporter": "python",
   "pygments_lexer": "ipython3",
   "version": "3.8.5"
  }
 },
 "nbformat": 4,
 "nbformat_minor": 4
}
